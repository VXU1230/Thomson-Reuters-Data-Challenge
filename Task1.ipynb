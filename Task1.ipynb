{
 "cells": [
  {
   "cell_type": "markdown",
   "metadata": {},
   "source": [
    "## 0. Feature Engineering\n",
    "    A. Tokenization\n",
    "    B. punctuation & stopwords\n",
    "    C. Lemmatization\n",
    "    \n",
    "    D. Missing Value drop\n",
    "    E. Unbalance - Subsampling\n",
    "    \n",
    "\n",
    "\n",
    "## 1. Text to Features\n",
    "    A. LDA Topic Modeling\n",
    "    B. Word Embedding (Word2Vec/GloVe)\n",
    "    C. TF-IDF\n",
    "    D. Ensemble: \n",
    "        a. NER + LDA\n",
    "        b. Word Embedding + LDA + NER\n",
    "        \n",
    "    \n",
    "    \n",
    "## 2. Classification\n",
    "    A. ensemble methods(rf/boosting)\n",
    "    B. XG Boost\n",
    "    C. SVM\n",
    "    D. NN"
   ]
  },
  {
   "cell_type": "markdown",
   "metadata": {},
   "source": [
    "## Test\n",
    "get rid of < > (using split )"
   ]
  },
  {
   "cell_type": "code",
   "execution_count": 1,
   "metadata": {},
   "outputs": [],
   "source": [
    "import pandas as pd\n",
    "import numpy as np\n",
    "import string\n",
    "\n",
    "import nltk\n",
    "from nltk.corpus import stopwords\n",
    "from nltk.stem.wordnet import WordNetLemmatizer\n",
    "from nltk.tag import pos_tag\n",
    "from nltk.data import load\n",
    "from nltk.corpus import wordnet\n"
   ]
  },
  {
   "cell_type": "code",
   "execution_count": 2,
   "metadata": {},
   "outputs": [],
   "source": [
    "import warnings\n",
    "warnings.filterwarnings('ignore')"
   ]
  },
  {
   "cell_type": "code",
   "execution_count": 3,
   "metadata": {},
   "outputs": [
    {
     "name": "stdout",
     "output_type": "stream",
     "text": [
      "[nltk_data] Downloading package punkt to /root/nltk_data...\n",
      "[nltk_data]   Package punkt is already up-to-date!\n",
      "[nltk_data] Downloading package stopwords to /root/nltk_data...\n",
      "[nltk_data]   Package stopwords is already up-to-date!\n",
      "[nltk_data] Downloading package tagsets to /root/nltk_data...\n",
      "[nltk_data]   Package tagsets is already up-to-date!\n",
      "[nltk_data] Downloading package wordnet to /root/nltk_data...\n",
      "[nltk_data]   Package wordnet is already up-to-date!\n",
      "[nltk_data] Downloading package averaged_perceptron_tagger to\n",
      "[nltk_data]     /root/nltk_data...\n",
      "[nltk_data]   Package averaged_perceptron_tagger is already up-to-\n",
      "[nltk_data]       date!\n"
     ]
    },
    {
     "data": {
      "text/plain": [
       "True"
      ]
     },
     "execution_count": 3,
     "metadata": {},
     "output_type": "execute_result"
    }
   ],
   "source": [
    "nltk.download('punkt')\n",
    "nltk.download('stopwords')\n",
    "nltk.download('tagsets')\n",
    "nltk.download('wordnet')\n",
    "nltk.download('averaged_perceptron_tagger')"
   ]
  },
  {
   "cell_type": "markdown",
   "metadata": {},
   "source": [
    "# Data Import "
   ]
  },
  {
   "cell_type": "code",
   "execution_count": 4,
   "metadata": {},
   "outputs": [],
   "source": [
    "rand_state = 48"
   ]
  },
  {
   "cell_type": "code",
   "execution_count": 5,
   "metadata": {},
   "outputs": [
    {
     "data": {
      "text/html": [
       "<div>\n",
       "<style scoped>\n",
       "    .dataframe tbody tr th:only-of-type {\n",
       "        vertical-align: middle;\n",
       "    }\n",
       "\n",
       "    .dataframe tbody tr th {\n",
       "        vertical-align: top;\n",
       "    }\n",
       "\n",
       "    .dataframe thead th {\n",
       "        text-align: right;\n",
       "    }\n",
       "</style>\n",
       "<table border=\"1\" class=\"dataframe\">\n",
       "  <thead>\n",
       "    <tr style=\"text-align: right;\">\n",
       "      <th></th>\n",
       "      <th>TITLE</th>\n",
       "      <th>TOPIC</th>\n",
       "    </tr>\n",
       "    <tr>\n",
       "      <th>ID</th>\n",
       "      <th></th>\n",
       "      <th></th>\n",
       "    </tr>\n",
       "  </thead>\n",
       "  <tbody>\n",
       "    <tr>\n",
       "      <th>0</th>\n",
       "      <td>RITE AID CORP &lt;RAD&gt; SETS DIVIDEND</td>\n",
       "      <td>0</td>\n",
       "    </tr>\n",
       "    <tr>\n",
       "      <th>1</th>\n",
       "      <td>DEL E. WEBB INVESTMENT &lt;DWPA&gt; 4TH QTR NET</td>\n",
       "      <td>0</td>\n",
       "    </tr>\n",
       "    <tr>\n",
       "      <th>2</th>\n",
       "      <td>GENERAL HOST CORP &lt;GH&gt; SETS QUARTERLY</td>\n",
       "      <td>0</td>\n",
       "    </tr>\n",
       "    <tr>\n",
       "      <th>3</th>\n",
       "      <td>PROFESSOR LIFTS BANC TEXAS &lt;BTX&gt; PREFERRED STAKE</td>\n",
       "      <td>1</td>\n",
       "    </tr>\n",
       "    <tr>\n",
       "      <th>4</th>\n",
       "      <td>WINCHELL'S DONUT &lt;WDH&gt; SETS INITIAL QUARTERLY</td>\n",
       "      <td>0</td>\n",
       "    </tr>\n",
       "  </tbody>\n",
       "</table>\n",
       "</div>"
      ],
      "text/plain": [
       "                                               TITLE  TOPIC\n",
       "ID                                                         \n",
       "0                  RITE AID CORP <RAD> SETS DIVIDEND      0\n",
       "1          DEL E. WEBB INVESTMENT <DWPA> 4TH QTR NET      0\n",
       "2              GENERAL HOST CORP <GH> SETS QUARTERLY      0\n",
       "3   PROFESSOR LIFTS BANC TEXAS <BTX> PREFERRED STAKE      1\n",
       "4      WINCHELL'S DONUT <WDH> SETS INITIAL QUARTERLY      0"
      ]
     },
     "execution_count": 5,
     "metadata": {},
     "output_type": "execute_result"
    }
   ],
   "source": [
    "df = pd.read_csv(\"train1.csv\",index_col = 0)\n",
    "df.head()"
   ]
  },
  {
   "cell_type": "code",
   "execution_count": 6,
   "metadata": {},
   "outputs": [
    {
     "data": {
      "text/html": [
       "<div>\n",
       "<style scoped>\n",
       "    .dataframe tbody tr th:only-of-type {\n",
       "        vertical-align: middle;\n",
       "    }\n",
       "\n",
       "    .dataframe tbody tr th {\n",
       "        vertical-align: top;\n",
       "    }\n",
       "\n",
       "    .dataframe thead th {\n",
       "        text-align: right;\n",
       "    }\n",
       "</style>\n",
       "<table border=\"1\" class=\"dataframe\">\n",
       "  <thead>\n",
       "    <tr style=\"text-align: right;\">\n",
       "      <th></th>\n",
       "      <th>TITLE</th>\n",
       "    </tr>\n",
       "    <tr>\n",
       "      <th>TOPIC</th>\n",
       "      <th></th>\n",
       "    </tr>\n",
       "  </thead>\n",
       "  <tbody>\n",
       "    <tr>\n",
       "      <th>0</th>\n",
       "      <td>3107</td>\n",
       "    </tr>\n",
       "    <tr>\n",
       "      <th>1</th>\n",
       "      <td>2406</td>\n",
       "    </tr>\n",
       "    <tr>\n",
       "      <th>2</th>\n",
       "      <td>2404</td>\n",
       "    </tr>\n",
       "  </tbody>\n",
       "</table>\n",
       "</div>"
      ],
      "text/plain": [
       "       TITLE\n",
       "TOPIC       \n",
       "0       3107\n",
       "1       2406\n",
       "2       2404"
      ]
     },
     "execution_count": 6,
     "metadata": {},
     "output_type": "execute_result"
    }
   ],
   "source": [
    "#check if it's unbalance\n",
    "df.groupby(\"TOPIC\").count()"
   ]
  },
  {
   "cell_type": "code",
   "execution_count": 7,
   "metadata": {},
   "outputs": [
    {
     "data": {
      "text/html": [
       "<div>\n",
       "<style scoped>\n",
       "    .dataframe tbody tr th:only-of-type {\n",
       "        vertical-align: middle;\n",
       "    }\n",
       "\n",
       "    .dataframe tbody tr th {\n",
       "        vertical-align: top;\n",
       "    }\n",
       "\n",
       "    .dataframe thead th {\n",
       "        text-align: right;\n",
       "    }\n",
       "</style>\n",
       "<table border=\"1\" class=\"dataframe\">\n",
       "  <thead>\n",
       "    <tr style=\"text-align: right;\">\n",
       "      <th></th>\n",
       "      <th>TITLE</th>\n",
       "      <th>TOPIC</th>\n",
       "    </tr>\n",
       "    <tr>\n",
       "      <th>ID</th>\n",
       "      <th></th>\n",
       "      <th></th>\n",
       "    </tr>\n",
       "  </thead>\n",
       "  <tbody>\n",
       "  </tbody>\n",
       "</table>\n",
       "</div>"
      ],
      "text/plain": [
       "Empty DataFrame\n",
       "Columns: [TITLE, TOPIC]\n",
       "Index: []"
      ]
     },
     "execution_count": 7,
     "metadata": {},
     "output_type": "execute_result"
    }
   ],
   "source": [
    "#check missing value\n",
    "df[df[\"TITLE\"].isna()]"
   ]
  },
  {
   "cell_type": "markdown",
   "metadata": {},
   "source": [
    "# Feature Engineering"
   ]
  },
  {
   "cell_type": "code",
   "execution_count": 8,
   "metadata": {},
   "outputs": [],
   "source": [
    "stop = set(stopwords.words(\"english\"))\n",
    "punc = set(string.punctuation)\n",
    "punc.update([\"--\",\"jan\",\"january\",\"feb\",\"february\",\"mar\",\"march\",\"apr\",\"april\",\"may\",\"jun\",\"june\",\"jul\",\"july\",\n",
    "             \"aug\",\"august\",\"sept\",\"september\",\"oct\",\"october\",\"nov\",\"november\",\"dec\",\"december\"])\n",
    "lemma = WordNetLemmatizer()\n",
    "treetags = load('help/tagsets/upenn_tagset.pickle').keys()\n",
    "\n",
    "posdic = dict(map(lambda x: (x, wordnet.ADJ) if x.startswith('J')\n",
    " else((x, wordnet.ADV) if x.startswith('R')\n",
    "    else((x, wordnet.VERB) if x.startswith('V')\n",
    "         else(x, wordnet.NOUN))), treetags))\n"
   ]
  },
  {
   "cell_type": "code",
   "execution_count": 9,
   "metadata": {},
   "outputs": [],
   "source": [
    "def clean(sent):\n",
    "    sent = sent.lower().replace(\"<\",\" \").replace(\">\", \" \").split()\n",
    "    sent = [lemma.lemmatize(word, posdic[pos]) for (word,pos) in pos_tag(sent) \n",
    "            if (word.isalpha()) & (word not in stop) & (word not in punc) ]  \n",
    "    return \" \".join(word for word in sent)"
   ]
  },
  {
   "cell_type": "code",
   "execution_count": 10,
   "metadata": {},
   "outputs": [],
   "source": [
    "df[\"FEATURE\"] = [clean(row) for row in df[\"TITLE\"]]"
   ]
  },
  {
   "cell_type": "markdown",
   "metadata": {},
   "source": [
    "# Seperate Modeling"
   ]
  },
  {
   "cell_type": "markdown",
   "metadata": {},
   "source": [
    "### TFIDF & Topic Modeling"
   ]
  },
  {
   "cell_type": "code",
   "execution_count": 11,
   "metadata": {},
   "outputs": [],
   "source": [
    "import time\n",
    "from sklearn.feature_extraction.text import CountVectorizer, TfidfTransformer\n",
    "from sklearn.decomposition import LatentDirichletAllocation as LDA\n"
   ]
  },
  {
   "cell_type": "code",
   "execution_count": 11,
   "metadata": {},
   "outputs": [],
   "source": [
    "vectorizer  = CountVectorizer(min_df=2,ngram_range=(1,3))\n",
    "n_gram = vectorizer.fit_transform(df[\"FEATURE\"])\n",
    "feature_names = vectorizer.get_feature_names()"
   ]
  },
  {
   "cell_type": "code",
   "execution_count": 12,
   "metadata": {},
   "outputs": [
    {
     "data": {
      "text/plain": [
       "<7917x10091 sparse matrix of type '<class 'numpy.int64'>'\n",
       "\twith 63471 stored elements in Compressed Sparse Row format>"
      ]
     },
     "execution_count": 12,
     "metadata": {},
     "output_type": "execute_result"
    }
   ],
   "source": [
    "n_gram"
   ]
  },
  {
   "cell_type": "code",
   "execution_count": 13,
   "metadata": {},
   "outputs": [],
   "source": [
    "tfidf_gram = TfidfTransformer(norm = \"l1\").fit_transform(n_gram)"
   ]
  },
  {
   "cell_type": "code",
   "execution_count": 14,
   "metadata": {},
   "outputs": [
    {
     "data": {
      "text/plain": [
       "<7917x10091 sparse matrix of type '<class 'numpy.float64'>'\n",
       "\twith 63471 stored elements in Compressed Sparse Row format>"
      ]
     },
     "execution_count": 14,
     "metadata": {},
     "output_type": "execute_result"
    }
   ],
   "source": [
    "tfidf_gram"
   ]
  },
  {
   "cell_type": "markdown",
   "metadata": {},
   "source": [
    "for i in range(2,7):\n",
    "    lda = LDA(n_components=i,learning_method='batch', max_iter=100,random_state=rand_state).fit(n_gram)\n",
    "    perplexity = lda.perplexity(n_gram)\n",
    "    score = lda.score(n_gram)\n",
    "    print('\\nPerplexity of %d topics: ' %i, perplexity)\n",
    "    print('score: ', score)"
   ]
  },
  {
   "cell_type": "code",
   "execution_count": 15,
   "metadata": {},
   "outputs": [],
   "source": [
    "lda = LDA(n_components=3,learning_method='batch',random_state=rand_state).fit(n_gram)\n",
    "lda_data = lda.transform(n_gram)"
   ]
  },
  {
   "cell_type": "code",
   "execution_count": 16,
   "metadata": {},
   "outputs": [
    {
     "data": {
      "text/plain": [
       "array([[2.1784386 , 0.33701549, 2.32817181, ..., 0.38196381, 0.41092557,\n",
       "        2.31784797],\n",
       "       [0.33486781, 2.32906653, 0.33368499, ..., 3.28391195, 2.15963721,\n",
       "        0.3484502 ],\n",
       "       [0.48669359, 0.33391798, 0.33814319, ..., 0.33412424, 0.42943723,\n",
       "        0.33370182]])"
      ]
     },
     "execution_count": 16,
     "metadata": {},
     "output_type": "execute_result"
    }
   ],
   "source": [
    "topics = lda.components_\n",
    "topics"
   ]
  },
  {
   "cell_type": "code",
   "execution_count": 17,
   "metadata": {},
   "outputs": [
    {
     "name": "stdout",
     "output_type": "stream",
     "text": [
      "qtr,net,inc,qtr net,corp,loss,year,co,qtr loss,dividend\n",
      "say,oil,bank,raise,price,unit,rate,pct,buy,set\n",
      "pct,market,money,mln,stock,rise,see,japan,set,buy\n"
     ]
    }
   ],
   "source": [
    "num_words  = 10\n",
    "for _, topic in enumerate(topics):\n",
    "    print (\",\".join([feature_names[i] for i in topic.argsort()[:-num_words - 1:-1]]))"
   ]
  },
  {
   "cell_type": "markdown",
   "metadata": {},
   "source": [
    "# Training"
   ]
  },
  {
   "cell_type": "code",
   "execution_count": 74,
   "metadata": {},
   "outputs": [],
   "source": [
    "param_grid = {\n",
    "        'C': [0.1,1,10,50],\n",
    "        'kernel': ['linear', 'rbf'],\n",
    "        'gamma': [0.01, 0.1, 1]     \n",
    "    }"
   ]
  },
  {
   "cell_type": "code",
   "execution_count": 75,
   "metadata": {},
   "outputs": [],
   "source": [
    "grid = GridSearchCV(estimator = svm.SVC(), cv=5, n_jobs=-1, param_grid=param_grid, scoring = \"accuracy\",verbose = 20)"
   ]
  },
  {
   "cell_type": "code",
   "execution_count": null,
   "metadata": {},
   "outputs": [],
   "source": [
    "grid.fit(lda_data, y_train)"
   ]
  },
  {
   "cell_type": "code",
   "execution_count": null,
   "metadata": {},
   "outputs": [],
   "source": [
    "print_results(clf)"
   ]
  },
  {
   "cell_type": "markdown",
   "metadata": {},
   "source": [
    "### Pipeline"
   ]
  },
  {
   "cell_type": "code",
   "execution_count": null,
   "metadata": {},
   "outputs": [],
   "source": [
    "def print_results(grid):\n",
    "    print(\"best score: \", grid.best_score_)\n",
    "    print(\"best parameters: \", grid.best_params_)"
   ]
  },
  {
   "cell_type": "markdown",
   "metadata": {},
   "source": [
    "### Random Forest"
   ]
  },
  {
   "cell_type": "code",
   "execution_count": 13,
   "metadata": {},
   "outputs": [],
   "source": [
    "from sklearn.pipeline import Pipeline\n",
    "from sklearn.model_selection import GridSearchCV\n",
    "\n",
    "from sklearn.naive_bayes import MultinomialNB\n",
    "from sklearn import svm\n",
    "from sklearn.ensemble import RandomForestClassifier \n",
    "from sklearn.linear_model import LogisticRegression, SGDClassifier\n",
    "from sklearn.neighbors import KNeighborsClassifier\n",
    "import xgboost"
   ]
  },
  {
   "cell_type": "code",
   "execution_count": 14,
   "metadata": {},
   "outputs": [],
   "source": [
    "X_train = df[\"FEATURE\"]\n",
    "y_train = df[\"TOPIC\"]"
   ]
  },
  {
   "cell_type": "code",
   "execution_count": 15,
   "metadata": {},
   "outputs": [],
   "source": [
    "estimators = [('vectorizer', CountVectorizer()), \n",
    "              ('tfidf',TfidfTransformer()),\n",
    "#                ('lda', LDA(learning_method='batch',max_iter=10,random_state=rand_state)), \n",
    "               ('rf', RandomForestClassifier())]"
   ]
  },
  {
   "cell_type": "code",
   "execution_count": 16,
   "metadata": {},
   "outputs": [],
   "source": [
    "pipe = Pipeline(memory=None,steps = estimators)"
   ]
  },
  {
   "cell_type": "code",
   "execution_count": 17,
   "metadata": {},
   "outputs": [],
   "source": [
    "param_grid = [\n",
    "    {\n",
    "        'vectorizer__ngram_range': [(1,4),(1,3)],\n",
    "        'vectorizer__min_df': [3, 4],\n",
    "#         'lda__n_components': [5,7,9],\n",
    "        'tfidf__norm': ['l1','l2'],\n",
    "        'tfidf__use_idf': ['True','False'],\n",
    "        'rf__n_estimators': [1000,2000,2500],\n",
    "        'rf__max_features': [\"sqrt\",\"log2\"],\n",
    "        'rf__max_depth':  [50,70],\n",
    "        'rf__min_samples_split': [20,30],\n",
    "        'rf__min_samples_leaf': [2, 3],\n",
    "        'rf__bootstrap': [True]\n",
    "        \n",
    "    }\n",
    "]"
   ]
  },
  {
   "cell_type": "code",
   "execution_count": 18,
   "metadata": {},
   "outputs": [],
   "source": [
    "grid_rf = GridSearchCV(pipe, cv=5, n_jobs=-1, param_grid=param_grid, scoring = \"accuracy\",verbose=10)"
   ]
  },
  {
   "cell_type": "code",
   "execution_count": null,
   "metadata": {},
   "outputs": [],
   "source": [
    "grid_rf.fit(X_train, y_train)"
   ]
  },
  {
   "cell_type": "code",
   "execution_count": 103,
   "metadata": {},
   "outputs": [
    {
     "name": "stdout",
     "output_type": "stream",
     "text": [
      "best score:  0.8505747126436781\n",
      "best parameters:  {'rf__n_estimators': 2000, 'tfidf__norm': 'l2', 'rf__bootstrap': True, 'vectorizer__min_df': 3, 'vectorizer__ngram_range': (1, 3), 'rf__min_samples_leaf': 2, 'rf__max_features': 'log2', 'rf__max_depth': 50, 'rf__min_samples_split': 20}\n"
     ]
    }
   ],
   "source": [
    "print_results(grid_rf)"
   ]
  },
  {
   "cell_type": "markdown",
   "metadata": {},
   "source": [
    "best score:  0.8505747126436781\n",
    "best parameters:  {'rf__n_estimators': 2000, 'tfidf__norm': 'l2', 'rf__bootstrap': True, 'vectorizer__min_df': 3, \n",
    "        'vectorizer__ngram_range': (1, 3), 'rf__min_samples_leaf': 2, 'rf__max_features': 'log2', \n",
    "                   'rf__max_depth': 50, 'rf__min_samples_split': 20}"
   ]
  },
  {
   "cell_type": "markdown",
   "metadata": {},
   "source": [
    "### Logistic Regression"
   ]
  },
  {
   "cell_type": "code",
   "execution_count": 83,
   "metadata": {},
   "outputs": [],
   "source": [
    "estimators = [('vectorizer', CountVectorizer()), \n",
    "              ('tfidf',TfidfTransformer()),\n",
    "#                ('lda', LDA(learning_method='batch',random_state=rand_state)), \n",
    "               ('logit', LogisticRegression())]"
   ]
  },
  {
   "cell_type": "code",
   "execution_count": 84,
   "metadata": {},
   "outputs": [],
   "source": [
    "pipe = Pipeline(memory=None,steps = estimators)"
   ]
  },
  {
   "cell_type": "code",
   "execution_count": 85,
   "metadata": {},
   "outputs": [],
   "source": [
    "param_grid = [\n",
    "    {\n",
    "        'vectorizer__ngram_range': [(1,5),(1,4),(1,3)],\n",
    "        'vectorizer__min_df': [3,4],\n",
    "        'tfidf__norm': ['l1','l2'],\n",
    "        'tfidf__use_idf': ['True','False'],\n",
    "#         'lda__n_components': [8,10,12],\n",
    "        'logit__penalty': ['l1', 'l2'], \n",
    "        'logit__C': [0.1,1,10]      \n",
    "    }\n",
    "]"
   ]
  },
  {
   "cell_type": "code",
   "execution_count": 86,
   "metadata": {},
   "outputs": [],
   "source": [
    "grid_logit = GridSearchCV(pipe, cv=5, n_jobs=-1, param_grid=param_grid, scoring = \"accuracy\", verbose=10)"
   ]
  },
  {
   "cell_type": "code",
   "execution_count": null,
   "metadata": {},
   "outputs": [],
   "source": [
    "grid_logit.fit(X_train, y_train)"
   ]
  },
  {
   "cell_type": "code",
   "execution_count": 88,
   "metadata": {},
   "outputs": [
    {
     "name": "stdout",
     "output_type": "stream",
     "text": [
      "best score:  0.8880889225716811\n",
      "best parameters:  {'vectorizer__ngram_range': (1, 3), 'vectorizer__min_df': 3, 'tfidf__norm': 'l2', 'logit__penalty': 'l2', 'logit__C': 10}\n"
     ]
    }
   ],
   "source": [
    "print_results(grid_logit)"
   ]
  },
  {
   "cell_type": "markdown",
   "metadata": {},
   "source": [
    "### SVM-SVC"
   ]
  },
  {
   "cell_type": "code",
   "execution_count": 20,
   "metadata": {},
   "outputs": [],
   "source": [
    "estimators = [('vectorizer', CountVectorizer()), \n",
    "              ('tfidf',TfidfTransformer()),\n",
    "#                ('lda', LDA(learning_method='batch',random_state=rand_state)), \n",
    "               ('svc', svm.SVC())]\n",
    "\n",
    "pipe = Pipeline(memory=None,steps = estimators)"
   ]
  },
  {
   "cell_type": "code",
   "execution_count": 24,
   "metadata": {},
   "outputs": [],
   "source": [
    "param_grid = [\n",
    "    {\n",
    "        'vectorizer__ngram_range': [(1,2),(1,3),(1,4)],\n",
    "        'vectorizer__min_df': [2,3],\n",
    "        'tfidf__norm': ['l1','l2'],\n",
    "        'tfidf__use_idf': ['True','False'],\n",
    "#         'lda__n_components': [4,7,10],\n",
    "        'svc__C': [0.1,1,10],\n",
    "        'svc__kernel': ['rbf'],\n",
    "        'svc__degree': [2,4,6],\n",
    "        'svc__gamma': [0.5, 1]\n",
    "    \n",
    "    }\n",
    "]"
   ]
  },
  {
   "cell_type": "code",
   "execution_count": 25,
   "metadata": {},
   "outputs": [],
   "source": [
    "grid_svc = GridSearchCV(pipe, cv=5, n_jobs=-1, param_grid=param_grid, scoring = \"accuracy\",verbose=10)"
   ]
  },
  {
   "cell_type": "code",
   "execution_count": 26,
   "metadata": {},
   "outputs": [
    {
     "name": "stdout",
     "output_type": "stream",
     "text": [
      "Fitting 5 folds for each of 144 candidates, totalling 720 fits\n",
      "[CV] svc__C=0.1, svc__gamma=0.5, svc__kernel=rbf, tfidf__norm=l1, vectorizer__min_df=2, tfidf__use_idf=True, svc__degree=2, vectorizer__ngram_range=(1, 2) \n",
      "[CV] svc__C=0.1, svc__gamma=0.5, svc__kernel=rbf, tfidf__norm=l1, vectorizer__min_df=2, tfidf__use_idf=True, svc__degree=2, vectorizer__ngram_range=(1, 2) \n",
      "[CV] svc__C=0.1, svc__gamma=0.5, svc__kernel=rbf, tfidf__norm=l1, vectorizer__min_df=2, tfidf__use_idf=True, svc__degree=2, vectorizer__ngram_range=(1, 2) \n",
      "[CV] svc__C=0.1, svc__gamma=0.5, svc__kernel=rbf, tfidf__norm=l1, vectorizer__min_df=2, tfidf__use_idf=True, svc__degree=2, vectorizer__ngram_range=(1, 2) \n",
      "[CV] svc__C=0.1, svc__gamma=0.5, svc__kernel=rbf, tfidf__norm=l1, vectorizer__min_df=2, tfidf__use_idf=True, svc__degree=2, vectorizer__ngram_range=(1, 2) \n",
      "[CV] svc__C=0.1, svc__gamma=0.5, svc__kernel=rbf, tfidf__norm=l1, vectorizer__min_df=2, tfidf__use_idf=True, svc__degree=2, vectorizer__ngram_range=(1, 3) \n",
      "[CV] svc__C=0.1, svc__gamma=0.5, svc__kernel=rbf, tfidf__norm=l1, vectorizer__min_df=2, tfidf__use_idf=True, svc__degree=2, vectorizer__ngram_range=(1, 3) \n",
      "[CV] svc__C=0.1, svc__gamma=0.5, svc__kernel=rbf, tfidf__norm=l1, vectorizer__min_df=2, tfidf__use_idf=True, svc__degree=2, vectorizer__ngram_range=(1, 3) \n",
      "[CV] svc__C=0.1, svc__gamma=0.5, svc__kernel=rbf, tfidf__norm=l1, vectorizer__min_df=2, tfidf__use_idf=True, svc__degree=2, vectorizer__ngram_range=(1, 3) \n",
      "[CV] svc__C=0.1, svc__gamma=0.5, svc__kernel=rbf, tfidf__norm=l1, vectorizer__min_df=2, tfidf__use_idf=True, svc__degree=2, vectorizer__ngram_range=(1, 3) \n",
      "[CV] svc__C=0.1, svc__gamma=0.5, svc__kernel=rbf, tfidf__norm=l1, vectorizer__min_df=2, tfidf__use_idf=True, svc__degree=2, vectorizer__ngram_range=(1, 4) \n",
      "[CV] svc__C=0.1, svc__gamma=0.5, svc__kernel=rbf, tfidf__norm=l1, vectorizer__min_df=2, tfidf__use_idf=True, svc__degree=2, vectorizer__ngram_range=(1, 4) \n",
      "[CV] svc__C=0.1, svc__gamma=0.5, svc__kernel=rbf, tfidf__norm=l1, vectorizer__min_df=2, tfidf__use_idf=True, svc__degree=2, vectorizer__ngram_range=(1, 4) \n",
      "[CV] svc__C=0.1, svc__gamma=0.5, svc__kernel=rbf, tfidf__norm=l1, vectorizer__min_df=2, tfidf__use_idf=True, svc__degree=2, vectorizer__ngram_range=(1, 4) \n",
      "[CV] svc__C=0.1, svc__gamma=0.5, svc__kernel=rbf, tfidf__norm=l1, vectorizer__min_df=2, tfidf__use_idf=True, svc__degree=2, vectorizer__ngram_range=(1, 4) \n",
      "[CV] svc__C=0.1, svc__gamma=0.5, svc__kernel=rbf, tfidf__norm=l1, vectorizer__min_df=3, tfidf__use_idf=True, svc__degree=2, vectorizer__ngram_range=(1, 2) \n",
      "[CV] svc__C=0.1, svc__gamma=0.5, svc__kernel=rbf, tfidf__norm=l1, vectorizer__min_df=3, tfidf__use_idf=True, svc__degree=2, vectorizer__ngram_range=(1, 2) \n",
      "[CV] svc__C=0.1, svc__gamma=0.5, svc__kernel=rbf, tfidf__norm=l1, vectorizer__min_df=3, tfidf__use_idf=True, svc__degree=2, vectorizer__ngram_range=(1, 2) \n",
      "[CV] svc__C=0.1, svc__gamma=0.5, svc__kernel=rbf, tfidf__norm=l1, vectorizer__min_df=3, tfidf__use_idf=True, svc__degree=2, vectorizer__ngram_range=(1, 2) \n",
      "[CV] svc__C=0.1, svc__gamma=0.5, svc__kernel=rbf, tfidf__norm=l1, vectorizer__min_df=3, tfidf__use_idf=True, svc__degree=2, vectorizer__ngram_range=(1, 2) \n",
      "[CV] svc__C=0.1, svc__gamma=0.5, svc__kernel=rbf, tfidf__norm=l1, vectorizer__min_df=3, tfidf__use_idf=True, svc__degree=2, vectorizer__ngram_range=(1, 3) \n",
      "[CV] svc__C=0.1, svc__gamma=0.5, svc__kernel=rbf, tfidf__norm=l1, vectorizer__min_df=3, tfidf__use_idf=True, svc__degree=2, vectorizer__ngram_range=(1, 3) \n",
      "[CV] svc__C=0.1, svc__gamma=0.5, svc__kernel=rbf, tfidf__norm=l1, vectorizer__min_df=3, tfidf__use_idf=True, svc__degree=2, vectorizer__ngram_range=(1, 3) \n",
      "[CV] svc__C=0.1, svc__gamma=0.5, svc__kernel=rbf, tfidf__norm=l1, vectorizer__min_df=3, tfidf__use_idf=True, svc__degree=2, vectorizer__ngram_range=(1, 3) \n",
      "[CV] svc__C=0.1, svc__gamma=0.5, svc__kernel=rbf, tfidf__norm=l1, vectorizer__min_df=3, tfidf__use_idf=True, svc__degree=2, vectorizer__ngram_range=(1, 3) \n",
      "[CV] svc__C=0.1, svc__gamma=0.5, svc__kernel=rbf, tfidf__norm=l1, vectorizer__min_df=3, tfidf__use_idf=True, svc__degree=2, vectorizer__ngram_range=(1, 4) \n",
      "[CV] svc__C=0.1, svc__gamma=0.5, svc__kernel=rbf, tfidf__norm=l1, vectorizer__min_df=3, tfidf__use_idf=True, svc__degree=2, vectorizer__ngram_range=(1, 4) \n",
      "[CV] svc__C=0.1, svc__gamma=0.5, svc__kernel=rbf, tfidf__norm=l1, vectorizer__min_df=3, tfidf__use_idf=True, svc__degree=2, vectorizer__ngram_range=(1, 4) \n",
      "[CV] svc__C=0.1, svc__gamma=0.5, svc__kernel=rbf, tfidf__norm=l1, vectorizer__min_df=3, tfidf__use_idf=True, svc__degree=2, vectorizer__ngram_range=(1, 4) \n",
      "[CV] svc__C=0.1, svc__gamma=0.5, svc__kernel=rbf, tfidf__norm=l1, vectorizer__min_df=3, tfidf__use_idf=True, svc__degree=2, vectorizer__ngram_range=(1, 4) \n",
      "[CV] svc__C=0.1, svc__gamma=0.5, svc__kernel=rbf, tfidf__norm=l2, vectorizer__min_df=2, tfidf__use_idf=True, svc__degree=2, vectorizer__ngram_range=(1, 2) \n",
      "[CV] svc__C=0.1, svc__gamma=0.5, svc__kernel=rbf, tfidf__norm=l2, vectorizer__min_df=2, tfidf__use_idf=True, svc__degree=2, vectorizer__ngram_range=(1, 2) \n",
      "[CV] svc__C=0.1, svc__gamma=0.5, svc__kernel=rbf, tfidf__norm=l2, vectorizer__min_df=2, tfidf__use_idf=True, svc__degree=2, vectorizer__ngram_range=(1, 2) \n",
      "[CV] svc__C=0.1, svc__gamma=0.5, svc__kernel=rbf, tfidf__norm=l2, vectorizer__min_df=2, tfidf__use_idf=True, svc__degree=2, vectorizer__ngram_range=(1, 2) \n",
      "[CV] svc__C=0.1, svc__gamma=0.5, svc__kernel=rbf, tfidf__norm=l2, vectorizer__min_df=2, tfidf__use_idf=True, svc__degree=2, vectorizer__ngram_range=(1, 2) \n",
      "[CV] svc__C=0.1, svc__gamma=0.5, svc__kernel=rbf, tfidf__norm=l2, vectorizer__min_df=2, tfidf__use_idf=True, svc__degree=2, vectorizer__ngram_range=(1, 3) \n",
      "[CV] svc__C=0.1, svc__gamma=0.5, svc__kernel=rbf, tfidf__norm=l2, vectorizer__min_df=2, tfidf__use_idf=True, svc__degree=2, vectorizer__ngram_range=(1, 3) \n",
      "[CV] svc__C=0.1, svc__gamma=0.5, svc__kernel=rbf, tfidf__norm=l2, vectorizer__min_df=2, tfidf__use_idf=True, svc__degree=2, vectorizer__ngram_range=(1, 3) \n",
      "[CV] svc__C=0.1, svc__gamma=0.5, svc__kernel=rbf, tfidf__norm=l2, vectorizer__min_df=2, tfidf__use_idf=True, svc__degree=2, vectorizer__ngram_range=(1, 3) \n",
      "[CV] svc__C=0.1, svc__gamma=0.5, svc__kernel=rbf, tfidf__norm=l2, vectorizer__min_df=2, tfidf__use_idf=True, svc__degree=2, vectorizer__ngram_range=(1, 3) \n",
      "[CV] svc__C=0.1, svc__gamma=0.5, svc__kernel=rbf, tfidf__norm=l2, vectorizer__min_df=2, tfidf__use_idf=True, svc__degree=2, vectorizer__ngram_range=(1, 4) \n",
      "[CV] svc__C=0.1, svc__gamma=0.5, svc__kernel=rbf, tfidf__norm=l2, vectorizer__min_df=2, tfidf__use_idf=True, svc__degree=2, vectorizer__ngram_range=(1, 4) \n",
      "[CV] svc__C=0.1, svc__gamma=0.5, svc__kernel=rbf, tfidf__norm=l2, vectorizer__min_df=2, tfidf__use_idf=True, svc__degree=2, vectorizer__ngram_range=(1, 4) \n",
      "[CV] svc__C=0.1, svc__gamma=0.5, svc__kernel=rbf, tfidf__norm=l2, vectorizer__min_df=2, tfidf__use_idf=True, svc__degree=2, vectorizer__ngram_range=(1, 4) \n",
      "[CV] svc__C=0.1, svc__gamma=0.5, svc__kernel=rbf, tfidf__norm=l2, vectorizer__min_df=2, tfidf__use_idf=True, svc__degree=2, vectorizer__ngram_range=(1, 4) \n",
      "[CV] svc__C=0.1, svc__gamma=0.5, svc__kernel=rbf, tfidf__norm=l2, vectorizer__min_df=3, tfidf__use_idf=True, svc__degree=2, vectorizer__ngram_range=(1, 2) \n",
      "[CV] svc__C=0.1, svc__gamma=0.5, svc__kernel=rbf, tfidf__norm=l2, vectorizer__min_df=3, tfidf__use_idf=True, svc__degree=2, vectorizer__ngram_range=(1, 2) \n",
      "[CV] svc__C=0.1, svc__gamma=0.5, svc__kernel=rbf, tfidf__norm=l2, vectorizer__min_df=3, tfidf__use_idf=True, svc__degree=2, vectorizer__ngram_range=(1, 2) \n",
      "[CV]  svc__C=0.1, svc__gamma=0.5, svc__kernel=rbf, tfidf__norm=l2, vectorizer__min_df=3, tfidf__use_idf=True, svc__degree=2, vectorizer__ngram_range=(1, 2), score=0.807570977917981, total=  12.6s\n",
      "[CV] svc__C=0.1, svc__gamma=0.5, svc__kernel=rbf, tfidf__norm=l2, vectorizer__min_df=3, tfidf__use_idf=True, svc__degree=2, vectorizer__ngram_range=(1, 2) \n",
      "[CV]  svc__C=0.1, svc__gamma=0.5, svc__kernel=rbf, tfidf__norm=l2, vectorizer__min_df=3, tfidf__use_idf=True, svc__degree=2, vectorizer__ngram_range=(1, 2), score=0.8169191919191919, total=  18.1s\n",
      "[CV] svc__C=0.1, svc__gamma=0.5, svc__kernel=rbf, tfidf__norm=l2, vectorizer__min_df=3, tfidf__use_idf=True, svc__degree=2, vectorizer__ngram_range=(1, 2) \n"
     ]
    },
    {
     "name": "stderr",
     "output_type": "stream",
     "text": [
      "[Parallel(n_jobs=-1)]: Done   2 tasks      | elapsed:   25.7s\n"
     ]
    },
    {
     "name": "stdout",
     "output_type": "stream",
     "text": [
      "[CV]  svc__C=0.1, svc__gamma=0.5, svc__kernel=rbf, tfidf__norm=l2, vectorizer__min_df=2, tfidf__use_idf=True, svc__degree=2, vectorizer__ngram_range=(1, 3), score=0.8149084017687934, total=  20.7s\n",
      "[CV] svc__C=0.1, svc__gamma=0.5, svc__kernel=rbf, tfidf__norm=l2, vectorizer__min_df=3, tfidf__use_idf=True, svc__degree=2, vectorizer__ngram_range=(1, 3) \n",
      "[CV]  svc__C=0.1, svc__gamma=0.5, svc__kernel=rbf, tfidf__norm=l2, vectorizer__min_df=3, tfidf__use_idf=True, svc__degree=2, vectorizer__ngram_range=(1, 2), score=0.815540113708149, total=  18.8s\n",
      "[CV] svc__C=0.1, svc__gamma=0.5, svc__kernel=rbf, tfidf__norm=l2, vectorizer__min_df=3, tfidf__use_idf=True, svc__degree=2, vectorizer__ngram_range=(1, 3) \n",
      "[CV]  svc__C=0.1, svc__gamma=0.5, svc__kernel=rbf, tfidf__norm=l1, vectorizer__min_df=2, tfidf__use_idf=True, svc__degree=2, vectorizer__ngram_range=(1, 3), score=0.46430827542640557, total=  20.1s\n",
      "[CV] svc__C=0.1, svc__gamma=0.5, svc__kernel=rbf, tfidf__norm=l2, vectorizer__min_df=3, tfidf__use_idf=True, svc__degree=2, vectorizer__ngram_range=(1, 3) \n",
      "[CV]  svc__C=0.1, svc__gamma=0.5, svc__kernel=rbf, tfidf__norm=l2, vectorizer__min_df=2, tfidf__use_idf=True, svc__degree=2, vectorizer__ngram_range=(1, 3), score=0.8207070707070707, total=  21.4s\n",
      "[CV] svc__C=0.1, svc__gamma=0.5, svc__kernel=rbf, tfidf__norm=l2, vectorizer__min_df=3, tfidf__use_idf=True, svc__degree=2, vectorizer__ngram_range=(1, 3) \n",
      "[CV]  svc__C=0.1, svc__gamma=0.5, svc__kernel=rbf, tfidf__norm=l2, vectorizer__min_df=2, tfidf__use_idf=True, svc__degree=2, vectorizer__ngram_range=(1, 4), score=0.8003790271636134, total=  17.4s\n",
      "[CV] svc__C=0.1, svc__gamma=0.5, svc__kernel=rbf, tfidf__norm=l2, vectorizer__min_df=3, tfidf__use_idf=True, svc__degree=2, vectorizer__ngram_range=(1, 3) \n",
      "[CV]  svc__C=0.1, svc__gamma=0.5, svc__kernel=rbf, tfidf__norm=l2, vectorizer__min_df=2, tfidf__use_idf=True, svc__degree=2, vectorizer__ngram_range=(1, 3), score=0.7949526813880127, total=  19.9s\n",
      "[CV]  svc__C=0.1, svc__gamma=0.5, svc__kernel=rbf, tfidf__norm=l2, vectorizer__min_df=2, tfidf__use_idf=True, svc__degree=2, vectorizer__ngram_range=(1, 3), score=0.8079595704358813, total=  20.1s\n",
      "[CV] svc__C=0.1, svc__gamma=0.5, svc__kernel=rbf, tfidf__norm=l2, vectorizer__min_df=3, tfidf__use_idf=True, svc__degree=2, vectorizer__ngram_range=(1, 4) \n",
      "[CV]  svc__C=0.1, svc__gamma=0.5, svc__kernel=rbf, tfidf__norm=l1, vectorizer__min_df=3, tfidf__use_idf=True, svc__degree=2, vectorizer__ngram_range=(1, 2), score=0.6639292482627922, total=  20.7s\n",
      "[CV] svc__C=0.1, svc__gamma=0.5, svc__kernel=rbf, tfidf__norm=l2, vectorizer__min_df=3, tfidf__use_idf=True, svc__degree=2, vectorizer__ngram_range=(1, 4) \n",
      "[CV]  svc__C=0.1, svc__gamma=0.5, svc__kernel=rbf, tfidf__norm=l2, vectorizer__min_df=2, tfidf__use_idf=True, svc__degree=2, vectorizer__ngram_range=(1, 2), score=0.8186986734049273, total=  20.5s\n",
      "[CV] svc__C=0.1, svc__gamma=0.5, svc__kernel=rbf, tfidf__norm=l2, vectorizer__min_df=3, tfidf__use_idf=True, svc__degree=2, vectorizer__ngram_range=(1, 4) \n",
      "[CV]  svc__C=0.1, svc__gamma=0.5, svc__kernel=rbf, tfidf__norm=l2, vectorizer__min_df=2, tfidf__use_idf=True, svc__degree=2, vectorizer__ngram_range=(1, 4), score=0.8093434343434344, total=  22.1s\n",
      "[CV] svc__C=0.1, svc__gamma=0.5, svc__kernel=rbf, tfidf__norm=l2, vectorizer__min_df=3, tfidf__use_idf=True, svc__degree=2, vectorizer__ngram_range=(1, 4) \n",
      "[CV] svc__C=0.1, svc__gamma=0.5, svc__kernel=rbf, tfidf__norm=l2, vectorizer__min_df=3, tfidf__use_idf=True, svc__degree=2, vectorizer__ngram_range=(1, 4) \n",
      "[CV]  svc__C=0.1, svc__gamma=0.5, svc__kernel=rbf, tfidf__norm=l1, vectorizer__min_df=3, tfidf__use_idf=True, svc__degree=2, vectorizer__ngram_range=(1, 4), score=0.6649810366624526, total=  20.8s\n",
      "[CV] svc__C=0.1, svc__gamma=1, svc__kernel=rbf, tfidf__norm=l1, vectorizer__min_df=2, tfidf__use_idf=True, svc__degree=2, vectorizer__ngram_range=(1, 2) \n",
      "[CV]  svc__C=0.1, svc__gamma=0.5, svc__kernel=rbf, tfidf__norm=l1, vectorizer__min_df=3, tfidf__use_idf=True, svc__degree=2, vectorizer__ngram_range=(1, 3), score=0.6496212121212122, total=  18.7s\n",
      "[CV] svc__C=0.1, svc__gamma=1, svc__kernel=rbf, tfidf__norm=l1, vectorizer__min_df=2, tfidf__use_idf=True, svc__degree=2, vectorizer__ngram_range=(1, 2) \n",
      "[CV]  svc__C=0.1, svc__gamma=0.5, svc__kernel=rbf, tfidf__norm=l1, vectorizer__min_df=3, tfidf__use_idf=True, svc__degree=2, vectorizer__ngram_range=(1, 3), score=0.668141592920354, total=  18.8s\n",
      "[CV] svc__C=0.1, svc__gamma=1, svc__kernel=rbf, tfidf__norm=l1, vectorizer__min_df=2, tfidf__use_idf=True, svc__degree=2, vectorizer__ngram_range=(1, 2) \n",
      "[CV]  svc__C=0.1, svc__gamma=0.5, svc__kernel=rbf, tfidf__norm=l1, vectorizer__min_df=2, tfidf__use_idf=True, svc__degree=2, vectorizer__ngram_range=(1, 4), score=0.46464646464646464, total=  21.4s\n",
      "[CV]  svc__C=0.1, svc__gamma=0.5, svc__kernel=rbf, tfidf__norm=l2, vectorizer__min_df=2, tfidf__use_idf=True, svc__degree=2, vectorizer__ngram_range=(1, 4), score=0.7927984838913456, total=  23.1s\n",
      "[CV] svc__C=0.1, svc__gamma=1, svc__kernel=rbf, tfidf__norm=l1, vectorizer__min_df=2, tfidf__use_idf=True, svc__degree=2, vectorizer__ngram_range=(1, 2) \n",
      "[CV] svc__C=0.1, svc__gamma=1, svc__kernel=rbf, tfidf__norm=l1, vectorizer__min_df=2, tfidf__use_idf=True, svc__degree=2, vectorizer__ngram_range=(1, 2) \n",
      "[CV]  svc__C=0.1, svc__gamma=0.5, svc__kernel=rbf, tfidf__norm=l2, vectorizer__min_df=2, tfidf__use_idf=True, svc__degree=2, vectorizer__ngram_range=(1, 3), score=0.8097345132743363, total=  22.6s\n",
      "[CV] svc__C=0.1, svc__gamma=1, svc__kernel=rbf, tfidf__norm=l1, vectorizer__min_df=2, tfidf__use_idf=True, svc__degree=2, vectorizer__ngram_range=(1, 3) \n",
      "[CV]  svc__C=0.1, svc__gamma=0.5, svc__kernel=rbf, tfidf__norm=l2, vectorizer__min_df=2, tfidf__use_idf=True, svc__degree=2, vectorizer__ngram_range=(1, 2), score=0.8192161820480405, total=  21.4s\n"
     ]
    },
    {
     "name": "stderr",
     "output_type": "stream",
     "text": [
      "[Parallel(n_jobs=-1)]: Done  17 tasks      | elapsed:   30.8s\n"
     ]
    },
    {
     "name": "stdout",
     "output_type": "stream",
     "text": [
      "[CV]  svc__C=0.1, svc__gamma=0.5, svc__kernel=rbf, tfidf__norm=l1, vectorizer__min_df=2, tfidf__use_idf=True, svc__degree=2, vectorizer__ngram_range=(1, 3), score=0.4810606060606061, total=  22.7s\n",
      "[CV] svc__C=0.1, svc__gamma=1, svc__kernel=rbf, tfidf__norm=l1, vectorizer__min_df=2, tfidf__use_idf=True, svc__degree=2, vectorizer__ngram_range=(1, 3) \n",
      "[CV] svc__C=0.1, svc__gamma=1, svc__kernel=rbf, tfidf__norm=l1, vectorizer__min_df=2, tfidf__use_idf=True, svc__degree=2, vectorizer__ngram_range=(1, 3) \n",
      "[CV]  svc__C=0.1, svc__gamma=0.5, svc__kernel=rbf, tfidf__norm=l1, vectorizer__min_df=3, tfidf__use_idf=True, svc__degree=2, vectorizer__ngram_range=(1, 4), score=0.6614024005053696, total=  20.0s\n",
      "[CV] svc__C=0.1, svc__gamma=1, svc__kernel=rbf, tfidf__norm=l1, vectorizer__min_df=2, tfidf__use_idf=True, svc__degree=2, vectorizer__ngram_range=(1, 3) \n",
      "[CV]  svc__C=0.1, svc__gamma=0.5, svc__kernel=rbf, tfidf__norm=l1, vectorizer__min_df=2, tfidf__use_idf=True, svc__degree=2, vectorizer__ngram_range=(1, 3), score=0.46776232616940583, total=  22.7s\n",
      "[CV] svc__C=0.1, svc__gamma=1, svc__kernel=rbf, tfidf__norm=l1, vectorizer__min_df=2, tfidf__use_idf=True, svc__degree=2, vectorizer__ngram_range=(1, 3) \n",
      "[CV]  svc__C=0.1, svc__gamma=0.5, svc__kernel=rbf, tfidf__norm=l1, vectorizer__min_df=3, tfidf__use_idf=True, svc__degree=2, vectorizer__ngram_range=(1, 3), score=0.6683512318382817, total=  21.5s\n",
      "[CV]  svc__C=0.1, svc__gamma=0.5, svc__kernel=rbf, tfidf__norm=l1, vectorizer__min_df=3, tfidf__use_idf=True, svc__degree=2, vectorizer__ngram_range=(1, 2), score=0.6554993678887484, total=  21.9s\n",
      "[CV]  svc__C=0.1, svc__gamma=0.5, svc__kernel=rbf, tfidf__norm=l1, vectorizer__min_df=2, tfidf__use_idf=True, svc__degree=2, vectorizer__ngram_range=(1, 3), score=0.4674668351231838, total=  19.7s\n",
      "[CV] svc__C=0.1, svc__gamma=1, svc__kernel=rbf, tfidf__norm=l1, vectorizer__min_df=2, tfidf__use_idf=True, svc__degree=2, vectorizer__ngram_range=(1, 4) \n",
      "[CV] svc__C=0.1, svc__gamma=1, svc__kernel=rbf, tfidf__norm=l1, vectorizer__min_df=2, tfidf__use_idf=True, svc__degree=2, vectorizer__ngram_range=(1, 4) \n",
      "[CV] svc__C=0.1, svc__gamma=1, svc__kernel=rbf, tfidf__norm=l1, vectorizer__min_df=2, tfidf__use_idf=True, svc__degree=2, vectorizer__ngram_range=(1, 4) \n",
      "[CV]  svc__C=0.1, svc__gamma=0.5, svc__kernel=rbf, tfidf__norm=l1, vectorizer__min_df=3, tfidf__use_idf=True, svc__degree=2, vectorizer__ngram_range=(1, 3), score=0.644794952681388, total=  20.1s\n",
      "[CV]  svc__C=0.1, svc__gamma=0.5, svc__kernel=rbf, tfidf__norm=l1, vectorizer__min_df=2, tfidf__use_idf=True, svc__degree=2, vectorizer__ngram_range=(1, 2), score=0.6291850915982312, total=  22.1s\n",
      "[CV] svc__C=0.1, svc__gamma=1, svc__kernel=rbf, tfidf__norm=l1, vectorizer__min_df=2, tfidf__use_idf=True, svc__degree=2, vectorizer__ngram_range=(1, 4) \n",
      "[CV] svc__C=0.1, svc__gamma=1, svc__kernel=rbf, tfidf__norm=l1, vectorizer__min_df=2, tfidf__use_idf=True, svc__degree=2, vectorizer__ngram_range=(1, 4) \n",
      "[CV]  svc__C=0.1, svc__gamma=0.5, svc__kernel=rbf, tfidf__norm=l1, vectorizer__min_df=3, tfidf__use_idf=True, svc__degree=2, vectorizer__ngram_range=(1, 2), score=0.6384858044164038, total=  22.7s\n",
      "[CV]  svc__C=0.1, svc__gamma=0.5, svc__kernel=rbf, tfidf__norm=l1, vectorizer__min_df=2, tfidf__use_idf=True, svc__degree=2, vectorizer__ngram_range=(1, 4), score=0.450063211125158, total=  22.6s\n",
      "[CV] svc__C=0.1, svc__gamma=1, svc__kernel=rbf, tfidf__norm=l1, vectorizer__min_df=3, tfidf__use_idf=True, svc__degree=2, vectorizer__ngram_range=(1, 2) \n",
      "[CV] svc__C=0.1, svc__gamma=1, svc__kernel=rbf, tfidf__norm=l1, vectorizer__min_df=3, tfidf__use_idf=True, svc__degree=2, vectorizer__ngram_range=(1, 2) \n",
      "[CV]  svc__C=0.1, svc__gamma=0.5, svc__kernel=rbf, tfidf__norm=l1, vectorizer__min_df=3, tfidf__use_idf=True, svc__degree=2, vectorizer__ngram_range=(1, 4), score=0.6696146557169931, total=  20.0s\n",
      "[CV]  svc__C=0.1, svc__gamma=0.5, svc__kernel=rbf, tfidf__norm=l1, vectorizer__min_df=3, tfidf__use_idf=True, svc__degree=2, vectorizer__ngram_range=(1, 2), score=0.6493998736576121, total=  20.9s\n",
      "[CV] svc__C=0.1, svc__gamma=1, svc__kernel=rbf, tfidf__norm=l1, vectorizer__min_df=3, tfidf__use_idf=True, svc__degree=2, vectorizer__ngram_range=(1, 2) \n",
      "[CV] svc__C=0.1, svc__gamma=1, svc__kernel=rbf, tfidf__norm=l1, vectorizer__min_df=3, tfidf__use_idf=True, svc__degree=2, vectorizer__ngram_range=(1, 2) \n",
      "[CV]  svc__C=0.1, svc__gamma=0.5, svc__kernel=rbf, tfidf__norm=l1, vectorizer__min_df=3, tfidf__use_idf=True, svc__degree=2, vectorizer__ngram_range=(1, 4), score=0.6435331230283912, total=  19.5s\n",
      "[CV] svc__C=0.1, svc__gamma=1, svc__kernel=rbf, tfidf__norm=l1, vectorizer__min_df=3, tfidf__use_idf=True, svc__degree=2, vectorizer__ngram_range=(1, 2) \n",
      "[CV]  svc__C=0.1, svc__gamma=0.5, svc__kernel=rbf, tfidf__norm=l2, vectorizer__min_df=2, tfidf__use_idf=True, svc__degree=2, vectorizer__ngram_range=(1, 4), score=0.8053097345132744, total=  21.8s\n"
     ]
    },
    {
     "name": "stderr",
     "output_type": "stream",
     "text": [
      "[Parallel(n_jobs=-1)]: Done  32 tasks      | elapsed:   32.8s\n"
     ]
    },
    {
     "name": "stdout",
     "output_type": "stream",
     "text": [
      "[CV] svc__C=0.1, svc__gamma=1, svc__kernel=rbf, tfidf__norm=l1, vectorizer__min_df=3, tfidf__use_idf=True, svc__degree=2, vectorizer__ngram_range=(1, 3) \n",
      "[CV]  svc__C=0.1, svc__gamma=0.5, svc__kernel=rbf, tfidf__norm=l2, vectorizer__min_df=2, tfidf__use_idf=True, svc__degree=2, vectorizer__ngram_range=(1, 2), score=0.8325963360707518, total=  20.1s\n",
      "[CV] svc__C=0.1, svc__gamma=1, svc__kernel=rbf, tfidf__norm=l1, vectorizer__min_df=3, tfidf__use_idf=True, svc__degree=2, vectorizer__ngram_range=(1, 3) \n",
      "[CV]  svc__C=0.1, svc__gamma=0.5, svc__kernel=rbf, tfidf__norm=l1, vectorizer__min_df=3, tfidf__use_idf=True, svc__degree=2, vectorizer__ngram_range=(1, 3), score=0.6708780795957043, total=  22.3s\n",
      "[CV] svc__C=0.1, svc__gamma=1, svc__kernel=rbf, tfidf__norm=l1, vectorizer__min_df=3, tfidf__use_idf=True, svc__degree=2, vectorizer__ngram_range=(1, 3) \n",
      "[CV]  svc__C=0.1, svc__gamma=0.5, svc__kernel=rbf, tfidf__norm=l1, vectorizer__min_df=2, tfidf__use_idf=True, svc__degree=2, vectorizer__ngram_range=(1, 3), score=0.45993690851735014, total=  23.7s\n",
      "[CV]  svc__C=0.1, svc__gamma=0.5, svc__kernel=rbf, tfidf__norm=l1, vectorizer__min_df=2, tfidf__use_idf=True, svc__degree=2, vectorizer__ngram_range=(1, 2), score=0.6227129337539432, total=  20.4s\n",
      "[CV] svc__C=0.1, svc__gamma=1, svc__kernel=rbf, tfidf__norm=l1, vectorizer__min_df=3, tfidf__use_idf=True, svc__degree=2, vectorizer__ngram_range=(1, 3) \n",
      "[CV]  svc__C=0.1, svc__gamma=0.5, svc__kernel=rbf, tfidf__norm=l1, vectorizer__min_df=2, tfidf__use_idf=True, svc__degree=2, vectorizer__ngram_range=(1, 2), score=0.640555906506633, total=  24.0s\n",
      "[CV] svc__C=0.1, svc__gamma=1, svc__kernel=rbf, tfidf__norm=l1, vectorizer__min_df=3, tfidf__use_idf=True, svc__degree=2, vectorizer__ngram_range=(1, 3) \n",
      "[CV] svc__C=0.1, svc__gamma=1, svc__kernel=rbf, tfidf__norm=l1, vectorizer__min_df=3, tfidf__use_idf=True, svc__degree=2, vectorizer__ngram_range=(1, 4) \n",
      "[CV]  svc__C=0.1, svc__gamma=0.5, svc__kernel=rbf, tfidf__norm=l1, vectorizer__min_df=2, tfidf__use_idf=True, svc__degree=2, vectorizer__ngram_range=(1, 4), score=0.45230574857864814, total=  23.9s\n",
      "[CV] svc__C=0.1, svc__gamma=1, svc__kernel=rbf, tfidf__norm=l1, vectorizer__min_df=3, tfidf__use_idf=True, svc__degree=2, vectorizer__ngram_range=(1, 4) \n",
      "[CV]  svc__C=0.1, svc__gamma=0.5, svc__kernel=rbf, tfidf__norm=l1, vectorizer__min_df=3, tfidf__use_idf=True, svc__degree=2, vectorizer__ngram_range=(1, 4), score=0.6496212121212122, total=  21.3s\n",
      "[CV]  svc__C=0.1, svc__gamma=0.5, svc__kernel=rbf, tfidf__norm=l2, vectorizer__min_df=2, tfidf__use_idf=True, svc__degree=2, vectorizer__ngram_range=(1, 4), score=0.7854889589905363, total=  23.4s\n",
      "[CV] svc__C=0.1, svc__gamma=1, svc__kernel=rbf, tfidf__norm=l1, vectorizer__min_df=3, tfidf__use_idf=True, svc__degree=2, vectorizer__ngram_range=(1, 4) \n",
      "[CV] svc__C=0.1, svc__gamma=1, svc__kernel=rbf, tfidf__norm=l1, vectorizer__min_df=3, tfidf__use_idf=True, svc__degree=2, vectorizer__ngram_range=(1, 4) \n",
      "[CV]  svc__C=0.1, svc__gamma=0.5, svc__kernel=rbf, tfidf__norm=l1, vectorizer__min_df=2, tfidf__use_idf=True, svc__degree=2, vectorizer__ngram_range=(1, 2), score=0.6346396965865992, total=  23.4s\n",
      "[CV] svc__C=0.1, svc__gamma=1, svc__kernel=rbf, tfidf__norm=l1, vectorizer__min_df=3, tfidf__use_idf=True, svc__degree=2, vectorizer__ngram_range=(1, 4) \n",
      "[CV]  svc__C=0.1, svc__gamma=0.5, svc__kernel=rbf, tfidf__norm=l1, vectorizer__min_df=2, tfidf__use_idf=True, svc__degree=2, vectorizer__ngram_range=(1, 4), score=0.444794952681388, total=  23.1s\n",
      "[CV] svc__C=0.1, svc__gamma=1, svc__kernel=rbf, tfidf__norm=l2, vectorizer__min_df=2, tfidf__use_idf=True, svc__degree=2, vectorizer__ngram_range=(1, 2) \n",
      "[CV]  svc__C=0.1, svc__gamma=0.5, svc__kernel=rbf, tfidf__norm=l1, vectorizer__min_df=3, tfidf__use_idf=True, svc__degree=2, vectorizer__ngram_range=(1, 2), score=0.648989898989899, total=  23.6s\n",
      "[CV] svc__C=0.1, svc__gamma=1, svc__kernel=rbf, tfidf__norm=l2, vectorizer__min_df=2, tfidf__use_idf=True, svc__degree=2, vectorizer__ngram_range=(1, 2) \n",
      "[CV]  svc__C=0.1, svc__gamma=0.5, svc__kernel=rbf, tfidf__norm=l2, vectorizer__min_df=2, tfidf__use_idf=True, svc__degree=2, vectorizer__ngram_range=(1, 2), score=0.827020202020202, total=  23.8s\n",
      "[CV] svc__C=0.1, svc__gamma=1, svc__kernel=rbf, tfidf__norm=l2, vectorizer__min_df=2, tfidf__use_idf=True, svc__degree=2, vectorizer__ngram_range=(1, 2) \n",
      "[CV]  svc__C=0.1, svc__gamma=0.5, svc__kernel=rbf, tfidf__norm=l1, vectorizer__min_df=2, tfidf__use_idf=True, svc__degree=2, vectorizer__ngram_range=(1, 2), score=0.6508838383838383, total=  23.7s\n",
      "[CV] svc__C=0.1, svc__gamma=1, svc__kernel=rbf, tfidf__norm=l2, vectorizer__min_df=2, tfidf__use_idf=True, svc__degree=2, vectorizer__ngram_range=(1, 2) \n",
      "[CV]  svc__C=0.1, svc__gamma=0.5, svc__kernel=rbf, tfidf__norm=l1, vectorizer__min_df=2, tfidf__use_idf=True, svc__degree=2, vectorizer__ngram_range=(1, 4), score=0.4516740366392925, total=  24.8s\n",
      "[CV] svc__C=0.1, svc__gamma=1, svc__kernel=rbf, tfidf__norm=l2, vectorizer__min_df=2, tfidf__use_idf=True, svc__degree=2, vectorizer__ngram_range=(1, 2) \n",
      "[CV]  svc__C=0.1, svc__gamma=0.5, svc__kernel=rbf, tfidf__norm=l2, vectorizer__min_df=2, tfidf__use_idf=True, svc__degree=2, vectorizer__ngram_range=(1, 2), score=0.8145110410094637, total=  25.3s\n",
      "[CV] svc__C=0.1, svc__gamma=1, svc__kernel=rbf, tfidf__norm=l2, vectorizer__min_df=2, tfidf__use_idf=True, svc__degree=2, vectorizer__ngram_range=(1, 3) \n",
      "[CV]  svc__C=0.1, svc__gamma=0.5, svc__kernel=rbf, tfidf__norm=l2, vectorizer__min_df=3, tfidf__use_idf=True, svc__degree=2, vectorizer__ngram_range=(1, 2), score=0.8275426405559065, total=  15.1s\n",
      "[CV] svc__C=0.1, svc__gamma=1, svc__kernel=rbf, tfidf__norm=l2, vectorizer__min_df=2, tfidf__use_idf=True, svc__degree=2, vectorizer__ngram_range=(1, 3) \n"
     ]
    },
    {
     "name": "stderr",
     "output_type": "stream",
     "text": [
      "[Parallel(n_jobs=-1)]: Done  49 tasks      | elapsed:   44.6s\n"
     ]
    },
    {
     "name": "stdout",
     "output_type": "stream",
     "text": [
      "[CV]  svc__C=0.1, svc__gamma=0.5, svc__kernel=rbf, tfidf__norm=l2, vectorizer__min_df=3, tfidf__use_idf=True, svc__degree=2, vectorizer__ngram_range=(1, 2), score=0.8154235145385588, total=  20.4s\n",
      "[CV] svc__C=0.1, svc__gamma=1, svc__kernel=rbf, tfidf__norm=l2, vectorizer__min_df=2, tfidf__use_idf=True, svc__degree=2, vectorizer__ngram_range=(1, 3) \n",
      "[CV]  svc__C=0.1, svc__gamma=0.5, svc__kernel=rbf, tfidf__norm=l2, vectorizer__min_df=3, tfidf__use_idf=True, svc__degree=2, vectorizer__ngram_range=(1, 3), score=0.8168035375868604, total=  20.3s\n",
      "[CV] svc__C=0.1, svc__gamma=1, svc__kernel=rbf, tfidf__norm=l2, vectorizer__min_df=2, tfidf__use_idf=True, svc__degree=2, vectorizer__ngram_range=(1, 3) \n",
      "[CV]  svc__C=0.1, svc__gamma=0.5, svc__kernel=rbf, tfidf__norm=l2, vectorizer__min_df=3, tfidf__use_idf=True, svc__degree=2, vectorizer__ngram_range=(1, 3), score=0.8084702907711757, total=  17.8s\n",
      "[CV] svc__C=0.1, svc__gamma=1, svc__kernel=rbf, tfidf__norm=l2, vectorizer__min_df=2, tfidf__use_idf=True, svc__degree=2, vectorizer__ngram_range=(1, 3) \n",
      "[CV]  svc__C=0.1, svc__gamma=0.5, svc__kernel=rbf, tfidf__norm=l2, vectorizer__min_df=3, tfidf__use_idf=True, svc__degree=2, vectorizer__ngram_range=(1, 4), score=0.8097345132743363, total=  20.2s\n",
      "[CV]  svc__C=0.1, svc__gamma=0.5, svc__kernel=rbf, tfidf__norm=l2, vectorizer__min_df=3, tfidf__use_idf=True, svc__degree=2, vectorizer__ngram_range=(1, 4), score=0.8111181301326595, total=  19.2s\n",
      "[CV] svc__C=0.1, svc__gamma=1, svc__kernel=rbf, tfidf__norm=l2, vectorizer__min_df=2, tfidf__use_idf=True, svc__degree=2, vectorizer__ngram_range=(1, 4) \n",
      "[CV] svc__C=0.1, svc__gamma=1, svc__kernel=rbf, tfidf__norm=l2, vectorizer__min_df=2, tfidf__use_idf=True, svc__degree=2, vectorizer__ngram_range=(1, 4) \n",
      "[CV]  svc__C=0.1, svc__gamma=0.5, svc__kernel=rbf, tfidf__norm=l2, vectorizer__min_df=3, tfidf__use_idf=True, svc__degree=2, vectorizer__ngram_range=(1, 3), score=0.8050473186119874, total=  21.5s\n",
      "[CV] svc__C=0.1, svc__gamma=1, svc__kernel=rbf, tfidf__norm=l2, vectorizer__min_df=2, tfidf__use_idf=True, svc__degree=2, vectorizer__ngram_range=(1, 4) \n",
      "[CV]  svc__C=0.1, svc__gamma=1, svc__kernel=rbf, tfidf__norm=l1, vectorizer__min_df=2, tfidf__use_idf=True, svc__degree=2, vectorizer__ngram_range=(1, 2), score=0.6906565656565656, total=  16.2s\n",
      "[CV] svc__C=0.1, svc__gamma=1, svc__kernel=rbf, tfidf__norm=l2, vectorizer__min_df=2, tfidf__use_idf=True, svc__degree=2, vectorizer__ngram_range=(1, 4) \n",
      "[CV]  svc__C=0.1, svc__gamma=0.5, svc__kernel=rbf, tfidf__norm=l2, vectorizer__min_df=3, tfidf__use_idf=True, svc__degree=2, vectorizer__ngram_range=(1, 3), score=0.8131313131313131, total=  20.2s\n",
      "[CV]  svc__C=0.1, svc__gamma=1, svc__kernel=rbf, tfidf__norm=l1, vectorizer__min_df=2, tfidf__use_idf=True, svc__degree=2, vectorizer__ngram_range=(1, 4), score=0.7045454545454546, total=  19.6s\n",
      "[CV] svc__C=0.1, svc__gamma=1, svc__kernel=rbf, tfidf__norm=l2, vectorizer__min_df=2, tfidf__use_idf=True, svc__degree=2, vectorizer__ngram_range=(1, 4) \n",
      "[CV] svc__C=0.1, svc__gamma=1, svc__kernel=rbf, tfidf__norm=l2, vectorizer__min_df=3, tfidf__use_idf=True, svc__degree=2, vectorizer__ngram_range=(1, 2) \n",
      "[CV]  svc__C=0.1, svc__gamma=1, svc__kernel=rbf, tfidf__norm=l1, vectorizer__min_df=3, tfidf__use_idf=True, svc__degree=2, vectorizer__ngram_range=(1, 2), score=0.6952681388012618, total=  14.9s\n",
      "[CV] svc__C=0.1, svc__gamma=1, svc__kernel=rbf, tfidf__norm=l2, vectorizer__min_df=3, tfidf__use_idf=True, svc__degree=2, vectorizer__ngram_range=(1, 2) \n",
      "[CV]  svc__C=0.1, svc__gamma=0.5, svc__kernel=rbf, tfidf__norm=l2, vectorizer__min_df=3, tfidf__use_idf=True, svc__degree=2, vectorizer__ngram_range=(1, 4), score=0.8106060606060606, total=  22.1s\n",
      "[CV] svc__C=0.1, svc__gamma=1, svc__kernel=rbf, tfidf__norm=l2, vectorizer__min_df=3, tfidf__use_idf=True, svc__degree=2, vectorizer__ngram_range=(1, 2) \n",
      "[CV]  svc__C=0.1, svc__gamma=0.5, svc__kernel=rbf, tfidf__norm=l2, vectorizer__min_df=3, tfidf__use_idf=True, svc__degree=2, vectorizer__ngram_range=(1, 3), score=0.8079595704358813, total=  20.9s\n",
      "[CV] svc__C=0.1, svc__gamma=1, svc__kernel=rbf, tfidf__norm=l2, vectorizer__min_df=3, tfidf__use_idf=True, svc__degree=2, vectorizer__ngram_range=(1, 2) \n",
      "[CV]  svc__C=0.1, svc__gamma=1, svc__kernel=rbf, tfidf__norm=l1, vectorizer__min_df=2, tfidf__use_idf=True, svc__degree=2, vectorizer__ngram_range=(1, 2), score=0.682018927444795, total=  19.1s\n",
      "[CV] svc__C=0.1, svc__gamma=1, svc__kernel=rbf, tfidf__norm=l2, vectorizer__min_df=3, tfidf__use_idf=True, svc__degree=2, vectorizer__ngram_range=(1, 2) \n",
      "[CV]  svc__C=0.1, svc__gamma=1, svc__kernel=rbf, tfidf__norm=l1, vectorizer__min_df=2, tfidf__use_idf=True, svc__degree=2, vectorizer__ngram_range=(1, 3), score=0.7123893805309734, total=  20.7s\n",
      "[CV]  svc__C=0.1, svc__gamma=1, svc__kernel=rbf, tfidf__norm=l2, vectorizer__min_df=2, tfidf__use_idf=True, svc__degree=2, vectorizer__ngram_range=(1, 2), score=0.8145110410094637, total=  17.0s\n",
      "[CV] svc__C=0.1, svc__gamma=1, svc__kernel=rbf, tfidf__norm=l2, vectorizer__min_df=3, tfidf__use_idf=True, svc__degree=2, vectorizer__ngram_range=(1, 3) \n",
      "[CV] svc__C=0.1, svc__gamma=1, svc__kernel=rbf, tfidf__norm=l2, vectorizer__min_df=3, tfidf__use_idf=True, svc__degree=2, vectorizer__ngram_range=(1, 3) \n",
      "[CV]  svc__C=0.1, svc__gamma=1, svc__kernel=rbf, tfidf__norm=l1, vectorizer__min_df=2, tfidf__use_idf=True, svc__degree=2, vectorizer__ngram_range=(1, 3), score=0.6889589905362776, total=  21.9s\n",
      "[CV] svc__C=0.1, svc__gamma=1, svc__kernel=rbf, tfidf__norm=l2, vectorizer__min_df=3, tfidf__use_idf=True, svc__degree=2, vectorizer__ngram_range=(1, 3) \n",
      "[CV]  svc__C=0.1, svc__gamma=1, svc__kernel=rbf, tfidf__norm=l1, vectorizer__min_df=2, tfidf__use_idf=True, svc__degree=2, vectorizer__ngram_range=(1, 2), score=0.6967782691092862, total=  22.2s\n",
      "[CV] svc__C=0.1, svc__gamma=1, svc__kernel=rbf, tfidf__norm=l2, vectorizer__min_df=3, tfidf__use_idf=True, svc__degree=2, vectorizer__ngram_range=(1, 3) \n"
     ]
    },
    {
     "name": "stderr",
     "output_type": "stream",
     "text": [
      "[Parallel(n_jobs=-1)]: Done  66 tasks      | elapsed:  1.0min\n"
     ]
    },
    {
     "name": "stdout",
     "output_type": "stream",
     "text": [
      "[CV]  svc__C=0.1, svc__gamma=0.5, svc__kernel=rbf, tfidf__norm=l2, vectorizer__min_df=3, tfidf__use_idf=True, svc__degree=2, vectorizer__ngram_range=(1, 4), score=0.8035375868603917, total=  23.5s\n",
      "[CV] svc__C=0.1, svc__gamma=1, svc__kernel=rbf, tfidf__norm=l2, vectorizer__min_df=3, tfidf__use_idf=True, svc__degree=2, vectorizer__ngram_range=(1, 3) \n",
      "[CV]  svc__C=0.1, svc__gamma=1, svc__kernel=rbf, tfidf__norm=l1, vectorizer__min_df=3, tfidf__use_idf=True, svc__degree=2, vectorizer__ngram_range=(1, 2), score=0.7231352718078382, total=  20.5s\n",
      "[CV] svc__C=0.1, svc__gamma=1, svc__kernel=rbf, tfidf__norm=l2, vectorizer__min_df=3, tfidf__use_idf=True, svc__degree=2, vectorizer__ngram_range=(1, 4) \n",
      "[CV]  svc__C=0.1, svc__gamma=1, svc__kernel=rbf, tfidf__norm=l1, vectorizer__min_df=3, tfidf__use_idf=True, svc__degree=2, vectorizer__ngram_range=(1, 3), score=0.7161820480404552, total=  20.1s\n",
      "[CV]  svc__C=0.1, svc__gamma=1, svc__kernel=rbf, tfidf__norm=l1, vectorizer__min_df=3, tfidf__use_idf=True, svc__degree=2, vectorizer__ngram_range=(1, 3), score=0.7207833228048011, total=  20.1s\n",
      "[CV] svc__C=0.1, svc__gamma=1, svc__kernel=rbf, tfidf__norm=l2, vectorizer__min_df=3, tfidf__use_idf=True, svc__degree=2, vectorizer__ngram_range=(1, 4) \n",
      "[CV] svc__C=0.1, svc__gamma=1, svc__kernel=rbf, tfidf__norm=l2, vectorizer__min_df=3, tfidf__use_idf=True, svc__degree=2, vectorizer__ngram_range=(1, 4) \n",
      "[CV]  svc__C=0.1, svc__gamma=1, svc__kernel=rbf, tfidf__norm=l1, vectorizer__min_df=2, tfidf__use_idf=True, svc__degree=2, vectorizer__ngram_range=(1, 3), score=0.7012002526847757, total=  23.8s\n",
      "[CV]  svc__C=0.1, svc__gamma=1, svc__kernel=rbf, tfidf__norm=l1, vectorizer__min_df=2, tfidf__use_idf=True, svc__degree=2, vectorizer__ngram_range=(1, 4), score=0.7037271004421983, total=  24.1s\n",
      "[CV] svc__C=0.1, svc__gamma=1, svc__kernel=rbf, tfidf__norm=l2, vectorizer__min_df=3, tfidf__use_idf=True, svc__degree=2, vectorizer__ngram_range=(1, 4) \n",
      "[CV] svc__C=0.1, svc__gamma=1, svc__kernel=rbf, tfidf__norm=l2, vectorizer__min_df=3, tfidf__use_idf=True, svc__degree=2, vectorizer__ngram_range=(1, 4) \n",
      "[CV]  svc__C=0.1, svc__gamma=1, svc__kernel=rbf, tfidf__norm=l1, vectorizer__min_df=3, tfidf__use_idf=True, svc__degree=2, vectorizer__ngram_range=(1, 3), score=0.7024636765634871, total=  19.6s\n",
      "[CV]  svc__C=0.1, svc__gamma=1, svc__kernel=rbf, tfidf__norm=l1, vectorizer__min_df=3, tfidf__use_idf=True, svc__degree=2, vectorizer__ngram_range=(1, 2), score=0.7087807959570436, total=  21.5s\n",
      "[CV] svc__C=0.1, svc__gamma=0.5, svc__kernel=rbf, tfidf__norm=l1, vectorizer__min_df=2, tfidf__use_idf=True, svc__degree=4, vectorizer__ngram_range=(1, 2) \n",
      "[CV] svc__C=0.1, svc__gamma=0.5, svc__kernel=rbf, tfidf__norm=l1, vectorizer__min_df=2, tfidf__use_idf=True, svc__degree=4, vectorizer__ngram_range=(1, 2) \n",
      "[CV]  svc__C=0.1, svc__gamma=0.5, svc__kernel=rbf, tfidf__norm=l2, vectorizer__min_df=3, tfidf__use_idf=True, svc__degree=2, vectorizer__ngram_range=(1, 4), score=0.8018927444794953, total=  22.1s\n",
      "[CV] svc__C=0.1, svc__gamma=0.5, svc__kernel=rbf, tfidf__norm=l1, vectorizer__min_df=2, tfidf__use_idf=True, svc__degree=4, vectorizer__ngram_range=(1, 2) \n",
      "[CV]  svc__C=0.1, svc__gamma=1, svc__kernel=rbf, tfidf__norm=l1, vectorizer__min_df=2, tfidf__use_idf=True, svc__degree=2, vectorizer__ngram_range=(1, 3), score=0.702020202020202, total=  21.6s\n",
      "[CV] svc__C=0.1, svc__gamma=0.5, svc__kernel=rbf, tfidf__norm=l1, vectorizer__min_df=2, tfidf__use_idf=True, svc__degree=4, vectorizer__ngram_range=(1, 2) \n",
      "[CV]  svc__C=0.1, svc__gamma=1, svc__kernel=rbf, tfidf__norm=l1, vectorizer__min_df=2, tfidf__use_idf=True, svc__degree=2, vectorizer__ngram_range=(1, 4), score=0.7037271004421983, total=  21.5s\n",
      "[CV]  svc__C=0.1, svc__gamma=1, svc__kernel=rbf, tfidf__norm=l1, vectorizer__min_df=3, tfidf__use_idf=True, svc__degree=2, vectorizer__ngram_range=(1, 2), score=0.7296272899557802, total=  23.1s\n",
      "[CV] svc__C=0.1, svc__gamma=0.5, svc__kernel=rbf, tfidf__norm=l1, vectorizer__min_df=2, tfidf__use_idf=True, svc__degree=4, vectorizer__ngram_range=(1, 3) \n",
      "[CV] svc__C=0.1, svc__gamma=0.5, svc__kernel=rbf, tfidf__norm=l1, vectorizer__min_df=2, tfidf__use_idf=True, svc__degree=4, vectorizer__ngram_range=(1, 2) \n",
      "[CV]  svc__C=0.1, svc__gamma=1, svc__kernel=rbf, tfidf__norm=l1, vectorizer__min_df=3, tfidf__use_idf=True, svc__degree=2, vectorizer__ngram_range=(1, 4), score=0.711489898989899, total=  21.2s\n",
      "[CV] svc__C=0.1, svc__gamma=0.5, svc__kernel=rbf, tfidf__norm=l1, vectorizer__min_df=2, tfidf__use_idf=True, svc__degree=4, vectorizer__ngram_range=(1, 3) \n",
      "[CV]  svc__C=0.1, svc__gamma=1, svc__kernel=rbf, tfidf__norm=l1, vectorizer__min_df=3, tfidf__use_idf=True, svc__degree=2, vectorizer__ngram_range=(1, 4), score=0.6986734049273531, total=  23.0s\n",
      "[CV] svc__C=0.1, svc__gamma=0.5, svc__kernel=rbf, tfidf__norm=l1, vectorizer__min_df=2, tfidf__use_idf=True, svc__degree=4, vectorizer__ngram_range=(1, 3) \n",
      "[CV]  svc__C=0.1, svc__gamma=1, svc__kernel=rbf, tfidf__norm=l1, vectorizer__min_df=3, tfidf__use_idf=True, svc__degree=2, vectorizer__ngram_range=(1, 4), score=0.6870662460567823, total=  24.5s\n",
      "[CV] svc__C=0.1, svc__gamma=0.5, svc__kernel=rbf, tfidf__norm=l1, vectorizer__min_df=2, tfidf__use_idf=True, svc__degree=4, vectorizer__ngram_range=(1, 3) \n",
      "[CV]  svc__C=0.1, svc__gamma=1, svc__kernel=rbf, tfidf__norm=l1, vectorizer__min_df=2, tfidf__use_idf=True, svc__degree=2, vectorizer__ngram_range=(1, 4), score=0.6883280757097792, total=  25.6s\n",
      "[CV] svc__C=0.1, svc__gamma=0.5, svc__kernel=rbf, tfidf__norm=l1, vectorizer__min_df=2, tfidf__use_idf=True, svc__degree=4, vectorizer__ngram_range=(1, 3) \n",
      "[CV]  svc__C=0.1, svc__gamma=1, svc__kernel=rbf, tfidf__norm=l1, vectorizer__min_df=2, tfidf__use_idf=True, svc__degree=2, vectorizer__ngram_range=(1, 3), score=0.7005685407454201, total=  25.1s\n",
      "[CV] svc__C=0.1, svc__gamma=0.5, svc__kernel=rbf, tfidf__norm=l1, vectorizer__min_df=2, tfidf__use_idf=True, svc__degree=4, vectorizer__ngram_range=(1, 4) \n",
      "[CV]  svc__C=0.1, svc__gamma=1, svc__kernel=rbf, tfidf__norm=l1, vectorizer__min_df=3, tfidf__use_idf=True, svc__degree=2, vectorizer__ngram_range=(1, 3), score=0.7077020202020202, total=  24.7s\n",
      "[CV]  svc__C=0.1, svc__gamma=1, svc__kernel=rbf, tfidf__norm=l1, vectorizer__min_df=3, tfidf__use_idf=True, svc__degree=2, vectorizer__ngram_range=(1, 3), score=0.6883280757097792, total=  23.6s\n",
      "[CV] svc__C=0.1, svc__gamma=0.5, svc__kernel=rbf, tfidf__norm=l1, vectorizer__min_df=2, tfidf__use_idf=True, svc__degree=4, vectorizer__ngram_range=(1, 4) \n",
      "[CV] svc__C=0.1, svc__gamma=0.5, svc__kernel=rbf, tfidf__norm=l1, vectorizer__min_df=2, tfidf__use_idf=True, svc__degree=4, vectorizer__ngram_range=(1, 4) \n"
     ]
    },
    {
     "name": "stderr",
     "output_type": "stream",
     "text": [
      "[Parallel(n_jobs=-1)]: Done  85 tasks      | elapsed:  1.1min\n"
     ]
    },
    {
     "name": "stdout",
     "output_type": "stream",
     "text": [
      "[CV]  svc__C=0.1, svc__gamma=1, svc__kernel=rbf, tfidf__norm=l1, vectorizer__min_df=2, tfidf__use_idf=True, svc__degree=2, vectorizer__ngram_range=(1, 4), score=0.713653603034134, total=  27.9s\n",
      "[CV] svc__C=0.1, svc__gamma=0.5, svc__kernel=rbf, tfidf__norm=l1, vectorizer__min_df=2, tfidf__use_idf=True, svc__degree=4, vectorizer__ngram_range=(1, 4) \n",
      "[CV]  svc__C=0.1, svc__gamma=1, svc__kernel=rbf, tfidf__norm=l1, vectorizer__min_df=3, tfidf__use_idf=True, svc__degree=2, vectorizer__ngram_range=(1, 4), score=0.7176247631080227, total=  23.7s\n",
      "[CV] svc__C=0.1, svc__gamma=0.5, svc__kernel=rbf, tfidf__norm=l1, vectorizer__min_df=2, tfidf__use_idf=True, svc__degree=4, vectorizer__ngram_range=(1, 4) \n",
      "[CV]  svc__C=0.1, svc__gamma=1, svc__kernel=rbf, tfidf__norm=l1, vectorizer__min_df=2, tfidf__use_idf=True, svc__degree=2, vectorizer__ngram_range=(1, 2), score=0.713653603034134, total=  26.9s\n",
      "[CV] svc__C=0.1, svc__gamma=0.5, svc__kernel=rbf, tfidf__norm=l1, vectorizer__min_df=3, tfidf__use_idf=True, svc__degree=4, vectorizer__ngram_range=(1, 2) \n",
      "[CV]  svc__C=0.1, svc__gamma=1, svc__kernel=rbf, tfidf__norm=l2, vectorizer__min_df=2, tfidf__use_idf=True, svc__degree=2, vectorizer__ngram_range=(1, 3), score=0.7747634069400631, total=  21.8s\n",
      "[CV]  svc__C=0.1, svc__gamma=1, svc__kernel=rbf, tfidf__norm=l2, vectorizer__min_df=2, tfidf__use_idf=True, svc__degree=2, vectorizer__ngram_range=(1, 2), score=0.8294377763739734, total=  20.9s\n",
      "[CV] svc__C=0.1, svc__gamma=0.5, svc__kernel=rbf, tfidf__norm=l1, vectorizer__min_df=3, tfidf__use_idf=True, svc__degree=4, vectorizer__ngram_range=(1, 2) \n",
      "[CV]  svc__C=0.1, svc__gamma=1, svc__kernel=rbf, tfidf__norm=l1, vectorizer__min_df=3, tfidf__use_idf=True, svc__degree=2, vectorizer__ngram_range=(1, 2), score=0.7133838383838383, total=  23.0s\n",
      "[CV] svc__C=0.1, svc__gamma=0.5, svc__kernel=rbf, tfidf__norm=l1, vectorizer__min_df=3, tfidf__use_idf=True, svc__degree=4, vectorizer__ngram_range=(1, 2) \n",
      "[CV] svc__C=0.1, svc__gamma=0.5, svc__kernel=rbf, tfidf__norm=l1, vectorizer__min_df=3, tfidf__use_idf=True, svc__degree=4, vectorizer__ngram_range=(1, 2) \n",
      "[CV]  svc__C=0.1, svc__gamma=1, svc__kernel=rbf, tfidf__norm=l1, vectorizer__min_df=3, tfidf__use_idf=True, svc__degree=2, vectorizer__ngram_range=(1, 4), score=0.713653603034134, total=  24.1s\n",
      "[CV] svc__C=0.1, svc__gamma=0.5, svc__kernel=rbf, tfidf__norm=l1, vectorizer__min_df=3, tfidf__use_idf=True, svc__degree=4, vectorizer__ngram_range=(1, 2) \n",
      "[CV]  svc__C=0.1, svc__gamma=1, svc__kernel=rbf, tfidf__norm=l2, vectorizer__min_df=2, tfidf__use_idf=True, svc__degree=2, vectorizer__ngram_range=(1, 2), score=0.8295454545454546, total=  22.6s\n",
      "[CV] svc__C=0.1, svc__gamma=0.5, svc__kernel=rbf, tfidf__norm=l1, vectorizer__min_df=3, tfidf__use_idf=True, svc__degree=4, vectorizer__ngram_range=(1, 3) \n",
      "[CV]  svc__C=0.1, svc__gamma=1, svc__kernel=rbf, tfidf__norm=l1, vectorizer__min_df=2, tfidf__use_idf=True, svc__degree=2, vectorizer__ngram_range=(1, 2), score=0.7049905243209097, total=  26.4s\n",
      "[CV] svc__C=0.1, svc__gamma=0.5, svc__kernel=rbf, tfidf__norm=l1, vectorizer__min_df=3, tfidf__use_idf=True, svc__degree=4, vectorizer__ngram_range=(1, 3) \n",
      "[CV]  svc__C=0.1, svc__gamma=1, svc__kernel=rbf, tfidf__norm=l2, vectorizer__min_df=2, tfidf__use_idf=True, svc__degree=2, vectorizer__ngram_range=(1, 2), score=0.8173198482932996, total=  24.9s\n",
      "[CV] svc__C=0.1, svc__gamma=0.5, svc__kernel=rbf, tfidf__norm=l1, vectorizer__min_df=3, tfidf__use_idf=True, svc__degree=4, vectorizer__ngram_range=(1, 3) \n",
      "[CV]  svc__C=0.1, svc__gamma=1, svc__kernel=rbf, tfidf__norm=l2, vectorizer__min_df=2, tfidf__use_idf=True, svc__degree=2, vectorizer__ngram_range=(1, 2), score=0.8149084017687934, total=  25.2s\n",
      "[CV] svc__C=0.1, svc__gamma=0.5, svc__kernel=rbf, tfidf__norm=l1, vectorizer__min_df=3, tfidf__use_idf=True, svc__degree=4, vectorizer__ngram_range=(1, 3) \n",
      "[CV]  svc__C=0.1, svc__gamma=1, svc__kernel=rbf, tfidf__norm=l2, vectorizer__min_df=2, tfidf__use_idf=True, svc__degree=2, vectorizer__ngram_range=(1, 3), score=0.8232323232323232, total=  19.0s\n",
      "[CV] svc__C=0.1, svc__gamma=0.5, svc__kernel=rbf, tfidf__norm=l1, vectorizer__min_df=3, tfidf__use_idf=True, svc__degree=4, vectorizer__ngram_range=(1, 3) \n",
      "[CV]  svc__C=0.1, svc__gamma=1, svc__kernel=rbf, tfidf__norm=l2, vectorizer__min_df=2, tfidf__use_idf=True, svc__degree=2, vectorizer__ngram_range=(1, 4), score=0.8080808080808081, total=  20.8s\n",
      "[CV] svc__C=0.1, svc__gamma=0.5, svc__kernel=rbf, tfidf__norm=l1, vectorizer__min_df=3, tfidf__use_idf=True, svc__degree=4, vectorizer__ngram_range=(1, 4) \n",
      "[CV]  svc__C=0.1, svc__gamma=1, svc__kernel=rbf, tfidf__norm=l2, vectorizer__min_df=2, tfidf__use_idf=True, svc__degree=2, vectorizer__ngram_range=(1, 4), score=0.759621451104101, total=  23.6s\n",
      "[CV] svc__C=0.1, svc__gamma=0.5, svc__kernel=rbf, tfidf__norm=l1, vectorizer__min_df=3, tfidf__use_idf=True, svc__degree=4, vectorizer__ngram_range=(1, 4) \n",
      "[CV]  svc__C=0.1, svc__gamma=1, svc__kernel=rbf, tfidf__norm=l2, vectorizer__min_df=2, tfidf__use_idf=True, svc__degree=2, vectorizer__ngram_range=(1, 4), score=0.7789008212255212, total=  21.0s\n",
      "[CV] svc__C=0.1, svc__gamma=0.5, svc__kernel=rbf, tfidf__norm=l1, vectorizer__min_df=3, tfidf__use_idf=True, svc__degree=4, vectorizer__ngram_range=(1, 4) \n",
      "[CV]  svc__C=0.1, svc__gamma=1, svc__kernel=rbf, tfidf__norm=l2, vectorizer__min_df=2, tfidf__use_idf=True, svc__degree=2, vectorizer__ngram_range=(1, 3), score=0.8059418457648546, total=  22.7s\n",
      "[CV] svc__C=0.1, svc__gamma=0.5, svc__kernel=rbf, tfidf__norm=l1, vectorizer__min_df=3, tfidf__use_idf=True, svc__degree=4, vectorizer__ngram_range=(1, 4) \n",
      "[CV]  svc__C=0.1, svc__gamma=1, svc__kernel=rbf, tfidf__norm=l2, vectorizer__min_df=3, tfidf__use_idf=True, svc__degree=2, vectorizer__ngram_range=(1, 4), score=0.7983565107458913, total=  18.3s\n",
      "[CV] svc__C=0.1, svc__gamma=0.5, svc__kernel=rbf, tfidf__norm=l1, vectorizer__min_df=3, tfidf__use_idf=True, svc__degree=4, vectorizer__ngram_range=(1, 4) \n",
      "[CV]  svc__C=0.1, svc__gamma=1, svc__kernel=rbf, tfidf__norm=l2, vectorizer__min_df=3, tfidf__use_idf=True, svc__degree=2, vectorizer__ngram_range=(1, 2), score=0.8084702907711757, total=  20.9s\n",
      "[CV] svc__C=0.1, svc__gamma=0.5, svc__kernel=rbf, tfidf__norm=l2, vectorizer__min_df=2, tfidf__use_idf=True, svc__degree=4, vectorizer__ngram_range=(1, 2) \n",
      "[CV]  svc__C=0.1, svc__gamma=1, svc__kernel=rbf, tfidf__norm=l2, vectorizer__min_df=3, tfidf__use_idf=True, svc__degree=2, vectorizer__ngram_range=(1, 3), score=0.8073278584965256, total=  20.0s\n",
      "[CV]  svc__C=0.1, svc__gamma=1, svc__kernel=rbf, tfidf__norm=l2, vectorizer__min_df=3, tfidf__use_idf=True, svc__degree=2, vectorizer__ngram_range=(1, 4), score=0.7848580441640378, total=  18.9s\n",
      "[CV]  svc__C=0.1, svc__gamma=1, svc__kernel=rbf, tfidf__norm=l2, vectorizer__min_df=3, tfidf__use_idf=True, svc__degree=2, vectorizer__ngram_range=(1, 2), score=0.8073278584965256, total=  20.6s\n",
      "[CV] svc__C=0.1, svc__gamma=0.5, svc__kernel=rbf, tfidf__norm=l2, vectorizer__min_df=2, tfidf__use_idf=True, svc__degree=4, vectorizer__ngram_range=(1, 2) \n",
      "[CV] svc__C=0.1, svc__gamma=0.5, svc__kernel=rbf, tfidf__norm=l2, vectorizer__min_df=2, tfidf__use_idf=True, svc__degree=4, vectorizer__ngram_range=(1, 2) \n",
      "[CV] svc__C=0.1, svc__gamma=0.5, svc__kernel=rbf, tfidf__norm=l2, vectorizer__min_df=2, tfidf__use_idf=True, svc__degree=4, vectorizer__ngram_range=(1, 2) \n"
     ]
    },
    {
     "name": "stderr",
     "output_type": "stream",
     "text": [
      "[Parallel(n_jobs=-1)]: Done 104 tasks      | elapsed:  1.5min\n"
     ]
    },
    {
     "name": "stdout",
     "output_type": "stream",
     "text": [
      "[CV]  svc__C=0.1, svc__gamma=1, svc__kernel=rbf, tfidf__norm=l2, vectorizer__min_df=2, tfidf__use_idf=True, svc__degree=2, vectorizer__ngram_range=(1, 3), score=0.7915350600126342, total=  25.7s\n",
      "[CV] svc__C=0.1, svc__gamma=0.5, svc__kernel=rbf, tfidf__norm=l2, vectorizer__min_df=2, tfidf__use_idf=True, svc__degree=4, vectorizer__ngram_range=(1, 2) \n",
      "[CV]  svc__C=0.1, svc__gamma=1, svc__kernel=rbf, tfidf__norm=l2, vectorizer__min_df=2, tfidf__use_idf=True, svc__degree=2, vectorizer__ngram_range=(1, 4), score=0.7909033480732786, total=  23.7s\n",
      "[CV] svc__C=0.1, svc__gamma=0.5, svc__kernel=rbf, tfidf__norm=l2, vectorizer__min_df=2, tfidf__use_idf=True, svc__degree=4, vectorizer__ngram_range=(1, 3) \n",
      "[CV]  svc__C=0.1, svc__gamma=1, svc__kernel=rbf, tfidf__norm=l2, vectorizer__min_df=2, tfidf__use_idf=True, svc__degree=2, vectorizer__ngram_range=(1, 4), score=0.7964601769911505, total=  25.1s\n",
      "[CV] svc__C=0.1, svc__gamma=0.5, svc__kernel=rbf, tfidf__norm=l2, vectorizer__min_df=2, tfidf__use_idf=True, svc__degree=4, vectorizer__ngram_range=(1, 3) \n",
      "[CV]  svc__C=0.1, svc__gamma=1, svc__kernel=rbf, tfidf__norm=l2, vectorizer__min_df=3, tfidf__use_idf=True, svc__degree=2, vectorizer__ngram_range=(1, 3), score=0.7905362776025237, total=  21.4s\n",
      "[CV] svc__C=0.1, svc__gamma=0.5, svc__kernel=rbf, tfidf__norm=l2, vectorizer__min_df=2, tfidf__use_idf=True, svc__degree=4, vectorizer__ngram_range=(1, 3) \n",
      "[CV]  svc__C=0.1, svc__gamma=1, svc__kernel=rbf, tfidf__norm=l2, vectorizer__min_df=3, tfidf__use_idf=True, svc__degree=2, vectorizer__ngram_range=(1, 2), score=0.8055555555555556, total=  24.2s\n",
      "[CV] svc__C=0.1, svc__gamma=0.5, svc__kernel=rbf, tfidf__norm=l2, vectorizer__min_df=2, tfidf__use_idf=True, svc__degree=4, vectorizer__ngram_range=(1, 3) \n",
      "[CV]  svc__C=0.1, svc__gamma=1, svc__kernel=rbf, tfidf__norm=l2, vectorizer__min_df=3, tfidf__use_idf=True, svc__degree=2, vectorizer__ngram_range=(1, 4), score=0.7921667719519899, total=  21.8s\n",
      "[CV] svc__C=0.1, svc__gamma=0.5, svc__kernel=rbf, tfidf__norm=l2, vectorizer__min_df=2, tfidf__use_idf=True, svc__degree=4, vectorizer__ngram_range=(1, 3) \n",
      "[CV]  svc__C=0.1, svc__gamma=1, svc__kernel=rbf, tfidf__norm=l2, vectorizer__min_df=3, tfidf__use_idf=True, svc__degree=2, vectorizer__ngram_range=(1, 3), score=0.8008849557522124, total=  22.6s\n",
      "[CV] svc__C=0.1, svc__gamma=0.5, svc__kernel=rbf, tfidf__norm=l2, vectorizer__min_df=2, tfidf__use_idf=True, svc__degree=4, vectorizer__ngram_range=(1, 4) \n",
      "[CV]  svc__C=0.1, svc__gamma=1, svc__kernel=rbf, tfidf__norm=l2, vectorizer__min_df=3, tfidf__use_idf=True, svc__degree=2, vectorizer__ngram_range=(1, 2), score=0.8111181301326595, total=  24.3s\n",
      "[CV] svc__C=0.1, svc__gamma=0.5, svc__kernel=rbf, tfidf__norm=l2, vectorizer__min_df=2, tfidf__use_idf=True, svc__degree=4, vectorizer__ngram_range=(1, 4) \n",
      "[CV]  svc__C=0.1, svc__gamma=1, svc__kernel=rbf, tfidf__norm=l2, vectorizer__min_df=3, tfidf__use_idf=True, svc__degree=2, vectorizer__ngram_range=(1, 3), score=0.7929292929292929, total=  22.9s\n",
      "[CV] svc__C=0.1, svc__gamma=0.5, svc__kernel=rbf, tfidf__norm=l2, vectorizer__min_df=2, tfidf__use_idf=True, svc__degree=4, vectorizer__ngram_range=(1, 4) \n",
      "[CV]  svc__C=0.1, svc__gamma=1, svc__kernel=rbf, tfidf__norm=l2, vectorizer__min_df=2, tfidf__use_idf=True, svc__degree=2, vectorizer__ngram_range=(1, 3), score=0.8041692987997473, total=  27.1s\n",
      "[CV] svc__C=0.1, svc__gamma=0.5, svc__kernel=rbf, tfidf__norm=l2, vectorizer__min_df=2, tfidf__use_idf=True, svc__degree=4, vectorizer__ngram_range=(1, 4) \n",
      "[CV]  svc__C=0.1, svc__gamma=1, svc__kernel=rbf, tfidf__norm=l2, vectorizer__min_df=3, tfidf__use_idf=True, svc__degree=2, vectorizer__ngram_range=(1, 3), score=0.7953253316487682, total=  24.0s\n",
      "[CV] svc__C=0.1, svc__gamma=0.5, svc__kernel=rbf, tfidf__norm=l2, vectorizer__min_df=2, tfidf__use_idf=True, svc__degree=4, vectorizer__ngram_range=(1, 4) \n",
      "[CV]  svc__C=0.1, svc__gamma=1, svc__kernel=rbf, tfidf__norm=l2, vectorizer__min_df=3, tfidf__use_idf=True, svc__degree=2, vectorizer__ngram_range=(1, 4), score=0.8041692987997473, total=  24.9s\n",
      "[CV] svc__C=0.1, svc__gamma=0.5, svc__kernel=rbf, tfidf__norm=l2, vectorizer__min_df=3, tfidf__use_idf=True, svc__degree=4, vectorizer__ngram_range=(1, 2) \n",
      "[CV]  svc__C=0.1, svc__gamma=0.5, svc__kernel=rbf, tfidf__norm=l1, vectorizer__min_df=2, tfidf__use_idf=True, svc__degree=4, vectorizer__ngram_range=(1, 4), score=0.45230574857864814, total=  19.4s\n",
      "[CV]  svc__C=0.1, svc__gamma=1, svc__kernel=rbf, tfidf__norm=l2, vectorizer__min_df=3, tfidf__use_idf=True, svc__degree=2, vectorizer__ngram_range=(1, 4), score=0.7866161616161617, total=  23.3s\n",
      "[CV] svc__C=0.1, svc__gamma=0.5, svc__kernel=rbf, tfidf__norm=l2, vectorizer__min_df=3, tfidf__use_idf=True, svc__degree=4, vectorizer__ngram_range=(1, 2) \n",
      "[CV] svc__C=0.1, svc__gamma=0.5, svc__kernel=rbf, tfidf__norm=l2, vectorizer__min_df=3, tfidf__use_idf=True, svc__degree=4, vectorizer__ngram_range=(1, 2) \n",
      "[CV]  svc__C=0.1, svc__gamma=1, svc__kernel=rbf, tfidf__norm=l2, vectorizer__min_df=3, tfidf__use_idf=True, svc__degree=2, vectorizer__ngram_range=(1, 2), score=0.804416403785489, total=  25.8s\n",
      "[CV] svc__C=0.1, svc__gamma=0.5, svc__kernel=rbf, tfidf__norm=l2, vectorizer__min_df=3, tfidf__use_idf=True, svc__degree=4, vectorizer__ngram_range=(1, 2) \n",
      "[CV]  svc__C=0.1, svc__gamma=0.5, svc__kernel=rbf, tfidf__norm=l1, vectorizer__min_df=2, tfidf__use_idf=True, svc__degree=4, vectorizer__ngram_range=(1, 2), score=0.6346396965865992, total=  23.8s\n",
      "[CV] svc__C=0.1, svc__gamma=0.5, svc__kernel=rbf, tfidf__norm=l2, vectorizer__min_df=3, tfidf__use_idf=True, svc__degree=4, vectorizer__ngram_range=(1, 2) \n",
      "[CV]  svc__C=0.1, svc__gamma=0.5, svc__kernel=rbf, tfidf__norm=l1, vectorizer__min_df=2, tfidf__use_idf=True, svc__degree=4, vectorizer__ngram_range=(1, 4), score=0.4516740366392925, total=  20.2s\n",
      "[CV] svc__C=0.1, svc__gamma=0.5, svc__kernel=rbf, tfidf__norm=l2, vectorizer__min_df=3, tfidf__use_idf=True, svc__degree=4, vectorizer__ngram_range=(1, 3) \n",
      "[CV]  svc__C=0.1, svc__gamma=0.5, svc__kernel=rbf, tfidf__norm=l1, vectorizer__min_df=3, tfidf__use_idf=True, svc__degree=4, vectorizer__ngram_range=(1, 2), score=0.6384858044164038, total=  20.9s\n",
      "[CV]  svc__C=0.1, svc__gamma=0.5, svc__kernel=rbf, tfidf__norm=l1, vectorizer__min_df=3, tfidf__use_idf=True, svc__degree=4, vectorizer__ngram_range=(1, 2), score=0.6493998736576121, total=  18.1s\n",
      "[CV] svc__C=0.1, svc__gamma=0.5, svc__kernel=rbf, tfidf__norm=l2, vectorizer__min_df=3, tfidf__use_idf=True, svc__degree=4, vectorizer__ngram_range=(1, 3) \n",
      "[CV] svc__C=0.1, svc__gamma=0.5, svc__kernel=rbf, tfidf__norm=l2, vectorizer__min_df=3, tfidf__use_idf=True, svc__degree=4, vectorizer__ngram_range=(1, 3) \n",
      "[CV]  svc__C=0.1, svc__gamma=0.5, svc__kernel=rbf, tfidf__norm=l1, vectorizer__min_df=3, tfidf__use_idf=True, svc__degree=4, vectorizer__ngram_range=(1, 2), score=0.6639292482627922, total=  19.2s\n"
     ]
    },
    {
     "name": "stderr",
     "output_type": "stream",
     "text": [
      "[Parallel(n_jobs=-1)]: Done 125 tasks      | elapsed:  1.6min\n"
     ]
    },
    {
     "name": "stdout",
     "output_type": "stream",
     "text": [
      "[CV] svc__C=0.1, svc__gamma=0.5, svc__kernel=rbf, tfidf__norm=l2, vectorizer__min_df=3, tfidf__use_idf=True, svc__degree=4, vectorizer__ngram_range=(1, 3) \n",
      "[CV]  svc__C=0.1, svc__gamma=0.5, svc__kernel=rbf, tfidf__norm=l1, vectorizer__min_df=2, tfidf__use_idf=True, svc__degree=4, vectorizer__ngram_range=(1, 3), score=0.4674668351231838, total=  23.2s\n",
      "[CV] svc__C=0.1, svc__gamma=0.5, svc__kernel=rbf, tfidf__norm=l2, vectorizer__min_df=3, tfidf__use_idf=True, svc__degree=4, vectorizer__ngram_range=(1, 3) \n",
      "[CV]  svc__C=0.1, svc__gamma=0.5, svc__kernel=rbf, tfidf__norm=l1, vectorizer__min_df=2, tfidf__use_idf=True, svc__degree=4, vectorizer__ngram_range=(1, 2), score=0.6227129337539432, total=  27.3s\n",
      "[CV] svc__C=0.1, svc__gamma=0.5, svc__kernel=rbf, tfidf__norm=l2, vectorizer__min_df=3, tfidf__use_idf=True, svc__degree=4, vectorizer__ngram_range=(1, 4) \n",
      "[CV]  svc__C=0.1, svc__gamma=0.5, svc__kernel=rbf, tfidf__norm=l1, vectorizer__min_df=2, tfidf__use_idf=True, svc__degree=4, vectorizer__ngram_range=(1, 2), score=0.6291850915982312, total=  23.1s\n",
      "[CV] svc__C=0.1, svc__gamma=0.5, svc__kernel=rbf, tfidf__norm=l2, vectorizer__min_df=3, tfidf__use_idf=True, svc__degree=4, vectorizer__ngram_range=(1, 4) \n",
      "[CV]  svc__C=0.1, svc__gamma=0.5, svc__kernel=rbf, tfidf__norm=l1, vectorizer__min_df=3, tfidf__use_idf=True, svc__degree=4, vectorizer__ngram_range=(1, 3), score=0.644794952681388, total=  19.2s\n",
      "[CV] svc__C=0.1, svc__gamma=0.5, svc__kernel=rbf, tfidf__norm=l2, vectorizer__min_df=3, tfidf__use_idf=True, svc__degree=4, vectorizer__ngram_range=(1, 4) \n",
      "[CV]  svc__C=0.1, svc__gamma=0.5, svc__kernel=rbf, tfidf__norm=l1, vectorizer__min_df=2, tfidf__use_idf=True, svc__degree=4, vectorizer__ngram_range=(1, 3), score=0.4810606060606061, total=  22.4s\n",
      "[CV] svc__C=0.1, svc__gamma=0.5, svc__kernel=rbf, tfidf__norm=l2, vectorizer__min_df=3, tfidf__use_idf=True, svc__degree=4, vectorizer__ngram_range=(1, 4) \n",
      "[CV]  svc__C=0.1, svc__gamma=0.5, svc__kernel=rbf, tfidf__norm=l1, vectorizer__min_df=2, tfidf__use_idf=True, svc__degree=4, vectorizer__ngram_range=(1, 2), score=0.6508838383838383, total=  24.8s\n",
      "[CV] svc__C=0.1, svc__gamma=0.5, svc__kernel=rbf, tfidf__norm=l2, vectorizer__min_df=3, tfidf__use_idf=True, svc__degree=4, vectorizer__ngram_range=(1, 4) \n",
      "[CV]  svc__C=0.1, svc__gamma=0.5, svc__kernel=rbf, tfidf__norm=l1, vectorizer__min_df=3, tfidf__use_idf=True, svc__degree=4, vectorizer__ngram_range=(1, 2), score=0.6554993678887484, total=  20.7s\n",
      "[CV] svc__C=0.1, svc__gamma=1, svc__kernel=rbf, tfidf__norm=l1, vectorizer__min_df=2, tfidf__use_idf=True, svc__degree=4, vectorizer__ngram_range=(1, 2) \n",
      "[CV]  svc__C=0.1, svc__gamma=0.5, svc__kernel=rbf, tfidf__norm=l1, vectorizer__min_df=2, tfidf__use_idf=True, svc__degree=4, vectorizer__ngram_range=(1, 3), score=0.46430827542640557, total=  23.0s\n",
      "[CV] svc__C=0.1, svc__gamma=1, svc__kernel=rbf, tfidf__norm=l1, vectorizer__min_df=2, tfidf__use_idf=True, svc__degree=4, vectorizer__ngram_range=(1, 2) \n",
      "[CV]  svc__C=0.1, svc__gamma=0.5, svc__kernel=rbf, tfidf__norm=l1, vectorizer__min_df=2, tfidf__use_idf=True, svc__degree=4, vectorizer__ngram_range=(1, 2), score=0.640555906506633, total=  25.3s\n",
      "[CV] svc__C=0.1, svc__gamma=1, svc__kernel=rbf, tfidf__norm=l1, vectorizer__min_df=2, tfidf__use_idf=True, svc__degree=4, vectorizer__ngram_range=(1, 2) \n",
      "[CV]  svc__C=0.1, svc__gamma=0.5, svc__kernel=rbf, tfidf__norm=l1, vectorizer__min_df=2, tfidf__use_idf=True, svc__degree=4, vectorizer__ngram_range=(1, 3), score=0.45993690851735014, total=  25.9s\n",
      "[CV] svc__C=0.1, svc__gamma=1, svc__kernel=rbf, tfidf__norm=l1, vectorizer__min_df=2, tfidf__use_idf=True, svc__degree=4, vectorizer__ngram_range=(1, 2) \n",
      "[CV]  svc__C=0.1, svc__gamma=0.5, svc__kernel=rbf, tfidf__norm=l1, vectorizer__min_df=2, tfidf__use_idf=True, svc__degree=4, vectorizer__ngram_range=(1, 4), score=0.450063211125158, total=  26.0s\n",
      "[CV] svc__C=0.1, svc__gamma=1, svc__kernel=rbf, tfidf__norm=l1, vectorizer__min_df=2, tfidf__use_idf=True, svc__degree=4, vectorizer__ngram_range=(1, 2) \n",
      "[CV]  svc__C=0.1, svc__gamma=0.5, svc__kernel=rbf, tfidf__norm=l1, vectorizer__min_df=2, tfidf__use_idf=True, svc__degree=4, vectorizer__ngram_range=(1, 4), score=0.444794952681388, total=  23.2s\n",
      "[CV] svc__C=0.1, svc__gamma=1, svc__kernel=rbf, tfidf__norm=l1, vectorizer__min_df=2, tfidf__use_idf=True, svc__degree=4, vectorizer__ngram_range=(1, 3) \n",
      "[CV]  svc__C=0.1, svc__gamma=0.5, svc__kernel=rbf, tfidf__norm=l1, vectorizer__min_df=2, tfidf__use_idf=True, svc__degree=4, vectorizer__ngram_range=(1, 4), score=0.46464646464646464, total=  24.2s\n",
      "[CV] svc__C=0.1, svc__gamma=1, svc__kernel=rbf, tfidf__norm=l1, vectorizer__min_df=2, tfidf__use_idf=True, svc__degree=4, vectorizer__ngram_range=(1, 3) \n",
      "[CV]  svc__C=0.1, svc__gamma=0.5, svc__kernel=rbf, tfidf__norm=l1, vectorizer__min_df=3, tfidf__use_idf=True, svc__degree=4, vectorizer__ngram_range=(1, 2), score=0.648989898989899, total=  25.8s\n",
      "[CV] svc__C=0.1, svc__gamma=1, svc__kernel=rbf, tfidf__norm=l1, vectorizer__min_df=2, tfidf__use_idf=True, svc__degree=4, vectorizer__ngram_range=(1, 3) \n",
      "[CV]  svc__C=0.1, svc__gamma=0.5, svc__kernel=rbf, tfidf__norm=l1, vectorizer__min_df=3, tfidf__use_idf=True, svc__degree=4, vectorizer__ngram_range=(1, 3), score=0.6708780795957043, total=  22.4s\n",
      "[CV] svc__C=0.1, svc__gamma=1, svc__kernel=rbf, tfidf__norm=l1, vectorizer__min_df=2, tfidf__use_idf=True, svc__degree=4, vectorizer__ngram_range=(1, 3) \n",
      "[CV]  svc__C=0.1, svc__gamma=0.5, svc__kernel=rbf, tfidf__norm=l1, vectorizer__min_df=3, tfidf__use_idf=True, svc__degree=4, vectorizer__ngram_range=(1, 3), score=0.668141592920354, total=  22.3s\n",
      "[CV] svc__C=0.1, svc__gamma=1, svc__kernel=rbf, tfidf__norm=l1, vectorizer__min_df=2, tfidf__use_idf=True, svc__degree=4, vectorizer__ngram_range=(1, 3) \n",
      "[CV]  svc__C=0.1, svc__gamma=0.5, svc__kernel=rbf, tfidf__norm=l1, vectorizer__min_df=2, tfidf__use_idf=True, svc__degree=4, vectorizer__ngram_range=(1, 3), score=0.46776232616940583, total=  30.7s\n",
      "[CV] svc__C=0.1, svc__gamma=1, svc__kernel=rbf, tfidf__norm=l1, vectorizer__min_df=2, tfidf__use_idf=True, svc__degree=4, vectorizer__ngram_range=(1, 4) \n",
      "[CV]  svc__C=0.1, svc__gamma=0.5, svc__kernel=rbf, tfidf__norm=l1, vectorizer__min_df=3, tfidf__use_idf=True, svc__degree=4, vectorizer__ngram_range=(1, 3), score=0.6496212121212122, total=  28.3s\n",
      "[CV] svc__C=0.1, svc__gamma=1, svc__kernel=rbf, tfidf__norm=l1, vectorizer__min_df=2, tfidf__use_idf=True, svc__degree=4, vectorizer__ngram_range=(1, 4) \n",
      "[CV]  svc__C=0.1, svc__gamma=0.5, svc__kernel=rbf, tfidf__norm=l1, vectorizer__min_df=3, tfidf__use_idf=True, svc__degree=4, vectorizer__ngram_range=(1, 3), score=0.6683512318382817, total=  25.0s\n",
      "[CV] svc__C=0.1, svc__gamma=1, svc__kernel=rbf, tfidf__norm=l1, vectorizer__min_df=2, tfidf__use_idf=True, svc__degree=4, vectorizer__ngram_range=(1, 4) \n",
      "[CV]  svc__C=0.1, svc__gamma=0.5, svc__kernel=rbf, tfidf__norm=l2, vectorizer__min_df=2, tfidf__use_idf=True, svc__degree=4, vectorizer__ngram_range=(1, 2), score=0.8186986734049273, total=  14.6s\n",
      "[CV] svc__C=0.1, svc__gamma=1, svc__kernel=rbf, tfidf__norm=l1, vectorizer__min_df=2, tfidf__use_idf=True, svc__degree=4, vectorizer__ngram_range=(1, 4) \n"
     ]
    },
    {
     "name": "stderr",
     "output_type": "stream",
     "text": [
      "[Parallel(n_jobs=-1)]: Done 146 tasks      | elapsed:  1.9min\n"
     ]
    },
    {
     "name": "stdout",
     "output_type": "stream",
     "text": [
      "[CV]  svc__C=0.1, svc__gamma=0.5, svc__kernel=rbf, tfidf__norm=l1, vectorizer__min_df=3, tfidf__use_idf=True, svc__degree=4, vectorizer__ngram_range=(1, 4), score=0.6696146557169931, total=  21.5s\n",
      "[CV]  svc__C=0.1, svc__gamma=0.5, svc__kernel=rbf, tfidf__norm=l1, vectorizer__min_df=3, tfidf__use_idf=True, svc__degree=4, vectorizer__ngram_range=(1, 4), score=0.6649810366624526, total=  21.3s\n",
      "[CV] svc__C=0.1, svc__gamma=1, svc__kernel=rbf, tfidf__norm=l1, vectorizer__min_df=2, tfidf__use_idf=True, svc__degree=4, vectorizer__ngram_range=(1, 4) \n",
      "[CV] svc__C=0.1, svc__gamma=1, svc__kernel=rbf, tfidf__norm=l1, vectorizer__min_df=3, tfidf__use_idf=True, svc__degree=4, vectorizer__ngram_range=(1, 2) \n",
      "[CV]  svc__C=0.1, svc__gamma=0.5, svc__kernel=rbf, tfidf__norm=l1, vectorizer__min_df=3, tfidf__use_idf=True, svc__degree=4, vectorizer__ngram_range=(1, 4), score=0.6496212121212122, total=  22.5s\n",
      "[CV] svc__C=0.1, svc__gamma=1, svc__kernel=rbf, tfidf__norm=l1, vectorizer__min_df=3, tfidf__use_idf=True, svc__degree=4, vectorizer__ngram_range=(1, 2) \n",
      "[CV]  svc__C=0.1, svc__gamma=0.5, svc__kernel=rbf, tfidf__norm=l2, vectorizer__min_df=2, tfidf__use_idf=True, svc__degree=4, vectorizer__ngram_range=(1, 3), score=0.8097345132743363, total=  18.0s\n",
      "[CV] svc__C=0.1, svc__gamma=1, svc__kernel=rbf, tfidf__norm=l1, vectorizer__min_df=3, tfidf__use_idf=True, svc__degree=4, vectorizer__ngram_range=(1, 2) \n",
      "[CV]  svc__C=0.1, svc__gamma=0.5, svc__kernel=rbf, tfidf__norm=l2, vectorizer__min_df=2, tfidf__use_idf=True, svc__degree=4, vectorizer__ngram_range=(1, 3), score=0.7949526813880127, total=  21.6s\n",
      "[CV] svc__C=0.1, svc__gamma=1, svc__kernel=rbf, tfidf__norm=l1, vectorizer__min_df=3, tfidf__use_idf=True, svc__degree=4, vectorizer__ngram_range=(1, 2) \n",
      "[CV]  svc__C=0.1, svc__gamma=0.5, svc__kernel=rbf, tfidf__norm=l2, vectorizer__min_df=2, tfidf__use_idf=True, svc__degree=4, vectorizer__ngram_range=(1, 3), score=0.8149084017687934, total=  20.5s\n",
      "[CV] svc__C=0.1, svc__gamma=1, svc__kernel=rbf, tfidf__norm=l1, vectorizer__min_df=3, tfidf__use_idf=True, svc__degree=4, vectorizer__ngram_range=(1, 2) \n",
      "[CV]  svc__C=0.1, svc__gamma=0.5, svc__kernel=rbf, tfidf__norm=l2, vectorizer__min_df=2, tfidf__use_idf=True, svc__degree=4, vectorizer__ngram_range=(1, 3), score=0.8207070707070707, total=  21.7s\n",
      "[CV] svc__C=0.1, svc__gamma=1, svc__kernel=rbf, tfidf__norm=l1, vectorizer__min_df=3, tfidf__use_idf=True, svc__degree=4, vectorizer__ngram_range=(1, 3) \n",
      "[CV]  svc__C=0.1, svc__gamma=0.5, svc__kernel=rbf, tfidf__norm=l2, vectorizer__min_df=2, tfidf__use_idf=True, svc__degree=4, vectorizer__ngram_range=(1, 2), score=0.827020202020202, total=  21.1s\n",
      "[CV] svc__C=0.1, svc__gamma=1, svc__kernel=rbf, tfidf__norm=l1, vectorizer__min_df=3, tfidf__use_idf=True, svc__degree=4, vectorizer__ngram_range=(1, 3) \n",
      "[CV]  svc__C=0.1, svc__gamma=0.5, svc__kernel=rbf, tfidf__norm=l2, vectorizer__min_df=3, tfidf__use_idf=True, svc__degree=4, vectorizer__ngram_range=(1, 2), score=0.8169191919191919, total=  18.8s\n",
      "[CV] svc__C=0.1, svc__gamma=1, svc__kernel=rbf, tfidf__norm=l1, vectorizer__min_df=3, tfidf__use_idf=True, svc__degree=4, vectorizer__ngram_range=(1, 3) \n",
      "[CV]  svc__C=0.1, svc__gamma=0.5, svc__kernel=rbf, tfidf__norm=l2, vectorizer__min_df=3, tfidf__use_idf=True, svc__degree=4, vectorizer__ngram_range=(1, 2), score=0.815540113708149, total=  16.7s\n",
      "[CV] svc__C=0.1, svc__gamma=1, svc__kernel=rbf, tfidf__norm=l1, vectorizer__min_df=3, tfidf__use_idf=True, svc__degree=4, vectorizer__ngram_range=(1, 3) \n",
      "[CV]  svc__C=0.1, svc__gamma=0.5, svc__kernel=rbf, tfidf__norm=l2, vectorizer__min_df=3, tfidf__use_idf=True, svc__degree=4, vectorizer__ngram_range=(1, 2), score=0.8275426405559065, total=  17.7s\n",
      "[CV] svc__C=0.1, svc__gamma=1, svc__kernel=rbf, tfidf__norm=l1, vectorizer__min_df=3, tfidf__use_idf=True, svc__degree=4, vectorizer__ngram_range=(1, 3) \n",
      "[CV]  svc__C=0.1, svc__gamma=0.5, svc__kernel=rbf, tfidf__norm=l2, vectorizer__min_df=2, tfidf__use_idf=True, svc__degree=4, vectorizer__ngram_range=(1, 2), score=0.8325963360707518, total=  20.9s\n",
      "[CV] svc__C=0.1, svc__gamma=1, svc__kernel=rbf, tfidf__norm=l1, vectorizer__min_df=3, tfidf__use_idf=True, svc__degree=4, vectorizer__ngram_range=(1, 4) \n",
      "[CV]  svc__C=0.1, svc__gamma=0.5, svc__kernel=rbf, tfidf__norm=l2, vectorizer__min_df=2, tfidf__use_idf=True, svc__degree=4, vectorizer__ngram_range=(1, 2), score=0.8192161820480405, total=  25.9s\n",
      "[CV] svc__C=0.1, svc__gamma=1, svc__kernel=rbf, tfidf__norm=l1, vectorizer__min_df=3, tfidf__use_idf=True, svc__degree=4, vectorizer__ngram_range=(1, 4) \n",
      "[CV]  svc__C=0.1, svc__gamma=0.5, svc__kernel=rbf, tfidf__norm=l1, vectorizer__min_df=3, tfidf__use_idf=True, svc__degree=4, vectorizer__ngram_range=(1, 4), score=0.6435331230283912, total=  27.4s\n",
      "[CV]  svc__C=0.1, svc__gamma=0.5, svc__kernel=rbf, tfidf__norm=l2, vectorizer__min_df=2, tfidf__use_idf=True, svc__degree=4, vectorizer__ngram_range=(1, 4), score=0.8053097345132744, total=  21.0s\n",
      "[CV] svc__C=0.1, svc__gamma=1, svc__kernel=rbf, tfidf__norm=l1, vectorizer__min_df=3, tfidf__use_idf=True, svc__degree=4, vectorizer__ngram_range=(1, 4) \n",
      "[CV] svc__C=0.1, svc__gamma=1, svc__kernel=rbf, tfidf__norm=l1, vectorizer__min_df=3, tfidf__use_idf=True, svc__degree=4, vectorizer__ngram_range=(1, 4) \n",
      "[CV]  svc__C=0.1, svc__gamma=0.5, svc__kernel=rbf, tfidf__norm=l2, vectorizer__min_df=3, tfidf__use_idf=True, svc__degree=4, vectorizer__ngram_range=(1, 3), score=0.8050473186119874, total=  18.5s\n",
      "[CV] svc__C=0.1, svc__gamma=1, svc__kernel=rbf, tfidf__norm=l1, vectorizer__min_df=3, tfidf__use_idf=True, svc__degree=4, vectorizer__ngram_range=(1, 4) \n",
      "[CV]  svc__C=0.1, svc__gamma=0.5, svc__kernel=rbf, tfidf__norm=l2, vectorizer__min_df=2, tfidf__use_idf=True, svc__degree=4, vectorizer__ngram_range=(1, 4), score=0.8093434343434344, total=  22.0s\n",
      "[CV] svc__C=0.1, svc__gamma=1, svc__kernel=rbf, tfidf__norm=l2, vectorizer__min_df=2, tfidf__use_idf=True, svc__degree=4, vectorizer__ngram_range=(1, 2) \n",
      "[CV]  svc__C=0.1, svc__gamma=0.5, svc__kernel=rbf, tfidf__norm=l2, vectorizer__min_df=2, tfidf__use_idf=True, svc__degree=4, vectorizer__ngram_range=(1, 3), score=0.8079595704358813, total=  22.4s\n",
      "[CV] svc__C=0.1, svc__gamma=1, svc__kernel=rbf, tfidf__norm=l2, vectorizer__min_df=2, tfidf__use_idf=True, svc__degree=4, vectorizer__ngram_range=(1, 2) \n",
      "[CV]  svc__C=0.1, svc__gamma=0.5, svc__kernel=rbf, tfidf__norm=l1, vectorizer__min_df=3, tfidf__use_idf=True, svc__degree=4, vectorizer__ngram_range=(1, 4), score=0.6614024005053696, total=  27.6s\n",
      "[CV] svc__C=0.1, svc__gamma=1, svc__kernel=rbf, tfidf__norm=l2, vectorizer__min_df=2, tfidf__use_idf=True, svc__degree=4, vectorizer__ngram_range=(1, 2) \n",
      "[CV]  svc__C=0.1, svc__gamma=0.5, svc__kernel=rbf, tfidf__norm=l2, vectorizer__min_df=2, tfidf__use_idf=True, svc__degree=4, vectorizer__ngram_range=(1, 4), score=0.8003790271636134, total=  22.8s\n",
      "[CV] svc__C=0.1, svc__gamma=1, svc__kernel=rbf, tfidf__norm=l2, vectorizer__min_df=2, tfidf__use_idf=True, svc__degree=4, vectorizer__ngram_range=(1, 2) \n",
      "[CV]  svc__C=0.1, svc__gamma=0.5, svc__kernel=rbf, tfidf__norm=l2, vectorizer__min_df=3, tfidf__use_idf=True, svc__degree=4, vectorizer__ngram_range=(1, 4), score=0.8097345132743363, total=  17.6s\n",
      "[CV] svc__C=0.1, svc__gamma=1, svc__kernel=rbf, tfidf__norm=l2, vectorizer__min_df=2, tfidf__use_idf=True, svc__degree=4, vectorizer__ngram_range=(1, 2) \n",
      "[CV]  svc__C=0.1, svc__gamma=0.5, svc__kernel=rbf, tfidf__norm=l2, vectorizer__min_df=3, tfidf__use_idf=True, svc__degree=4, vectorizer__ngram_range=(1, 3), score=0.8131313131313131, total=  20.4s\n",
      "[CV] svc__C=0.1, svc__gamma=1, svc__kernel=rbf, tfidf__norm=l2, vectorizer__min_df=2, tfidf__use_idf=True, svc__degree=4, vectorizer__ngram_range=(1, 3) \n",
      "[CV]  svc__C=0.1, svc__gamma=0.5, svc__kernel=rbf, tfidf__norm=l2, vectorizer__min_df=3, tfidf__use_idf=True, svc__degree=4, vectorizer__ngram_range=(1, 4), score=0.8035375868603917, total=  18.8s\n",
      "[CV] svc__C=0.1, svc__gamma=1, svc__kernel=rbf, tfidf__norm=l2, vectorizer__min_df=2, tfidf__use_idf=True, svc__degree=4, vectorizer__ngram_range=(1, 3) \n"
     ]
    },
    {
     "name": "stderr",
     "output_type": "stream",
     "text": [
      "[Parallel(n_jobs=-1)]: Done 169 tasks      | elapsed:  2.1min\n"
     ]
    },
    {
     "name": "stdout",
     "output_type": "stream",
     "text": [
      "[CV]  svc__C=0.1, svc__gamma=0.5, svc__kernel=rbf, tfidf__norm=l2, vectorizer__min_df=3, tfidf__use_idf=True, svc__degree=4, vectorizer__ngram_range=(1, 2), score=0.807570977917981, total=  22.4s\n",
      "[CV] svc__C=0.1, svc__gamma=1, svc__kernel=rbf, tfidf__norm=l2, vectorizer__min_df=2, tfidf__use_idf=True, svc__degree=4, vectorizer__ngram_range=(1, 3) \n",
      "[CV]  svc__C=0.1, svc__gamma=0.5, svc__kernel=rbf, tfidf__norm=l2, vectorizer__min_df=2, tfidf__use_idf=True, svc__degree=4, vectorizer__ngram_range=(1, 4), score=0.7854889589905363, total=  27.3s\n",
      "[CV] svc__C=0.1, svc__gamma=1, svc__kernel=rbf, tfidf__norm=l2, vectorizer__min_df=2, tfidf__use_idf=True, svc__degree=4, vectorizer__ngram_range=(1, 3) \n",
      "[CV]  svc__C=0.1, svc__gamma=0.5, svc__kernel=rbf, tfidf__norm=l2, vectorizer__min_df=2, tfidf__use_idf=True, svc__degree=4, vectorizer__ngram_range=(1, 4), score=0.7927984838913456, total=  25.2s\n",
      "[CV] svc__C=0.1, svc__gamma=1, svc__kernel=rbf, tfidf__norm=l2, vectorizer__min_df=2, tfidf__use_idf=True, svc__degree=4, vectorizer__ngram_range=(1, 3) \n",
      "[CV]  svc__C=0.1, svc__gamma=0.5, svc__kernel=rbf, tfidf__norm=l2, vectorizer__min_df=2, tfidf__use_idf=True, svc__degree=4, vectorizer__ngram_range=(1, 2), score=0.8145110410094637, total=  28.9s\n",
      "[CV]  svc__C=0.1, svc__gamma=1, svc__kernel=rbf, tfidf__norm=l1, vectorizer__min_df=2, tfidf__use_idf=True, svc__degree=4, vectorizer__ngram_range=(1, 2), score=0.6967782691092862, total=  19.6s\n",
      "[CV] svc__C=0.1, svc__gamma=1, svc__kernel=rbf, tfidf__norm=l2, vectorizer__min_df=2, tfidf__use_idf=True, svc__degree=4, vectorizer__ngram_range=(1, 4) \n",
      "[CV] svc__C=0.1, svc__gamma=1, svc__kernel=rbf, tfidf__norm=l2, vectorizer__min_df=2, tfidf__use_idf=True, svc__degree=4, vectorizer__ngram_range=(1, 4) \n",
      "[CV]  svc__C=0.1, svc__gamma=0.5, svc__kernel=rbf, tfidf__norm=l2, vectorizer__min_df=3, tfidf__use_idf=True, svc__degree=4, vectorizer__ngram_range=(1, 2), score=0.8154235145385588, total=  23.9s\n",
      "[CV] svc__C=0.1, svc__gamma=1, svc__kernel=rbf, tfidf__norm=l2, vectorizer__min_df=2, tfidf__use_idf=True, svc__degree=4, vectorizer__ngram_range=(1, 4) \n",
      "[CV]  svc__C=0.1, svc__gamma=0.5, svc__kernel=rbf, tfidf__norm=l2, vectorizer__min_df=3, tfidf__use_idf=True, svc__degree=4, vectorizer__ngram_range=(1, 3), score=0.8168035375868604, total=  21.8s\n",
      "[CV] svc__C=0.1, svc__gamma=1, svc__kernel=rbf, tfidf__norm=l2, vectorizer__min_df=2, tfidf__use_idf=True, svc__degree=4, vectorizer__ngram_range=(1, 4) \n",
      "[CV]  svc__C=0.1, svc__gamma=0.5, svc__kernel=rbf, tfidf__norm=l2, vectorizer__min_df=3, tfidf__use_idf=True, svc__degree=4, vectorizer__ngram_range=(1, 4), score=0.8018927444794953, total=  23.5s\n",
      "[CV] svc__C=0.1, svc__gamma=1, svc__kernel=rbf, tfidf__norm=l2, vectorizer__min_df=2, tfidf__use_idf=True, svc__degree=4, vectorizer__ngram_range=(1, 4) \n",
      "[CV]  svc__C=0.1, svc__gamma=0.5, svc__kernel=rbf, tfidf__norm=l2, vectorizer__min_df=3, tfidf__use_idf=True, svc__degree=4, vectorizer__ngram_range=(1, 4), score=0.8106060606060606, total=  24.7s\n",
      "[CV] svc__C=0.1, svc__gamma=1, svc__kernel=rbf, tfidf__norm=l2, vectorizer__min_df=3, tfidf__use_idf=True, svc__degree=4, vectorizer__ngram_range=(1, 2) \n",
      "[CV]  svc__C=0.1, svc__gamma=0.5, svc__kernel=rbf, tfidf__norm=l2, vectorizer__min_df=3, tfidf__use_idf=True, svc__degree=4, vectorizer__ngram_range=(1, 4), score=0.8111181301326595, total=  22.5s\n",
      "[CV] svc__C=0.1, svc__gamma=1, svc__kernel=rbf, tfidf__norm=l2, vectorizer__min_df=3, tfidf__use_idf=True, svc__degree=4, vectorizer__ngram_range=(1, 2) \n",
      "[CV]  svc__C=0.1, svc__gamma=1, svc__kernel=rbf, tfidf__norm=l1, vectorizer__min_df=2, tfidf__use_idf=True, svc__degree=4, vectorizer__ngram_range=(1, 3), score=0.702020202020202, total=  20.7s\n",
      "[CV] svc__C=0.1, svc__gamma=1, svc__kernel=rbf, tfidf__norm=l2, vectorizer__min_df=3, tfidf__use_idf=True, svc__degree=4, vectorizer__ngram_range=(1, 2) \n",
      "[CV]  svc__C=0.1, svc__gamma=1, svc__kernel=rbf, tfidf__norm=l1, vectorizer__min_df=2, tfidf__use_idf=True, svc__degree=4, vectorizer__ngram_range=(1, 3), score=0.7005685407454201, total=  20.7s\n",
      "[CV] svc__C=0.1, svc__gamma=1, svc__kernel=rbf, tfidf__norm=l2, vectorizer__min_df=3, tfidf__use_idf=True, svc__degree=4, vectorizer__ngram_range=(1, 2) \n",
      "[CV]  svc__C=0.1, svc__gamma=1, svc__kernel=rbf, tfidf__norm=l1, vectorizer__min_df=2, tfidf__use_idf=True, svc__degree=4, vectorizer__ngram_range=(1, 2), score=0.6906565656565656, total=  24.0s\n",
      "[CV] svc__C=0.1, svc__gamma=1, svc__kernel=rbf, tfidf__norm=l2, vectorizer__min_df=3, tfidf__use_idf=True, svc__degree=4, vectorizer__ngram_range=(1, 2) \n",
      "[CV]  svc__C=0.1, svc__gamma=1, svc__kernel=rbf, tfidf__norm=l1, vectorizer__min_df=2, tfidf__use_idf=True, svc__degree=4, vectorizer__ngram_range=(1, 2), score=0.713653603034134, total=  23.3s\n",
      "[CV] svc__C=0.1, svc__gamma=1, svc__kernel=rbf, tfidf__norm=l2, vectorizer__min_df=3, tfidf__use_idf=True, svc__degree=4, vectorizer__ngram_range=(1, 3) \n",
      "[CV]  svc__C=0.1, svc__gamma=1, svc__kernel=rbf, tfidf__norm=l1, vectorizer__min_df=2, tfidf__use_idf=True, svc__degree=4, vectorizer__ngram_range=(1, 2), score=0.682018927444795, total=  24.2s\n",
      "[CV] svc__C=0.1, svc__gamma=1, svc__kernel=rbf, tfidf__norm=l2, vectorizer__min_df=3, tfidf__use_idf=True, svc__degree=4, vectorizer__ngram_range=(1, 3) \n",
      "[CV]  svc__C=0.1, svc__gamma=1, svc__kernel=rbf, tfidf__norm=l1, vectorizer__min_df=2, tfidf__use_idf=True, svc__degree=4, vectorizer__ngram_range=(1, 3), score=0.6889589905362776, total=  22.8s\n",
      "[CV] svc__C=0.1, svc__gamma=1, svc__kernel=rbf, tfidf__norm=l2, vectorizer__min_df=3, tfidf__use_idf=True, svc__degree=4, vectorizer__ngram_range=(1, 3) \n",
      "[CV]  svc__C=0.1, svc__gamma=0.5, svc__kernel=rbf, tfidf__norm=l2, vectorizer__min_df=3, tfidf__use_idf=True, svc__degree=4, vectorizer__ngram_range=(1, 3), score=0.8084702907711757, total=  25.5s\n",
      "[CV]  svc__C=0.1, svc__gamma=0.5, svc__kernel=rbf, tfidf__norm=l2, vectorizer__min_df=3, tfidf__use_idf=True, svc__degree=4, vectorizer__ngram_range=(1, 3), score=0.8079595704358813, total=  26.2s\n",
      "[CV] svc__C=0.1, svc__gamma=1, svc__kernel=rbf, tfidf__norm=l2, vectorizer__min_df=3, tfidf__use_idf=True, svc__degree=4, vectorizer__ngram_range=(1, 3) \n",
      "[CV] svc__C=0.1, svc__gamma=1, svc__kernel=rbf, tfidf__norm=l2, vectorizer__min_df=3, tfidf__use_idf=True, svc__degree=4, vectorizer__ngram_range=(1, 3) \n",
      "[CV]  svc__C=0.1, svc__gamma=1, svc__kernel=rbf, tfidf__norm=l1, vectorizer__min_df=2, tfidf__use_idf=True, svc__degree=4, vectorizer__ngram_range=(1, 2), score=0.7049905243209097, total=  25.7s\n",
      "[CV] svc__C=0.1, svc__gamma=1, svc__kernel=rbf, tfidf__norm=l2, vectorizer__min_df=3, tfidf__use_idf=True, svc__degree=4, vectorizer__ngram_range=(1, 4) \n",
      "[CV]  svc__C=0.1, svc__gamma=1, svc__kernel=rbf, tfidf__norm=l1, vectorizer__min_df=2, tfidf__use_idf=True, svc__degree=4, vectorizer__ngram_range=(1, 3), score=0.7012002526847757, total=  21.9s\n",
      "[CV] svc__C=0.1, svc__gamma=1, svc__kernel=rbf, tfidf__norm=l2, vectorizer__min_df=3, tfidf__use_idf=True, svc__degree=4, vectorizer__ngram_range=(1, 4) \n",
      "[CV]  svc__C=0.1, svc__gamma=1, svc__kernel=rbf, tfidf__norm=l1, vectorizer__min_df=2, tfidf__use_idf=True, svc__degree=4, vectorizer__ngram_range=(1, 3), score=0.7123893805309734, total=  26.4s\n",
      "[CV] svc__C=0.1, svc__gamma=1, svc__kernel=rbf, tfidf__norm=l2, vectorizer__min_df=3, tfidf__use_idf=True, svc__degree=4, vectorizer__ngram_range=(1, 4) \n",
      "[CV]  svc__C=0.1, svc__gamma=1, svc__kernel=rbf, tfidf__norm=l1, vectorizer__min_df=2, tfidf__use_idf=True, svc__degree=4, vectorizer__ngram_range=(1, 4), score=0.7045454545454546, total=  23.9s\n",
      "[CV] svc__C=0.1, svc__gamma=1, svc__kernel=rbf, tfidf__norm=l2, vectorizer__min_df=3, tfidf__use_idf=True, svc__degree=4, vectorizer__ngram_range=(1, 4) \n",
      "[CV]  svc__C=0.1, svc__gamma=1, svc__kernel=rbf, tfidf__norm=l1, vectorizer__min_df=3, tfidf__use_idf=True, svc__degree=4, vectorizer__ngram_range=(1, 3), score=0.7161820480404552, total=  12.8s\n",
      "[CV] svc__C=0.1, svc__gamma=1, svc__kernel=rbf, tfidf__norm=l2, vectorizer__min_df=3, tfidf__use_idf=True, svc__degree=4, vectorizer__ngram_range=(1, 4) \n"
     ]
    },
    {
     "name": "stderr",
     "output_type": "stream",
     "text": [
      "[Parallel(n_jobs=-1)]: Done 192 tasks      | elapsed:  2.4min\n"
     ]
    },
    {
     "name": "stdout",
     "output_type": "stream",
     "text": [
      "[CV]  svc__C=0.1, svc__gamma=1, svc__kernel=rbf, tfidf__norm=l1, vectorizer__min_df=3, tfidf__use_idf=True, svc__degree=4, vectorizer__ngram_range=(1, 2), score=0.6952681388012618, total=  19.4s\n",
      "[CV] svc__C=0.1, svc__gamma=0.5, svc__kernel=rbf, tfidf__norm=l1, vectorizer__min_df=2, tfidf__use_idf=True, svc__degree=6, vectorizer__ngram_range=(1, 2) \n",
      "[CV]  svc__C=0.1, svc__gamma=1, svc__kernel=rbf, tfidf__norm=l1, vectorizer__min_df=2, tfidf__use_idf=True, svc__degree=4, vectorizer__ngram_range=(1, 4), score=0.7037271004421983, total=  25.5s\n",
      "[CV] svc__C=0.1, svc__gamma=0.5, svc__kernel=rbf, tfidf__norm=l1, vectorizer__min_df=2, tfidf__use_idf=True, svc__degree=6, vectorizer__ngram_range=(1, 2) \n",
      "[CV]  svc__C=0.1, svc__gamma=1, svc__kernel=rbf, tfidf__norm=l1, vectorizer__min_df=2, tfidf__use_idf=True, svc__degree=4, vectorizer__ngram_range=(1, 4), score=0.6883280757097792, total=  29.7s\n",
      "[CV] svc__C=0.1, svc__gamma=0.5, svc__kernel=rbf, tfidf__norm=l1, vectorizer__min_df=2, tfidf__use_idf=True, svc__degree=6, vectorizer__ngram_range=(1, 2) \n",
      "[CV]  svc__C=0.1, svc__gamma=1, svc__kernel=rbf, tfidf__norm=l1, vectorizer__min_df=3, tfidf__use_idf=True, svc__degree=4, vectorizer__ngram_range=(1, 4), score=0.713653603034134, total=  13.4s\n",
      "[CV]  svc__C=0.1, svc__gamma=1, svc__kernel=rbf, tfidf__norm=l1, vectorizer__min_df=2, tfidf__use_idf=True, svc__degree=4, vectorizer__ngram_range=(1, 4), score=0.7037271004421983, total=  27.9s\n",
      "[CV] svc__C=0.1, svc__gamma=0.5, svc__kernel=rbf, tfidf__norm=l1, vectorizer__min_df=2, tfidf__use_idf=True, svc__degree=6, vectorizer__ngram_range=(1, 2) \n",
      "[CV] svc__C=0.1, svc__gamma=0.5, svc__kernel=rbf, tfidf__norm=l1, vectorizer__min_df=2, tfidf__use_idf=True, svc__degree=6, vectorizer__ngram_range=(1, 2) \n",
      "[CV]  svc__C=0.1, svc__gamma=1, svc__kernel=rbf, tfidf__norm=l1, vectorizer__min_df=3, tfidf__use_idf=True, svc__degree=4, vectorizer__ngram_range=(1, 2), score=0.7231352718078382, total=  20.2s\n",
      "[CV] svc__C=0.1, svc__gamma=0.5, svc__kernel=rbf, tfidf__norm=l1, vectorizer__min_df=2, tfidf__use_idf=True, svc__degree=6, vectorizer__ngram_range=(1, 3) \n",
      "[CV]  svc__C=0.1, svc__gamma=1, svc__kernel=rbf, tfidf__norm=l1, vectorizer__min_df=2, tfidf__use_idf=True, svc__degree=4, vectorizer__ngram_range=(1, 4), score=0.713653603034134, total=  22.6s\n",
      "[CV] svc__C=0.1, svc__gamma=0.5, svc__kernel=rbf, tfidf__norm=l1, vectorizer__min_df=2, tfidf__use_idf=True, svc__degree=6, vectorizer__ngram_range=(1, 3) \n",
      "[CV]  svc__C=0.1, svc__gamma=1, svc__kernel=rbf, tfidf__norm=l1, vectorizer__min_df=3, tfidf__use_idf=True, svc__degree=4, vectorizer__ngram_range=(1, 2), score=0.7296272899557802, total=  20.1s\n",
      "[CV] svc__C=0.1, svc__gamma=0.5, svc__kernel=rbf, tfidf__norm=l1, vectorizer__min_df=2, tfidf__use_idf=True, svc__degree=6, vectorizer__ngram_range=(1, 3) \n",
      "[CV]  svc__C=0.1, svc__gamma=1, svc__kernel=rbf, tfidf__norm=l1, vectorizer__min_df=3, tfidf__use_idf=True, svc__degree=4, vectorizer__ngram_range=(1, 4), score=0.6870662460567823, total=  14.9s\n",
      "[CV] svc__C=0.1, svc__gamma=0.5, svc__kernel=rbf, tfidf__norm=l1, vectorizer__min_df=2, tfidf__use_idf=True, svc__degree=6, vectorizer__ngram_range=(1, 3) \n",
      "[CV]  svc__C=0.1, svc__gamma=1, svc__kernel=rbf, tfidf__norm=l1, vectorizer__min_df=3, tfidf__use_idf=True, svc__degree=4, vectorizer__ngram_range=(1, 4), score=0.7176247631080227, total=  19.7s\n",
      "[CV] svc__C=0.1, svc__gamma=0.5, svc__kernel=rbf, tfidf__norm=l1, vectorizer__min_df=2, tfidf__use_idf=True, svc__degree=6, vectorizer__ngram_range=(1, 3) \n",
      "[CV]  svc__C=0.1, svc__gamma=1, svc__kernel=rbf, tfidf__norm=l1, vectorizer__min_df=3, tfidf__use_idf=True, svc__degree=4, vectorizer__ngram_range=(1, 2), score=0.7133838383838383, total=  20.6s\n",
      "[CV] svc__C=0.1, svc__gamma=0.5, svc__kernel=rbf, tfidf__norm=l1, vectorizer__min_df=2, tfidf__use_idf=True, svc__degree=6, vectorizer__ngram_range=(1, 4) \n",
      "[CV]  svc__C=0.1, svc__gamma=1, svc__kernel=rbf, tfidf__norm=l1, vectorizer__min_df=3, tfidf__use_idf=True, svc__degree=4, vectorizer__ngram_range=(1, 3), score=0.6883280757097792, total=  21.6s\n",
      "[CV] svc__C=0.1, svc__gamma=0.5, svc__kernel=rbf, tfidf__norm=l1, vectorizer__min_df=2, tfidf__use_idf=True, svc__degree=6, vectorizer__ngram_range=(1, 4) \n",
      "[CV]  svc__C=0.1, svc__gamma=1, svc__kernel=rbf, tfidf__norm=l1, vectorizer__min_df=3, tfidf__use_idf=True, svc__degree=4, vectorizer__ngram_range=(1, 3), score=0.7024636765634871, total=  20.9s\n",
      "[CV] svc__C=0.1, svc__gamma=0.5, svc__kernel=rbf, tfidf__norm=l1, vectorizer__min_df=2, tfidf__use_idf=True, svc__degree=6, vectorizer__ngram_range=(1, 4) \n",
      "[CV]  svc__C=0.1, svc__gamma=1, svc__kernel=rbf, tfidf__norm=l1, vectorizer__min_df=3, tfidf__use_idf=True, svc__degree=4, vectorizer__ngram_range=(1, 2), score=0.7087807959570436, total=  22.4s\n",
      "[CV] svc__C=0.1, svc__gamma=0.5, svc__kernel=rbf, tfidf__norm=l1, vectorizer__min_df=2, tfidf__use_idf=True, svc__degree=6, vectorizer__ngram_range=(1, 4) \n",
      "[CV]  svc__C=0.1, svc__gamma=1, svc__kernel=rbf, tfidf__norm=l1, vectorizer__min_df=3, tfidf__use_idf=True, svc__degree=4, vectorizer__ngram_range=(1, 4), score=0.6986734049273531, total=  19.5s\n",
      "[CV] svc__C=0.1, svc__gamma=0.5, svc__kernel=rbf, tfidf__norm=l1, vectorizer__min_df=2, tfidf__use_idf=True, svc__degree=6, vectorizer__ngram_range=(1, 4) \n",
      "[CV]  svc__C=0.1, svc__gamma=1, svc__kernel=rbf, tfidf__norm=l1, vectorizer__min_df=3, tfidf__use_idf=True, svc__degree=4, vectorizer__ngram_range=(1, 3), score=0.7077020202020202, total=  23.1s\n",
      "[CV] svc__C=0.1, svc__gamma=0.5, svc__kernel=rbf, tfidf__norm=l1, vectorizer__min_df=3, tfidf__use_idf=True, svc__degree=6, vectorizer__ngram_range=(1, 2) \n",
      "[CV]  svc__C=0.1, svc__gamma=1, svc__kernel=rbf, tfidf__norm=l1, vectorizer__min_df=3, tfidf__use_idf=True, svc__degree=4, vectorizer__ngram_range=(1, 4), score=0.711489898989899, total=  21.7s\n",
      "[CV] svc__C=0.1, svc__gamma=0.5, svc__kernel=rbf, tfidf__norm=l1, vectorizer__min_df=3, tfidf__use_idf=True, svc__degree=6, vectorizer__ngram_range=(1, 2) \n",
      "[CV]  svc__C=0.1, svc__gamma=1, svc__kernel=rbf, tfidf__norm=l2, vectorizer__min_df=2, tfidf__use_idf=True, svc__degree=4, vectorizer__ngram_range=(1, 4), score=0.7964601769911505, total=  14.6s\n",
      "[CV] svc__C=0.1, svc__gamma=0.5, svc__kernel=rbf, tfidf__norm=l1, vectorizer__min_df=3, tfidf__use_idf=True, svc__degree=6, vectorizer__ngram_range=(1, 2) \n",
      "[CV]  svc__C=0.1, svc__gamma=1, svc__kernel=rbf, tfidf__norm=l2, vectorizer__min_df=2, tfidf__use_idf=True, svc__degree=4, vectorizer__ngram_range=(1, 3), score=0.7747634069400631, total=  21.2s\n",
      "[CV] svc__C=0.1, svc__gamma=0.5, svc__kernel=rbf, tfidf__norm=l1, vectorizer__min_df=3, tfidf__use_idf=True, svc__degree=6, vectorizer__ngram_range=(1, 2) \n",
      "[CV]  svc__C=0.1, svc__gamma=1, svc__kernel=rbf, tfidf__norm=l2, vectorizer__min_df=2, tfidf__use_idf=True, svc__degree=4, vectorizer__ngram_range=(1, 2), score=0.8145110410094637, total=  20.2s\n",
      "[CV] svc__C=0.1, svc__gamma=0.5, svc__kernel=rbf, tfidf__norm=l1, vectorizer__min_df=3, tfidf__use_idf=True, svc__degree=6, vectorizer__ngram_range=(1, 2) \n",
      "[CV]  svc__C=0.1, svc__gamma=1, svc__kernel=rbf, tfidf__norm=l2, vectorizer__min_df=2, tfidf__use_idf=True, svc__degree=4, vectorizer__ngram_range=(1, 3), score=0.8041692987997473, total=  17.8s\n",
      "[CV] svc__C=0.1, svc__gamma=0.5, svc__kernel=rbf, tfidf__norm=l1, vectorizer__min_df=3, tfidf__use_idf=True, svc__degree=6, vectorizer__ngram_range=(1, 3) \n",
      "[CV]  svc__C=0.1, svc__gamma=1, svc__kernel=rbf, tfidf__norm=l2, vectorizer__min_df=2, tfidf__use_idf=True, svc__degree=4, vectorizer__ngram_range=(1, 2), score=0.8295454545454546, total=  21.1s\n",
      "[CV] svc__C=0.1, svc__gamma=0.5, svc__kernel=rbf, tfidf__norm=l1, vectorizer__min_df=3, tfidf__use_idf=True, svc__degree=6, vectorizer__ngram_range=(1, 3) \n",
      "[CV]  svc__C=0.1, svc__gamma=1, svc__kernel=rbf, tfidf__norm=l2, vectorizer__min_df=3, tfidf__use_idf=True, svc__degree=4, vectorizer__ngram_range=(1, 2), score=0.804416403785489, total=  17.2s\n",
      "[CV] svc__C=0.1, svc__gamma=0.5, svc__kernel=rbf, tfidf__norm=l1, vectorizer__min_df=3, tfidf__use_idf=True, svc__degree=6, vectorizer__ngram_range=(1, 3) \n",
      "[CV]  svc__C=0.1, svc__gamma=1, svc__kernel=rbf, tfidf__norm=l1, vectorizer__min_df=3, tfidf__use_idf=True, svc__degree=4, vectorizer__ngram_range=(1, 3), score=0.7207833228048011, total=  25.4s\n"
     ]
    },
    {
     "name": "stdout",
     "output_type": "stream",
     "text": [
      "[CV] svc__C=0.1, svc__gamma=0.5, svc__kernel=rbf, tfidf__norm=l1, vectorizer__min_df=3, tfidf__use_idf=True, svc__degree=6, vectorizer__ngram_range=(1, 3) \n",
      "[CV]  svc__C=0.1, svc__gamma=1, svc__kernel=rbf, tfidf__norm=l2, vectorizer__min_df=2, tfidf__use_idf=True, svc__degree=4, vectorizer__ngram_range=(1, 3), score=0.8232323232323232, total=  22.5s\n",
      "[CV] svc__C=0.1, svc__gamma=0.5, svc__kernel=rbf, tfidf__norm=l1, vectorizer__min_df=3, tfidf__use_idf=True, svc__degree=6, vectorizer__ngram_range=(1, 3) \n"
     ]
    },
    {
     "name": "stderr",
     "output_type": "stream",
     "text": [
      "[Parallel(n_jobs=-1)]: Done 217 tasks      | elapsed:  2.6min\n"
     ]
    },
    {
     "name": "stdout",
     "output_type": "stream",
     "text": [
      "[CV]  svc__C=0.1, svc__gamma=1, svc__kernel=rbf, tfidf__norm=l2, vectorizer__min_df=2, tfidf__use_idf=True, svc__degree=4, vectorizer__ngram_range=(1, 2), score=0.8294377763739734, total=  22.7s\n",
      "[CV] svc__C=0.1, svc__gamma=0.5, svc__kernel=rbf, tfidf__norm=l1, vectorizer__min_df=3, tfidf__use_idf=True, svc__degree=6, vectorizer__ngram_range=(1, 4) \n",
      "[CV]  svc__C=0.1, svc__gamma=1, svc__kernel=rbf, tfidf__norm=l2, vectorizer__min_df=2, tfidf__use_idf=True, svc__degree=4, vectorizer__ngram_range=(1, 4), score=0.7789008212255212, total=  19.7s\n",
      "[CV] svc__C=0.1, svc__gamma=0.5, svc__kernel=rbf, tfidf__norm=l1, vectorizer__min_df=3, tfidf__use_idf=True, svc__degree=6, vectorizer__ngram_range=(1, 4) \n",
      "[CV]  svc__C=0.1, svc__gamma=1, svc__kernel=rbf, tfidf__norm=l2, vectorizer__min_df=2, tfidf__use_idf=True, svc__degree=4, vectorizer__ngram_range=(1, 3), score=0.8059418457648546, total=  22.0s\n",
      "[CV]  svc__C=0.1, svc__gamma=1, svc__kernel=rbf, tfidf__norm=l2, vectorizer__min_df=2, tfidf__use_idf=True, svc__degree=4, vectorizer__ngram_range=(1, 2), score=0.8149084017687934, total=  23.4s\n",
      "[CV] svc__C=0.1, svc__gamma=0.5, svc__kernel=rbf, tfidf__norm=l1, vectorizer__min_df=3, tfidf__use_idf=True, svc__degree=6, vectorizer__ngram_range=(1, 4) \n",
      "[CV] svc__C=0.1, svc__gamma=0.5, svc__kernel=rbf, tfidf__norm=l1, vectorizer__min_df=3, tfidf__use_idf=True, svc__degree=6, vectorizer__ngram_range=(1, 4) \n",
      "[CV]  svc__C=0.1, svc__gamma=1, svc__kernel=rbf, tfidf__norm=l2, vectorizer__min_df=2, tfidf__use_idf=True, svc__degree=4, vectorizer__ngram_range=(1, 2), score=0.8173198482932996, total=  22.8s\n",
      "[CV] svc__C=0.1, svc__gamma=0.5, svc__kernel=rbf, tfidf__norm=l1, vectorizer__min_df=3, tfidf__use_idf=True, svc__degree=6, vectorizer__ngram_range=(1, 4) \n",
      "[CV]  svc__C=0.1, svc__gamma=1, svc__kernel=rbf, tfidf__norm=l2, vectorizer__min_df=2, tfidf__use_idf=True, svc__degree=4, vectorizer__ngram_range=(1, 3), score=0.7915350600126342, total=  23.8s\n",
      "[CV] svc__C=0.1, svc__gamma=0.5, svc__kernel=rbf, tfidf__norm=l2, vectorizer__min_df=2, tfidf__use_idf=True, svc__degree=6, vectorizer__ngram_range=(1, 2) \n",
      "[CV]  svc__C=0.1, svc__gamma=1, svc__kernel=rbf, tfidf__norm=l2, vectorizer__min_df=3, tfidf__use_idf=True, svc__degree=4, vectorizer__ngram_range=(1, 2), score=0.8111181301326595, total=  19.8s\n",
      "[CV] svc__C=0.1, svc__gamma=0.5, svc__kernel=rbf, tfidf__norm=l2, vectorizer__min_df=2, tfidf__use_idf=True, svc__degree=6, vectorizer__ngram_range=(1, 2) \n",
      "[CV]  svc__C=0.1, svc__gamma=1, svc__kernel=rbf, tfidf__norm=l2, vectorizer__min_df=3, tfidf__use_idf=True, svc__degree=4, vectorizer__ngram_range=(1, 2), score=0.8084702907711757, total=  19.2s\n",
      "[CV] svc__C=0.1, svc__gamma=0.5, svc__kernel=rbf, tfidf__norm=l2, vectorizer__min_df=2, tfidf__use_idf=True, svc__degree=6, vectorizer__ngram_range=(1, 2) \n",
      "[CV]  svc__C=0.1, svc__gamma=1, svc__kernel=rbf, tfidf__norm=l2, vectorizer__min_df=2, tfidf__use_idf=True, svc__degree=4, vectorizer__ngram_range=(1, 4), score=0.8080808080808081, total=  22.8s\n",
      "[CV] svc__C=0.1, svc__gamma=0.5, svc__kernel=rbf, tfidf__norm=l2, vectorizer__min_df=2, tfidf__use_idf=True, svc__degree=6, vectorizer__ngram_range=(1, 2) \n",
      "[CV]  svc__C=0.1, svc__gamma=1, svc__kernel=rbf, tfidf__norm=l2, vectorizer__min_df=3, tfidf__use_idf=True, svc__degree=4, vectorizer__ngram_range=(1, 2), score=0.8055555555555556, total=  22.0s\n",
      "[CV] svc__C=0.1, svc__gamma=0.5, svc__kernel=rbf, tfidf__norm=l2, vectorizer__min_df=2, tfidf__use_idf=True, svc__degree=6, vectorizer__ngram_range=(1, 2) \n",
      "[CV]  svc__C=0.1, svc__gamma=1, svc__kernel=rbf, tfidf__norm=l2, vectorizer__min_df=3, tfidf__use_idf=True, svc__degree=4, vectorizer__ngram_range=(1, 3), score=0.7929292929292929, total=  20.5s\n",
      "[CV] svc__C=0.1, svc__gamma=0.5, svc__kernel=rbf, tfidf__norm=l2, vectorizer__min_df=2, tfidf__use_idf=True, svc__degree=6, vectorizer__ngram_range=(1, 3) \n",
      "[CV]  svc__C=0.1, svc__gamma=1, svc__kernel=rbf, tfidf__norm=l2, vectorizer__min_df=2, tfidf__use_idf=True, svc__degree=4, vectorizer__ngram_range=(1, 4), score=0.759621451104101, total=  25.6s\n",
      "[CV] svc__C=0.1, svc__gamma=0.5, svc__kernel=rbf, tfidf__norm=l2, vectorizer__min_df=2, tfidf__use_idf=True, svc__degree=6, vectorizer__ngram_range=(1, 3) \n",
      "[CV]  svc__C=0.1, svc__gamma=1, svc__kernel=rbf, tfidf__norm=l2, vectorizer__min_df=2, tfidf__use_idf=True, svc__degree=4, vectorizer__ngram_range=(1, 4), score=0.7909033480732786, total=  25.2s\n",
      "[CV] svc__C=0.1, svc__gamma=0.5, svc__kernel=rbf, tfidf__norm=l2, vectorizer__min_df=2, tfidf__use_idf=True, svc__degree=6, vectorizer__ngram_range=(1, 3) \n",
      "[CV]  svc__C=0.1, svc__gamma=1, svc__kernel=rbf, tfidf__norm=l2, vectorizer__min_df=3, tfidf__use_idf=True, svc__degree=4, vectorizer__ngram_range=(1, 3), score=0.8008849557522124, total=  21.9s\n",
      "[CV] svc__C=0.1, svc__gamma=0.5, svc__kernel=rbf, tfidf__norm=l2, vectorizer__min_df=2, tfidf__use_idf=True, svc__degree=6, vectorizer__ngram_range=(1, 3) \n",
      "[CV]  svc__C=0.1, svc__gamma=1, svc__kernel=rbf, tfidf__norm=l2, vectorizer__min_df=3, tfidf__use_idf=True, svc__degree=4, vectorizer__ngram_range=(1, 4), score=0.8041692987997473, total=  20.5s\n",
      "[CV] svc__C=0.1, svc__gamma=0.5, svc__kernel=rbf, tfidf__norm=l2, vectorizer__min_df=2, tfidf__use_idf=True, svc__degree=6, vectorizer__ngram_range=(1, 3) \n",
      "[CV]  svc__C=0.1, svc__gamma=1, svc__kernel=rbf, tfidf__norm=l2, vectorizer__min_df=3, tfidf__use_idf=True, svc__degree=4, vectorizer__ngram_range=(1, 3), score=0.8073278584965256, total=  25.7s\n",
      "[CV] svc__C=0.1, svc__gamma=0.5, svc__kernel=rbf, tfidf__norm=l2, vectorizer__min_df=2, tfidf__use_idf=True, svc__degree=6, vectorizer__ngram_range=(1, 4) \n",
      "[CV]  svc__C=0.1, svc__gamma=1, svc__kernel=rbf, tfidf__norm=l2, vectorizer__min_df=3, tfidf__use_idf=True, svc__degree=4, vectorizer__ngram_range=(1, 3), score=0.7905362776025237, total=  24.9s\n",
      "[CV] svc__C=0.1, svc__gamma=0.5, svc__kernel=rbf, tfidf__norm=l2, vectorizer__min_df=2, tfidf__use_idf=True, svc__degree=6, vectorizer__ngram_range=(1, 4) \n",
      "[CV]  svc__C=0.1, svc__gamma=1, svc__kernel=rbf, tfidf__norm=l2, vectorizer__min_df=3, tfidf__use_idf=True, svc__degree=4, vectorizer__ngram_range=(1, 4), score=0.7848580441640378, total=  22.3s\n",
      "[CV] svc__C=0.1, svc__gamma=0.5, svc__kernel=rbf, tfidf__norm=l2, vectorizer__min_df=2, tfidf__use_idf=True, svc__degree=6, vectorizer__ngram_range=(1, 4) \n",
      "[CV]  svc__C=0.1, svc__gamma=1, svc__kernel=rbf, tfidf__norm=l2, vectorizer__min_df=3, tfidf__use_idf=True, svc__degree=4, vectorizer__ngram_range=(1, 2), score=0.8073278584965256, total=  26.0s\n",
      "[CV] svc__C=0.1, svc__gamma=0.5, svc__kernel=rbf, tfidf__norm=l2, vectorizer__min_df=2, tfidf__use_idf=True, svc__degree=6, vectorizer__ngram_range=(1, 4) \n",
      "[CV]  svc__C=0.1, svc__gamma=1, svc__kernel=rbf, tfidf__norm=l2, vectorizer__min_df=3, tfidf__use_idf=True, svc__degree=4, vectorizer__ngram_range=(1, 3), score=0.7953253316487682, total=  25.0s\n",
      "[CV] svc__C=0.1, svc__gamma=0.5, svc__kernel=rbf, tfidf__norm=l2, vectorizer__min_df=2, tfidf__use_idf=True, svc__degree=6, vectorizer__ngram_range=(1, 4) \n",
      "[CV]  svc__C=0.1, svc__gamma=0.5, svc__kernel=rbf, tfidf__norm=l1, vectorizer__min_df=2, tfidf__use_idf=True, svc__degree=6, vectorizer__ngram_range=(1, 2), score=0.6346396965865992, total=  15.7s\n",
      "[CV] svc__C=0.1, svc__gamma=0.5, svc__kernel=rbf, tfidf__norm=l2, vectorizer__min_df=3, tfidf__use_idf=True, svc__degree=6, vectorizer__ngram_range=(1, 2) \n",
      "[CV]  svc__C=0.1, svc__gamma=1, svc__kernel=rbf, tfidf__norm=l2, vectorizer__min_df=3, tfidf__use_idf=True, svc__degree=4, vectorizer__ngram_range=(1, 4), score=0.7866161616161617, total=  25.0s\n",
      "[CV] svc__C=0.1, svc__gamma=0.5, svc__kernel=rbf, tfidf__norm=l2, vectorizer__min_df=3, tfidf__use_idf=True, svc__degree=6, vectorizer__ngram_range=(1, 2) \n",
      "[CV]  svc__C=0.1, svc__gamma=0.5, svc__kernel=rbf, tfidf__norm=l1, vectorizer__min_df=2, tfidf__use_idf=True, svc__degree=6, vectorizer__ngram_range=(1, 2), score=0.6508838383838383, total=  17.2s\n",
      "[CV] svc__C=0.1, svc__gamma=0.5, svc__kernel=rbf, tfidf__norm=l2, vectorizer__min_df=3, tfidf__use_idf=True, svc__degree=6, vectorizer__ngram_range=(1, 2) \n",
      "[CV]  svc__C=0.1, svc__gamma=1, svc__kernel=rbf, tfidf__norm=l2, vectorizer__min_df=3, tfidf__use_idf=True, svc__degree=4, vectorizer__ngram_range=(1, 4), score=0.7921667719519899, total=  24.8s\n"
     ]
    },
    {
     "name": "stdout",
     "output_type": "stream",
     "text": [
      "[CV] svc__C=0.1, svc__gamma=0.5, svc__kernel=rbf, tfidf__norm=l2, vectorizer__min_df=3, tfidf__use_idf=True, svc__degree=6, vectorizer__ngram_range=(1, 2) \n",
      "[CV]  svc__C=0.1, svc__gamma=1, svc__kernel=rbf, tfidf__norm=l2, vectorizer__min_df=3, tfidf__use_idf=True, svc__degree=4, vectorizer__ngram_range=(1, 4), score=0.7983565107458913, total=  24.4s\n",
      "[CV] svc__C=0.1, svc__gamma=0.5, svc__kernel=rbf, tfidf__norm=l2, vectorizer__min_df=3, tfidf__use_idf=True, svc__degree=6, vectorizer__ngram_range=(1, 2) \n"
     ]
    },
    {
     "name": "stderr",
     "output_type": "stream",
     "text": [
      "[Parallel(n_jobs=-1)]: Done 242 tasks      | elapsed:  2.9min\n"
     ]
    },
    {
     "name": "stdout",
     "output_type": "stream",
     "text": [
      "[CV]  svc__C=0.1, svc__gamma=0.5, svc__kernel=rbf, tfidf__norm=l1, vectorizer__min_df=2, tfidf__use_idf=True, svc__degree=6, vectorizer__ngram_range=(1, 3), score=0.46430827542640557, total=  18.4s\n",
      "[CV] svc__C=0.1, svc__gamma=0.5, svc__kernel=rbf, tfidf__norm=l2, vectorizer__min_df=3, tfidf__use_idf=True, svc__degree=6, vectorizer__ngram_range=(1, 3) \n",
      "[CV]  svc__C=0.1, svc__gamma=0.5, svc__kernel=rbf, tfidf__norm=l1, vectorizer__min_df=2, tfidf__use_idf=True, svc__degree=6, vectorizer__ngram_range=(1, 4), score=0.450063211125158, total=  16.9s\n",
      "[CV] svc__C=0.1, svc__gamma=0.5, svc__kernel=rbf, tfidf__norm=l2, vectorizer__min_df=3, tfidf__use_idf=True, svc__degree=6, vectorizer__ngram_range=(1, 3) \n",
      "[CV]  svc__C=0.1, svc__gamma=0.5, svc__kernel=rbf, tfidf__norm=l1, vectorizer__min_df=2, tfidf__use_idf=True, svc__degree=6, vectorizer__ngram_range=(1, 3), score=0.4810606060606061, total=  22.3s\n",
      "[CV] svc__C=0.1, svc__gamma=0.5, svc__kernel=rbf, tfidf__norm=l2, vectorizer__min_df=3, tfidf__use_idf=True, svc__degree=6, vectorizer__ngram_range=(1, 3) \n",
      "[CV]  svc__C=0.1, svc__gamma=0.5, svc__kernel=rbf, tfidf__norm=l1, vectorizer__min_df=2, tfidf__use_idf=True, svc__degree=6, vectorizer__ngram_range=(1, 2), score=0.6227129337539432, total=  24.9s\n",
      "[CV] svc__C=0.1, svc__gamma=0.5, svc__kernel=rbf, tfidf__norm=l2, vectorizer__min_df=3, tfidf__use_idf=True, svc__degree=6, vectorizer__ngram_range=(1, 3) \n",
      "[CV]  svc__C=0.1, svc__gamma=0.5, svc__kernel=rbf, tfidf__norm=l1, vectorizer__min_df=2, tfidf__use_idf=True, svc__degree=6, vectorizer__ngram_range=(1, 3), score=0.45993690851735014, total=  24.3s\n",
      "[CV] svc__C=0.1, svc__gamma=0.5, svc__kernel=rbf, tfidf__norm=l2, vectorizer__min_df=3, tfidf__use_idf=True, svc__degree=6, vectorizer__ngram_range=(1, 3) \n",
      "[CV]  svc__C=0.1, svc__gamma=0.5, svc__kernel=rbf, tfidf__norm=l2, vectorizer__min_df=2, tfidf__use_idf=True, svc__degree=6, vectorizer__ngram_range=(1, 3), score=0.7949526813880127, total=  13.4s\n",
      "[CV] svc__C=0.1, svc__gamma=0.5, svc__kernel=rbf, tfidf__norm=l2, vectorizer__min_df=3, tfidf__use_idf=True, svc__degree=6, vectorizer__ngram_range=(1, 4) \n",
      "[CV]  svc__C=0.1, svc__gamma=0.5, svc__kernel=rbf, tfidf__norm=l1, vectorizer__min_df=2, tfidf__use_idf=True, svc__degree=6, vectorizer__ngram_range=(1, 3), score=0.4674668351231838, total=  23.4s\n",
      "[CV] svc__C=0.1, svc__gamma=0.5, svc__kernel=rbf, tfidf__norm=l2, vectorizer__min_df=3, tfidf__use_idf=True, svc__degree=6, vectorizer__ngram_range=(1, 4) \n",
      "[CV]  svc__C=0.1, svc__gamma=0.5, svc__kernel=rbf, tfidf__norm=l1, vectorizer__min_df=2, tfidf__use_idf=True, svc__degree=6, vectorizer__ngram_range=(1, 4), score=0.4516740366392925, total=  23.0s\n",
      "[CV]  svc__C=0.1, svc__gamma=0.5, svc__kernel=rbf, tfidf__norm=l1, vectorizer__min_df=2, tfidf__use_idf=True, svc__degree=6, vectorizer__ngram_range=(1, 4), score=0.45230574857864814, total=  23.5s\n",
      "[CV] svc__C=0.1, svc__gamma=0.5, svc__kernel=rbf, tfidf__norm=l2, vectorizer__min_df=3, tfidf__use_idf=True, svc__degree=6, vectorizer__ngram_range=(1, 4) \n",
      "[CV] svc__C=0.1, svc__gamma=0.5, svc__kernel=rbf, tfidf__norm=l2, vectorizer__min_df=3, tfidf__use_idf=True, svc__degree=6, vectorizer__ngram_range=(1, 4) \n",
      "[CV]  svc__C=0.1, svc__gamma=0.5, svc__kernel=rbf, tfidf__norm=l1, vectorizer__min_df=2, tfidf__use_idf=True, svc__degree=6, vectorizer__ngram_range=(1, 2), score=0.6291850915982312, total=  25.4s\n",
      "[CV] svc__C=0.1, svc__gamma=0.5, svc__kernel=rbf, tfidf__norm=l2, vectorizer__min_df=3, tfidf__use_idf=True, svc__degree=6, vectorizer__ngram_range=(1, 4) \n",
      "[CV]  svc__C=0.1, svc__gamma=0.5, svc__kernel=rbf, tfidf__norm=l1, vectorizer__min_df=3, tfidf__use_idf=True, svc__degree=6, vectorizer__ngram_range=(1, 2), score=0.6639292482627922, total=  19.6s\n",
      "[CV]  svc__C=0.1, svc__gamma=0.5, svc__kernel=rbf, tfidf__norm=l1, vectorizer__min_df=3, tfidf__use_idf=True, svc__degree=6, vectorizer__ngram_range=(1, 4), score=0.6696146557169931, total=  17.1s\n",
      "[CV]  svc__C=0.1, svc__gamma=0.5, svc__kernel=rbf, tfidf__norm=l1, vectorizer__min_df=3, tfidf__use_idf=True, svc__degree=6, vectorizer__ngram_range=(1, 2), score=0.648989898989899, total=  20.9s\n",
      "[CV] svc__C=0.1, svc__gamma=1, svc__kernel=rbf, tfidf__norm=l1, vectorizer__min_df=2, tfidf__use_idf=True, svc__degree=6, vectorizer__ngram_range=(1, 2) \n",
      "[CV] svc__C=0.1, svc__gamma=1, svc__kernel=rbf, tfidf__norm=l1, vectorizer__min_df=2, tfidf__use_idf=True, svc__degree=6, vectorizer__ngram_range=(1, 2) \n",
      "[CV] svc__C=0.1, svc__gamma=1, svc__kernel=rbf, tfidf__norm=l1, vectorizer__min_df=2, tfidf__use_idf=True, svc__degree=6, vectorizer__ngram_range=(1, 2) \n",
      "[CV]  svc__C=0.1, svc__gamma=0.5, svc__kernel=rbf, tfidf__norm=l1, vectorizer__min_df=2, tfidf__use_idf=True, svc__degree=6, vectorizer__ngram_range=(1, 3), score=0.46776232616940583, total=  25.4s\n",
      "[CV] svc__C=0.1, svc__gamma=1, svc__kernel=rbf, tfidf__norm=l1, vectorizer__min_df=2, tfidf__use_idf=True, svc__degree=6, vectorizer__ngram_range=(1, 2) \n",
      "[CV]  svc__C=0.1, svc__gamma=0.5, svc__kernel=rbf, tfidf__norm=l2, vectorizer__min_df=2, tfidf__use_idf=True, svc__degree=6, vectorizer__ngram_range=(1, 2), score=0.8145110410094637, total=  15.5s\n",
      "[CV] svc__C=0.1, svc__gamma=1, svc__kernel=rbf, tfidf__norm=l1, vectorizer__min_df=2, tfidf__use_idf=True, svc__degree=6, vectorizer__ngram_range=(1, 2) \n",
      "[CV]  svc__C=0.1, svc__gamma=0.5, svc__kernel=rbf, tfidf__norm=l1, vectorizer__min_df=2, tfidf__use_idf=True, svc__degree=6, vectorizer__ngram_range=(1, 2), score=0.640555906506633, total=  27.0s\n",
      "[CV] svc__C=0.1, svc__gamma=1, svc__kernel=rbf, tfidf__norm=l1, vectorizer__min_df=2, tfidf__use_idf=True, svc__degree=6, vectorizer__ngram_range=(1, 3) \n",
      "[CV]  svc__C=0.1, svc__gamma=0.5, svc__kernel=rbf, tfidf__norm=l1, vectorizer__min_df=3, tfidf__use_idf=True, svc__degree=6, vectorizer__ngram_range=(1, 2), score=0.6384858044164038, total=  21.6s\n",
      "[CV] svc__C=0.1, svc__gamma=1, svc__kernel=rbf, tfidf__norm=l1, vectorizer__min_df=2, tfidf__use_idf=True, svc__degree=6, vectorizer__ngram_range=(1, 3) \n",
      "[CV]  svc__C=0.1, svc__gamma=0.5, svc__kernel=rbf, tfidf__norm=l1, vectorizer__min_df=3, tfidf__use_idf=True, svc__degree=6, vectorizer__ngram_range=(1, 3), score=0.6496212121212122, total=  20.3s\n",
      "[CV] svc__C=0.1, svc__gamma=1, svc__kernel=rbf, tfidf__norm=l1, vectorizer__min_df=2, tfidf__use_idf=True, svc__degree=6, vectorizer__ngram_range=(1, 3) \n",
      "[CV]  svc__C=0.1, svc__gamma=0.5, svc__kernel=rbf, tfidf__norm=l2, vectorizer__min_df=2, tfidf__use_idf=True, svc__degree=6, vectorizer__ngram_range=(1, 3), score=0.8079595704358813, total=  15.7s\n",
      "[CV] svc__C=0.1, svc__gamma=1, svc__kernel=rbf, tfidf__norm=l1, vectorizer__min_df=2, tfidf__use_idf=True, svc__degree=6, vectorizer__ngram_range=(1, 3) \n",
      "[CV]  svc__C=0.1, svc__gamma=0.5, svc__kernel=rbf, tfidf__norm=l1, vectorizer__min_df=2, tfidf__use_idf=True, svc__degree=6, vectorizer__ngram_range=(1, 4), score=0.444794952681388, total=  25.4s\n",
      "[CV] svc__C=0.1, svc__gamma=1, svc__kernel=rbf, tfidf__norm=l1, vectorizer__min_df=2, tfidf__use_idf=True, svc__degree=6, vectorizer__ngram_range=(1, 3) \n",
      "[CV]  svc__C=0.1, svc__gamma=0.5, svc__kernel=rbf, tfidf__norm=l1, vectorizer__min_df=3, tfidf__use_idf=True, svc__degree=6, vectorizer__ngram_range=(1, 2), score=0.6493998736576121, total=  24.3s\n",
      "[CV] svc__C=0.1, svc__gamma=1, svc__kernel=rbf, tfidf__norm=l1, vectorizer__min_df=2, tfidf__use_idf=True, svc__degree=6, vectorizer__ngram_range=(1, 4) \n",
      "[CV]  svc__C=0.1, svc__gamma=0.5, svc__kernel=rbf, tfidf__norm=l1, vectorizer__min_df=3, tfidf__use_idf=True, svc__degree=6, vectorizer__ngram_range=(1, 4), score=0.6435331230283912, total=  22.2s\n",
      "[CV] svc__C=0.1, svc__gamma=1, svc__kernel=rbf, tfidf__norm=l1, vectorizer__min_df=2, tfidf__use_idf=True, svc__degree=6, vectorizer__ngram_range=(1, 4) \n",
      "[CV]  svc__C=0.1, svc__gamma=0.5, svc__kernel=rbf, tfidf__norm=l1, vectorizer__min_df=3, tfidf__use_idf=True, svc__degree=6, vectorizer__ngram_range=(1, 3), score=0.668141592920354, total=  20.2s\n",
      "[CV] svc__C=0.1, svc__gamma=1, svc__kernel=rbf, tfidf__norm=l1, vectorizer__min_df=2, tfidf__use_idf=True, svc__degree=6, vectorizer__ngram_range=(1, 4) \n",
      "[CV]  svc__C=0.1, svc__gamma=0.5, svc__kernel=rbf, tfidf__norm=l2, vectorizer__min_df=2, tfidf__use_idf=True, svc__degree=6, vectorizer__ngram_range=(1, 2), score=0.8186986734049273, total=  17.4s\n"
     ]
    },
    {
     "name": "stdout",
     "output_type": "stream",
     "text": [
      "[CV] svc__C=0.1, svc__gamma=1, svc__kernel=rbf, tfidf__norm=l1, vectorizer__min_df=2, tfidf__use_idf=True, svc__degree=6, vectorizer__ngram_range=(1, 4) \n",
      "[CV]  svc__C=0.1, svc__gamma=0.5, svc__kernel=rbf, tfidf__norm=l1, vectorizer__min_df=3, tfidf__use_idf=True, svc__degree=6, vectorizer__ngram_range=(1, 3), score=0.6683512318382817, total=  23.6s\n",
      "[CV] svc__C=0.1, svc__gamma=1, svc__kernel=rbf, tfidf__norm=l1, vectorizer__min_df=2, tfidf__use_idf=True, svc__degree=6, vectorizer__ngram_range=(1, 4) \n",
      "[CV]  svc__C=0.1, svc__gamma=0.5, svc__kernel=rbf, tfidf__norm=l1, vectorizer__min_df=2, tfidf__use_idf=True, svc__degree=6, vectorizer__ngram_range=(1, 4), score=0.46464646464646464, total=  28.0s\n",
      "[CV] svc__C=0.1, svc__gamma=1, svc__kernel=rbf, tfidf__norm=l1, vectorizer__min_df=3, tfidf__use_idf=True, svc__degree=6, vectorizer__ngram_range=(1, 2) \n",
      "[CV]  svc__C=0.1, svc__gamma=0.5, svc__kernel=rbf, tfidf__norm=l1, vectorizer__min_df=3, tfidf__use_idf=True, svc__degree=6, vectorizer__ngram_range=(1, 4), score=0.6649810366624526, total=  18.3s\n",
      "[CV]  svc__C=0.1, svc__gamma=0.5, svc__kernel=rbf, tfidf__norm=l2, vectorizer__min_df=2, tfidf__use_idf=True, svc__degree=6, vectorizer__ngram_range=(1, 2), score=0.8192161820480405, total=  17.2s\n",
      "[CV] svc__C=0.1, svc__gamma=1, svc__kernel=rbf, tfidf__norm=l1, vectorizer__min_df=3, tfidf__use_idf=True, svc__degree=6, vectorizer__ngram_range=(1, 2) \n",
      "[CV] svc__C=0.1, svc__gamma=1, svc__kernel=rbf, tfidf__norm=l1, vectorizer__min_df=3, tfidf__use_idf=True, svc__degree=6, vectorizer__ngram_range=(1, 2) \n"
     ]
    },
    {
     "name": "stderr",
     "output_type": "stream",
     "text": [
      "[Parallel(n_jobs=-1)]: Done 269 tasks      | elapsed:  3.2min\n"
     ]
    },
    {
     "name": "stdout",
     "output_type": "stream",
     "text": [
      "[CV]  svc__C=0.1, svc__gamma=0.5, svc__kernel=rbf, tfidf__norm=l2, vectorizer__min_df=2, tfidf__use_idf=True, svc__degree=6, vectorizer__ngram_range=(1, 3), score=0.8207070707070707, total=  19.3s\n",
      "[CV] svc__C=0.1, svc__gamma=1, svc__kernel=rbf, tfidf__norm=l1, vectorizer__min_df=3, tfidf__use_idf=True, svc__degree=6, vectorizer__ngram_range=(1, 2) \n",
      "[CV]  svc__C=0.1, svc__gamma=0.5, svc__kernel=rbf, tfidf__norm=l1, vectorizer__min_df=3, tfidf__use_idf=True, svc__degree=6, vectorizer__ngram_range=(1, 4), score=0.6614024005053696, total=  23.8s\n",
      "[CV] svc__C=0.1, svc__gamma=1, svc__kernel=rbf, tfidf__norm=l1, vectorizer__min_df=3, tfidf__use_idf=True, svc__degree=6, vectorizer__ngram_range=(1, 2) \n",
      "[CV]  svc__C=0.1, svc__gamma=0.5, svc__kernel=rbf, tfidf__norm=l1, vectorizer__min_df=3, tfidf__use_idf=True, svc__degree=6, vectorizer__ngram_range=(1, 4), score=0.6496212121212122, total=  23.2s\n",
      "[CV] svc__C=0.1, svc__gamma=1, svc__kernel=rbf, tfidf__norm=l1, vectorizer__min_df=3, tfidf__use_idf=True, svc__degree=6, vectorizer__ngram_range=(1, 3) \n",
      "[CV]  svc__C=0.1, svc__gamma=0.5, svc__kernel=rbf, tfidf__norm=l1, vectorizer__min_df=3, tfidf__use_idf=True, svc__degree=6, vectorizer__ngram_range=(1, 3), score=0.644794952681388, total=  27.0s\n",
      "[CV] svc__C=0.1, svc__gamma=1, svc__kernel=rbf, tfidf__norm=l1, vectorizer__min_df=3, tfidf__use_idf=True, svc__degree=6, vectorizer__ngram_range=(1, 3) \n",
      "[CV]  svc__C=0.1, svc__gamma=0.5, svc__kernel=rbf, tfidf__norm=l2, vectorizer__min_df=2, tfidf__use_idf=True, svc__degree=6, vectorizer__ngram_range=(1, 4), score=0.7854889589905363, total=  17.6s\n",
      "[CV] svc__C=0.1, svc__gamma=1, svc__kernel=rbf, tfidf__norm=l1, vectorizer__min_df=3, tfidf__use_idf=True, svc__degree=6, vectorizer__ngram_range=(1, 3) \n",
      "[CV]  svc__C=0.1, svc__gamma=0.5, svc__kernel=rbf, tfidf__norm=l1, vectorizer__min_df=3, tfidf__use_idf=True, svc__degree=6, vectorizer__ngram_range=(1, 2), score=0.6554993678887484, total=  26.4s\n",
      "[CV] svc__C=0.1, svc__gamma=1, svc__kernel=rbf, tfidf__norm=l1, vectorizer__min_df=3, tfidf__use_idf=True, svc__degree=6, vectorizer__ngram_range=(1, 3) \n",
      "[CV]  svc__C=0.1, svc__gamma=0.5, svc__kernel=rbf, tfidf__norm=l2, vectorizer__min_df=2, tfidf__use_idf=True, svc__degree=6, vectorizer__ngram_range=(1, 3), score=0.8149084017687934, total=  20.5s\n",
      "[CV] svc__C=0.1, svc__gamma=1, svc__kernel=rbf, tfidf__norm=l1, vectorizer__min_df=3, tfidf__use_idf=True, svc__degree=6, vectorizer__ngram_range=(1, 3) \n",
      "[CV]  svc__C=0.1, svc__gamma=0.5, svc__kernel=rbf, tfidf__norm=l2, vectorizer__min_df=2, tfidf__use_idf=True, svc__degree=6, vectorizer__ngram_range=(1, 2), score=0.827020202020202, total=  23.5s\n",
      "[CV] svc__C=0.1, svc__gamma=1, svc__kernel=rbf, tfidf__norm=l1, vectorizer__min_df=3, tfidf__use_idf=True, svc__degree=6, vectorizer__ngram_range=(1, 4) \n",
      "[CV]  svc__C=0.1, svc__gamma=0.5, svc__kernel=rbf, tfidf__norm=l2, vectorizer__min_df=2, tfidf__use_idf=True, svc__degree=6, vectorizer__ngram_range=(1, 4), score=0.8093434343434344, total=  20.0s\n",
      "[CV] svc__C=0.1, svc__gamma=1, svc__kernel=rbf, tfidf__norm=l1, vectorizer__min_df=3, tfidf__use_idf=True, svc__degree=6, vectorizer__ngram_range=(1, 4) \n",
      "[CV]  svc__C=0.1, svc__gamma=0.5, svc__kernel=rbf, tfidf__norm=l2, vectorizer__min_df=2, tfidf__use_idf=True, svc__degree=6, vectorizer__ngram_range=(1, 3), score=0.8097345132743363, total=  20.5s\n",
      "[CV]  svc__C=0.1, svc__gamma=0.5, svc__kernel=rbf, tfidf__norm=l1, vectorizer__min_df=3, tfidf__use_idf=True, svc__degree=6, vectorizer__ngram_range=(1, 3), score=0.6708780795957043, total=  28.0s\n",
      "[CV] svc__C=0.1, svc__gamma=1, svc__kernel=rbf, tfidf__norm=l1, vectorizer__min_df=3, tfidf__use_idf=True, svc__degree=6, vectorizer__ngram_range=(1, 4) \n",
      "[CV] svc__C=0.1, svc__gamma=1, svc__kernel=rbf, tfidf__norm=l1, vectorizer__min_df=3, tfidf__use_idf=True, svc__degree=6, vectorizer__ngram_range=(1, 4) \n",
      "[CV]  svc__C=0.1, svc__gamma=0.5, svc__kernel=rbf, tfidf__norm=l2, vectorizer__min_df=2, tfidf__use_idf=True, svc__degree=6, vectorizer__ngram_range=(1, 4), score=0.8003790271636134, total=  18.9s\n",
      "[CV] svc__C=0.1, svc__gamma=1, svc__kernel=rbf, tfidf__norm=l1, vectorizer__min_df=3, tfidf__use_idf=True, svc__degree=6, vectorizer__ngram_range=(1, 4) \n",
      "[CV]  svc__C=0.1, svc__gamma=0.5, svc__kernel=rbf, tfidf__norm=l2, vectorizer__min_df=2, tfidf__use_idf=True, svc__degree=6, vectorizer__ngram_range=(1, 4), score=0.7927984838913456, total=  20.4s\n",
      "[CV] svc__C=0.1, svc__gamma=1, svc__kernel=rbf, tfidf__norm=l2, vectorizer__min_df=2, tfidf__use_idf=True, svc__degree=6, vectorizer__ngram_range=(1, 2) \n",
      "[CV]  svc__C=0.1, svc__gamma=0.5, svc__kernel=rbf, tfidf__norm=l2, vectorizer__min_df=2, tfidf__use_idf=True, svc__degree=6, vectorizer__ngram_range=(1, 2), score=0.8325963360707518, total=  25.1s\n",
      "[CV] svc__C=0.1, svc__gamma=1, svc__kernel=rbf, tfidf__norm=l2, vectorizer__min_df=2, tfidf__use_idf=True, svc__degree=6, vectorizer__ngram_range=(1, 2) \n",
      "[CV]  svc__C=0.1, svc__gamma=0.5, svc__kernel=rbf, tfidf__norm=l2, vectorizer__min_df=3, tfidf__use_idf=True, svc__degree=6, vectorizer__ngram_range=(1, 2), score=0.8169191919191919, total=  17.7s\n",
      "[CV] svc__C=0.1, svc__gamma=1, svc__kernel=rbf, tfidf__norm=l2, vectorizer__min_df=2, tfidf__use_idf=True, svc__degree=6, vectorizer__ngram_range=(1, 2) \n",
      "[CV]  svc__C=0.1, svc__gamma=0.5, svc__kernel=rbf, tfidf__norm=l2, vectorizer__min_df=3, tfidf__use_idf=True, svc__degree=6, vectorizer__ngram_range=(1, 2), score=0.807570977917981, total=  21.5s\n",
      "[CV] svc__C=0.1, svc__gamma=1, svc__kernel=rbf, tfidf__norm=l2, vectorizer__min_df=2, tfidf__use_idf=True, svc__degree=6, vectorizer__ngram_range=(1, 2) \n",
      "[CV]  svc__C=0.1, svc__gamma=0.5, svc__kernel=rbf, tfidf__norm=l2, vectorizer__min_df=3, tfidf__use_idf=True, svc__degree=6, vectorizer__ngram_range=(1, 2), score=0.8154235145385588, total=  19.2s\n",
      "[CV] svc__C=0.1, svc__gamma=1, svc__kernel=rbf, tfidf__norm=l2, vectorizer__min_df=2, tfidf__use_idf=True, svc__degree=6, vectorizer__ngram_range=(1, 2) \n",
      "[CV]  svc__C=0.1, svc__gamma=0.5, svc__kernel=rbf, tfidf__norm=l2, vectorizer__min_df=3, tfidf__use_idf=True, svc__degree=6, vectorizer__ngram_range=(1, 2), score=0.815540113708149, total=  20.9s\n",
      "[CV] svc__C=0.1, svc__gamma=1, svc__kernel=rbf, tfidf__norm=l2, vectorizer__min_df=2, tfidf__use_idf=True, svc__degree=6, vectorizer__ngram_range=(1, 3) \n",
      "[CV]  svc__C=0.1, svc__gamma=0.5, svc__kernel=rbf, tfidf__norm=l2, vectorizer__min_df=2, tfidf__use_idf=True, svc__degree=6, vectorizer__ngram_range=(1, 4), score=0.8053097345132744, total=  26.9s\n",
      "[CV]  svc__C=0.1, svc__gamma=0.5, svc__kernel=rbf, tfidf__norm=l2, vectorizer__min_df=3, tfidf__use_idf=True, svc__degree=6, vectorizer__ngram_range=(1, 3), score=0.8168035375868604, total=  19.3s\n",
      "[CV] svc__C=0.1, svc__gamma=1, svc__kernel=rbf, tfidf__norm=l2, vectorizer__min_df=2, tfidf__use_idf=True, svc__degree=6, vectorizer__ngram_range=(1, 3) \n",
      "[CV] svc__C=0.1, svc__gamma=1, svc__kernel=rbf, tfidf__norm=l2, vectorizer__min_df=2, tfidf__use_idf=True, svc__degree=6, vectorizer__ngram_range=(1, 3) \n",
      "[CV]  svc__C=0.1, svc__gamma=0.5, svc__kernel=rbf, tfidf__norm=l2, vectorizer__min_df=3, tfidf__use_idf=True, svc__degree=6, vectorizer__ngram_range=(1, 3), score=0.8050473186119874, total=  20.3s\n",
      "[CV] svc__C=0.1, svc__gamma=1, svc__kernel=rbf, tfidf__norm=l2, vectorizer__min_df=2, tfidf__use_idf=True, svc__degree=6, vectorizer__ngram_range=(1, 3) \n",
      "[CV]  svc__C=0.1, svc__gamma=0.5, svc__kernel=rbf, tfidf__norm=l2, vectorizer__min_df=3, tfidf__use_idf=True, svc__degree=6, vectorizer__ngram_range=(1, 3), score=0.8131313131313131, total=  23.3s\n",
      "[CV] svc__C=0.1, svc__gamma=1, svc__kernel=rbf, tfidf__norm=l2, vectorizer__min_df=2, tfidf__use_idf=True, svc__degree=6, vectorizer__ngram_range=(1, 3) \n",
      "[CV]  svc__C=0.1, svc__gamma=0.5, svc__kernel=rbf, tfidf__norm=l2, vectorizer__min_df=3, tfidf__use_idf=True, svc__degree=6, vectorizer__ngram_range=(1, 4), score=0.8097345132743363, total=  18.2s\n",
      "[CV] svc__C=0.1, svc__gamma=1, svc__kernel=rbf, tfidf__norm=l2, vectorizer__min_df=2, tfidf__use_idf=True, svc__degree=6, vectorizer__ngram_range=(1, 4) \n",
      "[CV]  svc__C=0.1, svc__gamma=0.5, svc__kernel=rbf, tfidf__norm=l2, vectorizer__min_df=3, tfidf__use_idf=True, svc__degree=6, vectorizer__ngram_range=(1, 3), score=0.8084702907711757, total=  19.1s\n"
     ]
    },
    {
     "name": "stdout",
     "output_type": "stream",
     "text": [
      "[CV]  svc__C=0.1, svc__gamma=0.5, svc__kernel=rbf, tfidf__norm=l2, vectorizer__min_df=3, tfidf__use_idf=True, svc__degree=6, vectorizer__ngram_range=(1, 4), score=0.8035375868603917, total=  18.2s\n",
      "[CV] svc__C=0.1, svc__gamma=1, svc__kernel=rbf, tfidf__norm=l2, vectorizer__min_df=2, tfidf__use_idf=True, svc__degree=6, vectorizer__ngram_range=(1, 4) \n",
      "[CV] svc__C=0.1, svc__gamma=1, svc__kernel=rbf, tfidf__norm=l2, vectorizer__min_df=2, tfidf__use_idf=True, svc__degree=6, vectorizer__ngram_range=(1, 4) \n",
      "[CV]  svc__C=0.1, svc__gamma=0.5, svc__kernel=rbf, tfidf__norm=l2, vectorizer__min_df=3, tfidf__use_idf=True, svc__degree=6, vectorizer__ngram_range=(1, 2), score=0.8275426405559065, total=  23.2s\n",
      "[CV] svc__C=0.1, svc__gamma=1, svc__kernel=rbf, tfidf__norm=l2, vectorizer__min_df=2, tfidf__use_idf=True, svc__degree=6, vectorizer__ngram_range=(1, 4) \n"
     ]
    },
    {
     "name": "stderr",
     "output_type": "stream",
     "text": [
      "[Parallel(n_jobs=-1)]: Done 296 tasks      | elapsed:  3.5min\n"
     ]
    },
    {
     "name": "stdout",
     "output_type": "stream",
     "text": [
      "[CV]  svc__C=0.1, svc__gamma=0.5, svc__kernel=rbf, tfidf__norm=l2, vectorizer__min_df=3, tfidf__use_idf=True, svc__degree=6, vectorizer__ngram_range=(1, 3), score=0.8079595704358813, total=  23.5s\n",
      "[CV] svc__C=0.1, svc__gamma=1, svc__kernel=rbf, tfidf__norm=l2, vectorizer__min_df=2, tfidf__use_idf=True, svc__degree=6, vectorizer__ngram_range=(1, 4) \n",
      "[CV]  svc__C=0.1, svc__gamma=0.5, svc__kernel=rbf, tfidf__norm=l2, vectorizer__min_df=3, tfidf__use_idf=True, svc__degree=6, vectorizer__ngram_range=(1, 4), score=0.8018927444794953, total=  22.8s\n",
      "[CV] svc__C=0.1, svc__gamma=1, svc__kernel=rbf, tfidf__norm=l2, vectorizer__min_df=3, tfidf__use_idf=True, svc__degree=6, vectorizer__ngram_range=(1, 2) \n",
      "[CV]  svc__C=0.1, svc__gamma=1, svc__kernel=rbf, tfidf__norm=l1, vectorizer__min_df=2, tfidf__use_idf=True, svc__degree=6, vectorizer__ngram_range=(1, 2), score=0.7049905243209097, total=  20.1s\n",
      "[CV] svc__C=0.1, svc__gamma=1, svc__kernel=rbf, tfidf__norm=l2, vectorizer__min_df=3, tfidf__use_idf=True, svc__degree=6, vectorizer__ngram_range=(1, 2) \n",
      "[CV]  svc__C=0.1, svc__gamma=1, svc__kernel=rbf, tfidf__norm=l1, vectorizer__min_df=2, tfidf__use_idf=True, svc__degree=6, vectorizer__ngram_range=(1, 3), score=0.7012002526847757, total=  16.7s\n",
      "[CV] svc__C=0.1, svc__gamma=1, svc__kernel=rbf, tfidf__norm=l2, vectorizer__min_df=3, tfidf__use_idf=True, svc__degree=6, vectorizer__ngram_range=(1, 2) \n",
      "[CV]  svc__C=0.1, svc__gamma=1, svc__kernel=rbf, tfidf__norm=l1, vectorizer__min_df=2, tfidf__use_idf=True, svc__degree=6, vectorizer__ngram_range=(1, 3), score=0.702020202020202, total=  18.7s\n",
      "[CV] svc__C=0.1, svc__gamma=1, svc__kernel=rbf, tfidf__norm=l2, vectorizer__min_df=3, tfidf__use_idf=True, svc__degree=6, vectorizer__ngram_range=(1, 2) \n",
      "[CV]  svc__C=0.1, svc__gamma=0.5, svc__kernel=rbf, tfidf__norm=l2, vectorizer__min_df=3, tfidf__use_idf=True, svc__degree=6, vectorizer__ngram_range=(1, 4), score=0.8111181301326595, total=  20.2s\n",
      "[CV] svc__C=0.1, svc__gamma=1, svc__kernel=rbf, tfidf__norm=l2, vectorizer__min_df=3, tfidf__use_idf=True, svc__degree=6, vectorizer__ngram_range=(1, 2) \n",
      "[CV]  svc__C=0.1, svc__gamma=1, svc__kernel=rbf, tfidf__norm=l1, vectorizer__min_df=2, tfidf__use_idf=True, svc__degree=6, vectorizer__ngram_range=(1, 2), score=0.713653603034134, total=  21.4s\n",
      "[CV] svc__C=0.1, svc__gamma=1, svc__kernel=rbf, tfidf__norm=l2, vectorizer__min_df=3, tfidf__use_idf=True, svc__degree=6, vectorizer__ngram_range=(1, 3) \n",
      "[CV]  svc__C=0.1, svc__gamma=0.5, svc__kernel=rbf, tfidf__norm=l2, vectorizer__min_df=3, tfidf__use_idf=True, svc__degree=6, vectorizer__ngram_range=(1, 4), score=0.8106060606060606, total=  23.6s\n",
      "[CV] svc__C=0.1, svc__gamma=1, svc__kernel=rbf, tfidf__norm=l2, vectorizer__min_df=3, tfidf__use_idf=True, svc__degree=6, vectorizer__ngram_range=(1, 3) \n",
      "[CV]  svc__C=0.1, svc__gamma=1, svc__kernel=rbf, tfidf__norm=l1, vectorizer__min_df=2, tfidf__use_idf=True, svc__degree=6, vectorizer__ngram_range=(1, 2), score=0.6906565656565656, total=  23.7s\n",
      "[CV] svc__C=0.1, svc__gamma=1, svc__kernel=rbf, tfidf__norm=l2, vectorizer__min_df=3, tfidf__use_idf=True, svc__degree=6, vectorizer__ngram_range=(1, 3) \n",
      "[CV]  svc__C=0.1, svc__gamma=1, svc__kernel=rbf, tfidf__norm=l1, vectorizer__min_df=3, tfidf__use_idf=True, svc__degree=6, vectorizer__ngram_range=(1, 2), score=0.6952681388012618, total=  16.2s\n",
      "[CV] svc__C=0.1, svc__gamma=1, svc__kernel=rbf, tfidf__norm=l2, vectorizer__min_df=3, tfidf__use_idf=True, svc__degree=6, vectorizer__ngram_range=(1, 3) \n",
      "[CV]  svc__C=0.1, svc__gamma=1, svc__kernel=rbf, tfidf__norm=l1, vectorizer__min_df=3, tfidf__use_idf=True, svc__degree=6, vectorizer__ngram_range=(1, 2), score=0.7296272899557802, total=  18.9s\n",
      "[CV] svc__C=0.1, svc__gamma=1, svc__kernel=rbf, tfidf__norm=l2, vectorizer__min_df=3, tfidf__use_idf=True, svc__degree=6, vectorizer__ngram_range=(1, 3) \n",
      "[CV]  svc__C=0.1, svc__gamma=1, svc__kernel=rbf, tfidf__norm=l1, vectorizer__min_df=2, tfidf__use_idf=True, svc__degree=6, vectorizer__ngram_range=(1, 4), score=0.7045454545454546, total=  21.8s\n",
      "[CV] svc__C=0.1, svc__gamma=1, svc__kernel=rbf, tfidf__norm=l2, vectorizer__min_df=3, tfidf__use_idf=True, svc__degree=6, vectorizer__ngram_range=(1, 4) \n",
      "[CV]  svc__C=0.1, svc__gamma=1, svc__kernel=rbf, tfidf__norm=l1, vectorizer__min_df=2, tfidf__use_idf=True, svc__degree=6, vectorizer__ngram_range=(1, 4), score=0.6883280757097792, total=  22.4s\n",
      "[CV] svc__C=0.1, svc__gamma=1, svc__kernel=rbf, tfidf__norm=l2, vectorizer__min_df=3, tfidf__use_idf=True, svc__degree=6, vectorizer__ngram_range=(1, 4) \n",
      "[CV]  svc__C=0.1, svc__gamma=1, svc__kernel=rbf, tfidf__norm=l1, vectorizer__min_df=3, tfidf__use_idf=True, svc__degree=6, vectorizer__ngram_range=(1, 2), score=0.7133838383838383, total=  20.9s\n",
      "[CV] svc__C=0.1, svc__gamma=1, svc__kernel=rbf, tfidf__norm=l2, vectorizer__min_df=3, tfidf__use_idf=True, svc__degree=6, vectorizer__ngram_range=(1, 4) \n",
      "[CV]  svc__C=0.1, svc__gamma=1, svc__kernel=rbf, tfidf__norm=l1, vectorizer__min_df=2, tfidf__use_idf=True, svc__degree=6, vectorizer__ngram_range=(1, 2), score=0.6967782691092862, total=  24.4s\n",
      "[CV] svc__C=0.1, svc__gamma=1, svc__kernel=rbf, tfidf__norm=l2, vectorizer__min_df=3, tfidf__use_idf=True, svc__degree=6, vectorizer__ngram_range=(1, 4) \n",
      "[CV]  svc__C=0.1, svc__gamma=1, svc__kernel=rbf, tfidf__norm=l1, vectorizer__min_df=3, tfidf__use_idf=True, svc__degree=6, vectorizer__ngram_range=(1, 3), score=0.7207833228048011, total=  19.4s\n",
      "[CV] svc__C=0.1, svc__gamma=1, svc__kernel=rbf, tfidf__norm=l2, vectorizer__min_df=3, tfidf__use_idf=True, svc__degree=6, vectorizer__ngram_range=(1, 4) \n",
      "[CV]  svc__C=0.1, svc__gamma=1, svc__kernel=rbf, tfidf__norm=l1, vectorizer__min_df=2, tfidf__use_idf=True, svc__degree=6, vectorizer__ngram_range=(1, 4), score=0.7037271004421983, total=  20.8s\n",
      "[CV] svc__C=1, svc__gamma=0.5, svc__kernel=rbf, tfidf__norm=l1, vectorizer__min_df=2, tfidf__use_idf=True, svc__degree=2, vectorizer__ngram_range=(1, 2) \n",
      "[CV]  svc__C=0.1, svc__gamma=1, svc__kernel=rbf, tfidf__norm=l1, vectorizer__min_df=3, tfidf__use_idf=True, svc__degree=6, vectorizer__ngram_range=(1, 2), score=0.7231352718078382, total=  21.0s\n",
      "[CV] svc__C=1, svc__gamma=0.5, svc__kernel=rbf, tfidf__norm=l1, vectorizer__min_df=2, tfidf__use_idf=True, svc__degree=2, vectorizer__ngram_range=(1, 2) \n",
      "[CV]  svc__C=0.1, svc__gamma=1, svc__kernel=rbf, tfidf__norm=l1, vectorizer__min_df=2, tfidf__use_idf=True, svc__degree=6, vectorizer__ngram_range=(1, 4), score=0.713653603034134, total=  22.8s\n",
      "[CV] svc__C=1, svc__gamma=0.5, svc__kernel=rbf, tfidf__norm=l1, vectorizer__min_df=2, tfidf__use_idf=True, svc__degree=2, vectorizer__ngram_range=(1, 2) \n",
      "[CV]  svc__C=0.1, svc__gamma=1, svc__kernel=rbf, tfidf__norm=l1, vectorizer__min_df=3, tfidf__use_idf=True, svc__degree=6, vectorizer__ngram_range=(1, 2), score=0.7087807959570436, total=  22.7s\n",
      "[CV] svc__C=1, svc__gamma=0.5, svc__kernel=rbf, tfidf__norm=l1, vectorizer__min_df=2, tfidf__use_idf=True, svc__degree=2, vectorizer__ngram_range=(1, 2) \n",
      "[CV]  svc__C=0.1, svc__gamma=1, svc__kernel=rbf, tfidf__norm=l1, vectorizer__min_df=2, tfidf__use_idf=True, svc__degree=6, vectorizer__ngram_range=(1, 2), score=0.682018927444795, total=  26.6s\n",
      "[CV] svc__C=1, svc__gamma=0.5, svc__kernel=rbf, tfidf__norm=l1, vectorizer__min_df=2, tfidf__use_idf=True, svc__degree=2, vectorizer__ngram_range=(1, 2) \n",
      "[CV]  svc__C=0.1, svc__gamma=1, svc__kernel=rbf, tfidf__norm=l1, vectorizer__min_df=2, tfidf__use_idf=True, svc__degree=6, vectorizer__ngram_range=(1, 3), score=0.7005685407454201, total=  25.4s\n",
      "[CV] svc__C=1, svc__gamma=0.5, svc__kernel=rbf, tfidf__norm=l1, vectorizer__min_df=2, tfidf__use_idf=True, svc__degree=2, vectorizer__ngram_range=(1, 3) \n",
      "[CV]  svc__C=0.1, svc__gamma=1, svc__kernel=rbf, tfidf__norm=l1, vectorizer__min_df=3, tfidf__use_idf=True, svc__degree=6, vectorizer__ngram_range=(1, 3), score=0.7077020202020202, total=  22.9s\n",
      "[CV] svc__C=1, svc__gamma=0.5, svc__kernel=rbf, tfidf__norm=l1, vectorizer__min_df=2, tfidf__use_idf=True, svc__degree=2, vectorizer__ngram_range=(1, 3) \n",
      "[CV]  svc__C=0.1, svc__gamma=1, svc__kernel=rbf, tfidf__norm=l1, vectorizer__min_df=2, tfidf__use_idf=True, svc__degree=6, vectorizer__ngram_range=(1, 4), score=0.7037271004421983, total=  26.7s\n"
     ]
    },
    {
     "name": "stdout",
     "output_type": "stream",
     "text": [
      "[CV]  svc__C=0.1, svc__gamma=1, svc__kernel=rbf, tfidf__norm=l1, vectorizer__min_df=3, tfidf__use_idf=True, svc__degree=6, vectorizer__ngram_range=(1, 4), score=0.7176247631080227, total=  19.9s\n",
      "[CV] svc__C=1, svc__gamma=0.5, svc__kernel=rbf, tfidf__norm=l1, vectorizer__min_df=2, tfidf__use_idf=True, svc__degree=2, vectorizer__ngram_range=(1, 3) \n",
      "[CV] svc__C=1, svc__gamma=0.5, svc__kernel=rbf, tfidf__norm=l1, vectorizer__min_df=2, tfidf__use_idf=True, svc__degree=2, vectorizer__ngram_range=(1, 3) \n",
      "[CV]  svc__C=0.1, svc__gamma=1, svc__kernel=rbf, tfidf__norm=l1, vectorizer__min_df=3, tfidf__use_idf=True, svc__degree=6, vectorizer__ngram_range=(1, 4), score=0.711489898989899, total=  20.5s\n",
      "[CV] svc__C=1, svc__gamma=0.5, svc__kernel=rbf, tfidf__norm=l1, vectorizer__min_df=2, tfidf__use_idf=True, svc__degree=2, vectorizer__ngram_range=(1, 3) \n",
      "[CV]  svc__C=0.1, svc__gamma=1, svc__kernel=rbf, tfidf__norm=l1, vectorizer__min_df=2, tfidf__use_idf=True, svc__degree=6, vectorizer__ngram_range=(1, 3), score=0.6889589905362776, total=  27.9s\n",
      "[CV] svc__C=1, svc__gamma=0.5, svc__kernel=rbf, tfidf__norm=l1, vectorizer__min_df=2, tfidf__use_idf=True, svc__degree=2, vectorizer__ngram_range=(1, 4) \n",
      "[CV]  svc__C=0.1, svc__gamma=1, svc__kernel=rbf, tfidf__norm=l1, vectorizer__min_df=2, tfidf__use_idf=True, svc__degree=6, vectorizer__ngram_range=(1, 3), score=0.7123893805309734, total=  26.6s\n",
      "[CV] svc__C=1, svc__gamma=0.5, svc__kernel=rbf, tfidf__norm=l1, vectorizer__min_df=2, tfidf__use_idf=True, svc__degree=2, vectorizer__ngram_range=(1, 4) \n",
      "[CV]  svc__C=0.1, svc__gamma=1, svc__kernel=rbf, tfidf__norm=l1, vectorizer__min_df=3, tfidf__use_idf=True, svc__degree=6, vectorizer__ngram_range=(1, 4), score=0.6870662460567823, total=  21.8s\n",
      "[CV] svc__C=1, svc__gamma=0.5, svc__kernel=rbf, tfidf__norm=l1, vectorizer__min_df=2, tfidf__use_idf=True, svc__degree=2, vectorizer__ngram_range=(1, 4) \n",
      "[CV]  svc__C=0.1, svc__gamma=1, svc__kernel=rbf, tfidf__norm=l1, vectorizer__min_df=3, tfidf__use_idf=True, svc__degree=6, vectorizer__ngram_range=(1, 3), score=0.6883280757097792, total=  24.2s\n"
     ]
    },
    {
     "name": "stderr",
     "output_type": "stream",
     "text": [
      "[Parallel(n_jobs=-1)]: Done 325 tasks      | elapsed:  3.8min\n"
     ]
    },
    {
     "name": "stdout",
     "output_type": "stream",
     "text": [
      "[CV] svc__C=1, svc__gamma=0.5, svc__kernel=rbf, tfidf__norm=l1, vectorizer__min_df=2, tfidf__use_idf=True, svc__degree=2, vectorizer__ngram_range=(1, 4) \n",
      "[CV]  svc__C=0.1, svc__gamma=1, svc__kernel=rbf, tfidf__norm=l1, vectorizer__min_df=3, tfidf__use_idf=True, svc__degree=6, vectorizer__ngram_range=(1, 3), score=0.7024636765634871, total=  23.5s\n",
      "[CV] svc__C=1, svc__gamma=0.5, svc__kernel=rbf, tfidf__norm=l1, vectorizer__min_df=2, tfidf__use_idf=True, svc__degree=2, vectorizer__ngram_range=(1, 4) \n",
      "[CV]  svc__C=0.1, svc__gamma=1, svc__kernel=rbf, tfidf__norm=l1, vectorizer__min_df=3, tfidf__use_idf=True, svc__degree=6, vectorizer__ngram_range=(1, 3), score=0.7161820480404552, total=  23.4s\n",
      "[CV] svc__C=1, svc__gamma=0.5, svc__kernel=rbf, tfidf__norm=l1, vectorizer__min_df=3, tfidf__use_idf=True, svc__degree=2, vectorizer__ngram_range=(1, 2) \n",
      "[CV]  svc__C=0.1, svc__gamma=1, svc__kernel=rbf, tfidf__norm=l2, vectorizer__min_df=2, tfidf__use_idf=True, svc__degree=6, vectorizer__ngram_range=(1, 2), score=0.8149084017687934, total=  20.9s\n",
      "[CV] svc__C=1, svc__gamma=0.5, svc__kernel=rbf, tfidf__norm=l1, vectorizer__min_df=3, tfidf__use_idf=True, svc__degree=2, vectorizer__ngram_range=(1, 2) \n",
      "[CV]  svc__C=0.1, svc__gamma=1, svc__kernel=rbf, tfidf__norm=l1, vectorizer__min_df=3, tfidf__use_idf=True, svc__degree=6, vectorizer__ngram_range=(1, 4), score=0.713653603034134, total=  22.8s\n",
      "[CV] svc__C=1, svc__gamma=0.5, svc__kernel=rbf, tfidf__norm=l1, vectorizer__min_df=3, tfidf__use_idf=True, svc__degree=2, vectorizer__ngram_range=(1, 2) \n",
      "[CV]  svc__C=0.1, svc__gamma=1, svc__kernel=rbf, tfidf__norm=l1, vectorizer__min_df=3, tfidf__use_idf=True, svc__degree=6, vectorizer__ngram_range=(1, 4), score=0.6986734049273531, total=  26.2s\n",
      "[CV] svc__C=1, svc__gamma=0.5, svc__kernel=rbf, tfidf__norm=l1, vectorizer__min_df=3, tfidf__use_idf=True, svc__degree=2, vectorizer__ngram_range=(1, 2) \n",
      "[CV]  svc__C=0.1, svc__gamma=1, svc__kernel=rbf, tfidf__norm=l2, vectorizer__min_df=2, tfidf__use_idf=True, svc__degree=6, vectorizer__ngram_range=(1, 2), score=0.8295454545454546, total=  25.2s\n",
      "[CV] svc__C=1, svc__gamma=0.5, svc__kernel=rbf, tfidf__norm=l1, vectorizer__min_df=3, tfidf__use_idf=True, svc__degree=2, vectorizer__ngram_range=(1, 2) \n",
      "[CV]  svc__C=0.1, svc__gamma=1, svc__kernel=rbf, tfidf__norm=l2, vectorizer__min_df=2, tfidf__use_idf=True, svc__degree=6, vectorizer__ngram_range=(1, 2), score=0.8173198482932996, total=  20.6s\n",
      "[CV] svc__C=1, svc__gamma=0.5, svc__kernel=rbf, tfidf__norm=l1, vectorizer__min_df=3, tfidf__use_idf=True, svc__degree=2, vectorizer__ngram_range=(1, 3) \n",
      "[CV]  svc__C=0.1, svc__gamma=1, svc__kernel=rbf, tfidf__norm=l2, vectorizer__min_df=2, tfidf__use_idf=True, svc__degree=6, vectorizer__ngram_range=(1, 2), score=0.8145110410094637, total=  24.9s\n",
      "[CV] svc__C=1, svc__gamma=0.5, svc__kernel=rbf, tfidf__norm=l1, vectorizer__min_df=3, tfidf__use_idf=True, svc__degree=2, vectorizer__ngram_range=(1, 3) \n",
      "[CV]  svc__C=0.1, svc__gamma=1, svc__kernel=rbf, tfidf__norm=l2, vectorizer__min_df=2, tfidf__use_idf=True, svc__degree=6, vectorizer__ngram_range=(1, 3), score=0.7915350600126342, total=  18.4s\n",
      "[CV] svc__C=1, svc__gamma=0.5, svc__kernel=rbf, tfidf__norm=l1, vectorizer__min_df=3, tfidf__use_idf=True, svc__degree=2, vectorizer__ngram_range=(1, 3) \n",
      "[CV]  svc__C=0.1, svc__gamma=1, svc__kernel=rbf, tfidf__norm=l2, vectorizer__min_df=2, tfidf__use_idf=True, svc__degree=6, vectorizer__ngram_range=(1, 2), score=0.8294377763739734, total=  20.7s\n",
      "[CV] svc__C=1, svc__gamma=0.5, svc__kernel=rbf, tfidf__norm=l1, vectorizer__min_df=3, tfidf__use_idf=True, svc__degree=2, vectorizer__ngram_range=(1, 3) \n",
      "[CV]  svc__C=0.1, svc__gamma=1, svc__kernel=rbf, tfidf__norm=l2, vectorizer__min_df=2, tfidf__use_idf=True, svc__degree=6, vectorizer__ngram_range=(1, 3), score=0.7747634069400631, total=  24.9s\n",
      "[CV] svc__C=1, svc__gamma=0.5, svc__kernel=rbf, tfidf__norm=l1, vectorizer__min_df=3, tfidf__use_idf=True, svc__degree=2, vectorizer__ngram_range=(1, 3) \n",
      "[CV]  svc__C=1, svc__gamma=0.5, svc__kernel=rbf, tfidf__norm=l1, vectorizer__min_df=2, tfidf__use_idf=True, svc__degree=2, vectorizer__ngram_range=(1, 2), score=0.8622867972204674, total=  10.7s\n",
      "[CV] svc__C=1, svc__gamma=0.5, svc__kernel=rbf, tfidf__norm=l1, vectorizer__min_df=3, tfidf__use_idf=True, svc__degree=2, vectorizer__ngram_range=(1, 4) \n",
      "[CV]  svc__C=1, svc__gamma=0.5, svc__kernel=rbf, tfidf__norm=l1, vectorizer__min_df=2, tfidf__use_idf=True, svc__degree=2, vectorizer__ngram_range=(1, 2), score=0.8511041009463722, total=  11.5s\n",
      "[CV] svc__C=1, svc__gamma=0.5, svc__kernel=rbf, tfidf__norm=l1, vectorizer__min_df=3, tfidf__use_idf=True, svc__degree=2, vectorizer__ngram_range=(1, 4) \n",
      "[CV]  svc__C=0.1, svc__gamma=1, svc__kernel=rbf, tfidf__norm=l2, vectorizer__min_df=3, tfidf__use_idf=True, svc__degree=6, vectorizer__ngram_range=(1, 3), score=0.8073278584965256, total=  14.3s\n",
      "[CV] svc__C=1, svc__gamma=0.5, svc__kernel=rbf, tfidf__norm=l1, vectorizer__min_df=3, tfidf__use_idf=True, svc__degree=2, vectorizer__ngram_range=(1, 4) \n",
      "[CV]  svc__C=0.1, svc__gamma=1, svc__kernel=rbf, tfidf__norm=l2, vectorizer__min_df=2, tfidf__use_idf=True, svc__degree=6, vectorizer__ngram_range=(1, 3), score=0.8041692987997473, total=  22.4s\n",
      "[CV] svc__C=1, svc__gamma=0.5, svc__kernel=rbf, tfidf__norm=l1, vectorizer__min_df=3, tfidf__use_idf=True, svc__degree=2, vectorizer__ngram_range=(1, 4) \n",
      "[CV]  svc__C=0.1, svc__gamma=1, svc__kernel=rbf, tfidf__norm=l2, vectorizer__min_df=2, tfidf__use_idf=True, svc__degree=6, vectorizer__ngram_range=(1, 4), score=0.759621451104101, total=  19.6s\n",
      "[CV] svc__C=1, svc__gamma=0.5, svc__kernel=rbf, tfidf__norm=l1, vectorizer__min_df=3, tfidf__use_idf=True, svc__degree=2, vectorizer__ngram_range=(1, 4) \n",
      "[CV]  svc__C=0.1, svc__gamma=1, svc__kernel=rbf, tfidf__norm=l2, vectorizer__min_df=3, tfidf__use_idf=True, svc__degree=6, vectorizer__ngram_range=(1, 2), score=0.8084702907711757, total=  19.2s\n",
      "[CV] svc__C=1, svc__gamma=0.5, svc__kernel=rbf, tfidf__norm=l2, vectorizer__min_df=2, tfidf__use_idf=True, svc__degree=2, vectorizer__ngram_range=(1, 2) \n",
      "[CV]  svc__C=0.1, svc__gamma=1, svc__kernel=rbf, tfidf__norm=l2, vectorizer__min_df=3, tfidf__use_idf=True, svc__degree=6, vectorizer__ngram_range=(1, 2), score=0.8073278584965256, total=  17.9s\n",
      "[CV] svc__C=1, svc__gamma=0.5, svc__kernel=rbf, tfidf__norm=l2, vectorizer__min_df=2, tfidf__use_idf=True, svc__degree=2, vectorizer__ngram_range=(1, 2) \n",
      "[CV]  svc__C=0.1, svc__gamma=1, svc__kernel=rbf, tfidf__norm=l2, vectorizer__min_df=2, tfidf__use_idf=True, svc__degree=6, vectorizer__ngram_range=(1, 3), score=0.8059418457648546, total=  23.2s\n",
      "[CV] svc__C=1, svc__gamma=0.5, svc__kernel=rbf, tfidf__norm=l2, vectorizer__min_df=2, tfidf__use_idf=True, svc__degree=2, vectorizer__ngram_range=(1, 2) \n",
      "[CV]  svc__C=0.1, svc__gamma=1, svc__kernel=rbf, tfidf__norm=l2, vectorizer__min_df=3, tfidf__use_idf=True, svc__degree=6, vectorizer__ngram_range=(1, 2), score=0.804416403785489, total=  19.5s\n",
      "[CV] svc__C=1, svc__gamma=0.5, svc__kernel=rbf, tfidf__norm=l2, vectorizer__min_df=2, tfidf__use_idf=True, svc__degree=2, vectorizer__ngram_range=(1, 2) \n",
      "[CV]  svc__C=0.1, svc__gamma=1, svc__kernel=rbf, tfidf__norm=l2, vectorizer__min_df=3, tfidf__use_idf=True, svc__degree=6, vectorizer__ngram_range=(1, 2), score=0.8111181301326595, total=  19.9s\n",
      "[CV] svc__C=1, svc__gamma=0.5, svc__kernel=rbf, tfidf__norm=l2, vectorizer__min_df=2, tfidf__use_idf=True, svc__degree=2, vectorizer__ngram_range=(1, 2) \n",
      "[CV]  svc__C=0.1, svc__gamma=1, svc__kernel=rbf, tfidf__norm=l2, vectorizer__min_df=3, tfidf__use_idf=True, svc__degree=6, vectorizer__ngram_range=(1, 2), score=0.8055555555555556, total=  18.4s\n",
      "[CV] svc__C=1, svc__gamma=0.5, svc__kernel=rbf, tfidf__norm=l2, vectorizer__min_df=2, tfidf__use_idf=True, svc__degree=2, vectorizer__ngram_range=(1, 3) \n",
      "[CV]  svc__C=0.1, svc__gamma=1, svc__kernel=rbf, tfidf__norm=l2, vectorizer__min_df=2, tfidf__use_idf=True, svc__degree=6, vectorizer__ngram_range=(1, 4), score=0.7789008212255212, total=  22.7s\n",
      "[CV]  svc__C=0.1, svc__gamma=1, svc__kernel=rbf, tfidf__norm=l2, vectorizer__min_df=3, tfidf__use_idf=True, svc__degree=6, vectorizer__ngram_range=(1, 3), score=0.7953253316487682, total=  19.4s\n"
     ]
    },
    {
     "name": "stdout",
     "output_type": "stream",
     "text": [
      "[CV] svc__C=1, svc__gamma=0.5, svc__kernel=rbf, tfidf__norm=l2, vectorizer__min_df=2, tfidf__use_idf=True, svc__degree=2, vectorizer__ngram_range=(1, 3) \n",
      "[CV] svc__C=1, svc__gamma=0.5, svc__kernel=rbf, tfidf__norm=l2, vectorizer__min_df=2, tfidf__use_idf=True, svc__degree=2, vectorizer__ngram_range=(1, 3) \n",
      "[CV]  svc__C=0.1, svc__gamma=1, svc__kernel=rbf, tfidf__norm=l2, vectorizer__min_df=2, tfidf__use_idf=True, svc__degree=6, vectorizer__ngram_range=(1, 3), score=0.8232323232323232, total=  27.3s\n",
      "[CV] svc__C=1, svc__gamma=0.5, svc__kernel=rbf, tfidf__norm=l2, vectorizer__min_df=2, tfidf__use_idf=True, svc__degree=2, vectorizer__ngram_range=(1, 3) \n",
      "[CV]  svc__C=0.1, svc__gamma=1, svc__kernel=rbf, tfidf__norm=l2, vectorizer__min_df=3, tfidf__use_idf=True, svc__degree=6, vectorizer__ngram_range=(1, 3), score=0.7929292929292929, total=  21.1s\n",
      "[CV]  svc__C=0.1, svc__gamma=1, svc__kernel=rbf, tfidf__norm=l2, vectorizer__min_df=3, tfidf__use_idf=True, svc__degree=6, vectorizer__ngram_range=(1, 3), score=0.7905362776025237, total=  20.6s\n",
      "[CV] svc__C=1, svc__gamma=0.5, svc__kernel=rbf, tfidf__norm=l2, vectorizer__min_df=2, tfidf__use_idf=True, svc__degree=2, vectorizer__ngram_range=(1, 3) \n",
      "[CV] svc__C=1, svc__gamma=0.5, svc__kernel=rbf, tfidf__norm=l2, vectorizer__min_df=2, tfidf__use_idf=True, svc__degree=2, vectorizer__ngram_range=(1, 4) \n",
      "[CV]  svc__C=0.1, svc__gamma=1, svc__kernel=rbf, tfidf__norm=l2, vectorizer__min_df=2, tfidf__use_idf=True, svc__degree=6, vectorizer__ngram_range=(1, 4), score=0.8080808080808081, total=  27.6s\n",
      "[CV] svc__C=1, svc__gamma=0.5, svc__kernel=rbf, tfidf__norm=l2, vectorizer__min_df=2, tfidf__use_idf=True, svc__degree=2, vectorizer__ngram_range=(1, 4) \n"
     ]
    },
    {
     "name": "stderr",
     "output_type": "stream",
     "text": [
      "[Parallel(n_jobs=-1)]: Done 354 tasks      | elapsed:  4.1min\n"
     ]
    },
    {
     "name": "stdout",
     "output_type": "stream",
     "text": [
      "[CV]  svc__C=1, svc__gamma=0.5, svc__kernel=rbf, tfidf__norm=l1, vectorizer__min_df=2, tfidf__use_idf=True, svc__degree=2, vectorizer__ngram_range=(1, 2), score=0.8704990524320909, total=  16.3s\n",
      "[CV] svc__C=1, svc__gamma=0.5, svc__kernel=rbf, tfidf__norm=l2, vectorizer__min_df=2, tfidf__use_idf=True, svc__degree=2, vectorizer__ngram_range=(1, 4) \n",
      "[CV]  svc__C=0.1, svc__gamma=1, svc__kernel=rbf, tfidf__norm=l2, vectorizer__min_df=2, tfidf__use_idf=True, svc__degree=6, vectorizer__ngram_range=(1, 4), score=0.7909033480732786, total=  24.8s\n",
      "[CV] svc__C=1, svc__gamma=0.5, svc__kernel=rbf, tfidf__norm=l2, vectorizer__min_df=2, tfidf__use_idf=True, svc__degree=2, vectorizer__ngram_range=(1, 4) \n",
      "[CV]  svc__C=0.1, svc__gamma=1, svc__kernel=rbf, tfidf__norm=l2, vectorizer__min_df=3, tfidf__use_idf=True, svc__degree=6, vectorizer__ngram_range=(1, 4), score=0.8041692987997473, total=  18.5s\n",
      "[CV] svc__C=1, svc__gamma=0.5, svc__kernel=rbf, tfidf__norm=l2, vectorizer__min_df=2, tfidf__use_idf=True, svc__degree=2, vectorizer__ngram_range=(1, 4) \n",
      "[CV]  svc__C=0.1, svc__gamma=1, svc__kernel=rbf, tfidf__norm=l2, vectorizer__min_df=3, tfidf__use_idf=True, svc__degree=6, vectorizer__ngram_range=(1, 4), score=0.7848580441640378, total=  21.6s\n",
      "[CV] svc__C=1, svc__gamma=0.5, svc__kernel=rbf, tfidf__norm=l2, vectorizer__min_df=3, tfidf__use_idf=True, svc__degree=2, vectorizer__ngram_range=(1, 2) \n",
      "[CV]  svc__C=1, svc__gamma=0.5, svc__kernel=rbf, tfidf__norm=l1, vectorizer__min_df=2, tfidf__use_idf=True, svc__degree=2, vectorizer__ngram_range=(1, 3), score=0.8511041009463722, total=  16.0s\n",
      "[CV] svc__C=1, svc__gamma=0.5, svc__kernel=rbf, tfidf__norm=l2, vectorizer__min_df=3, tfidf__use_idf=True, svc__degree=2, vectorizer__ngram_range=(1, 2) \n",
      "[CV]  svc__C=0.1, svc__gamma=1, svc__kernel=rbf, tfidf__norm=l2, vectorizer__min_df=3, tfidf__use_idf=True, svc__degree=6, vectorizer__ngram_range=(1, 3), score=0.8008849557522124, total=  23.3s\n",
      "[CV] svc__C=1, svc__gamma=0.5, svc__kernel=rbf, tfidf__norm=l2, vectorizer__min_df=3, tfidf__use_idf=True, svc__degree=2, vectorizer__ngram_range=(1, 2) \n",
      "[CV]  svc__C=1, svc__gamma=0.5, svc__kernel=rbf, tfidf__norm=l1, vectorizer__min_df=2, tfidf__use_idf=True, svc__degree=2, vectorizer__ngram_range=(1, 4), score=0.8597599494630449, total=  15.3s\n",
      "[CV] svc__C=1, svc__gamma=0.5, svc__kernel=rbf, tfidf__norm=l2, vectorizer__min_df=3, tfidf__use_idf=True, svc__degree=2, vectorizer__ngram_range=(1, 2) \n",
      "[CV]  svc__C=1, svc__gamma=0.5, svc__kernel=rbf, tfidf__norm=l1, vectorizer__min_df=2, tfidf__use_idf=True, svc__degree=2, vectorizer__ngram_range=(1, 3), score=0.8674242424242424, total=  18.4s\n",
      "[CV]  svc__C=0.1, svc__gamma=1, svc__kernel=rbf, tfidf__norm=l2, vectorizer__min_df=3, tfidf__use_idf=True, svc__degree=6, vectorizer__ngram_range=(1, 4), score=0.7983565107458913, total=  17.8s\n",
      "[CV] svc__C=1, svc__gamma=0.5, svc__kernel=rbf, tfidf__norm=l2, vectorizer__min_df=3, tfidf__use_idf=True, svc__degree=2, vectorizer__ngram_range=(1, 2) \n",
      "[CV] svc__C=1, svc__gamma=0.5, svc__kernel=rbf, tfidf__norm=l2, vectorizer__min_df=3, tfidf__use_idf=True, svc__degree=2, vectorizer__ngram_range=(1, 3) \n",
      "[CV]  svc__C=1, svc__gamma=0.5, svc__kernel=rbf, tfidf__norm=l1, vectorizer__min_df=2, tfidf__use_idf=True, svc__degree=2, vectorizer__ngram_range=(1, 4), score=0.849211356466877, total=  16.5s\n",
      "[CV] svc__C=1, svc__gamma=0.5, svc__kernel=rbf, tfidf__norm=l2, vectorizer__min_df=3, tfidf__use_idf=True, svc__degree=2, vectorizer__ngram_range=(1, 3) \n",
      "[CV]  svc__C=1, svc__gamma=0.5, svc__kernel=rbf, tfidf__norm=l1, vectorizer__min_df=2, tfidf__use_idf=True, svc__degree=2, vectorizer__ngram_range=(1, 3), score=0.8622867972204674, total=  17.6s\n",
      "[CV]  svc__C=1, svc__gamma=0.5, svc__kernel=rbf, tfidf__norm=l1, vectorizer__min_df=2, tfidf__use_idf=True, svc__degree=2, vectorizer__ngram_range=(1, 4), score=0.8630050505050505, total=  17.3s\n",
      "[CV] svc__C=1, svc__gamma=0.5, svc__kernel=rbf, tfidf__norm=l2, vectorizer__min_df=3, tfidf__use_idf=True, svc__degree=2, vectorizer__ngram_range=(1, 3) \n",
      "[CV] svc__C=1, svc__gamma=0.5, svc__kernel=rbf, tfidf__norm=l2, vectorizer__min_df=3, tfidf__use_idf=True, svc__degree=2, vectorizer__ngram_range=(1, 3) \n",
      "[CV]  svc__C=0.1, svc__gamma=1, svc__kernel=rbf, tfidf__norm=l2, vectorizer__min_df=3, tfidf__use_idf=True, svc__degree=6, vectorizer__ngram_range=(1, 4), score=0.7866161616161617, total=  22.6s\n",
      "[CV] svc__C=1, svc__gamma=0.5, svc__kernel=rbf, tfidf__norm=l2, vectorizer__min_df=3, tfidf__use_idf=True, svc__degree=2, vectorizer__ngram_range=(1, 3) \n",
      "[CV]  svc__C=1, svc__gamma=0.5, svc__kernel=rbf, tfidf__norm=l1, vectorizer__min_df=2, tfidf__use_idf=True, svc__degree=2, vectorizer__ngram_range=(1, 4), score=0.8566013897662665, total=  17.3s\n",
      "[CV] svc__C=1, svc__gamma=0.5, svc__kernel=rbf, tfidf__norm=l2, vectorizer__min_df=3, tfidf__use_idf=True, svc__degree=2, vectorizer__ngram_range=(1, 4) \n",
      "[CV]  svc__C=1, svc__gamma=0.5, svc__kernel=rbf, tfidf__norm=l1, vectorizer__min_df=3, tfidf__use_idf=True, svc__degree=2, vectorizer__ngram_range=(1, 2), score=0.861198738170347, total=  14.7s\n",
      "[CV] svc__C=1, svc__gamma=0.5, svc__kernel=rbf, tfidf__norm=l2, vectorizer__min_df=3, tfidf__use_idf=True, svc__degree=2, vectorizer__ngram_range=(1, 4) \n",
      "[CV]  svc__C=0.1, svc__gamma=1, svc__kernel=rbf, tfidf__norm=l2, vectorizer__min_df=2, tfidf__use_idf=True, svc__degree=6, vectorizer__ngram_range=(1, 4), score=0.7964601769911505, total=  29.6s\n",
      "[CV] svc__C=1, svc__gamma=0.5, svc__kernel=rbf, tfidf__norm=l2, vectorizer__min_df=3, tfidf__use_idf=True, svc__degree=2, vectorizer__ngram_range=(1, 4) \n",
      "[CV]  svc__C=1, svc__gamma=0.5, svc__kernel=rbf, tfidf__norm=l1, vectorizer__min_df=2, tfidf__use_idf=True, svc__degree=2, vectorizer__ngram_range=(1, 2), score=0.8693181818181818, total=  20.2s\n",
      "[CV] svc__C=1, svc__gamma=0.5, svc__kernel=rbf, tfidf__norm=l2, vectorizer__min_df=3, tfidf__use_idf=True, svc__degree=2, vectorizer__ngram_range=(1, 4) \n",
      "[CV]  svc__C=0.1, svc__gamma=1, svc__kernel=rbf, tfidf__norm=l2, vectorizer__min_df=3, tfidf__use_idf=True, svc__degree=6, vectorizer__ngram_range=(1, 4), score=0.7921667719519899, total=  22.6s\n",
      "[CV] svc__C=1, svc__gamma=0.5, svc__kernel=rbf, tfidf__norm=l2, vectorizer__min_df=3, tfidf__use_idf=True, svc__degree=2, vectorizer__ngram_range=(1, 4) \n",
      "[CV]  svc__C=1, svc__gamma=0.5, svc__kernel=rbf, tfidf__norm=l1, vectorizer__min_df=3, tfidf__use_idf=True, svc__degree=2, vectorizer__ngram_range=(1, 2), score=0.865992414664981, total=  14.8s\n",
      "[CV] svc__C=1, svc__gamma=1, svc__kernel=rbf, tfidf__norm=l1, vectorizer__min_df=2, tfidf__use_idf=True, svc__degree=2, vectorizer__ngram_range=(1, 2) \n",
      "[CV]  svc__C=1, svc__gamma=0.5, svc__kernel=rbf, tfidf__norm=l1, vectorizer__min_df=2, tfidf__use_idf=True, svc__degree=2, vectorizer__ngram_range=(1, 2), score=0.8584070796460177, total=  21.3s\n",
      "[CV] svc__C=1, svc__gamma=1, svc__kernel=rbf, tfidf__norm=l1, vectorizer__min_df=2, tfidf__use_idf=True, svc__degree=2, vectorizer__ngram_range=(1, 2) \n",
      "[CV]  svc__C=1, svc__gamma=0.5, svc__kernel=rbf, tfidf__norm=l1, vectorizer__min_df=3, tfidf__use_idf=True, svc__degree=2, vectorizer__ngram_range=(1, 3), score=0.8624605678233438, total=  14.2s\n",
      "[CV] svc__C=1, svc__gamma=1, svc__kernel=rbf, tfidf__norm=l1, vectorizer__min_df=2, tfidf__use_idf=True, svc__degree=2, vectorizer__ngram_range=(1, 2) \n",
      "[CV]  svc__C=1, svc__gamma=0.5, svc__kernel=rbf, tfidf__norm=l1, vectorizer__min_df=3, tfidf__use_idf=True, svc__degree=2, vectorizer__ngram_range=(1, 2), score=0.8660770688566014, total=  17.8s\n",
      "[CV] svc__C=1, svc__gamma=1, svc__kernel=rbf, tfidf__norm=l1, vectorizer__min_df=2, tfidf__use_idf=True, svc__degree=2, vectorizer__ngram_range=(1, 2) \n",
      "[CV]  svc__C=1, svc__gamma=0.5, svc__kernel=rbf, tfidf__norm=l1, vectorizer__min_df=3, tfidf__use_idf=True, svc__degree=2, vectorizer__ngram_range=(1, 2), score=0.8717624763108023, total=  11.4s\n",
      "[CV] svc__C=1, svc__gamma=1, svc__kernel=rbf, tfidf__norm=l1, vectorizer__min_df=2, tfidf__use_idf=True, svc__degree=2, vectorizer__ngram_range=(1, 2) \n",
      "[CV]  svc__C=1, svc__gamma=0.5, svc__kernel=rbf, tfidf__norm=l1, vectorizer__min_df=2, tfidf__use_idf=True, svc__degree=2, vectorizer__ngram_range=(1, 3), score=0.8622867972204674, total=  21.6s\n"
     ]
    },
    {
     "name": "stdout",
     "output_type": "stream",
     "text": [
      "[CV] svc__C=1, svc__gamma=1, svc__kernel=rbf, tfidf__norm=l1, vectorizer__min_df=2, tfidf__use_idf=True, svc__degree=2, vectorizer__ngram_range=(1, 3) \n",
      "[CV]  svc__C=1, svc__gamma=0.5, svc__kernel=rbf, tfidf__norm=l1, vectorizer__min_df=2, tfidf__use_idf=True, svc__degree=2, vectorizer__ngram_range=(1, 4), score=0.8482932996207333, total=  18.8s\n",
      "[CV] svc__C=1, svc__gamma=1, svc__kernel=rbf, tfidf__norm=l1, vectorizer__min_df=2, tfidf__use_idf=True, svc__degree=2, vectorizer__ngram_range=(1, 3) \n",
      "[CV]  svc__C=1, svc__gamma=0.5, svc__kernel=rbf, tfidf__norm=l1, vectorizer__min_df=3, tfidf__use_idf=True, svc__degree=2, vectorizer__ngram_range=(1, 3), score=0.8737373737373737, total=  13.8s\n",
      "[CV] svc__C=1, svc__gamma=1, svc__kernel=rbf, tfidf__norm=l1, vectorizer__min_df=2, tfidf__use_idf=True, svc__degree=2, vectorizer__ngram_range=(1, 3) \n",
      "[CV]  svc__C=1, svc__gamma=0.5, svc__kernel=rbf, tfidf__norm=l1, vectorizer__min_df=3, tfidf__use_idf=True, svc__degree=2, vectorizer__ngram_range=(1, 3), score=0.866708780795957, total=  13.4s\n",
      "[CV] svc__C=1, svc__gamma=1, svc__kernel=rbf, tfidf__norm=l1, vectorizer__min_df=2, tfidf__use_idf=True, svc__degree=2, vectorizer__ngram_range=(1, 3) \n",
      "[CV]  svc__C=1, svc__gamma=0.5, svc__kernel=rbf, tfidf__norm=l1, vectorizer__min_df=2, tfidf__use_idf=True, svc__degree=2, vectorizer__ngram_range=(1, 3), score=0.8533501896333755, total=  22.3s\n",
      "[CV] svc__C=1, svc__gamma=1, svc__kernel=rbf, tfidf__norm=l1, vectorizer__min_df=2, tfidf__use_idf=True, svc__degree=2, vectorizer__ngram_range=(1, 3) \n",
      "[CV]  svc__C=1, svc__gamma=0.5, svc__kernel=rbf, tfidf__norm=l1, vectorizer__min_df=3, tfidf__use_idf=True, svc__degree=2, vectorizer__ngram_range=(1, 4), score=0.8711307643714467, total=  12.6s\n",
      "[CV] svc__C=1, svc__gamma=1, svc__kernel=rbf, tfidf__norm=l1, vectorizer__min_df=2, tfidf__use_idf=True, svc__degree=2, vectorizer__ngram_range=(1, 4) \n",
      "[CV]  svc__C=1, svc__gamma=0.5, svc__kernel=rbf, tfidf__norm=l1, vectorizer__min_df=3, tfidf__use_idf=True, svc__degree=2, vectorizer__ngram_range=(1, 2), score=0.8787878787878788, total=  18.6s\n",
      "[CV] svc__C=1, svc__gamma=1, svc__kernel=rbf, tfidf__norm=l1, vectorizer__min_df=2, tfidf__use_idf=True, svc__degree=2, vectorizer__ngram_range=(1, 4) \n",
      "[CV]  svc__C=1, svc__gamma=0.5, svc__kernel=rbf, tfidf__norm=l1, vectorizer__min_df=3, tfidf__use_idf=True, svc__degree=2, vectorizer__ngram_range=(1, 3), score=0.8711307643714467, total=  16.6s\n",
      "[CV] svc__C=1, svc__gamma=1, svc__kernel=rbf, tfidf__norm=l1, vectorizer__min_df=2, tfidf__use_idf=True, svc__degree=2, vectorizer__ngram_range=(1, 4) \n"
     ]
    },
    {
     "name": "stderr",
     "output_type": "stream",
     "text": [
      "[Parallel(n_jobs=-1)]: Done 385 tasks      | elapsed:  4.3min\n"
     ]
    },
    {
     "name": "stdout",
     "output_type": "stream",
     "text": [
      "[CV]  svc__C=1, svc__gamma=0.5, svc__kernel=rbf, tfidf__norm=l1, vectorizer__min_df=3, tfidf__use_idf=True, svc__degree=2, vectorizer__ngram_range=(1, 4), score=0.8618296529968454, total=  15.8s\n",
      "[CV]  svc__C=1, svc__gamma=0.5, svc__kernel=rbf, tfidf__norm=l1, vectorizer__min_df=3, tfidf__use_idf=True, svc__degree=2, vectorizer__ngram_range=(1, 4), score=0.8660770688566014, total=  15.7s\n",
      "[CV] svc__C=1, svc__gamma=1, svc__kernel=rbf, tfidf__norm=l1, vectorizer__min_df=2, tfidf__use_idf=True, svc__degree=2, vectorizer__ngram_range=(1, 4) \n",
      "[CV] svc__C=1, svc__gamma=1, svc__kernel=rbf, tfidf__norm=l1, vectorizer__min_df=2, tfidf__use_idf=True, svc__degree=2, vectorizer__ngram_range=(1, 4) \n",
      "[CV]  svc__C=1, svc__gamma=0.5, svc__kernel=rbf, tfidf__norm=l1, vectorizer__min_df=3, tfidf__use_idf=True, svc__degree=2, vectorizer__ngram_range=(1, 4), score=0.8724747474747475, total=  15.5s\n",
      "[CV] svc__C=1, svc__gamma=1, svc__kernel=rbf, tfidf__norm=l1, vectorizer__min_df=3, tfidf__use_idf=True, svc__degree=2, vectorizer__ngram_range=(1, 2) \n",
      "[CV]  svc__C=1, svc__gamma=0.5, svc__kernel=rbf, tfidf__norm=l1, vectorizer__min_df=3, tfidf__use_idf=True, svc__degree=2, vectorizer__ngram_range=(1, 3), score=0.865992414664981, total=  17.7s\n",
      "[CV] svc__C=1, svc__gamma=1, svc__kernel=rbf, tfidf__norm=l1, vectorizer__min_df=3, tfidf__use_idf=True, svc__degree=2, vectorizer__ngram_range=(1, 2) \n",
      "[CV]  svc__C=1, svc__gamma=0.5, svc__kernel=rbf, tfidf__norm=l2, vectorizer__min_df=2, tfidf__use_idf=True, svc__degree=2, vectorizer__ngram_range=(1, 2), score=0.8983585858585859, total=  14.7s\n",
      "[CV] svc__C=1, svc__gamma=1, svc__kernel=rbf, tfidf__norm=l1, vectorizer__min_df=3, tfidf__use_idf=True, svc__degree=2, vectorizer__ngram_range=(1, 2) \n",
      "[CV]  svc__C=1, svc__gamma=0.5, svc__kernel=rbf, tfidf__norm=l2, vectorizer__min_df=2, tfidf__use_idf=True, svc__degree=2, vectorizer__ngram_range=(1, 3), score=0.8900126422250316, total=  12.1s\n",
      "[CV] svc__C=1, svc__gamma=1, svc__kernel=rbf, tfidf__norm=l1, vectorizer__min_df=3, tfidf__use_idf=True, svc__degree=2, vectorizer__ngram_range=(1, 2) \n",
      "[CV]  svc__C=1, svc__gamma=0.5, svc__kernel=rbf, tfidf__norm=l2, vectorizer__min_df=3, tfidf__use_idf=True, svc__degree=2, vectorizer__ngram_range=(1, 2), score=0.8862199747155499, total=   8.8s\n",
      "[CV]  svc__C=1, svc__gamma=0.5, svc__kernel=rbf, tfidf__norm=l2, vectorizer__min_df=2, tfidf__use_idf=True, svc__degree=2, vectorizer__ngram_range=(1, 3), score=0.8875552747946936, total=  14.2s\n",
      "[CV] svc__C=1, svc__gamma=1, svc__kernel=rbf, tfidf__norm=l1, vectorizer__min_df=3, tfidf__use_idf=True, svc__degree=2, vectorizer__ngram_range=(1, 2) \n",
      "[CV] svc__C=1, svc__gamma=1, svc__kernel=rbf, tfidf__norm=l1, vectorizer__min_df=3, tfidf__use_idf=True, svc__degree=2, vectorizer__ngram_range=(1, 3) \n",
      "[CV]  svc__C=1, svc__gamma=0.5, svc__kernel=rbf, tfidf__norm=l1, vectorizer__min_df=3, tfidf__use_idf=True, svc__degree=2, vectorizer__ngram_range=(1, 4), score=0.865992414664981, total=  16.5s\n",
      "[CV] svc__C=1, svc__gamma=1, svc__kernel=rbf, tfidf__norm=l1, vectorizer__min_df=3, tfidf__use_idf=True, svc__degree=2, vectorizer__ngram_range=(1, 3) \n",
      "[CV]  svc__C=1, svc__gamma=0.5, svc__kernel=rbf, tfidf__norm=l2, vectorizer__min_df=2, tfidf__use_idf=True, svc__degree=2, vectorizer__ngram_range=(1, 2), score=0.8906447534766119, total=  15.1s\n",
      "[CV] svc__C=1, svc__gamma=1, svc__kernel=rbf, tfidf__norm=l1, vectorizer__min_df=3, tfidf__use_idf=True, svc__degree=2, vectorizer__ngram_range=(1, 3) \n",
      "[CV]  svc__C=1, svc__gamma=0.5, svc__kernel=rbf, tfidf__norm=l2, vectorizer__min_df=2, tfidf__use_idf=True, svc__degree=2, vectorizer__ngram_range=(1, 2), score=0.9020846493998737, total=  15.9s\n",
      "[CV] svc__C=1, svc__gamma=1, svc__kernel=rbf, tfidf__norm=l1, vectorizer__min_df=3, tfidf__use_idf=True, svc__degree=2, vectorizer__ngram_range=(1, 3) \n",
      "[CV]  svc__C=1, svc__gamma=0.5, svc__kernel=rbf, tfidf__norm=l2, vectorizer__min_df=2, tfidf__use_idf=True, svc__degree=2, vectorizer__ngram_range=(1, 2), score=0.886923562855338, total=  16.1s\n",
      "[CV] svc__C=1, svc__gamma=1, svc__kernel=rbf, tfidf__norm=l1, vectorizer__min_df=3, tfidf__use_idf=True, svc__degree=2, vectorizer__ngram_range=(1, 3) \n",
      "[CV]  svc__C=1, svc__gamma=0.5, svc__kernel=rbf, tfidf__norm=l2, vectorizer__min_df=2, tfidf__use_idf=True, svc__degree=2, vectorizer__ngram_range=(1, 2), score=0.8820189274447949, total=  16.6s\n",
      "[CV] svc__C=1, svc__gamma=1, svc__kernel=rbf, tfidf__norm=l1, vectorizer__min_df=3, tfidf__use_idf=True, svc__degree=2, vectorizer__ngram_range=(1, 4) \n",
      "[CV]  svc__C=1, svc__gamma=0.5, svc__kernel=rbf, tfidf__norm=l2, vectorizer__min_df=2, tfidf__use_idf=True, svc__degree=2, vectorizer__ngram_range=(1, 3), score=0.8832807570977917, total=  15.5s\n",
      "[CV] svc__C=1, svc__gamma=1, svc__kernel=rbf, tfidf__norm=l1, vectorizer__min_df=3, tfidf__use_idf=True, svc__degree=2, vectorizer__ngram_range=(1, 4) \n",
      "[CV]  svc__C=1, svc__gamma=0.5, svc__kernel=rbf, tfidf__norm=l2, vectorizer__min_df=3, tfidf__use_idf=True, svc__degree=2, vectorizer__ngram_range=(1, 2), score=0.9039797852179406, total=  10.8s\n",
      "[CV] svc__C=1, svc__gamma=1, svc__kernel=rbf, tfidf__norm=l1, vectorizer__min_df=3, tfidf__use_idf=True, svc__degree=2, vectorizer__ngram_range=(1, 4) \n",
      "[CV]  svc__C=1, svc__gamma=0.5, svc__kernel=rbf, tfidf__norm=l2, vectorizer__min_df=3, tfidf__use_idf=True, svc__degree=2, vectorizer__ngram_range=(1, 3), score=0.8868520859671302, total=  10.0s\n",
      "[CV] svc__C=1, svc__gamma=1, svc__kernel=rbf, tfidf__norm=l1, vectorizer__min_df=3, tfidf__use_idf=True, svc__degree=2, vectorizer__ngram_range=(1, 4) \n",
      "[CV]  svc__C=1, svc__gamma=0.5, svc__kernel=rbf, tfidf__norm=l2, vectorizer__min_df=3, tfidf__use_idf=True, svc__degree=2, vectorizer__ngram_range=(1, 2), score=0.8977272727272727, total=  14.1s\n",
      "[CV] svc__C=1, svc__gamma=1, svc__kernel=rbf, tfidf__norm=l1, vectorizer__min_df=3, tfidf__use_idf=True, svc__degree=2, vectorizer__ngram_range=(1, 4) \n",
      "[CV]  svc__C=1, svc__gamma=0.5, svc__kernel=rbf, tfidf__norm=l2, vectorizer__min_df=2, tfidf__use_idf=True, svc__degree=2, vectorizer__ngram_range=(1, 3), score=0.9002525252525253, total=  17.5s\n",
      "[CV] svc__C=1, svc__gamma=1, svc__kernel=rbf, tfidf__norm=l2, vectorizer__min_df=2, tfidf__use_idf=True, svc__degree=2, vectorizer__ngram_range=(1, 2) \n",
      "[CV]  svc__C=1, svc__gamma=0.5, svc__kernel=rbf, tfidf__norm=l2, vectorizer__min_df=2, tfidf__use_idf=True, svc__degree=2, vectorizer__ngram_range=(1, 4), score=0.8906447534766119, total=  15.1s\n",
      "[CV] svc__C=1, svc__gamma=1, svc__kernel=rbf, tfidf__norm=l2, vectorizer__min_df=2, tfidf__use_idf=True, svc__degree=2, vectorizer__ngram_range=(1, 2) \n",
      "[CV]  svc__C=1, svc__gamma=0.5, svc__kernel=rbf, tfidf__norm=l2, vectorizer__min_df=2, tfidf__use_idf=True, svc__degree=2, vectorizer__ngram_range=(1, 4), score=0.8996212121212122, total=  16.7s\n",
      "[CV] svc__C=1, svc__gamma=1, svc__kernel=rbf, tfidf__norm=l2, vectorizer__min_df=2, tfidf__use_idf=True, svc__degree=2, vectorizer__ngram_range=(1, 2) \n",
      "[CV]  svc__C=1, svc__gamma=0.5, svc__kernel=rbf, tfidf__norm=l2, vectorizer__min_df=2, tfidf__use_idf=True, svc__degree=2, vectorizer__ngram_range=(1, 3), score=0.9039797852179406, total=  18.1s\n",
      "[CV] svc__C=1, svc__gamma=1, svc__kernel=rbf, tfidf__norm=l2, vectorizer__min_df=2, tfidf__use_idf=True, svc__degree=2, vectorizer__ngram_range=(1, 2) \n",
      "[CV]  svc__C=1, svc__gamma=0.5, svc__kernel=rbf, tfidf__norm=l2, vectorizer__min_df=3, tfidf__use_idf=True, svc__degree=2, vectorizer__ngram_range=(1, 4), score=0.8813880126182966, total=  12.8s\n",
      "[CV] svc__C=1, svc__gamma=1, svc__kernel=rbf, tfidf__norm=l2, vectorizer__min_df=2, tfidf__use_idf=True, svc__degree=2, vectorizer__ngram_range=(1, 2) \n",
      "[CV]  svc__C=1, svc__gamma=0.5, svc__kernel=rbf, tfidf__norm=l2, vectorizer__min_df=3, tfidf__use_idf=True, svc__degree=2, vectorizer__ngram_range=(1, 3), score=0.8813880126182966, total=  13.2s\n",
      "[CV] svc__C=1, svc__gamma=1, svc__kernel=rbf, tfidf__norm=l2, vectorizer__min_df=2, tfidf__use_idf=True, svc__degree=2, vectorizer__ngram_range=(1, 3) \n",
      "[CV]  svc__C=1, svc__gamma=0.5, svc__kernel=rbf, tfidf__norm=l2, vectorizer__min_df=2, tfidf__use_idf=True, svc__degree=2, vectorizer__ngram_range=(1, 4), score=0.8820189274447949, total=  17.3s\n",
      "[CV] svc__C=1, svc__gamma=1, svc__kernel=rbf, tfidf__norm=l2, vectorizer__min_df=2, tfidf__use_idf=True, svc__degree=2, vectorizer__ngram_range=(1, 3) \n"
     ]
    },
    {
     "name": "stdout",
     "output_type": "stream",
     "text": [
      "[CV]  svc__C=1, svc__gamma=0.5, svc__kernel=rbf, tfidf__norm=l2, vectorizer__min_df=3, tfidf__use_idf=True, svc__degree=2, vectorizer__ngram_range=(1, 3), score=0.8964646464646465, total=  13.2s\n",
      "[CV] svc__C=1, svc__gamma=1, svc__kernel=rbf, tfidf__norm=l2, vectorizer__min_df=2, tfidf__use_idf=True, svc__degree=2, vectorizer__ngram_range=(1, 3) \n",
      "[CV]  svc__C=1, svc__gamma=0.5, svc__kernel=rbf, tfidf__norm=l2, vectorizer__min_df=3, tfidf__use_idf=True, svc__degree=2, vectorizer__ngram_range=(1, 2), score=0.8801261829652997, total=  15.0s\n",
      "[CV] svc__C=1, svc__gamma=1, svc__kernel=rbf, tfidf__norm=l2, vectorizer__min_df=2, tfidf__use_idf=True, svc__degree=2, vectorizer__ngram_range=(1, 3) \n",
      "[CV]  svc__C=1, svc__gamma=0.5, svc__kernel=rbf, tfidf__norm=l2, vectorizer__min_df=3, tfidf__use_idf=True, svc__degree=2, vectorizer__ngram_range=(1, 2), score=0.8856601389766267, total=  14.1s\n",
      "[CV] svc__C=1, svc__gamma=1, svc__kernel=rbf, tfidf__norm=l2, vectorizer__min_df=2, tfidf__use_idf=True, svc__degree=2, vectorizer__ngram_range=(1, 3) \n",
      "[CV]  svc__C=1, svc__gamma=0.5, svc__kernel=rbf, tfidf__norm=l2, vectorizer__min_df=3, tfidf__use_idf=True, svc__degree=2, vectorizer__ngram_range=(1, 3), score=0.9046114971572963, total=  14.3s\n",
      "[CV] svc__C=1, svc__gamma=1, svc__kernel=rbf, tfidf__norm=l2, vectorizer__min_df=2, tfidf__use_idf=True, svc__degree=2, vectorizer__ngram_range=(1, 4) \n",
      "[CV]  svc__C=1, svc__gamma=0.5, svc__kernel=rbf, tfidf__norm=l2, vectorizer__min_df=3, tfidf__use_idf=True, svc__degree=2, vectorizer__ngram_range=(1, 3), score=0.885028427037271, total=  13.7s\n",
      "[CV] svc__C=1, svc__gamma=1, svc__kernel=rbf, tfidf__norm=l2, vectorizer__min_df=2, tfidf__use_idf=True, svc__degree=2, vectorizer__ngram_range=(1, 4) \n",
      "[CV]  svc__C=1, svc__gamma=0.5, svc__kernel=rbf, tfidf__norm=l2, vectorizer__min_df=3, tfidf__use_idf=True, svc__degree=2, vectorizer__ngram_range=(1, 4), score=0.8862199747155499, total=  12.5s\n",
      "[CV] svc__C=1, svc__gamma=1, svc__kernel=rbf, tfidf__norm=l2, vectorizer__min_df=2, tfidf__use_idf=True, svc__degree=2, vectorizer__ngram_range=(1, 4) \n",
      "[CV]  svc__C=1, svc__gamma=0.5, svc__kernel=rbf, tfidf__norm=l2, vectorizer__min_df=3, tfidf__use_idf=True, svc__degree=2, vectorizer__ngram_range=(1, 4), score=0.885028427037271, total=  12.5s\n",
      "[CV] svc__C=1, svc__gamma=1, svc__kernel=rbf, tfidf__norm=l2, vectorizer__min_df=2, tfidf__use_idf=True, svc__degree=2, vectorizer__ngram_range=(1, 4) \n"
     ]
    },
    {
     "name": "stderr",
     "output_type": "stream",
     "text": [
      "[Parallel(n_jobs=-1)]: Done 416 tasks      | elapsed:  4.5min\n"
     ]
    },
    {
     "name": "stdout",
     "output_type": "stream",
     "text": [
      "[CV]  svc__C=1, svc__gamma=1, svc__kernel=rbf, tfidf__norm=l1, vectorizer__min_df=2, tfidf__use_idf=True, svc__degree=2, vectorizer__ngram_range=(1, 2), score=0.8818698673404928, total=  10.1s\n",
      "[CV] svc__C=1, svc__gamma=1, svc__kernel=rbf, tfidf__norm=l2, vectorizer__min_df=2, tfidf__use_idf=True, svc__degree=2, vectorizer__ngram_range=(1, 4) \n",
      "[CV]  svc__C=1, svc__gamma=0.5, svc__kernel=rbf, tfidf__norm=l2, vectorizer__min_df=2, tfidf__use_idf=True, svc__degree=2, vectorizer__ngram_range=(1, 4), score=0.9027163613392293, total=  18.7s\n",
      "[CV] svc__C=1, svc__gamma=1, svc__kernel=rbf, tfidf__norm=l2, vectorizer__min_df=3, tfidf__use_idf=True, svc__degree=2, vectorizer__ngram_range=(1, 2) \n",
      "[CV]  svc__C=1, svc__gamma=0.5, svc__kernel=rbf, tfidf__norm=l2, vectorizer__min_df=3, tfidf__use_idf=True, svc__degree=2, vectorizer__ngram_range=(1, 4), score=0.8964646464646465, total=  14.9s\n",
      "[CV]  svc__C=1, svc__gamma=0.5, svc__kernel=rbf, tfidf__norm=l2, vectorizer__min_df=2, tfidf__use_idf=True, svc__degree=2, vectorizer__ngram_range=(1, 4), score=0.8881869867340493, total=  17.6s\n",
      "[CV] svc__C=1, svc__gamma=1, svc__kernel=rbf, tfidf__norm=l2, vectorizer__min_df=3, tfidf__use_idf=True, svc__degree=2, vectorizer__ngram_range=(1, 2) \n",
      "[CV] svc__C=1, svc__gamma=1, svc__kernel=rbf, tfidf__norm=l2, vectorizer__min_df=3, tfidf__use_idf=True, svc__degree=2, vectorizer__ngram_range=(1, 2) \n",
      "[CV]  svc__C=1, svc__gamma=0.5, svc__kernel=rbf, tfidf__norm=l2, vectorizer__min_df=3, tfidf__use_idf=True, svc__degree=2, vectorizer__ngram_range=(1, 4), score=0.9046114971572963, total=  14.7s\n",
      "[CV] svc__C=1, svc__gamma=1, svc__kernel=rbf, tfidf__norm=l2, vectorizer__min_df=3, tfidf__use_idf=True, svc__degree=2, vectorizer__ngram_range=(1, 2) \n",
      "[CV]  svc__C=1, svc__gamma=1, svc__kernel=rbf, tfidf__norm=l1, vectorizer__min_df=2, tfidf__use_idf=True, svc__degree=2, vectorizer__ngram_range=(1, 2), score=0.8742893240682249, total=  13.0s\n",
      "[CV] svc__C=1, svc__gamma=1, svc__kernel=rbf, tfidf__norm=l2, vectorizer__min_df=3, tfidf__use_idf=True, svc__degree=2, vectorizer__ngram_range=(1, 2) \n",
      "[CV]  svc__C=1, svc__gamma=1, svc__kernel=rbf, tfidf__norm=l1, vectorizer__min_df=2, tfidf__use_idf=True, svc__degree=2, vectorizer__ngram_range=(1, 2), score=0.865615141955836, total=  15.3s\n",
      "[CV] svc__C=1, svc__gamma=1, svc__kernel=rbf, tfidf__norm=l2, vectorizer__min_df=3, tfidf__use_idf=True, svc__degree=2, vectorizer__ngram_range=(1, 3) \n",
      "[CV]  svc__C=1, svc__gamma=1, svc__kernel=rbf, tfidf__norm=l1, vectorizer__min_df=2, tfidf__use_idf=True, svc__degree=2, vectorizer__ngram_range=(1, 3), score=0.8761844598862919, total=  13.2s\n",
      "[CV] svc__C=1, svc__gamma=1, svc__kernel=rbf, tfidf__norm=l2, vectorizer__min_df=3, tfidf__use_idf=True, svc__degree=2, vectorizer__ngram_range=(1, 3) \n",
      "[CV]  svc__C=1, svc__gamma=1, svc__kernel=rbf, tfidf__norm=l1, vectorizer__min_df=2, tfidf__use_idf=True, svc__degree=2, vectorizer__ngram_range=(1, 4), score=0.8653603034134008, total=  10.6s\n",
      "[CV] svc__C=1, svc__gamma=1, svc__kernel=rbf, tfidf__norm=l2, vectorizer__min_df=3, tfidf__use_idf=True, svc__degree=2, vectorizer__ngram_range=(1, 3) \n",
      "[CV]  svc__C=1, svc__gamma=1, svc__kernel=rbf, tfidf__norm=l1, vectorizer__min_df=2, tfidf__use_idf=True, svc__degree=2, vectorizer__ngram_range=(1, 2), score=0.8729456384323641, total=  15.0s\n",
      "[CV] svc__C=1, svc__gamma=1, svc__kernel=rbf, tfidf__norm=l2, vectorizer__min_df=3, tfidf__use_idf=True, svc__degree=2, vectorizer__ngram_range=(1, 3) \n",
      "[CV]  svc__C=1, svc__gamma=1, svc__kernel=rbf, tfidf__norm=l1, vectorizer__min_df=2, tfidf__use_idf=True, svc__degree=2, vectorizer__ngram_range=(1, 2), score=0.88510101010101, total=  16.6s\n",
      "[CV] svc__C=1, svc__gamma=1, svc__kernel=rbf, tfidf__norm=l2, vectorizer__min_df=3, tfidf__use_idf=True, svc__degree=2, vectorizer__ngram_range=(1, 3) \n",
      "[CV]  svc__C=1, svc__gamma=1, svc__kernel=rbf, tfidf__norm=l1, vectorizer__min_df=2, tfidf__use_idf=True, svc__degree=2, vectorizer__ngram_range=(1, 4), score=0.8749210360075805, total=  13.1s\n",
      "[CV] svc__C=1, svc__gamma=1, svc__kernel=rbf, tfidf__norm=l2, vectorizer__min_df=3, tfidf__use_idf=True, svc__degree=2, vectorizer__ngram_range=(1, 4) \n",
      "[CV]  svc__C=1, svc__gamma=1, svc__kernel=rbf, tfidf__norm=l1, vectorizer__min_df=2, tfidf__use_idf=True, svc__degree=2, vectorizer__ngram_range=(1, 3), score=0.8825757575757576, total=  16.3s\n",
      "[CV] svc__C=1, svc__gamma=1, svc__kernel=rbf, tfidf__norm=l2, vectorizer__min_df=3, tfidf__use_idf=True, svc__degree=2, vectorizer__ngram_range=(1, 4) \n",
      "[CV]  svc__C=1, svc__gamma=1, svc__kernel=rbf, tfidf__norm=l1, vectorizer__min_df=2, tfidf__use_idf=True, svc__degree=2, vectorizer__ngram_range=(1, 3), score=0.8691529709228825, total=  15.1s\n",
      "[CV] svc__C=1, svc__gamma=1, svc__kernel=rbf, tfidf__norm=l2, vectorizer__min_df=3, tfidf__use_idf=True, svc__degree=2, vectorizer__ngram_range=(1, 4) \n",
      "[CV]  svc__C=1, svc__gamma=1, svc__kernel=rbf, tfidf__norm=l1, vectorizer__min_df=2, tfidf__use_idf=True, svc__degree=2, vectorizer__ngram_range=(1, 3), score=0.881238155401137, total=  16.6s\n",
      "[CV] svc__C=1, svc__gamma=1, svc__kernel=rbf, tfidf__norm=l2, vectorizer__min_df=3, tfidf__use_idf=True, svc__degree=2, vectorizer__ngram_range=(1, 4) \n",
      "[CV]  svc__C=1, svc__gamma=1, svc__kernel=rbf, tfidf__norm=l1, vectorizer__min_df=3, tfidf__use_idf=True, svc__degree=2, vectorizer__ngram_range=(1, 2), score=0.8882575757575758, total=  11.1s\n",
      "[CV] svc__C=1, svc__gamma=1, svc__kernel=rbf, tfidf__norm=l2, vectorizer__min_df=3, tfidf__use_idf=True, svc__degree=2, vectorizer__ngram_range=(1, 4) \n",
      "[CV]  svc__C=1, svc__gamma=1, svc__kernel=rbf, tfidf__norm=l1, vectorizer__min_df=2, tfidf__use_idf=True, svc__degree=2, vectorizer__ngram_range=(1, 3), score=0.8630914826498423, total=  17.0s\n",
      "[CV] svc__C=1, svc__gamma=0.5, svc__kernel=rbf, tfidf__norm=l1, vectorizer__min_df=2, tfidf__use_idf=True, svc__degree=4, vectorizer__ngram_range=(1, 2) \n",
      "[CV]  svc__C=1, svc__gamma=1, svc__kernel=rbf, tfidf__norm=l1, vectorizer__min_df=2, tfidf__use_idf=True, svc__degree=2, vectorizer__ngram_range=(1, 4), score=0.8618296529968454, total=  16.2s\n",
      "[CV] svc__C=1, svc__gamma=0.5, svc__kernel=rbf, tfidf__norm=l1, vectorizer__min_df=2, tfidf__use_idf=True, svc__degree=4, vectorizer__ngram_range=(1, 2) \n",
      "[CV]  svc__C=1, svc__gamma=1, svc__kernel=rbf, tfidf__norm=l1, vectorizer__min_df=3, tfidf__use_idf=True, svc__degree=2, vectorizer__ngram_range=(1, 2), score=0.8706624605678234, total=  13.5s\n",
      "[CV] svc__C=1, svc__gamma=0.5, svc__kernel=rbf, tfidf__norm=l1, vectorizer__min_df=2, tfidf__use_idf=True, svc__degree=4, vectorizer__ngram_range=(1, 2) \n",
      "[CV]  svc__C=1, svc__gamma=1, svc__kernel=rbf, tfidf__norm=l1, vectorizer__min_df=3, tfidf__use_idf=True, svc__degree=2, vectorizer__ngram_range=(1, 3), score=0.8875552747946936, total=  11.9s\n",
      "[CV] svc__C=1, svc__gamma=0.5, svc__kernel=rbf, tfidf__norm=l1, vectorizer__min_df=2, tfidf__use_idf=True, svc__degree=4, vectorizer__ngram_range=(1, 2) \n",
      "[CV]  svc__C=1, svc__gamma=1, svc__kernel=rbf, tfidf__norm=l1, vectorizer__min_df=3, tfidf__use_idf=True, svc__degree=2, vectorizer__ngram_range=(1, 3), score=0.8888888888888888, total=  12.0s\n",
      "[CV] svc__C=1, svc__gamma=0.5, svc__kernel=rbf, tfidf__norm=l1, vectorizer__min_df=2, tfidf__use_idf=True, svc__degree=4, vectorizer__ngram_range=(1, 2) \n",
      "[CV]  svc__C=1, svc__gamma=1, svc__kernel=rbf, tfidf__norm=l1, vectorizer__min_df=3, tfidf__use_idf=True, svc__degree=2, vectorizer__ngram_range=(1, 2), score=0.8805309734513275, total=  11.6s\n",
      "[CV] svc__C=1, svc__gamma=0.5, svc__kernel=rbf, tfidf__norm=l1, vectorizer__min_df=2, tfidf__use_idf=True, svc__degree=4, vectorizer__ngram_range=(1, 3) \n",
      "[CV]  svc__C=1, svc__gamma=1, svc__kernel=rbf, tfidf__norm=l1, vectorizer__min_df=3, tfidf__use_idf=True, svc__degree=2, vectorizer__ngram_range=(1, 2), score=0.8780795957043588, total=  12.1s\n",
      "[CV] svc__C=1, svc__gamma=0.5, svc__kernel=rbf, tfidf__norm=l1, vectorizer__min_df=2, tfidf__use_idf=True, svc__degree=4, vectorizer__ngram_range=(1, 3) \n",
      "[CV]  svc__C=1, svc__gamma=1, svc__kernel=rbf, tfidf__norm=l1, vectorizer__min_df=3, tfidf__use_idf=True, svc__degree=2, vectorizer__ngram_range=(1, 3), score=0.8780025284450064, total=  11.5s\n",
      "[CV]  svc__C=1, svc__gamma=1, svc__kernel=rbf, tfidf__norm=l1, vectorizer__min_df=2, tfidf__use_idf=True, svc__degree=2, vectorizer__ngram_range=(1, 4), score=0.8806064434617814, total=  15.8s\n"
     ]
    },
    {
     "name": "stdout",
     "output_type": "stream",
     "text": [
      "[CV] svc__C=1, svc__gamma=0.5, svc__kernel=rbf, tfidf__norm=l1, vectorizer__min_df=2, tfidf__use_idf=True, svc__degree=4, vectorizer__ngram_range=(1, 3) \n",
      "[CV]  svc__C=1, svc__gamma=1, svc__kernel=rbf, tfidf__norm=l1, vectorizer__min_df=3, tfidf__use_idf=True, svc__degree=2, vectorizer__ngram_range=(1, 4), score=0.8719242902208202, total=  11.5s\n",
      "[CV] svc__C=1, svc__gamma=0.5, svc__kernel=rbf, tfidf__norm=l1, vectorizer__min_df=2, tfidf__use_idf=True, svc__degree=4, vectorizer__ngram_range=(1, 3) \n",
      "[CV] svc__C=1, svc__gamma=0.5, svc__kernel=rbf, tfidf__norm=l1, vectorizer__min_df=2, tfidf__use_idf=True, svc__degree=4, vectorizer__ngram_range=(1, 3) \n",
      "[CV]  svc__C=1, svc__gamma=1, svc__kernel=rbf, tfidf__norm=l1, vectorizer__min_df=2, tfidf__use_idf=True, svc__degree=2, vectorizer__ngram_range=(1, 4), score=0.8819444444444444, total=  17.6s\n",
      "[CV] svc__C=1, svc__gamma=0.5, svc__kernel=rbf, tfidf__norm=l1, vectorizer__min_df=2, tfidf__use_idf=True, svc__degree=4, vectorizer__ngram_range=(1, 4) \n",
      "[CV]  svc__C=1, svc__gamma=1, svc__kernel=rbf, tfidf__norm=l1, vectorizer__min_df=3, tfidf__use_idf=True, svc__degree=2, vectorizer__ngram_range=(1, 3), score=0.8719242902208202, total=  12.5s\n",
      "[CV] svc__C=1, svc__gamma=0.5, svc__kernel=rbf, tfidf__norm=l1, vectorizer__min_df=2, tfidf__use_idf=True, svc__degree=4, vectorizer__ngram_range=(1, 4) \n",
      "[CV]  svc__C=1, svc__gamma=1, svc__kernel=rbf, tfidf__norm=l1, vectorizer__min_df=3, tfidf__use_idf=True, svc__degree=2, vectorizer__ngram_range=(1, 2), score=0.886923562855338, total=  12.7s\n",
      "[CV] svc__C=1, svc__gamma=0.5, svc__kernel=rbf, tfidf__norm=l1, vectorizer__min_df=2, tfidf__use_idf=True, svc__degree=4, vectorizer__ngram_range=(1, 4) \n",
      "[CV]  svc__C=1, svc__gamma=1, svc__kernel=rbf, tfidf__norm=l1, vectorizer__min_df=3, tfidf__use_idf=True, svc__degree=2, vectorizer__ngram_range=(1, 3), score=0.8774478837650032, total=  13.8s\n",
      "[CV] svc__C=1, svc__gamma=0.5, svc__kernel=rbf, tfidf__norm=l1, vectorizer__min_df=2, tfidf__use_idf=True, svc__degree=4, vectorizer__ngram_range=(1, 4) \n",
      "[CV]  svc__C=1, svc__gamma=1, svc__kernel=rbf, tfidf__norm=l1, vectorizer__min_df=3, tfidf__use_idf=True, svc__degree=2, vectorizer__ngram_range=(1, 4), score=0.8894504106127605, total=  12.5s\n",
      "[CV] svc__C=1, svc__gamma=0.5, svc__kernel=rbf, tfidf__norm=l1, vectorizer__min_df=2, tfidf__use_idf=True, svc__degree=4, vectorizer__ngram_range=(1, 4) \n",
      "[CV]  svc__C=1, svc__gamma=1, svc__kernel=rbf, tfidf__norm=l1, vectorizer__min_df=3, tfidf__use_idf=True, svc__degree=2, vectorizer__ngram_range=(1, 4), score=0.8761061946902655, total=  11.9s\n",
      "[CV] svc__C=1, svc__gamma=0.5, svc__kernel=rbf, tfidf__norm=l1, vectorizer__min_df=3, tfidf__use_idf=True, svc__degree=4, vectorizer__ngram_range=(1, 2) \n",
      "[CV]  svc__C=1, svc__gamma=1, svc__kernel=rbf, tfidf__norm=l1, vectorizer__min_df=3, tfidf__use_idf=True, svc__degree=2, vectorizer__ngram_range=(1, 4), score=0.8863636363636364, total=  13.3s\n",
      "[CV] svc__C=1, svc__gamma=0.5, svc__kernel=rbf, tfidf__norm=l1, vectorizer__min_df=3, tfidf__use_idf=True, svc__degree=4, vectorizer__ngram_range=(1, 2) \n"
     ]
    },
    {
     "name": "stderr",
     "output_type": "stream",
     "text": [
      "[Parallel(n_jobs=-1)]: Done 449 tasks      | elapsed:  4.8min\n"
     ]
    },
    {
     "name": "stdout",
     "output_type": "stream",
     "text": [
      "[CV]  svc__C=1, svc__gamma=1, svc__kernel=rbf, tfidf__norm=l1, vectorizer__min_df=3, tfidf__use_idf=True, svc__degree=2, vectorizer__ngram_range=(1, 4), score=0.8787113076437144, total=  14.9s\n",
      "[CV] svc__C=1, svc__gamma=0.5, svc__kernel=rbf, tfidf__norm=l1, vectorizer__min_df=3, tfidf__use_idf=True, svc__degree=4, vectorizer__ngram_range=(1, 2) \n",
      "[CV]  svc__C=1, svc__gamma=1, svc__kernel=rbf, tfidf__norm=l2, vectorizer__min_df=3, tfidf__use_idf=True, svc__degree=2, vectorizer__ngram_range=(1, 2), score=0.9015151515151515, total=  12.8s\n",
      "[CV] svc__C=1, svc__gamma=0.5, svc__kernel=rbf, tfidf__norm=l1, vectorizer__min_df=3, tfidf__use_idf=True, svc__degree=4, vectorizer__ngram_range=(1, 2) \n",
      "[CV]  svc__C=1, svc__gamma=1, svc__kernel=rbf, tfidf__norm=l2, vectorizer__min_df=2, tfidf__use_idf=True, svc__degree=2, vectorizer__ngram_range=(1, 4), score=0.8902208201892744, total=  16.2s\n",
      "[CV] svc__C=1, svc__gamma=0.5, svc__kernel=rbf, tfidf__norm=l1, vectorizer__min_df=3, tfidf__use_idf=True, svc__degree=4, vectorizer__ngram_range=(1, 2) \n",
      "[CV]  svc__C=1, svc__gamma=1, svc__kernel=rbf, tfidf__norm=l2, vectorizer__min_df=2, tfidf__use_idf=True, svc__degree=2, vectorizer__ngram_range=(1, 2), score=0.8902208201892744, total=  17.7s\n",
      "[CV] svc__C=1, svc__gamma=0.5, svc__kernel=rbf, tfidf__norm=l1, vectorizer__min_df=3, tfidf__use_idf=True, svc__degree=4, vectorizer__ngram_range=(1, 3) \n",
      "[CV]  svc__C=1, svc__gamma=1, svc__kernel=rbf, tfidf__norm=l2, vectorizer__min_df=2, tfidf__use_idf=True, svc__degree=2, vectorizer__ngram_range=(1, 2), score=0.8938723941882502, total=  17.4s\n",
      "[CV] svc__C=1, svc__gamma=0.5, svc__kernel=rbf, tfidf__norm=l1, vectorizer__min_df=3, tfidf__use_idf=True, svc__degree=4, vectorizer__ngram_range=(1, 3) \n",
      "[CV]  svc__C=1, svc__gamma=1, svc__kernel=rbf, tfidf__norm=l2, vectorizer__min_df=2, tfidf__use_idf=True, svc__degree=2, vectorizer__ngram_range=(1, 3), score=0.8883280757097792, total=  16.8s\n",
      "[CV] svc__C=1, svc__gamma=0.5, svc__kernel=rbf, tfidf__norm=l1, vectorizer__min_df=3, tfidf__use_idf=True, svc__degree=4, vectorizer__ngram_range=(1, 3) \n",
      "[CV]  svc__C=1, svc__gamma=1, svc__kernel=rbf, tfidf__norm=l2, vectorizer__min_df=2, tfidf__use_idf=True, svc__degree=2, vectorizer__ngram_range=(1, 2), score=0.8983585858585859, total=  18.5s\n",
      "[CV] svc__C=1, svc__gamma=0.5, svc__kernel=rbf, tfidf__norm=l1, vectorizer__min_df=3, tfidf__use_idf=True, svc__degree=4, vectorizer__ngram_range=(1, 3) \n",
      "[CV]  svc__C=1, svc__gamma=1, svc__kernel=rbf, tfidf__norm=l2, vectorizer__min_df=3, tfidf__use_idf=True, svc__degree=2, vectorizer__ngram_range=(1, 3), score=0.8858044164037855, total=  12.2s\n",
      "[CV]  svc__C=1, svc__gamma=1, svc__kernel=rbf, tfidf__norm=l2, vectorizer__min_df=2, tfidf__use_idf=True, svc__degree=2, vectorizer__ngram_range=(1, 2), score=0.8893805309734514, total=  17.2s\n",
      "[CV] svc__C=1, svc__gamma=0.5, svc__kernel=rbf, tfidf__norm=l1, vectorizer__min_df=3, tfidf__use_idf=True, svc__degree=4, vectorizer__ngram_range=(1, 3) \n",
      "[CV] svc__C=1, svc__gamma=0.5, svc__kernel=rbf, tfidf__norm=l1, vectorizer__min_df=3, tfidf__use_idf=True, svc__degree=4, vectorizer__ngram_range=(1, 4) \n",
      "[CV]  svc__C=1, svc__gamma=1, svc__kernel=rbf, tfidf__norm=l2, vectorizer__min_df=2, tfidf__use_idf=True, svc__degree=2, vectorizer__ngram_range=(1, 3), score=0.898989898989899, total=  19.3s\n",
      "[CV] svc__C=1, svc__gamma=0.5, svc__kernel=rbf, tfidf__norm=l1, vectorizer__min_df=3, tfidf__use_idf=True, svc__degree=4, vectorizer__ngram_range=(1, 4) \n",
      "[CV]  svc__C=1, svc__gamma=1, svc__kernel=rbf, tfidf__norm=l2, vectorizer__min_df=2, tfidf__use_idf=True, svc__degree=2, vectorizer__ngram_range=(1, 3), score=0.8893805309734514, total=  19.4s\n",
      "[CV] svc__C=1, svc__gamma=0.5, svc__kernel=rbf, tfidf__norm=l1, vectorizer__min_df=3, tfidf__use_idf=True, svc__degree=4, vectorizer__ngram_range=(1, 4) \n",
      "[CV]  svc__C=1, svc__gamma=1, svc__kernel=rbf, tfidf__norm=l2, vectorizer__min_df=2, tfidf__use_idf=True, svc__degree=2, vectorizer__ngram_range=(1, 4), score=0.9027163613392293, total=  17.0s\n",
      "[CV] svc__C=1, svc__gamma=0.5, svc__kernel=rbf, tfidf__norm=l1, vectorizer__min_df=3, tfidf__use_idf=True, svc__degree=4, vectorizer__ngram_range=(1, 4) \n",
      "[CV]  svc__C=1, svc__gamma=1, svc__kernel=rbf, tfidf__norm=l2, vectorizer__min_df=3, tfidf__use_idf=True, svc__degree=2, vectorizer__ngram_range=(1, 4), score=0.8906447534766119, total=  12.3s\n",
      "[CV] svc__C=1, svc__gamma=0.5, svc__kernel=rbf, tfidf__norm=l1, vectorizer__min_df=3, tfidf__use_idf=True, svc__degree=4, vectorizer__ngram_range=(1, 4) \n",
      "[CV]  svc__C=1, svc__gamma=1, svc__kernel=rbf, tfidf__norm=l2, vectorizer__min_df=3, tfidf__use_idf=True, svc__degree=2, vectorizer__ngram_range=(1, 3), score=0.9008838383838383, total=  15.6s\n",
      "[CV] svc__C=1, svc__gamma=0.5, svc__kernel=rbf, tfidf__norm=l2, vectorizer__min_df=2, tfidf__use_idf=True, svc__degree=4, vectorizer__ngram_range=(1, 2) \n",
      "[CV]  svc__C=1, svc__gamma=1, svc__kernel=rbf, tfidf__norm=l2, vectorizer__min_df=2, tfidf__use_idf=True, svc__degree=2, vectorizer__ngram_range=(1, 2), score=0.901452937460518, total=  19.9s\n",
      "[CV] svc__C=1, svc__gamma=0.5, svc__kernel=rbf, tfidf__norm=l2, vectorizer__min_df=2, tfidf__use_idf=True, svc__degree=4, vectorizer__ngram_range=(1, 2) \n",
      "[CV]  svc__C=1, svc__gamma=1, svc__kernel=rbf, tfidf__norm=l2, vectorizer__min_df=2, tfidf__use_idf=True, svc__degree=2, vectorizer__ngram_range=(1, 3), score=0.903348073278585, total=  20.0s\n",
      "[CV] svc__C=1, svc__gamma=0.5, svc__kernel=rbf, tfidf__norm=l2, vectorizer__min_df=2, tfidf__use_idf=True, svc__degree=4, vectorizer__ngram_range=(1, 2) \n",
      "[CV]  svc__C=1, svc__gamma=1, svc__kernel=rbf, tfidf__norm=l2, vectorizer__min_df=3, tfidf__use_idf=True, svc__degree=2, vectorizer__ngram_range=(1, 3), score=0.8913455464308275, total=  14.4s\n",
      "[CV] svc__C=1, svc__gamma=0.5, svc__kernel=rbf, tfidf__norm=l2, vectorizer__min_df=2, tfidf__use_idf=True, svc__degree=4, vectorizer__ngram_range=(1, 2) \n",
      "[CV]  svc__C=1, svc__gamma=1, svc__kernel=rbf, tfidf__norm=l2, vectorizer__min_df=3, tfidf__use_idf=True, svc__degree=2, vectorizer__ngram_range=(1, 2), score=0.8912768647281921, total=  16.3s\n",
      "[CV] svc__C=1, svc__gamma=0.5, svc__kernel=rbf, tfidf__norm=l2, vectorizer__min_df=2, tfidf__use_idf=True, svc__degree=4, vectorizer__ngram_range=(1, 2) \n",
      "[CV]  svc__C=1, svc__gamma=1, svc__kernel=rbf, tfidf__norm=l2, vectorizer__min_df=3, tfidf__use_idf=True, svc__degree=2, vectorizer__ngram_range=(1, 4), score=0.9008838383838383, total=  13.2s\n",
      "[CV] svc__C=1, svc__gamma=0.5, svc__kernel=rbf, tfidf__norm=l2, vectorizer__min_df=2, tfidf__use_idf=True, svc__degree=4, vectorizer__ngram_range=(1, 3) \n",
      "[CV]  svc__C=1, svc__gamma=1, svc__kernel=rbf, tfidf__norm=l2, vectorizer__min_df=2, tfidf__use_idf=True, svc__degree=2, vectorizer__ngram_range=(1, 3), score=0.8926089703095389, total=  22.0s\n",
      "[CV] svc__C=1, svc__gamma=0.5, svc__kernel=rbf, tfidf__norm=l2, vectorizer__min_df=2, tfidf__use_idf=True, svc__degree=4, vectorizer__ngram_range=(1, 3) \n",
      "[CV]  svc__C=1, svc__gamma=1, svc__kernel=rbf, tfidf__norm=l2, vectorizer__min_df=3, tfidf__use_idf=True, svc__degree=2, vectorizer__ngram_range=(1, 4), score=0.8913455464308275, total=  12.8s\n",
      "[CV] svc__C=1, svc__gamma=0.5, svc__kernel=rbf, tfidf__norm=l2, vectorizer__min_df=2, tfidf__use_idf=True, svc__degree=4, vectorizer__ngram_range=(1, 3) \n",
      "[CV]  svc__C=1, svc__gamma=1, svc__kernel=rbf, tfidf__norm=l2, vectorizer__min_df=3, tfidf__use_idf=True, svc__degree=2, vectorizer__ngram_range=(1, 2), score=0.8858044164037855, total=  18.4s\n",
      "[CV] svc__C=1, svc__gamma=0.5, svc__kernel=rbf, tfidf__norm=l2, vectorizer__min_df=2, tfidf__use_idf=True, svc__degree=4, vectorizer__ngram_range=(1, 3) \n",
      "[CV]  svc__C=1, svc__gamma=1, svc__kernel=rbf, tfidf__norm=l2, vectorizer__min_df=2, tfidf__use_idf=True, svc__degree=2, vectorizer__ngram_range=(1, 4), score=0.8919772583701832, total=  20.7s\n",
      "[CV] svc__C=1, svc__gamma=0.5, svc__kernel=rbf, tfidf__norm=l2, vectorizer__min_df=2, tfidf__use_idf=True, svc__degree=4, vectorizer__ngram_range=(1, 3) \n",
      "[CV]  svc__C=1, svc__gamma=1, svc__kernel=rbf, tfidf__norm=l2, vectorizer__min_df=3, tfidf__use_idf=True, svc__degree=2, vectorizer__ngram_range=(1, 2), score=0.8926089703095389, total=  17.2s\n",
      "[CV] svc__C=1, svc__gamma=0.5, svc__kernel=rbf, tfidf__norm=l2, vectorizer__min_df=2, tfidf__use_idf=True, svc__degree=4, vectorizer__ngram_range=(1, 4) \n"
     ]
    },
    {
     "name": "stdout",
     "output_type": "stream",
     "text": [
      "[CV]  svc__C=1, svc__gamma=1, svc__kernel=rbf, tfidf__norm=l2, vectorizer__min_df=3, tfidf__use_idf=True, svc__degree=2, vectorizer__ngram_range=(1, 4), score=0.886435331230284, total=  16.8s\n",
      "[CV] svc__C=1, svc__gamma=0.5, svc__kernel=rbf, tfidf__norm=l2, vectorizer__min_df=2, tfidf__use_idf=True, svc__degree=4, vectorizer__ngram_range=(1, 4) \n",
      "[CV]  svc__C=1, svc__gamma=1, svc__kernel=rbf, tfidf__norm=l2, vectorizer__min_df=3, tfidf__use_idf=True, svc__degree=2, vectorizer__ngram_range=(1, 4), score=0.901452937460518, total=  15.1s\n",
      "[CV]  svc__C=1, svc__gamma=1, svc__kernel=rbf, tfidf__norm=l2, vectorizer__min_df=3, tfidf__use_idf=True, svc__degree=2, vectorizer__ngram_range=(1, 2), score=0.9027163613392293, total=  17.5s\n",
      "[CV] svc__C=1, svc__gamma=0.5, svc__kernel=rbf, tfidf__norm=l2, vectorizer__min_df=2, tfidf__use_idf=True, svc__degree=4, vectorizer__ngram_range=(1, 4) \n",
      "[CV] svc__C=1, svc__gamma=0.5, svc__kernel=rbf, tfidf__norm=l2, vectorizer__min_df=2, tfidf__use_idf=True, svc__degree=4, vectorizer__ngram_range=(1, 4) \n",
      "[CV]  svc__C=1, svc__gamma=1, svc__kernel=rbf, tfidf__norm=l2, vectorizer__min_df=2, tfidf__use_idf=True, svc__degree=2, vectorizer__ngram_range=(1, 4), score=0.8996212121212122, total=  23.0s\n",
      "[CV] svc__C=1, svc__gamma=0.5, svc__kernel=rbf, tfidf__norm=l2, vectorizer__min_df=2, tfidf__use_idf=True, svc__degree=4, vectorizer__ngram_range=(1, 4) \n",
      "[CV]  svc__C=1, svc__gamma=1, svc__kernel=rbf, tfidf__norm=l2, vectorizer__min_df=3, tfidf__use_idf=True, svc__degree=2, vectorizer__ngram_range=(1, 3), score=0.8906447534766119, total=  18.0s\n",
      "[CV] svc__C=1, svc__gamma=0.5, svc__kernel=rbf, tfidf__norm=l2, vectorizer__min_df=3, tfidf__use_idf=True, svc__degree=4, vectorizer__ngram_range=(1, 2) \n",
      "[CV]  svc__C=1, svc__gamma=1, svc__kernel=rbf, tfidf__norm=l2, vectorizer__min_df=2, tfidf__use_idf=True, svc__degree=2, vectorizer__ngram_range=(1, 4), score=0.888748419721871, total=  22.5s\n",
      "[CV] svc__C=1, svc__gamma=0.5, svc__kernel=rbf, tfidf__norm=l2, vectorizer__min_df=3, tfidf__use_idf=True, svc__degree=4, vectorizer__ngram_range=(1, 2) \n",
      "[CV]  svc__C=1, svc__gamma=0.5, svc__kernel=rbf, tfidf__norm=l1, vectorizer__min_df=2, tfidf__use_idf=True, svc__degree=4, vectorizer__ngram_range=(1, 2), score=0.8511041009463722, total=  16.5s\n",
      "[CV] svc__C=1, svc__gamma=0.5, svc__kernel=rbf, tfidf__norm=l2, vectorizer__min_df=3, tfidf__use_idf=True, svc__degree=4, vectorizer__ngram_range=(1, 2) \n",
      "[CV]  svc__C=1, svc__gamma=0.5, svc__kernel=rbf, tfidf__norm=l1, vectorizer__min_df=2, tfidf__use_idf=True, svc__degree=4, vectorizer__ngram_range=(1, 2), score=0.8693181818181818, total=  16.0s\n",
      "[CV] svc__C=1, svc__gamma=0.5, svc__kernel=rbf, tfidf__norm=l2, vectorizer__min_df=3, tfidf__use_idf=True, svc__degree=4, vectorizer__ngram_range=(1, 2) \n",
      "[CV]  svc__C=1, svc__gamma=0.5, svc__kernel=rbf, tfidf__norm=l1, vectorizer__min_df=2, tfidf__use_idf=True, svc__degree=4, vectorizer__ngram_range=(1, 2), score=0.8584070796460177, total=  15.0s\n",
      "[CV] svc__C=1, svc__gamma=0.5, svc__kernel=rbf, tfidf__norm=l2, vectorizer__min_df=3, tfidf__use_idf=True, svc__degree=4, vectorizer__ngram_range=(1, 2) \n"
     ]
    },
    {
     "name": "stderr",
     "output_type": "stream",
     "text": [
      "[Parallel(n_jobs=-1)]: Done 482 tasks      | elapsed:  5.0min\n"
     ]
    },
    {
     "name": "stdout",
     "output_type": "stream",
     "text": [
      "[CV]  svc__C=1, svc__gamma=1, svc__kernel=rbf, tfidf__norm=l2, vectorizer__min_df=3, tfidf__use_idf=True, svc__degree=2, vectorizer__ngram_range=(1, 3), score=0.9020846493998737, total=  18.1s\n",
      "[CV] svc__C=1, svc__gamma=0.5, svc__kernel=rbf, tfidf__norm=l2, vectorizer__min_df=3, tfidf__use_idf=True, svc__degree=4, vectorizer__ngram_range=(1, 3) \n",
      "[CV]  svc__C=1, svc__gamma=0.5, svc__kernel=rbf, tfidf__norm=l1, vectorizer__min_df=3, tfidf__use_idf=True, svc__degree=4, vectorizer__ngram_range=(1, 2), score=0.861198738170347, total=  12.1s\n",
      "[CV] svc__C=1, svc__gamma=0.5, svc__kernel=rbf, tfidf__norm=l2, vectorizer__min_df=3, tfidf__use_idf=True, svc__degree=4, vectorizer__ngram_range=(1, 3) \n",
      "[CV]  svc__C=1, svc__gamma=0.5, svc__kernel=rbf, tfidf__norm=l1, vectorizer__min_df=3, tfidf__use_idf=True, svc__degree=4, vectorizer__ngram_range=(1, 2), score=0.8717624763108023, total=   8.4s\n",
      "[CV]  svc__C=1, svc__gamma=0.5, svc__kernel=rbf, tfidf__norm=l1, vectorizer__min_df=2, tfidf__use_idf=True, svc__degree=4, vectorizer__ngram_range=(1, 2), score=0.8704990524320909, total=  17.6s\n",
      "[CV] svc__C=1, svc__gamma=0.5, svc__kernel=rbf, tfidf__norm=l2, vectorizer__min_df=3, tfidf__use_idf=True, svc__degree=4, vectorizer__ngram_range=(1, 3) \n",
      "[CV] svc__C=1, svc__gamma=0.5, svc__kernel=rbf, tfidf__norm=l2, vectorizer__min_df=3, tfidf__use_idf=True, svc__degree=4, vectorizer__ngram_range=(1, 3) \n",
      "[CV]  svc__C=1, svc__gamma=0.5, svc__kernel=rbf, tfidf__norm=l1, vectorizer__min_df=2, tfidf__use_idf=True, svc__degree=4, vectorizer__ngram_range=(1, 4), score=0.849211356466877, total=  15.8s\n",
      "[CV] svc__C=1, svc__gamma=0.5, svc__kernel=rbf, tfidf__norm=l2, vectorizer__min_df=3, tfidf__use_idf=True, svc__degree=4, vectorizer__ngram_range=(1, 3) \n",
      "[CV]  svc__C=1, svc__gamma=0.5, svc__kernel=rbf, tfidf__norm=l1, vectorizer__min_df=2, tfidf__use_idf=True, svc__degree=4, vectorizer__ngram_range=(1, 3), score=0.8622867972204674, total=  15.6s\n",
      "[CV] svc__C=1, svc__gamma=0.5, svc__kernel=rbf, tfidf__norm=l2, vectorizer__min_df=3, tfidf__use_idf=True, svc__degree=4, vectorizer__ngram_range=(1, 4) \n",
      "[CV]  svc__C=1, svc__gamma=0.5, svc__kernel=rbf, tfidf__norm=l1, vectorizer__min_df=2, tfidf__use_idf=True, svc__degree=4, vectorizer__ngram_range=(1, 3), score=0.8511041009463722, total=  18.0s\n",
      "[CV]  svc__C=1, svc__gamma=0.5, svc__kernel=rbf, tfidf__norm=l1, vectorizer__min_df=2, tfidf__use_idf=True, svc__degree=4, vectorizer__ngram_range=(1, 4), score=0.8482932996207333, total=  15.2s\n",
      "[CV] svc__C=1, svc__gamma=0.5, svc__kernel=rbf, tfidf__norm=l2, vectorizer__min_df=3, tfidf__use_idf=True, svc__degree=4, vectorizer__ngram_range=(1, 4) \n",
      "[CV] svc__C=1, svc__gamma=0.5, svc__kernel=rbf, tfidf__norm=l2, vectorizer__min_df=3, tfidf__use_idf=True, svc__degree=4, vectorizer__ngram_range=(1, 4) \n",
      "[CV]  svc__C=1, svc__gamma=0.5, svc__kernel=rbf, tfidf__norm=l1, vectorizer__min_df=2, tfidf__use_idf=True, svc__degree=4, vectorizer__ngram_range=(1, 2), score=0.8622867972204674, total=  18.2s\n",
      "[CV] svc__C=1, svc__gamma=0.5, svc__kernel=rbf, tfidf__norm=l2, vectorizer__min_df=3, tfidf__use_idf=True, svc__degree=4, vectorizer__ngram_range=(1, 4) \n",
      "[CV]  svc__C=1, svc__gamma=0.5, svc__kernel=rbf, tfidf__norm=l1, vectorizer__min_df=2, tfidf__use_idf=True, svc__degree=4, vectorizer__ngram_range=(1, 3), score=0.8622867972204674, total=  16.6s\n",
      "[CV] svc__C=1, svc__gamma=0.5, svc__kernel=rbf, tfidf__norm=l2, vectorizer__min_df=3, tfidf__use_idf=True, svc__degree=4, vectorizer__ngram_range=(1, 4) \n",
      "[CV]  svc__C=1, svc__gamma=0.5, svc__kernel=rbf, tfidf__norm=l1, vectorizer__min_df=2, tfidf__use_idf=True, svc__degree=4, vectorizer__ngram_range=(1, 4), score=0.8630050505050505, total=  17.1s\n",
      "[CV] svc__C=1, svc__gamma=1, svc__kernel=rbf, tfidf__norm=l1, vectorizer__min_df=2, tfidf__use_idf=True, svc__degree=4, vectorizer__ngram_range=(1, 2) \n",
      "[CV]  svc__C=1, svc__gamma=0.5, svc__kernel=rbf, tfidf__norm=l1, vectorizer__min_df=2, tfidf__use_idf=True, svc__degree=4, vectorizer__ngram_range=(1, 3), score=0.8533501896333755, total=  18.3s\n",
      "[CV] svc__C=1, svc__gamma=1, svc__kernel=rbf, tfidf__norm=l1, vectorizer__min_df=2, tfidf__use_idf=True, svc__degree=4, vectorizer__ngram_range=(1, 2) \n",
      "[CV]  svc__C=1, svc__gamma=0.5, svc__kernel=rbf, tfidf__norm=l1, vectorizer__min_df=2, tfidf__use_idf=True, svc__degree=4, vectorizer__ngram_range=(1, 3), score=0.8674242424242424, total=  19.0s\n",
      "[CV] svc__C=1, svc__gamma=1, svc__kernel=rbf, tfidf__norm=l1, vectorizer__min_df=2, tfidf__use_idf=True, svc__degree=4, vectorizer__ngram_range=(1, 2) \n",
      "[CV]  svc__C=1, svc__gamma=0.5, svc__kernel=rbf, tfidf__norm=l1, vectorizer__min_df=2, tfidf__use_idf=True, svc__degree=4, vectorizer__ngram_range=(1, 4), score=0.8566013897662665, total=  17.1s\n",
      "[CV] svc__C=1, svc__gamma=1, svc__kernel=rbf, tfidf__norm=l1, vectorizer__min_df=2, tfidf__use_idf=True, svc__degree=4, vectorizer__ngram_range=(1, 2) \n",
      "[CV]  svc__C=1, svc__gamma=0.5, svc__kernel=rbf, tfidf__norm=l1, vectorizer__min_df=3, tfidf__use_idf=True, svc__degree=4, vectorizer__ngram_range=(1, 4), score=0.8724747474747475, total=   9.8s\n",
      "[CV] svc__C=1, svc__gamma=1, svc__kernel=rbf, tfidf__norm=l1, vectorizer__min_df=2, tfidf__use_idf=True, svc__degree=4, vectorizer__ngram_range=(1, 2) \n",
      "[CV]  svc__C=1, svc__gamma=0.5, svc__kernel=rbf, tfidf__norm=l1, vectorizer__min_df=3, tfidf__use_idf=True, svc__degree=4, vectorizer__ngram_range=(1, 4), score=0.8660770688566014, total=  10.6s\n",
      "[CV] svc__C=1, svc__gamma=1, svc__kernel=rbf, tfidf__norm=l1, vectorizer__min_df=2, tfidf__use_idf=True, svc__degree=4, vectorizer__ngram_range=(1, 3) \n",
      "[CV]  svc__C=1, svc__gamma=0.5, svc__kernel=rbf, tfidf__norm=l1, vectorizer__min_df=3, tfidf__use_idf=True, svc__degree=4, vectorizer__ngram_range=(1, 2), score=0.8787878787878788, total=  16.1s\n",
      "[CV] svc__C=1, svc__gamma=1, svc__kernel=rbf, tfidf__norm=l1, vectorizer__min_df=2, tfidf__use_idf=True, svc__degree=4, vectorizer__ngram_range=(1, 3) \n",
      "[CV]  svc__C=1, svc__gamma=0.5, svc__kernel=rbf, tfidf__norm=l1, vectorizer__min_df=3, tfidf__use_idf=True, svc__degree=4, vectorizer__ngram_range=(1, 3), score=0.8737373737373737, total=  13.5s\n",
      "[CV]  svc__C=1, svc__gamma=0.5, svc__kernel=rbf, tfidf__norm=l1, vectorizer__min_df=2, tfidf__use_idf=True, svc__degree=4, vectorizer__ngram_range=(1, 4), score=0.8597599494630449, total=  19.6s\n",
      "[CV] svc__C=1, svc__gamma=1, svc__kernel=rbf, tfidf__norm=l1, vectorizer__min_df=2, tfidf__use_idf=True, svc__degree=4, vectorizer__ngram_range=(1, 3) \n",
      "[CV] svc__C=1, svc__gamma=1, svc__kernel=rbf, tfidf__norm=l1, vectorizer__min_df=2, tfidf__use_idf=True, svc__degree=4, vectorizer__ngram_range=(1, 3) \n",
      "[CV]  svc__C=1, svc__gamma=0.5, svc__kernel=rbf, tfidf__norm=l1, vectorizer__min_df=3, tfidf__use_idf=True, svc__degree=4, vectorizer__ngram_range=(1, 2), score=0.865992414664981, total=  13.7s\n",
      "[CV] svc__C=1, svc__gamma=1, svc__kernel=rbf, tfidf__norm=l1, vectorizer__min_df=2, tfidf__use_idf=True, svc__degree=4, vectorizer__ngram_range=(1, 3) \n",
      "[CV]  svc__C=1, svc__gamma=0.5, svc__kernel=rbf, tfidf__norm=l1, vectorizer__min_df=3, tfidf__use_idf=True, svc__degree=4, vectorizer__ngram_range=(1, 2), score=0.8660770688566014, total=  16.0s\n",
      "[CV] svc__C=1, svc__gamma=1, svc__kernel=rbf, tfidf__norm=l1, vectorizer__min_df=2, tfidf__use_idf=True, svc__degree=4, vectorizer__ngram_range=(1, 4) \n",
      "[CV]  svc__C=1, svc__gamma=0.5, svc__kernel=rbf, tfidf__norm=l1, vectorizer__min_df=3, tfidf__use_idf=True, svc__degree=4, vectorizer__ngram_range=(1, 3), score=0.865992414664981, total=  13.3s\n",
      "[CV] svc__C=1, svc__gamma=1, svc__kernel=rbf, tfidf__norm=l1, vectorizer__min_df=2, tfidf__use_idf=True, svc__degree=4, vectorizer__ngram_range=(1, 4) \n",
      "[CV]  svc__C=1, svc__gamma=0.5, svc__kernel=rbf, tfidf__norm=l1, vectorizer__min_df=3, tfidf__use_idf=True, svc__degree=4, vectorizer__ngram_range=(1, 3), score=0.8624605678233438, total=  15.3s\n",
      "[CV] svc__C=1, svc__gamma=1, svc__kernel=rbf, tfidf__norm=l1, vectorizer__min_df=2, tfidf__use_idf=True, svc__degree=4, vectorizer__ngram_range=(1, 4) \n",
      "[CV]  svc__C=1, svc__gamma=0.5, svc__kernel=rbf, tfidf__norm=l1, vectorizer__min_df=3, tfidf__use_idf=True, svc__degree=4, vectorizer__ngram_range=(1, 3), score=0.866708780795957, total=  16.2s\n",
      "[CV] svc__C=1, svc__gamma=1, svc__kernel=rbf, tfidf__norm=l1, vectorizer__min_df=2, tfidf__use_idf=True, svc__degree=4, vectorizer__ngram_range=(1, 4) \n"
     ]
    },
    {
     "name": "stdout",
     "output_type": "stream",
     "text": [
      "[CV]  svc__C=1, svc__gamma=0.5, svc__kernel=rbf, tfidf__norm=l2, vectorizer__min_df=2, tfidf__use_idf=True, svc__degree=4, vectorizer__ngram_range=(1, 2), score=0.8820189274447949, total=  13.5s\n",
      "[CV] svc__C=1, svc__gamma=1, svc__kernel=rbf, tfidf__norm=l1, vectorizer__min_df=2, tfidf__use_idf=True, svc__degree=4, vectorizer__ngram_range=(1, 4) \n",
      "[CV]  svc__C=1, svc__gamma=0.5, svc__kernel=rbf, tfidf__norm=l1, vectorizer__min_df=3, tfidf__use_idf=True, svc__degree=4, vectorizer__ngram_range=(1, 3), score=0.8711307643714467, total=  15.2s\n",
      "[CV] svc__C=1, svc__gamma=1, svc__kernel=rbf, tfidf__norm=l1, vectorizer__min_df=3, tfidf__use_idf=True, svc__degree=4, vectorizer__ngram_range=(1, 2) \n",
      "[CV]  svc__C=1, svc__gamma=0.5, svc__kernel=rbf, tfidf__norm=l1, vectorizer__min_df=3, tfidf__use_idf=True, svc__degree=4, vectorizer__ngram_range=(1, 4), score=0.8618296529968454, total=  16.4s\n",
      "[CV] svc__C=1, svc__gamma=1, svc__kernel=rbf, tfidf__norm=l1, vectorizer__min_df=3, tfidf__use_idf=True, svc__degree=4, vectorizer__ngram_range=(1, 2) \n",
      "[CV]  svc__C=1, svc__gamma=0.5, svc__kernel=rbf, tfidf__norm=l1, vectorizer__min_df=3, tfidf__use_idf=True, svc__degree=4, vectorizer__ngram_range=(1, 4), score=0.8711307643714467, total=  15.4s\n",
      "[CV] svc__C=1, svc__gamma=1, svc__kernel=rbf, tfidf__norm=l1, vectorizer__min_df=3, tfidf__use_idf=True, svc__degree=4, vectorizer__ngram_range=(1, 2) \n",
      "[CV]  svc__C=1, svc__gamma=0.5, svc__kernel=rbf, tfidf__norm=l2, vectorizer__min_df=3, tfidf__use_idf=True, svc__degree=4, vectorizer__ngram_range=(1, 2), score=0.8977272727272727, total=   9.4s\n",
      "[CV] svc__C=1, svc__gamma=1, svc__kernel=rbf, tfidf__norm=l1, vectorizer__min_df=3, tfidf__use_idf=True, svc__degree=4, vectorizer__ngram_range=(1, 2) \n",
      "[CV]  svc__C=1, svc__gamma=0.5, svc__kernel=rbf, tfidf__norm=l2, vectorizer__min_df=2, tfidf__use_idf=True, svc__degree=4, vectorizer__ngram_range=(1, 2), score=0.9020846493998737, total=  14.0s\n",
      "[CV] svc__C=1, svc__gamma=1, svc__kernel=rbf, tfidf__norm=l1, vectorizer__min_df=3, tfidf__use_idf=True, svc__degree=4, vectorizer__ngram_range=(1, 2) \n",
      "[CV]  svc__C=1, svc__gamma=0.5, svc__kernel=rbf, tfidf__norm=l2, vectorizer__min_df=2, tfidf__use_idf=True, svc__degree=4, vectorizer__ngram_range=(1, 3), score=0.8832807570977917, total=  15.0s\n",
      "[CV]  svc__C=1, svc__gamma=0.5, svc__kernel=rbf, tfidf__norm=l2, vectorizer__min_df=2, tfidf__use_idf=True, svc__degree=4, vectorizer__ngram_range=(1, 3), score=0.8875552747946936, total=  14.4s\n",
      "[CV] svc__C=1, svc__gamma=1, svc__kernel=rbf, tfidf__norm=l1, vectorizer__min_df=3, tfidf__use_idf=True, svc__degree=4, vectorizer__ngram_range=(1, 3) \n",
      "[CV] svc__C=1, svc__gamma=1, svc__kernel=rbf, tfidf__norm=l1, vectorizer__min_df=3, tfidf__use_idf=True, svc__degree=4, vectorizer__ngram_range=(1, 3) \n",
      "[CV]  svc__C=1, svc__gamma=0.5, svc__kernel=rbf, tfidf__norm=l2, vectorizer__min_df=2, tfidf__use_idf=True, svc__degree=4, vectorizer__ngram_range=(1, 3), score=0.9039797852179406, total=  14.4s\n",
      "[CV]  svc__C=1, svc__gamma=0.5, svc__kernel=rbf, tfidf__norm=l1, vectorizer__min_df=3, tfidf__use_idf=True, svc__degree=4, vectorizer__ngram_range=(1, 4), score=0.865992414664981, total=  16.9s\n",
      "[CV] svc__C=1, svc__gamma=1, svc__kernel=rbf, tfidf__norm=l1, vectorizer__min_df=3, tfidf__use_idf=True, svc__degree=4, vectorizer__ngram_range=(1, 3) \n",
      "[CV] svc__C=1, svc__gamma=1, svc__kernel=rbf, tfidf__norm=l1, vectorizer__min_df=3, tfidf__use_idf=True, svc__degree=4, vectorizer__ngram_range=(1, 3) \n",
      "[CV]  svc__C=1, svc__gamma=0.5, svc__kernel=rbf, tfidf__norm=l2, vectorizer__min_df=2, tfidf__use_idf=True, svc__degree=4, vectorizer__ngram_range=(1, 2), score=0.8906447534766119, total=  14.3s\n",
      "[CV] svc__C=1, svc__gamma=1, svc__kernel=rbf, tfidf__norm=l1, vectorizer__min_df=3, tfidf__use_idf=True, svc__degree=4, vectorizer__ngram_range=(1, 3) \n",
      "[CV]  svc__C=1, svc__gamma=0.5, svc__kernel=rbf, tfidf__norm=l2, vectorizer__min_df=2, tfidf__use_idf=True, svc__degree=4, vectorizer__ngram_range=(1, 3), score=0.8900126422250316, total=  14.4s\n",
      "[CV] svc__C=1, svc__gamma=1, svc__kernel=rbf, tfidf__norm=l1, vectorizer__min_df=3, tfidf__use_idf=True, svc__degree=4, vectorizer__ngram_range=(1, 4) \n"
     ]
    },
    {
     "name": "stderr",
     "output_type": "stream",
     "text": [
      "[Parallel(n_jobs=-1)]: Done 517 tasks      | elapsed:  5.3min\n"
     ]
    },
    {
     "name": "stdout",
     "output_type": "stream",
     "text": [
      "[CV]  svc__C=1, svc__gamma=0.5, svc__kernel=rbf, tfidf__norm=l2, vectorizer__min_df=2, tfidf__use_idf=True, svc__degree=4, vectorizer__ngram_range=(1, 3), score=0.9002525252525253, total=  16.3s\n",
      "[CV] svc__C=1, svc__gamma=1, svc__kernel=rbf, tfidf__norm=l1, vectorizer__min_df=3, tfidf__use_idf=True, svc__degree=4, vectorizer__ngram_range=(1, 4) \n",
      "[CV]  svc__C=1, svc__gamma=0.5, svc__kernel=rbf, tfidf__norm=l2, vectorizer__min_df=3, tfidf__use_idf=True, svc__degree=4, vectorizer__ngram_range=(1, 4), score=0.8813880126182966, total=  10.3s\n",
      "[CV] svc__C=1, svc__gamma=1, svc__kernel=rbf, tfidf__norm=l1, vectorizer__min_df=3, tfidf__use_idf=True, svc__degree=4, vectorizer__ngram_range=(1, 4) \n",
      "[CV]  svc__C=1, svc__gamma=0.5, svc__kernel=rbf, tfidf__norm=l2, vectorizer__min_df=3, tfidf__use_idf=True, svc__degree=4, vectorizer__ngram_range=(1, 2), score=0.8801261829652997, total=  14.4s\n",
      "[CV] svc__C=1, svc__gamma=1, svc__kernel=rbf, tfidf__norm=l1, vectorizer__min_df=3, tfidf__use_idf=True, svc__degree=4, vectorizer__ngram_range=(1, 4) \n",
      "[CV]  svc__C=1, svc__gamma=0.5, svc__kernel=rbf, tfidf__norm=l2, vectorizer__min_df=3, tfidf__use_idf=True, svc__degree=4, vectorizer__ngram_range=(1, 2), score=0.8862199747155499, total=  12.3s\n",
      "[CV] svc__C=1, svc__gamma=1, svc__kernel=rbf, tfidf__norm=l1, vectorizer__min_df=3, tfidf__use_idf=True, svc__degree=4, vectorizer__ngram_range=(1, 4) \n",
      "[CV]  svc__C=1, svc__gamma=0.5, svc__kernel=rbf, tfidf__norm=l2, vectorizer__min_df=3, tfidf__use_idf=True, svc__degree=4, vectorizer__ngram_range=(1, 3), score=0.8868520859671302, total=  10.0s\n",
      "[CV] svc__C=1, svc__gamma=1, svc__kernel=rbf, tfidf__norm=l2, vectorizer__min_df=2, tfidf__use_idf=True, svc__degree=4, vectorizer__ngram_range=(1, 2) \n",
      "[CV]  svc__C=1, svc__gamma=0.5, svc__kernel=rbf, tfidf__norm=l2, vectorizer__min_df=2, tfidf__use_idf=True, svc__degree=4, vectorizer__ngram_range=(1, 4), score=0.8820189274447949, total=  16.0s\n",
      "[CV]  svc__C=1, svc__gamma=0.5, svc__kernel=rbf, tfidf__norm=l2, vectorizer__min_df=2, tfidf__use_idf=True, svc__degree=4, vectorizer__ngram_range=(1, 2), score=0.8983585858585859, total=  17.6s\n",
      "[CV]  svc__C=1, svc__gamma=0.5, svc__kernel=rbf, tfidf__norm=l2, vectorizer__min_df=3, tfidf__use_idf=True, svc__degree=4, vectorizer__ngram_range=(1, 4), score=0.8862199747155499, total=  10.8s\n",
      "[CV] svc__C=1, svc__gamma=1, svc__kernel=rbf, tfidf__norm=l2, vectorizer__min_df=2, tfidf__use_idf=True, svc__degree=4, vectorizer__ngram_range=(1, 2) \n",
      "[CV]  svc__C=1, svc__gamma=0.5, svc__kernel=rbf, tfidf__norm=l2, vectorizer__min_df=3, tfidf__use_idf=True, svc__degree=4, vectorizer__ngram_range=(1, 3), score=0.8813880126182966, total=  13.0s\n",
      "[CV]  svc__C=1, svc__gamma=0.5, svc__kernel=rbf, tfidf__norm=l2, vectorizer__min_df=3, tfidf__use_idf=True, svc__degree=4, vectorizer__ngram_range=(1, 3), score=0.8964646464646465, total=  11.7s\n",
      "[CV] svc__C=1, svc__gamma=1, svc__kernel=rbf, tfidf__norm=l2, vectorizer__min_df=2, tfidf__use_idf=True, svc__degree=4, vectorizer__ngram_range=(1, 2) \n",
      "[CV]  svc__C=1, svc__gamma=0.5, svc__kernel=rbf, tfidf__norm=l2, vectorizer__min_df=2, tfidf__use_idf=True, svc__degree=4, vectorizer__ngram_range=(1, 4), score=0.8996212121212122, total=  15.9s\n",
      "[CV] svc__C=1, svc__gamma=1, svc__kernel=rbf, tfidf__norm=l2, vectorizer__min_df=2, tfidf__use_idf=True, svc__degree=4, vectorizer__ngram_range=(1, 2) \n",
      "[CV] svc__C=1, svc__gamma=1, svc__kernel=rbf, tfidf__norm=l2, vectorizer__min_df=2, tfidf__use_idf=True, svc__degree=4, vectorizer__ngram_range=(1, 2) \n",
      "[CV] svc__C=1, svc__gamma=1, svc__kernel=rbf, tfidf__norm=l2, vectorizer__min_df=2, tfidf__use_idf=True, svc__degree=4, vectorizer__ngram_range=(1, 3) \n",
      "[CV]  svc__C=1, svc__gamma=0.5, svc__kernel=rbf, tfidf__norm=l2, vectorizer__min_df=2, tfidf__use_idf=True, svc__degree=4, vectorizer__ngram_range=(1, 2), score=0.886923562855338, total=  16.7s\n",
      "[CV] svc__C=1, svc__gamma=1, svc__kernel=rbf, tfidf__norm=l2, vectorizer__min_df=2, tfidf__use_idf=True, svc__degree=4, vectorizer__ngram_range=(1, 3) \n",
      "[CV] svc__C=1, svc__gamma=1, svc__kernel=rbf, tfidf__norm=l2, vectorizer__min_df=2, tfidf__use_idf=True, svc__degree=4, vectorizer__ngram_range=(1, 3) \n",
      "[CV]  svc__C=1, svc__gamma=0.5, svc__kernel=rbf, tfidf__norm=l2, vectorizer__min_df=2, tfidf__use_idf=True, svc__degree=4, vectorizer__ngram_range=(1, 4), score=0.9027163613392293, total=  17.0s\n",
      "[CV]  svc__C=1, svc__gamma=0.5, svc__kernel=rbf, tfidf__norm=l2, vectorizer__min_df=3, tfidf__use_idf=True, svc__degree=4, vectorizer__ngram_range=(1, 4), score=0.885028427037271, total=   9.9s\n",
      "[CV] svc__C=1, svc__gamma=1, svc__kernel=rbf, tfidf__norm=l2, vectorizer__min_df=2, tfidf__use_idf=True, svc__degree=4, vectorizer__ngram_range=(1, 3) \n",
      "[CV] svc__C=1, svc__gamma=1, svc__kernel=rbf, tfidf__norm=l2, vectorizer__min_df=2, tfidf__use_idf=True, svc__degree=4, vectorizer__ngram_range=(1, 3) \n",
      "[CV]  svc__C=1, svc__gamma=0.5, svc__kernel=rbf, tfidf__norm=l2, vectorizer__min_df=3, tfidf__use_idf=True, svc__degree=4, vectorizer__ngram_range=(1, 3), score=0.9046114971572963, total=  12.5s\n",
      "[CV]  svc__C=1, svc__gamma=0.5, svc__kernel=rbf, tfidf__norm=l2, vectorizer__min_df=3, tfidf__use_idf=True, svc__degree=4, vectorizer__ngram_range=(1, 4), score=0.9046114971572963, total=  11.8s\n",
      "[CV] svc__C=1, svc__gamma=1, svc__kernel=rbf, tfidf__norm=l2, vectorizer__min_df=2, tfidf__use_idf=True, svc__degree=4, vectorizer__ngram_range=(1, 4) \n",
      "[CV]  svc__C=1, svc__gamma=0.5, svc__kernel=rbf, tfidf__norm=l2, vectorizer__min_df=3, tfidf__use_idf=True, svc__degree=4, vectorizer__ngram_range=(1, 2), score=0.9039797852179406, total=  12.1s\n",
      "[CV] svc__C=1, svc__gamma=1, svc__kernel=rbf, tfidf__norm=l2, vectorizer__min_df=2, tfidf__use_idf=True, svc__degree=4, vectorizer__ngram_range=(1, 4) \n",
      "[CV] svc__C=1, svc__gamma=1, svc__kernel=rbf, tfidf__norm=l2, vectorizer__min_df=2, tfidf__use_idf=True, svc__degree=4, vectorizer__ngram_range=(1, 4) \n",
      "[CV]  svc__C=1, svc__gamma=0.5, svc__kernel=rbf, tfidf__norm=l2, vectorizer__min_df=2, tfidf__use_idf=True, svc__degree=4, vectorizer__ngram_range=(1, 4), score=0.8881869867340493, total=  17.2s\n",
      "[CV] svc__C=1, svc__gamma=1, svc__kernel=rbf, tfidf__norm=l2, vectorizer__min_df=2, tfidf__use_idf=True, svc__degree=4, vectorizer__ngram_range=(1, 4) \n",
      "[CV]  svc__C=1, svc__gamma=0.5, svc__kernel=rbf, tfidf__norm=l2, vectorizer__min_df=3, tfidf__use_idf=True, svc__degree=4, vectorizer__ngram_range=(1, 4), score=0.8964646464646465, total=  12.5s\n",
      "[CV] svc__C=1, svc__gamma=1, svc__kernel=rbf, tfidf__norm=l2, vectorizer__min_df=2, tfidf__use_idf=True, svc__degree=4, vectorizer__ngram_range=(1, 4) \n",
      "[CV]  svc__C=1, svc__gamma=0.5, svc__kernel=rbf, tfidf__norm=l2, vectorizer__min_df=3, tfidf__use_idf=True, svc__degree=4, vectorizer__ngram_range=(1, 2), score=0.8856601389766267, total=  14.6s\n",
      "[CV] svc__C=1, svc__gamma=1, svc__kernel=rbf, tfidf__norm=l2, vectorizer__min_df=3, tfidf__use_idf=True, svc__degree=4, vectorizer__ngram_range=(1, 2) \n",
      "[CV]  svc__C=1, svc__gamma=0.5, svc__kernel=rbf, tfidf__norm=l2, vectorizer__min_df=3, tfidf__use_idf=True, svc__degree=4, vectorizer__ngram_range=(1, 3), score=0.885028427037271, total=  12.2s\n",
      "[CV] svc__C=1, svc__gamma=1, svc__kernel=rbf, tfidf__norm=l2, vectorizer__min_df=3, tfidf__use_idf=True, svc__degree=4, vectorizer__ngram_range=(1, 2) \n",
      "[CV]  svc__C=1, svc__gamma=0.5, svc__kernel=rbf, tfidf__norm=l2, vectorizer__min_df=2, tfidf__use_idf=True, svc__degree=4, vectorizer__ngram_range=(1, 4), score=0.8906447534766119, total=  17.4s\n",
      "[CV] svc__C=1, svc__gamma=1, svc__kernel=rbf, tfidf__norm=l2, vectorizer__min_df=3, tfidf__use_idf=True, svc__degree=4, vectorizer__ngram_range=(1, 2) \n",
      "[CV]  svc__C=1, svc__gamma=1, svc__kernel=rbf, tfidf__norm=l1, vectorizer__min_df=2, tfidf__use_idf=True, svc__degree=4, vectorizer__ngram_range=(1, 2), score=0.8729456384323641, total=  10.8s\n",
      "[CV] svc__C=1, svc__gamma=1, svc__kernel=rbf, tfidf__norm=l2, vectorizer__min_df=3, tfidf__use_idf=True, svc__degree=4, vectorizer__ngram_range=(1, 2) \n",
      "[CV]  svc__C=1, svc__gamma=1, svc__kernel=rbf, tfidf__norm=l1, vectorizer__min_df=2, tfidf__use_idf=True, svc__degree=4, vectorizer__ngram_range=(1, 2), score=0.8818698673404928, total=  13.1s\n",
      "[CV] svc__C=1, svc__gamma=1, svc__kernel=rbf, tfidf__norm=l2, vectorizer__min_df=3, tfidf__use_idf=True, svc__degree=4, vectorizer__ngram_range=(1, 2) \n"
     ]
    },
    {
     "name": "stdout",
     "output_type": "stream",
     "text": [
      "[CV]  svc__C=1, svc__gamma=1, svc__kernel=rbf, tfidf__norm=l1, vectorizer__min_df=2, tfidf__use_idf=True, svc__degree=4, vectorizer__ngram_range=(1, 2), score=0.865615141955836, total=  14.0s\n",
      "[CV] svc__C=1, svc__gamma=1, svc__kernel=rbf, tfidf__norm=l2, vectorizer__min_df=3, tfidf__use_idf=True, svc__degree=4, vectorizer__ngram_range=(1, 3) \n",
      "[CV]  svc__C=1, svc__gamma=1, svc__kernel=rbf, tfidf__norm=l1, vectorizer__min_df=2, tfidf__use_idf=True, svc__degree=4, vectorizer__ngram_range=(1, 2), score=0.8742893240682249, total=  16.8s\n",
      "[CV] svc__C=1, svc__gamma=1, svc__kernel=rbf, tfidf__norm=l2, vectorizer__min_df=3, tfidf__use_idf=True, svc__degree=4, vectorizer__ngram_range=(1, 3) \n",
      "[CV]  svc__C=1, svc__gamma=1, svc__kernel=rbf, tfidf__norm=l1, vectorizer__min_df=2, tfidf__use_idf=True, svc__degree=4, vectorizer__ngram_range=(1, 3), score=0.8761844598862919, total=  13.5s\n",
      "[CV] svc__C=1, svc__gamma=1, svc__kernel=rbf, tfidf__norm=l2, vectorizer__min_df=3, tfidf__use_idf=True, svc__degree=4, vectorizer__ngram_range=(1, 3) \n",
      "[CV]  svc__C=1, svc__gamma=1, svc__kernel=rbf, tfidf__norm=l1, vectorizer__min_df=2, tfidf__use_idf=True, svc__degree=4, vectorizer__ngram_range=(1, 4), score=0.8819444444444444, total=  13.1s\n",
      "[CV] svc__C=1, svc__gamma=1, svc__kernel=rbf, tfidf__norm=l2, vectorizer__min_df=3, tfidf__use_idf=True, svc__degree=4, vectorizer__ngram_range=(1, 3) \n",
      "[CV]  svc__C=1, svc__gamma=1, svc__kernel=rbf, tfidf__norm=l1, vectorizer__min_df=3, tfidf__use_idf=True, svc__degree=4, vectorizer__ngram_range=(1, 2), score=0.8706624605678234, total=  11.6s\n",
      "[CV] svc__C=1, svc__gamma=1, svc__kernel=rbf, tfidf__norm=l2, vectorizer__min_df=3, tfidf__use_idf=True, svc__degree=4, vectorizer__ngram_range=(1, 3) \n",
      "[CV]  svc__C=1, svc__gamma=1, svc__kernel=rbf, tfidf__norm=l1, vectorizer__min_df=2, tfidf__use_idf=True, svc__degree=4, vectorizer__ngram_range=(1, 3), score=0.8630914826498423, total=  16.0s\n",
      "[CV] svc__C=1, svc__gamma=1, svc__kernel=rbf, tfidf__norm=l2, vectorizer__min_df=3, tfidf__use_idf=True, svc__degree=4, vectorizer__ngram_range=(1, 4) \n",
      "[CV]  svc__C=1, svc__gamma=1, svc__kernel=rbf, tfidf__norm=l1, vectorizer__min_df=2, tfidf__use_idf=True, svc__degree=4, vectorizer__ngram_range=(1, 3), score=0.8691529709228825, total=  14.6s\n",
      "[CV] svc__C=1, svc__gamma=1, svc__kernel=rbf, tfidf__norm=l2, vectorizer__min_df=3, tfidf__use_idf=True, svc__degree=4, vectorizer__ngram_range=(1, 4) \n",
      "[CV]  svc__C=1, svc__gamma=1, svc__kernel=rbf, tfidf__norm=l1, vectorizer__min_df=2, tfidf__use_idf=True, svc__degree=4, vectorizer__ngram_range=(1, 2), score=0.88510101010101, total=  17.3s\n",
      "[CV] svc__C=1, svc__gamma=1, svc__kernel=rbf, tfidf__norm=l2, vectorizer__min_df=3, tfidf__use_idf=True, svc__degree=4, vectorizer__ngram_range=(1, 4) \n",
      "[CV]  svc__C=1, svc__gamma=1, svc__kernel=rbf, tfidf__norm=l1, vectorizer__min_df=3, tfidf__use_idf=True, svc__degree=4, vectorizer__ngram_range=(1, 2), score=0.8882575757575758, total=  11.2s\n",
      "[CV] svc__C=1, svc__gamma=1, svc__kernel=rbf, tfidf__norm=l2, vectorizer__min_df=3, tfidf__use_idf=True, svc__degree=4, vectorizer__ngram_range=(1, 4) \n",
      "[CV]  svc__C=1, svc__gamma=1, svc__kernel=rbf, tfidf__norm=l1, vectorizer__min_df=3, tfidf__use_idf=True, svc__degree=4, vectorizer__ngram_range=(1, 2), score=0.8780795957043588, total=  12.3s\n",
      "[CV] svc__C=1, svc__gamma=1, svc__kernel=rbf, tfidf__norm=l2, vectorizer__min_df=3, tfidf__use_idf=True, svc__degree=4, vectorizer__ngram_range=(1, 4) \n"
     ]
    },
    {
     "name": "stderr",
     "output_type": "stream",
     "text": [
      "[Parallel(n_jobs=-1)]: Done 552 tasks      | elapsed:  5.6min\n"
     ]
    },
    {
     "name": "stdout",
     "output_type": "stream",
     "text": [
      "[CV]  svc__C=1, svc__gamma=1, svc__kernel=rbf, tfidf__norm=l1, vectorizer__min_df=3, tfidf__use_idf=True, svc__degree=4, vectorizer__ngram_range=(1, 4), score=0.8787113076437144, total=  12.1s\n",
      "[CV] svc__C=1, svc__gamma=0.5, svc__kernel=rbf, tfidf__norm=l1, vectorizer__min_df=2, tfidf__use_idf=True, svc__degree=6, vectorizer__ngram_range=(1, 2) \n",
      "[CV]  svc__C=1, svc__gamma=1, svc__kernel=rbf, tfidf__norm=l1, vectorizer__min_df=3, tfidf__use_idf=True, svc__degree=4, vectorizer__ngram_range=(1, 3), score=0.8888888888888888, total=  13.7s\n",
      "[CV] svc__C=1, svc__gamma=0.5, svc__kernel=rbf, tfidf__norm=l1, vectorizer__min_df=2, tfidf__use_idf=True, svc__degree=6, vectorizer__ngram_range=(1, 2) \n",
      "[CV]  svc__C=1, svc__gamma=1, svc__kernel=rbf, tfidf__norm=l1, vectorizer__min_df=2, tfidf__use_idf=True, svc__degree=4, vectorizer__ngram_range=(1, 4), score=0.8749210360075805, total=  16.8s\n",
      "[CV] svc__C=1, svc__gamma=0.5, svc__kernel=rbf, tfidf__norm=l1, vectorizer__min_df=2, tfidf__use_idf=True, svc__degree=6, vectorizer__ngram_range=(1, 2) \n",
      "[CV]  svc__C=1, svc__gamma=1, svc__kernel=rbf, tfidf__norm=l1, vectorizer__min_df=3, tfidf__use_idf=True, svc__degree=4, vectorizer__ngram_range=(1, 2), score=0.886923562855338, total=  14.2s\n",
      "[CV] svc__C=1, svc__gamma=0.5, svc__kernel=rbf, tfidf__norm=l1, vectorizer__min_df=2, tfidf__use_idf=True, svc__degree=6, vectorizer__ngram_range=(1, 2) \n",
      "[CV]  svc__C=1, svc__gamma=1, svc__kernel=rbf, tfidf__norm=l1, vectorizer__min_df=2, tfidf__use_idf=True, svc__degree=4, vectorizer__ngram_range=(1, 4), score=0.8806064434617814, total=  19.6s\n",
      "[CV] svc__C=1, svc__gamma=0.5, svc__kernel=rbf, tfidf__norm=l1, vectorizer__min_df=2, tfidf__use_idf=True, svc__degree=6, vectorizer__ngram_range=(1, 2) \n",
      "[CV]  svc__C=1, svc__gamma=1, svc__kernel=rbf, tfidf__norm=l1, vectorizer__min_df=2, tfidf__use_idf=True, svc__degree=4, vectorizer__ngram_range=(1, 3), score=0.8825757575757576, total=  21.0s\n",
      "[CV] svc__C=1, svc__gamma=0.5, svc__kernel=rbf, tfidf__norm=l1, vectorizer__min_df=2, tfidf__use_idf=True, svc__degree=6, vectorizer__ngram_range=(1, 3) \n",
      "[CV]  svc__C=1, svc__gamma=1, svc__kernel=rbf, tfidf__norm=l1, vectorizer__min_df=2, tfidf__use_idf=True, svc__degree=4, vectorizer__ngram_range=(1, 3), score=0.881238155401137, total=  19.9s\n",
      "[CV] svc__C=1, svc__gamma=0.5, svc__kernel=rbf, tfidf__norm=l1, vectorizer__min_df=2, tfidf__use_idf=True, svc__degree=6, vectorizer__ngram_range=(1, 3) \n",
      "[CV]  svc__C=1, svc__gamma=1, svc__kernel=rbf, tfidf__norm=l1, vectorizer__min_df=3, tfidf__use_idf=True, svc__degree=4, vectorizer__ngram_range=(1, 4), score=0.8761061946902655, total=  14.1s\n",
      "[CV] svc__C=1, svc__gamma=0.5, svc__kernel=rbf, tfidf__norm=l1, vectorizer__min_df=2, tfidf__use_idf=True, svc__degree=6, vectorizer__ngram_range=(1, 3) \n",
      "[CV]  svc__C=1, svc__gamma=1, svc__kernel=rbf, tfidf__norm=l2, vectorizer__min_df=2, tfidf__use_idf=True, svc__degree=4, vectorizer__ngram_range=(1, 2), score=0.8902208201892744, total=  12.6s\n",
      "[CV] svc__C=1, svc__gamma=0.5, svc__kernel=rbf, tfidf__norm=l1, vectorizer__min_df=2, tfidf__use_idf=True, svc__degree=6, vectorizer__ngram_range=(1, 3) \n",
      "[CV]  svc__C=1, svc__gamma=1, svc__kernel=rbf, tfidf__norm=l1, vectorizer__min_df=3, tfidf__use_idf=True, svc__degree=4, vectorizer__ngram_range=(1, 3), score=0.8719242902208202, total=  17.2s\n",
      "[CV] svc__C=1, svc__gamma=0.5, svc__kernel=rbf, tfidf__norm=l1, vectorizer__min_df=2, tfidf__use_idf=True, svc__degree=6, vectorizer__ngram_range=(1, 3) \n",
      "[CV]  svc__C=1, svc__gamma=1, svc__kernel=rbf, tfidf__norm=l1, vectorizer__min_df=3, tfidf__use_idf=True, svc__degree=4, vectorizer__ngram_range=(1, 2), score=0.8805309734513275, total=  20.5s\n",
      "[CV] svc__C=1, svc__gamma=0.5, svc__kernel=rbf, tfidf__norm=l1, vectorizer__min_df=2, tfidf__use_idf=True, svc__degree=6, vectorizer__ngram_range=(1, 4) \n",
      "[CV]  svc__C=1, svc__gamma=1, svc__kernel=rbf, tfidf__norm=l1, vectorizer__min_df=2, tfidf__use_idf=True, svc__degree=4, vectorizer__ngram_range=(1, 4), score=0.8653603034134008, total=  21.3s\n",
      "[CV] svc__C=1, svc__gamma=0.5, svc__kernel=rbf, tfidf__norm=l1, vectorizer__min_df=2, tfidf__use_idf=True, svc__degree=6, vectorizer__ngram_range=(1, 4) \n",
      "[CV]  svc__C=1, svc__gamma=1, svc__kernel=rbf, tfidf__norm=l1, vectorizer__min_df=3, tfidf__use_idf=True, svc__degree=4, vectorizer__ngram_range=(1, 3), score=0.8875552747946936, total=  19.5s\n",
      "[CV]  svc__C=1, svc__gamma=1, svc__kernel=rbf, tfidf__norm=l2, vectorizer__min_df=2, tfidf__use_idf=True, svc__degree=4, vectorizer__ngram_range=(1, 3), score=0.8926089703095389, total=  16.2s\n",
      "[CV] svc__C=1, svc__gamma=0.5, svc__kernel=rbf, tfidf__norm=l1, vectorizer__min_df=2, tfidf__use_idf=True, svc__degree=6, vectorizer__ngram_range=(1, 4) \n",
      "[CV] svc__C=1, svc__gamma=0.5, svc__kernel=rbf, tfidf__norm=l1, vectorizer__min_df=2, tfidf__use_idf=True, svc__degree=6, vectorizer__ngram_range=(1, 4) \n",
      "[CV]  svc__C=1, svc__gamma=1, svc__kernel=rbf, tfidf__norm=l1, vectorizer__min_df=3, tfidf__use_idf=True, svc__degree=4, vectorizer__ngram_range=(1, 3), score=0.8774478837650032, total=  19.4s\n",
      "[CV] svc__C=1, svc__gamma=0.5, svc__kernel=rbf, tfidf__norm=l1, vectorizer__min_df=2, tfidf__use_idf=True, svc__degree=6, vectorizer__ngram_range=(1, 4) \n",
      "[CV]  svc__C=1, svc__gamma=1, svc__kernel=rbf, tfidf__norm=l1, vectorizer__min_df=2, tfidf__use_idf=True, svc__degree=4, vectorizer__ngram_range=(1, 4), score=0.8618296529968454, total=  23.3s\n",
      "[CV] svc__C=1, svc__gamma=0.5, svc__kernel=rbf, tfidf__norm=l1, vectorizer__min_df=3, tfidf__use_idf=True, svc__degree=6, vectorizer__ngram_range=(1, 2) \n",
      "[CV]  svc__C=1, svc__gamma=1, svc__kernel=rbf, tfidf__norm=l1, vectorizer__min_df=3, tfidf__use_idf=True, svc__degree=4, vectorizer__ngram_range=(1, 4), score=0.8863636363636364, total=  18.0s\n",
      "[CV] svc__C=1, svc__gamma=0.5, svc__kernel=rbf, tfidf__norm=l1, vectorizer__min_df=3, tfidf__use_idf=True, svc__degree=6, vectorizer__ngram_range=(1, 2) \n",
      "[CV]  svc__C=1, svc__gamma=1, svc__kernel=rbf, tfidf__norm=l1, vectorizer__min_df=3, tfidf__use_idf=True, svc__degree=4, vectorizer__ngram_range=(1, 4), score=0.8719242902208202, total=  18.9s\n",
      "[CV] svc__C=1, svc__gamma=0.5, svc__kernel=rbf, tfidf__norm=l1, vectorizer__min_df=3, tfidf__use_idf=True, svc__degree=6, vectorizer__ngram_range=(1, 2) \n",
      "[CV]  svc__C=1, svc__gamma=1, svc__kernel=rbf, tfidf__norm=l1, vectorizer__min_df=3, tfidf__use_idf=True, svc__degree=4, vectorizer__ngram_range=(1, 4), score=0.8894504106127605, total=  17.8s\n",
      "[CV] svc__C=1, svc__gamma=0.5, svc__kernel=rbf, tfidf__norm=l1, vectorizer__min_df=3, tfidf__use_idf=True, svc__degree=6, vectorizer__ngram_range=(1, 2) \n",
      "[CV]  svc__C=1, svc__gamma=1, svc__kernel=rbf, tfidf__norm=l1, vectorizer__min_df=3, tfidf__use_idf=True, svc__degree=4, vectorizer__ngram_range=(1, 3), score=0.8780025284450064, total=  22.1s\n",
      "[CV] svc__C=1, svc__gamma=0.5, svc__kernel=rbf, tfidf__norm=l1, vectorizer__min_df=3, tfidf__use_idf=True, svc__degree=6, vectorizer__ngram_range=(1, 2) \n",
      "[CV]  svc__C=1, svc__gamma=1, svc__kernel=rbf, tfidf__norm=l2, vectorizer__min_df=2, tfidf__use_idf=True, svc__degree=4, vectorizer__ngram_range=(1, 3), score=0.8883280757097792, total=  20.2s\n",
      "[CV] svc__C=1, svc__gamma=0.5, svc__kernel=rbf, tfidf__norm=l1, vectorizer__min_df=3, tfidf__use_idf=True, svc__degree=6, vectorizer__ngram_range=(1, 3) \n",
      "[CV]  svc__C=1, svc__gamma=1, svc__kernel=rbf, tfidf__norm=l2, vectorizer__min_df=3, tfidf__use_idf=True, svc__degree=4, vectorizer__ngram_range=(1, 3), score=0.9008838383838383, total=  11.0s\n",
      "[CV] svc__C=1, svc__gamma=0.5, svc__kernel=rbf, tfidf__norm=l1, vectorizer__min_df=3, tfidf__use_idf=True, svc__degree=6, vectorizer__ngram_range=(1, 3) \n",
      "[CV]  svc__C=1, svc__gamma=1, svc__kernel=rbf, tfidf__norm=l2, vectorizer__min_df=2, tfidf__use_idf=True, svc__degree=4, vectorizer__ngram_range=(1, 3), score=0.898989898989899, total=  23.5s\n",
      "[CV] svc__C=1, svc__gamma=0.5, svc__kernel=rbf, tfidf__norm=l1, vectorizer__min_df=3, tfidf__use_idf=True, svc__degree=6, vectorizer__ngram_range=(1, 3) \n",
      "[CV]  svc__C=1, svc__gamma=1, svc__kernel=rbf, tfidf__norm=l2, vectorizer__min_df=3, tfidf__use_idf=True, svc__degree=4, vectorizer__ngram_range=(1, 3), score=0.9020846493998737, total=  12.8s\n",
      "[CV] svc__C=1, svc__gamma=0.5, svc__kernel=rbf, tfidf__norm=l1, vectorizer__min_df=3, tfidf__use_idf=True, svc__degree=6, vectorizer__ngram_range=(1, 3) \n"
     ]
    },
    {
     "name": "stdout",
     "output_type": "stream",
     "text": [
      "[CV]  svc__C=1, svc__gamma=1, svc__kernel=rbf, tfidf__norm=l2, vectorizer__min_df=3, tfidf__use_idf=True, svc__degree=4, vectorizer__ngram_range=(1, 2), score=0.9027163613392293, total=  18.0s\n",
      "[CV] svc__C=1, svc__gamma=0.5, svc__kernel=rbf, tfidf__norm=l1, vectorizer__min_df=3, tfidf__use_idf=True, svc__degree=6, vectorizer__ngram_range=(1, 3) \n",
      "[CV]  svc__C=1, svc__gamma=1, svc__kernel=rbf, tfidf__norm=l2, vectorizer__min_df=3, tfidf__use_idf=True, svc__degree=4, vectorizer__ngram_range=(1, 2), score=0.8912768647281921, total=  17.9s\n",
      "[CV] svc__C=1, svc__gamma=0.5, svc__kernel=rbf, tfidf__norm=l1, vectorizer__min_df=3, tfidf__use_idf=True, svc__degree=6, vectorizer__ngram_range=(1, 4) \n",
      "[CV]  svc__C=1, svc__gamma=1, svc__kernel=rbf, tfidf__norm=l2, vectorizer__min_df=2, tfidf__use_idf=True, svc__degree=4, vectorizer__ngram_range=(1, 4), score=0.8902208201892744, total=  23.0s\n",
      "[CV] svc__C=1, svc__gamma=0.5, svc__kernel=rbf, tfidf__norm=l1, vectorizer__min_df=3, tfidf__use_idf=True, svc__degree=6, vectorizer__ngram_range=(1, 4) \n",
      "[CV]  svc__C=1, svc__gamma=1, svc__kernel=rbf, tfidf__norm=l2, vectorizer__min_df=3, tfidf__use_idf=True, svc__degree=4, vectorizer__ngram_range=(1, 3), score=0.8913455464308275, total=  16.2s\n",
      "[CV] svc__C=1, svc__gamma=0.5, svc__kernel=rbf, tfidf__norm=l1, vectorizer__min_df=3, tfidf__use_idf=True, svc__degree=6, vectorizer__ngram_range=(1, 4) \n",
      "[CV]  svc__C=1, svc__gamma=1, svc__kernel=rbf, tfidf__norm=l2, vectorizer__min_df=2, tfidf__use_idf=True, svc__degree=4, vectorizer__ngram_range=(1, 4), score=0.9027163613392293, total=  24.6s\n",
      "[CV] svc__C=1, svc__gamma=0.5, svc__kernel=rbf, tfidf__norm=l1, vectorizer__min_df=3, tfidf__use_idf=True, svc__degree=6, vectorizer__ngram_range=(1, 4) \n",
      "[CV]  svc__C=1, svc__gamma=1, svc__kernel=rbf, tfidf__norm=l2, vectorizer__min_df=3, tfidf__use_idf=True, svc__degree=4, vectorizer__ngram_range=(1, 4), score=0.901452937460518, total=  13.6s\n",
      "[CV]  svc__C=1, svc__gamma=1, svc__kernel=rbf, tfidf__norm=l2, vectorizer__min_df=2, tfidf__use_idf=True, svc__degree=4, vectorizer__ngram_range=(1, 2), score=0.8983585858585859, total=  22.1s\n",
      "[CV] svc__C=1, svc__gamma=0.5, svc__kernel=rbf, tfidf__norm=l1, vectorizer__min_df=3, tfidf__use_idf=True, svc__degree=6, vectorizer__ngram_range=(1, 4) \n",
      "[CV] svc__C=1, svc__gamma=0.5, svc__kernel=rbf, tfidf__norm=l2, vectorizer__min_df=2, tfidf__use_idf=True, svc__degree=6, vectorizer__ngram_range=(1, 2) \n",
      "[CV]  svc__C=1, svc__gamma=1, svc__kernel=rbf, tfidf__norm=l2, vectorizer__min_df=2, tfidf__use_idf=True, svc__degree=4, vectorizer__ngram_range=(1, 4), score=0.888748419721871, total=  23.2s\n",
      "[CV] svc__C=1, svc__gamma=0.5, svc__kernel=rbf, tfidf__norm=l2, vectorizer__min_df=2, tfidf__use_idf=True, svc__degree=6, vectorizer__ngram_range=(1, 2) \n",
      "[CV]  svc__C=1, svc__gamma=1, svc__kernel=rbf, tfidf__norm=l2, vectorizer__min_df=3, tfidf__use_idf=True, svc__degree=4, vectorizer__ngram_range=(1, 3), score=0.8858044164037855, total=  18.5s\n",
      "[CV] svc__C=1, svc__gamma=0.5, svc__kernel=rbf, tfidf__norm=l2, vectorizer__min_df=2, tfidf__use_idf=True, svc__degree=6, vectorizer__ngram_range=(1, 2) \n",
      "[CV]  svc__C=1, svc__gamma=1, svc__kernel=rbf, tfidf__norm=l2, vectorizer__min_df=2, tfidf__use_idf=True, svc__degree=4, vectorizer__ngram_range=(1, 2), score=0.8938723941882502, total=  27.8s\n",
      "[CV] svc__C=1, svc__gamma=0.5, svc__kernel=rbf, tfidf__norm=l2, vectorizer__min_df=2, tfidf__use_idf=True, svc__degree=6, vectorizer__ngram_range=(1, 2) \n",
      "[CV]  svc__C=1, svc__gamma=1, svc__kernel=rbf, tfidf__norm=l2, vectorizer__min_df=2, tfidf__use_idf=True, svc__degree=4, vectorizer__ngram_range=(1, 4), score=0.8996212121212122, total=  25.1s\n",
      "[CV] svc__C=1, svc__gamma=0.5, svc__kernel=rbf, tfidf__norm=l2, vectorizer__min_df=2, tfidf__use_idf=True, svc__degree=6, vectorizer__ngram_range=(1, 2) \n",
      "[CV]  svc__C=1, svc__gamma=1, svc__kernel=rbf, tfidf__norm=l2, vectorizer__min_df=3, tfidf__use_idf=True, svc__degree=4, vectorizer__ngram_range=(1, 4), score=0.886435331230284, total=  14.6s\n",
      "[CV] svc__C=1, svc__gamma=0.5, svc__kernel=rbf, tfidf__norm=l2, vectorizer__min_df=2, tfidf__use_idf=True, svc__degree=6, vectorizer__ngram_range=(1, 3) \n",
      "[CV]  svc__C=1, svc__gamma=1, svc__kernel=rbf, tfidf__norm=l2, vectorizer__min_df=2, tfidf__use_idf=True, svc__degree=4, vectorizer__ngram_range=(1, 3), score=0.8893805309734514, total=  24.0s\n",
      "[CV] svc__C=1, svc__gamma=0.5, svc__kernel=rbf, tfidf__norm=l2, vectorizer__min_df=2, tfidf__use_idf=True, svc__degree=6, vectorizer__ngram_range=(1, 3) \n"
     ]
    },
    {
     "name": "stderr",
     "output_type": "stream",
     "text": [
      "[Parallel(n_jobs=-1)]: Done 589 tasks      | elapsed:  5.9min\n"
     ]
    },
    {
     "name": "stdout",
     "output_type": "stream",
     "text": [
      "[CV]  svc__C=1, svc__gamma=1, svc__kernel=rbf, tfidf__norm=l2, vectorizer__min_df=3, tfidf__use_idf=True, svc__degree=4, vectorizer__ngram_range=(1, 3), score=0.8906447534766119, total=  15.9s\n",
      "[CV] svc__C=1, svc__gamma=0.5, svc__kernel=rbf, tfidf__norm=l2, vectorizer__min_df=2, tfidf__use_idf=True, svc__degree=6, vectorizer__ngram_range=(1, 3) \n",
      "[CV]  svc__C=1, svc__gamma=1, svc__kernel=rbf, tfidf__norm=l2, vectorizer__min_df=2, tfidf__use_idf=True, svc__degree=4, vectorizer__ngram_range=(1, 3), score=0.903348073278585, total=  26.0s\n",
      "[CV] svc__C=1, svc__gamma=0.5, svc__kernel=rbf, tfidf__norm=l2, vectorizer__min_df=2, tfidf__use_idf=True, svc__degree=6, vectorizer__ngram_range=(1, 3) \n",
      "[CV]  svc__C=1, svc__gamma=1, svc__kernel=rbf, tfidf__norm=l2, vectorizer__min_df=3, tfidf__use_idf=True, svc__degree=4, vectorizer__ngram_range=(1, 2), score=0.9015151515151515, total=  24.6s\n",
      "[CV] svc__C=1, svc__gamma=0.5, svc__kernel=rbf, tfidf__norm=l2, vectorizer__min_df=2, tfidf__use_idf=True, svc__degree=6, vectorizer__ngram_range=(1, 3) \n",
      "[CV]  svc__C=1, svc__gamma=1, svc__kernel=rbf, tfidf__norm=l2, vectorizer__min_df=3, tfidf__use_idf=True, svc__degree=4, vectorizer__ngram_range=(1, 2), score=0.8858044164037855, total=  23.1s\n",
      "[CV] svc__C=1, svc__gamma=0.5, svc__kernel=rbf, tfidf__norm=l2, vectorizer__min_df=2, tfidf__use_idf=True, svc__degree=6, vectorizer__ngram_range=(1, 4) \n",
      "[CV]  svc__C=1, svc__gamma=0.5, svc__kernel=rbf, tfidf__norm=l1, vectorizer__min_df=2, tfidf__use_idf=True, svc__degree=6, vectorizer__ngram_range=(1, 3), score=0.8511041009463722, total=  11.9s\n",
      "[CV] svc__C=1, svc__gamma=0.5, svc__kernel=rbf, tfidf__norm=l2, vectorizer__min_df=2, tfidf__use_idf=True, svc__degree=6, vectorizer__ngram_range=(1, 4) \n",
      "[CV]  svc__C=1, svc__gamma=1, svc__kernel=rbf, tfidf__norm=l2, vectorizer__min_df=2, tfidf__use_idf=True, svc__degree=4, vectorizer__ngram_range=(1, 2), score=0.901452937460518, total=  27.8s\n",
      "[CV] svc__C=1, svc__gamma=0.5, svc__kernel=rbf, tfidf__norm=l2, vectorizer__min_df=2, tfidf__use_idf=True, svc__degree=6, vectorizer__ngram_range=(1, 4) \n",
      "[CV]  svc__C=1, svc__gamma=0.5, svc__kernel=rbf, tfidf__norm=l1, vectorizer__min_df=2, tfidf__use_idf=True, svc__degree=6, vectorizer__ngram_range=(1, 2), score=0.8511041009463722, total=  15.3s\n",
      "[CV]  svc__C=1, svc__gamma=1, svc__kernel=rbf, tfidf__norm=l2, vectorizer__min_df=3, tfidf__use_idf=True, svc__degree=4, vectorizer__ngram_range=(1, 4), score=0.9008838383838383, total=  18.0s\n",
      "[CV] svc__C=1, svc__gamma=0.5, svc__kernel=rbf, tfidf__norm=l2, vectorizer__min_df=2, tfidf__use_idf=True, svc__degree=6, vectorizer__ngram_range=(1, 4) \n",
      "[CV] svc__C=1, svc__gamma=0.5, svc__kernel=rbf, tfidf__norm=l2, vectorizer__min_df=2, tfidf__use_idf=True, svc__degree=6, vectorizer__ngram_range=(1, 4) \n",
      "[CV]  svc__C=1, svc__gamma=1, svc__kernel=rbf, tfidf__norm=l2, vectorizer__min_df=3, tfidf__use_idf=True, svc__degree=4, vectorizer__ngram_range=(1, 2), score=0.8926089703095389, total=  24.0s\n",
      "[CV] svc__C=1, svc__gamma=0.5, svc__kernel=rbf, tfidf__norm=l2, vectorizer__min_df=3, tfidf__use_idf=True, svc__degree=6, vectorizer__ngram_range=(1, 2) \n",
      "[CV]  svc__C=1, svc__gamma=1, svc__kernel=rbf, tfidf__norm=l2, vectorizer__min_df=3, tfidf__use_idf=True, svc__degree=4, vectorizer__ngram_range=(1, 4), score=0.8906447534766119, total=  13.8s\n",
      "[CV] svc__C=1, svc__gamma=0.5, svc__kernel=rbf, tfidf__norm=l2, vectorizer__min_df=3, tfidf__use_idf=True, svc__degree=6, vectorizer__ngram_range=(1, 2) \n",
      "[CV]  svc__C=1, svc__gamma=1, svc__kernel=rbf, tfidf__norm=l2, vectorizer__min_df=2, tfidf__use_idf=True, svc__degree=4, vectorizer__ngram_range=(1, 2), score=0.8893805309734514, total=  26.6s\n",
      "[CV]  svc__C=1, svc__gamma=1, svc__kernel=rbf, tfidf__norm=l2, vectorizer__min_df=2, tfidf__use_idf=True, svc__degree=4, vectorizer__ngram_range=(1, 4), score=0.8919772583701832, total=  31.6s\n",
      "[CV] svc__C=1, svc__gamma=0.5, svc__kernel=rbf, tfidf__norm=l2, vectorizer__min_df=3, tfidf__use_idf=True, svc__degree=6, vectorizer__ngram_range=(1, 2) \n",
      "[CV] svc__C=1, svc__gamma=0.5, svc__kernel=rbf, tfidf__norm=l2, vectorizer__min_df=3, tfidf__use_idf=True, svc__degree=6, vectorizer__ngram_range=(1, 2) \n",
      "[CV]  svc__C=1, svc__gamma=0.5, svc__kernel=rbf, tfidf__norm=l1, vectorizer__min_df=2, tfidf__use_idf=True, svc__degree=6, vectorizer__ngram_range=(1, 2), score=0.8693181818181818, total=  16.1s\n",
      "[CV] svc__C=1, svc__gamma=0.5, svc__kernel=rbf, tfidf__norm=l2, vectorizer__min_df=3, tfidf__use_idf=True, svc__degree=6, vectorizer__ngram_range=(1, 2) \n",
      "[CV]  svc__C=1, svc__gamma=0.5, svc__kernel=rbf, tfidf__norm=l1, vectorizer__min_df=2, tfidf__use_idf=True, svc__degree=6, vectorizer__ngram_range=(1, 2), score=0.8704990524320909, total=  16.1s\n",
      "[CV] svc__C=1, svc__gamma=0.5, svc__kernel=rbf, tfidf__norm=l2, vectorizer__min_df=3, tfidf__use_idf=True, svc__degree=6, vectorizer__ngram_range=(1, 3) \n",
      "[CV]  svc__C=1, svc__gamma=0.5, svc__kernel=rbf, tfidf__norm=l1, vectorizer__min_df=2, tfidf__use_idf=True, svc__degree=6, vectorizer__ngram_range=(1, 3), score=0.8622867972204674, total=  15.6s\n",
      "[CV] svc__C=1, svc__gamma=0.5, svc__kernel=rbf, tfidf__norm=l2, vectorizer__min_df=3, tfidf__use_idf=True, svc__degree=6, vectorizer__ngram_range=(1, 3) \n",
      "[CV]  svc__C=1, svc__gamma=1, svc__kernel=rbf, tfidf__norm=l2, vectorizer__min_df=3, tfidf__use_idf=True, svc__degree=4, vectorizer__ngram_range=(1, 4), score=0.8913455464308275, total=  20.1s\n",
      "[CV] svc__C=1, svc__gamma=0.5, svc__kernel=rbf, tfidf__norm=l2, vectorizer__min_df=3, tfidf__use_idf=True, svc__degree=6, vectorizer__ngram_range=(1, 3) \n",
      "[CV]  svc__C=1, svc__gamma=0.5, svc__kernel=rbf, tfidf__norm=l1, vectorizer__min_df=2, tfidf__use_idf=True, svc__degree=6, vectorizer__ngram_range=(1, 2), score=0.8622867972204674, total=  18.4s\n",
      "[CV] svc__C=1, svc__gamma=0.5, svc__kernel=rbf, tfidf__norm=l2, vectorizer__min_df=3, tfidf__use_idf=True, svc__degree=6, vectorizer__ngram_range=(1, 3) \n",
      "[CV]  svc__C=1, svc__gamma=0.5, svc__kernel=rbf, tfidf__norm=l1, vectorizer__min_df=2, tfidf__use_idf=True, svc__degree=6, vectorizer__ngram_range=(1, 3), score=0.8622867972204674, total=  16.9s\n",
      "[CV] svc__C=1, svc__gamma=0.5, svc__kernel=rbf, tfidf__norm=l2, vectorizer__min_df=3, tfidf__use_idf=True, svc__degree=6, vectorizer__ngram_range=(1, 3) \n",
      "[CV]  svc__C=1, svc__gamma=0.5, svc__kernel=rbf, tfidf__norm=l1, vectorizer__min_df=3, tfidf__use_idf=True, svc__degree=6, vectorizer__ngram_range=(1, 3), score=0.8737373737373737, total=  10.0s\n",
      "[CV] svc__C=1, svc__gamma=0.5, svc__kernel=rbf, tfidf__norm=l2, vectorizer__min_df=3, tfidf__use_idf=True, svc__degree=6, vectorizer__ngram_range=(1, 4) \n",
      "[CV]  svc__C=1, svc__gamma=0.5, svc__kernel=rbf, tfidf__norm=l1, vectorizer__min_df=3, tfidf__use_idf=True, svc__degree=6, vectorizer__ngram_range=(1, 2), score=0.861198738170347, total=  15.3s\n",
      "[CV] svc__C=1, svc__gamma=0.5, svc__kernel=rbf, tfidf__norm=l2, vectorizer__min_df=3, tfidf__use_idf=True, svc__degree=6, vectorizer__ngram_range=(1, 4) \n",
      "[CV]  svc__C=1, svc__gamma=0.5, svc__kernel=rbf, tfidf__norm=l1, vectorizer__min_df=2, tfidf__use_idf=True, svc__degree=6, vectorizer__ngram_range=(1, 4), score=0.849211356466877, total=  20.0s\n",
      "[CV] svc__C=1, svc__gamma=0.5, svc__kernel=rbf, tfidf__norm=l2, vectorizer__min_df=3, tfidf__use_idf=True, svc__degree=6, vectorizer__ngram_range=(1, 4) \n",
      "[CV]  svc__C=1, svc__gamma=0.5, svc__kernel=rbf, tfidf__norm=l1, vectorizer__min_df=2, tfidf__use_idf=True, svc__degree=6, vectorizer__ngram_range=(1, 2), score=0.8584070796460177, total=  20.8s\n",
      "[CV] svc__C=1, svc__gamma=0.5, svc__kernel=rbf, tfidf__norm=l2, vectorizer__min_df=3, tfidf__use_idf=True, svc__degree=6, vectorizer__ngram_range=(1, 4) \n",
      "[CV]  svc__C=1, svc__gamma=0.5, svc__kernel=rbf, tfidf__norm=l2, vectorizer__min_df=2, tfidf__use_idf=True, svc__degree=6, vectorizer__ngram_range=(1, 2), score=0.8983585858585859, total=  10.3s\n",
      "[CV] svc__C=1, svc__gamma=0.5, svc__kernel=rbf, tfidf__norm=l2, vectorizer__min_df=3, tfidf__use_idf=True, svc__degree=6, vectorizer__ngram_range=(1, 4) \n",
      "[CV]  svc__C=1, svc__gamma=0.5, svc__kernel=rbf, tfidf__norm=l1, vectorizer__min_df=2, tfidf__use_idf=True, svc__degree=6, vectorizer__ngram_range=(1, 3), score=0.8674242424242424, total=  19.4s\n"
     ]
    },
    {
     "name": "stdout",
     "output_type": "stream",
     "text": [
      "[CV] svc__C=1, svc__gamma=1, svc__kernel=rbf, tfidf__norm=l1, vectorizer__min_df=2, tfidf__use_idf=True, svc__degree=6, vectorizer__ngram_range=(1, 2) \n",
      "[CV]  svc__C=1, svc__gamma=0.5, svc__kernel=rbf, tfidf__norm=l1, vectorizer__min_df=2, tfidf__use_idf=True, svc__degree=6, vectorizer__ngram_range=(1, 4), score=0.8630050505050505, total=  19.9s\n",
      "[CV] svc__C=1, svc__gamma=1, svc__kernel=rbf, tfidf__norm=l1, vectorizer__min_df=2, tfidf__use_idf=True, svc__degree=6, vectorizer__ngram_range=(1, 2) \n",
      "[CV]  svc__C=1, svc__gamma=0.5, svc__kernel=rbf, tfidf__norm=l1, vectorizer__min_df=3, tfidf__use_idf=True, svc__degree=6, vectorizer__ngram_range=(1, 2), score=0.8660770688566014, total=  16.6s\n",
      "[CV] svc__C=1, svc__gamma=1, svc__kernel=rbf, tfidf__norm=l1, vectorizer__min_df=2, tfidf__use_idf=True, svc__degree=6, vectorizer__ngram_range=(1, 2) \n",
      "[CV]  svc__C=1, svc__gamma=0.5, svc__kernel=rbf, tfidf__norm=l1, vectorizer__min_df=2, tfidf__use_idf=True, svc__degree=6, vectorizer__ngram_range=(1, 4), score=0.8482932996207333, total=  18.0s\n",
      "[CV] svc__C=1, svc__gamma=1, svc__kernel=rbf, tfidf__norm=l1, vectorizer__min_df=2, tfidf__use_idf=True, svc__degree=6, vectorizer__ngram_range=(1, 2) \n",
      "[CV]  svc__C=1, svc__gamma=0.5, svc__kernel=rbf, tfidf__norm=l1, vectorizer__min_df=2, tfidf__use_idf=True, svc__degree=6, vectorizer__ngram_range=(1, 4), score=0.8597599494630449, total=  19.8s\n",
      "[CV] svc__C=1, svc__gamma=1, svc__kernel=rbf, tfidf__norm=l1, vectorizer__min_df=2, tfidf__use_idf=True, svc__degree=6, vectorizer__ngram_range=(1, 2) \n",
      "[CV]  svc__C=1, svc__gamma=0.5, svc__kernel=rbf, tfidf__norm=l1, vectorizer__min_df=3, tfidf__use_idf=True, svc__degree=6, vectorizer__ngram_range=(1, 2), score=0.865992414664981, total=  17.1s\n",
      "[CV] svc__C=1, svc__gamma=1, svc__kernel=rbf, tfidf__norm=l1, vectorizer__min_df=2, tfidf__use_idf=True, svc__degree=6, vectorizer__ngram_range=(1, 3) \n",
      "[CV]  svc__C=1, svc__gamma=0.5, svc__kernel=rbf, tfidf__norm=l1, vectorizer__min_df=3, tfidf__use_idf=True, svc__degree=6, vectorizer__ngram_range=(1, 3), score=0.866708780795957, total=  15.5s\n",
      "[CV] svc__C=1, svc__gamma=1, svc__kernel=rbf, tfidf__norm=l1, vectorizer__min_df=2, tfidf__use_idf=True, svc__degree=6, vectorizer__ngram_range=(1, 3) \n",
      "[CV]  svc__C=1, svc__gamma=0.5, svc__kernel=rbf, tfidf__norm=l1, vectorizer__min_df=3, tfidf__use_idf=True, svc__degree=6, vectorizer__ngram_range=(1, 4), score=0.8660770688566014, total=  13.8s\n",
      "[CV] svc__C=1, svc__gamma=1, svc__kernel=rbf, tfidf__norm=l1, vectorizer__min_df=2, tfidf__use_idf=True, svc__degree=6, vectorizer__ngram_range=(1, 3) \n",
      "[CV]  svc__C=1, svc__gamma=0.5, svc__kernel=rbf, tfidf__norm=l1, vectorizer__min_df=3, tfidf__use_idf=True, svc__degree=6, vectorizer__ngram_range=(1, 4), score=0.865992414664981, total=  13.5s\n",
      "[CV] svc__C=1, svc__gamma=1, svc__kernel=rbf, tfidf__norm=l1, vectorizer__min_df=2, tfidf__use_idf=True, svc__degree=6, vectorizer__ngram_range=(1, 3) \n",
      "[CV]  svc__C=1, svc__gamma=0.5, svc__kernel=rbf, tfidf__norm=l1, vectorizer__min_df=2, tfidf__use_idf=True, svc__degree=6, vectorizer__ngram_range=(1, 3), score=0.8533501896333755, total=  23.3s\n",
      "[CV] svc__C=1, svc__gamma=1, svc__kernel=rbf, tfidf__norm=l1, vectorizer__min_df=2, tfidf__use_idf=True, svc__degree=6, vectorizer__ngram_range=(1, 3) \n",
      "[CV]  svc__C=1, svc__gamma=0.5, svc__kernel=rbf, tfidf__norm=l1, vectorizer__min_df=3, tfidf__use_idf=True, svc__degree=6, vectorizer__ngram_range=(1, 2), score=0.8787878787878788, total=  17.9s\n",
      "[CV] svc__C=1, svc__gamma=1, svc__kernel=rbf, tfidf__norm=l1, vectorizer__min_df=2, tfidf__use_idf=True, svc__degree=6, vectorizer__ngram_range=(1, 4) \n",
      "[CV]  svc__C=1, svc__gamma=0.5, svc__kernel=rbf, tfidf__norm=l1, vectorizer__min_df=3, tfidf__use_idf=True, svc__degree=6, vectorizer__ngram_range=(1, 3), score=0.8624605678233438, total=  18.5s\n",
      "[CV] svc__C=1, svc__gamma=1, svc__kernel=rbf, tfidf__norm=l1, vectorizer__min_df=2, tfidf__use_idf=True, svc__degree=6, vectorizer__ngram_range=(1, 4) \n",
      "[CV]  svc__C=1, svc__gamma=0.5, svc__kernel=rbf, tfidf__norm=l2, vectorizer__min_df=2, tfidf__use_idf=True, svc__degree=6, vectorizer__ngram_range=(1, 3), score=0.8875552747946936, total=  10.7s\n",
      "[CV]  svc__C=1, svc__gamma=0.5, svc__kernel=rbf, tfidf__norm=l1, vectorizer__min_df=3, tfidf__use_idf=True, svc__degree=6, vectorizer__ngram_range=(1, 4), score=0.8711307643714467, total=  15.7s\n",
      "[CV] svc__C=1, svc__gamma=1, svc__kernel=rbf, tfidf__norm=l1, vectorizer__min_df=2, tfidf__use_idf=True, svc__degree=6, vectorizer__ngram_range=(1, 4) \n",
      "[CV] svc__C=1, svc__gamma=1, svc__kernel=rbf, tfidf__norm=l1, vectorizer__min_df=2, tfidf__use_idf=True, svc__degree=6, vectorizer__ngram_range=(1, 4) \n",
      "[CV]  svc__C=1, svc__gamma=0.5, svc__kernel=rbf, tfidf__norm=l1, vectorizer__min_df=3, tfidf__use_idf=True, svc__degree=6, vectorizer__ngram_range=(1, 4), score=0.8618296529968454, total=  15.0s\n",
      "[CV] svc__C=1, svc__gamma=1, svc__kernel=rbf, tfidf__norm=l1, vectorizer__min_df=2, tfidf__use_idf=True, svc__degree=6, vectorizer__ngram_range=(1, 4) \n",
      "[CV]  svc__C=1, svc__gamma=0.5, svc__kernel=rbf, tfidf__norm=l2, vectorizer__min_df=2, tfidf__use_idf=True, svc__degree=6, vectorizer__ngram_range=(1, 2), score=0.886923562855338, total=  14.7s\n",
      "[CV] svc__C=1, svc__gamma=1, svc__kernel=rbf, tfidf__norm=l1, vectorizer__min_df=3, tfidf__use_idf=True, svc__degree=6, vectorizer__ngram_range=(1, 2) \n",
      "[CV]  svc__C=1, svc__gamma=0.5, svc__kernel=rbf, tfidf__norm=l2, vectorizer__min_df=2, tfidf__use_idf=True, svc__degree=6, vectorizer__ngram_range=(1, 3), score=0.9002525252525253, total=  13.6s\n",
      "[CV] svc__C=1, svc__gamma=1, svc__kernel=rbf, tfidf__norm=l1, vectorizer__min_df=3, tfidf__use_idf=True, svc__degree=6, vectorizer__ngram_range=(1, 2) \n",
      "[CV]  svc__C=1, svc__gamma=0.5, svc__kernel=rbf, tfidf__norm=l1, vectorizer__min_df=2, tfidf__use_idf=True, svc__degree=6, vectorizer__ngram_range=(1, 4), score=0.8566013897662665, total=  22.4s\n",
      "[CV] svc__C=1, svc__gamma=1, svc__kernel=rbf, tfidf__norm=l1, vectorizer__min_df=3, tfidf__use_idf=True, svc__degree=6, vectorizer__ngram_range=(1, 2) \n",
      "[CV]  svc__C=1, svc__gamma=0.5, svc__kernel=rbf, tfidf__norm=l2, vectorizer__min_df=2, tfidf__use_idf=True, svc__degree=6, vectorizer__ngram_range=(1, 4), score=0.8996212121212122, total=  11.3s\n",
      "[CV] svc__C=1, svc__gamma=1, svc__kernel=rbf, tfidf__norm=l1, vectorizer__min_df=3, tfidf__use_idf=True, svc__degree=6, vectorizer__ngram_range=(1, 2) \n",
      "[CV]  svc__C=1, svc__gamma=0.5, svc__kernel=rbf, tfidf__norm=l1, vectorizer__min_df=3, tfidf__use_idf=True, svc__degree=6, vectorizer__ngram_range=(1, 2), score=0.8717624763108023, total=  19.8s\n",
      "[CV]  svc__C=1, svc__gamma=0.5, svc__kernel=rbf, tfidf__norm=l2, vectorizer__min_df=3, tfidf__use_idf=True, svc__degree=6, vectorizer__ngram_range=(1, 2), score=0.8977272727272727, total=  11.0s\n",
      "[CV] svc__C=1, svc__gamma=1, svc__kernel=rbf, tfidf__norm=l1, vectorizer__min_df=3, tfidf__use_idf=True, svc__degree=6, vectorizer__ngram_range=(1, 2) \n",
      "[CV] svc__C=1, svc__gamma=1, svc__kernel=rbf, tfidf__norm=l1, vectorizer__min_df=3, tfidf__use_idf=True, svc__degree=6, vectorizer__ngram_range=(1, 3) \n",
      "[CV]  svc__C=1, svc__gamma=0.5, svc__kernel=rbf, tfidf__norm=l2, vectorizer__min_df=2, tfidf__use_idf=True, svc__degree=6, vectorizer__ngram_range=(1, 3), score=0.8832807570977917, total=  15.0s\n",
      "[CV]  svc__C=1, svc__gamma=0.5, svc__kernel=rbf, tfidf__norm=l1, vectorizer__min_df=3, tfidf__use_idf=True, svc__degree=6, vectorizer__ngram_range=(1, 3), score=0.8711307643714467, total=  16.9s\n",
      "[CV] svc__C=1, svc__gamma=1, svc__kernel=rbf, tfidf__norm=l1, vectorizer__min_df=3, tfidf__use_idf=True, svc__degree=6, vectorizer__ngram_range=(1, 3) \n",
      "[CV] svc__C=1, svc__gamma=1, svc__kernel=rbf, tfidf__norm=l1, vectorizer__min_df=3, tfidf__use_idf=True, svc__degree=6, vectorizer__ngram_range=(1, 3) \n",
      "[CV]  svc__C=1, svc__gamma=0.5, svc__kernel=rbf, tfidf__norm=l2, vectorizer__min_df=3, tfidf__use_idf=True, svc__degree=6, vectorizer__ngram_range=(1, 2), score=0.8862199747155499, total=  10.2s\n",
      "[CV] svc__C=1, svc__gamma=1, svc__kernel=rbf, tfidf__norm=l1, vectorizer__min_df=3, tfidf__use_idf=True, svc__degree=6, vectorizer__ngram_range=(1, 3) \n",
      "[CV]  svc__C=1, svc__gamma=0.5, svc__kernel=rbf, tfidf__norm=l1, vectorizer__min_df=3, tfidf__use_idf=True, svc__degree=6, vectorizer__ngram_range=(1, 4), score=0.8724747474747475, total=  18.0s\n"
     ]
    },
    {
     "name": "stdout",
     "output_type": "stream",
     "text": [
      "[CV] svc__C=1, svc__gamma=1, svc__kernel=rbf, tfidf__norm=l1, vectorizer__min_df=3, tfidf__use_idf=True, svc__degree=6, vectorizer__ngram_range=(1, 3) \n",
      "[CV]  svc__C=1, svc__gamma=0.5, svc__kernel=rbf, tfidf__norm=l1, vectorizer__min_df=3, tfidf__use_idf=True, svc__degree=6, vectorizer__ngram_range=(1, 3), score=0.865992414664981, total=  18.3s\n",
      "[CV] svc__C=1, svc__gamma=1, svc__kernel=rbf, tfidf__norm=l1, vectorizer__min_df=3, tfidf__use_idf=True, svc__degree=6, vectorizer__ngram_range=(1, 4) \n",
      "[CV]  svc__C=1, svc__gamma=0.5, svc__kernel=rbf, tfidf__norm=l2, vectorizer__min_df=2, tfidf__use_idf=True, svc__degree=6, vectorizer__ngram_range=(1, 2), score=0.8906447534766119, total=  16.4s\n",
      "[CV]  svc__C=1, svc__gamma=0.5, svc__kernel=rbf, tfidf__norm=l2, vectorizer__min_df=2, tfidf__use_idf=True, svc__degree=6, vectorizer__ngram_range=(1, 2), score=0.9020846493998737, total=  16.6s\n",
      "[CV] svc__C=1, svc__gamma=1, svc__kernel=rbf, tfidf__norm=l1, vectorizer__min_df=3, tfidf__use_idf=True, svc__degree=6, vectorizer__ngram_range=(1, 4) \n",
      "[CV] svc__C=1, svc__gamma=1, svc__kernel=rbf, tfidf__norm=l1, vectorizer__min_df=3, tfidf__use_idf=True, svc__degree=6, vectorizer__ngram_range=(1, 4) \n",
      "[CV]  svc__C=1, svc__gamma=0.5, svc__kernel=rbf, tfidf__norm=l2, vectorizer__min_df=3, tfidf__use_idf=True, svc__degree=6, vectorizer__ngram_range=(1, 2), score=0.9039797852179406, total=  11.6s\n",
      "[CV] svc__C=1, svc__gamma=1, svc__kernel=rbf, tfidf__norm=l1, vectorizer__min_df=3, tfidf__use_idf=True, svc__degree=6, vectorizer__ngram_range=(1, 4) \n",
      "[CV]  svc__C=1, svc__gamma=0.5, svc__kernel=rbf, tfidf__norm=l2, vectorizer__min_df=2, tfidf__use_idf=True, svc__degree=6, vectorizer__ngram_range=(1, 2), score=0.8820189274447949, total=  17.9s\n",
      "[CV] svc__C=1, svc__gamma=1, svc__kernel=rbf, tfidf__norm=l1, vectorizer__min_df=3, tfidf__use_idf=True, svc__degree=6, vectorizer__ngram_range=(1, 4) \n",
      "[CV]  svc__C=1, svc__gamma=0.5, svc__kernel=rbf, tfidf__norm=l2, vectorizer__min_df=2, tfidf__use_idf=True, svc__degree=6, vectorizer__ngram_range=(1, 4), score=0.8906447534766119, total=  14.8s\n",
      "[CV] svc__C=1, svc__gamma=1, svc__kernel=rbf, tfidf__norm=l2, vectorizer__min_df=2, tfidf__use_idf=True, svc__degree=6, vectorizer__ngram_range=(1, 2) \n",
      "[CV]  svc__C=1, svc__gamma=0.5, svc__kernel=rbf, tfidf__norm=l2, vectorizer__min_df=3, tfidf__use_idf=True, svc__degree=6, vectorizer__ngram_range=(1, 2), score=0.8856601389766267, total=  14.2s\n",
      "[CV] svc__C=1, svc__gamma=1, svc__kernel=rbf, tfidf__norm=l2, vectorizer__min_df=2, tfidf__use_idf=True, svc__degree=6, vectorizer__ngram_range=(1, 2) \n",
      "[CV]  svc__C=1, svc__gamma=0.5, svc__kernel=rbf, tfidf__norm=l2, vectorizer__min_df=2, tfidf__use_idf=True, svc__degree=6, vectorizer__ngram_range=(1, 4), score=0.9027163613392293, total=  16.3s\n",
      "[CV] svc__C=1, svc__gamma=1, svc__kernel=rbf, tfidf__norm=l2, vectorizer__min_df=2, tfidf__use_idf=True, svc__degree=6, vectorizer__ngram_range=(1, 2) \n",
      "[CV]  svc__C=1, svc__gamma=0.5, svc__kernel=rbf, tfidf__norm=l2, vectorizer__min_df=2, tfidf__use_idf=True, svc__degree=6, vectorizer__ngram_range=(1, 3), score=0.9039797852179406, total=  18.5s\n",
      "[CV]  svc__C=1, svc__gamma=0.5, svc__kernel=rbf, tfidf__norm=l2, vectorizer__min_df=3, tfidf__use_idf=True, svc__degree=6, vectorizer__ngram_range=(1, 2), score=0.8801261829652997, total=  13.7s\n",
      "[CV] svc__C=1, svc__gamma=1, svc__kernel=rbf, tfidf__norm=l2, vectorizer__min_df=2, tfidf__use_idf=True, svc__degree=6, vectorizer__ngram_range=(1, 2) \n",
      "[CV] svc__C=1, svc__gamma=1, svc__kernel=rbf, tfidf__norm=l2, vectorizer__min_df=2, tfidf__use_idf=True, svc__degree=6, vectorizer__ngram_range=(1, 2) \n",
      "[CV]  svc__C=1, svc__gamma=0.5, svc__kernel=rbf, tfidf__norm=l2, vectorizer__min_df=3, tfidf__use_idf=True, svc__degree=6, vectorizer__ngram_range=(1, 3), score=0.8813880126182966, total=  13.1s\n",
      "[CV] svc__C=1, svc__gamma=1, svc__kernel=rbf, tfidf__norm=l2, vectorizer__min_df=2, tfidf__use_idf=True, svc__degree=6, vectorizer__ngram_range=(1, 3) \n",
      "[CV]  svc__C=1, svc__gamma=0.5, svc__kernel=rbf, tfidf__norm=l2, vectorizer__min_df=3, tfidf__use_idf=True, svc__degree=6, vectorizer__ngram_range=(1, 3), score=0.8964646464646465, total=  11.9s\n",
      "[CV] svc__C=1, svc__gamma=1, svc__kernel=rbf, tfidf__norm=l2, vectorizer__min_df=2, tfidf__use_idf=True, svc__degree=6, vectorizer__ngram_range=(1, 3) \n",
      "[CV]  svc__C=1, svc__gamma=0.5, svc__kernel=rbf, tfidf__norm=l2, vectorizer__min_df=2, tfidf__use_idf=True, svc__degree=6, vectorizer__ngram_range=(1, 3), score=0.8900126422250316, total=  18.4s\n",
      "[CV] svc__C=1, svc__gamma=1, svc__kernel=rbf, tfidf__norm=l2, vectorizer__min_df=2, tfidf__use_idf=True, svc__degree=6, vectorizer__ngram_range=(1, 3) \n",
      "[CV]  svc__C=1, svc__gamma=0.5, svc__kernel=rbf, tfidf__norm=l2, vectorizer__min_df=2, tfidf__use_idf=True, svc__degree=6, vectorizer__ngram_range=(1, 4), score=0.8820189274447949, total=  19.6s\n",
      "[CV]  svc__C=1, svc__gamma=0.5, svc__kernel=rbf, tfidf__norm=l2, vectorizer__min_df=2, tfidf__use_idf=True, svc__degree=6, vectorizer__ngram_range=(1, 4), score=0.8881869867340493, total=  19.0s\n",
      "[CV] svc__C=1, svc__gamma=1, svc__kernel=rbf, tfidf__norm=l2, vectorizer__min_df=2, tfidf__use_idf=True, svc__degree=6, vectorizer__ngram_range=(1, 3) \n",
      "[CV] svc__C=1, svc__gamma=1, svc__kernel=rbf, tfidf__norm=l2, vectorizer__min_df=2, tfidf__use_idf=True, svc__degree=6, vectorizer__ngram_range=(1, 3) \n",
      "[CV]  svc__C=1, svc__gamma=0.5, svc__kernel=rbf, tfidf__norm=l2, vectorizer__min_df=3, tfidf__use_idf=True, svc__degree=6, vectorizer__ngram_range=(1, 3), score=0.885028427037271, total=  14.7s\n",
      "[CV] svc__C=1, svc__gamma=1, svc__kernel=rbf, tfidf__norm=l2, vectorizer__min_df=2, tfidf__use_idf=True, svc__degree=6, vectorizer__ngram_range=(1, 4) \n",
      "[CV]  svc__C=1, svc__gamma=0.5, svc__kernel=rbf, tfidf__norm=l2, vectorizer__min_df=3, tfidf__use_idf=True, svc__degree=6, vectorizer__ngram_range=(1, 4), score=0.8813880126182966, total=  15.6s\n",
      "[CV] svc__C=1, svc__gamma=1, svc__kernel=rbf, tfidf__norm=l2, vectorizer__min_df=2, tfidf__use_idf=True, svc__degree=6, vectorizer__ngram_range=(1, 4) \n",
      "[CV]  svc__C=1, svc__gamma=0.5, svc__kernel=rbf, tfidf__norm=l2, vectorizer__min_df=3, tfidf__use_idf=True, svc__degree=6, vectorizer__ngram_range=(1, 3), score=0.9046114971572963, total=  14.6s\n",
      "[CV] svc__C=1, svc__gamma=1, svc__kernel=rbf, tfidf__norm=l2, vectorizer__min_df=2, tfidf__use_idf=True, svc__degree=6, vectorizer__ngram_range=(1, 4) \n",
      "[CV]  svc__C=1, svc__gamma=0.5, svc__kernel=rbf, tfidf__norm=l2, vectorizer__min_df=3, tfidf__use_idf=True, svc__degree=6, vectorizer__ngram_range=(1, 3), score=0.8868520859671302, total=  16.6s\n",
      "[CV] svc__C=1, svc__gamma=1, svc__kernel=rbf, tfidf__norm=l2, vectorizer__min_df=2, tfidf__use_idf=True, svc__degree=6, vectorizer__ngram_range=(1, 4) \n",
      "[CV]  svc__C=1, svc__gamma=0.5, svc__kernel=rbf, tfidf__norm=l2, vectorizer__min_df=3, tfidf__use_idf=True, svc__degree=6, vectorizer__ngram_range=(1, 4), score=0.885028427037271, total=  13.7s\n",
      "[CV] svc__C=1, svc__gamma=1, svc__kernel=rbf, tfidf__norm=l2, vectorizer__min_df=2, tfidf__use_idf=True, svc__degree=6, vectorizer__ngram_range=(1, 4) \n",
      "[CV]  svc__C=1, svc__gamma=0.5, svc__kernel=rbf, tfidf__norm=l2, vectorizer__min_df=3, tfidf__use_idf=True, svc__degree=6, vectorizer__ngram_range=(1, 4), score=0.8964646464646465, total=  13.6s\n",
      "[CV] svc__C=1, svc__gamma=1, svc__kernel=rbf, tfidf__norm=l2, vectorizer__min_df=3, tfidf__use_idf=True, svc__degree=6, vectorizer__ngram_range=(1, 2) \n",
      "[CV]  svc__C=1, svc__gamma=1, svc__kernel=rbf, tfidf__norm=l1, vectorizer__min_df=2, tfidf__use_idf=True, svc__degree=6, vectorizer__ngram_range=(1, 2), score=0.865615141955836, total=  14.9s\n",
      "[CV] svc__C=1, svc__gamma=1, svc__kernel=rbf, tfidf__norm=l2, vectorizer__min_df=3, tfidf__use_idf=True, svc__degree=6, vectorizer__ngram_range=(1, 2) \n",
      "[CV]  svc__C=1, svc__gamma=0.5, svc__kernel=rbf, tfidf__norm=l2, vectorizer__min_df=3, tfidf__use_idf=True, svc__degree=6, vectorizer__ngram_range=(1, 4), score=0.8862199747155499, total=  14.4s\n",
      "[CV] svc__C=1, svc__gamma=1, svc__kernel=rbf, tfidf__norm=l2, vectorizer__min_df=3, tfidf__use_idf=True, svc__degree=6, vectorizer__ngram_range=(1, 2) \n",
      "[CV]  svc__C=1, svc__gamma=1, svc__kernel=rbf, tfidf__norm=l1, vectorizer__min_df=2, tfidf__use_idf=True, svc__degree=6, vectorizer__ngram_range=(1, 2), score=0.88510101010101, total=  15.8s\n"
     ]
    },
    {
     "name": "stdout",
     "output_type": "stream",
     "text": [
      "[CV] svc__C=1, svc__gamma=1, svc__kernel=rbf, tfidf__norm=l2, vectorizer__min_df=3, tfidf__use_idf=True, svc__degree=6, vectorizer__ngram_range=(1, 2) \n",
      "[CV]  svc__C=1, svc__gamma=0.5, svc__kernel=rbf, tfidf__norm=l2, vectorizer__min_df=3, tfidf__use_idf=True, svc__degree=6, vectorizer__ngram_range=(1, 4), score=0.9046114971572963, total=  15.8s\n",
      "[CV] svc__C=1, svc__gamma=1, svc__kernel=rbf, tfidf__norm=l2, vectorizer__min_df=3, tfidf__use_idf=True, svc__degree=6, vectorizer__ngram_range=(1, 2) \n",
      "[CV]  svc__C=1, svc__gamma=1, svc__kernel=rbf, tfidf__norm=l1, vectorizer__min_df=2, tfidf__use_idf=True, svc__degree=6, vectorizer__ngram_range=(1, 2), score=0.8742893240682249, total=  15.0s\n",
      "[CV] svc__C=1, svc__gamma=1, svc__kernel=rbf, tfidf__norm=l2, vectorizer__min_df=3, tfidf__use_idf=True, svc__degree=6, vectorizer__ngram_range=(1, 3) \n",
      "[CV]  svc__C=1, svc__gamma=1, svc__kernel=rbf, tfidf__norm=l1, vectorizer__min_df=3, tfidf__use_idf=True, svc__degree=6, vectorizer__ngram_range=(1, 3), score=0.8774478837650032, total=  14.5s\n",
      "[CV] svc__C=1, svc__gamma=1, svc__kernel=rbf, tfidf__norm=l2, vectorizer__min_df=3, tfidf__use_idf=True, svc__degree=6, vectorizer__ngram_range=(1, 3) \n",
      "[CV]  svc__C=1, svc__gamma=1, svc__kernel=rbf, tfidf__norm=l1, vectorizer__min_df=3, tfidf__use_idf=True, svc__degree=6, vectorizer__ngram_range=(1, 3), score=0.8780025284450064, total=  10.0s\n",
      "[CV] svc__C=1, svc__gamma=1, svc__kernel=rbf, tfidf__norm=l2, vectorizer__min_df=3, tfidf__use_idf=True, svc__degree=6, vectorizer__ngram_range=(1, 3) \n",
      "[CV]  svc__C=1, svc__gamma=1, svc__kernel=rbf, tfidf__norm=l1, vectorizer__min_df=3, tfidf__use_idf=True, svc__degree=6, vectorizer__ngram_range=(1, 3), score=0.8875552747946936, total=  11.7s\n",
      "[CV] svc__C=1, svc__gamma=1, svc__kernel=rbf, tfidf__norm=l2, vectorizer__min_df=3, tfidf__use_idf=True, svc__degree=6, vectorizer__ngram_range=(1, 3) \n",
      "[CV]  svc__C=1, svc__gamma=1, svc__kernel=rbf, tfidf__norm=l1, vectorizer__min_df=3, tfidf__use_idf=True, svc__degree=6, vectorizer__ngram_range=(1, 2), score=0.8706624605678234, total=  13.3s\n",
      "[CV] svc__C=1, svc__gamma=1, svc__kernel=rbf, tfidf__norm=l2, vectorizer__min_df=3, tfidf__use_idf=True, svc__degree=6, vectorizer__ngram_range=(1, 3) \n",
      "[CV]  svc__C=1, svc__gamma=1, svc__kernel=rbf, tfidf__norm=l1, vectorizer__min_df=3, tfidf__use_idf=True, svc__degree=6, vectorizer__ngram_range=(1, 2), score=0.8805309734513275, total=  10.9s\n",
      "[CV] svc__C=1, svc__gamma=1, svc__kernel=rbf, tfidf__norm=l2, vectorizer__min_df=3, tfidf__use_idf=True, svc__degree=6, vectorizer__ngram_range=(1, 4) \n",
      "[CV]  svc__C=1, svc__gamma=1, svc__kernel=rbf, tfidf__norm=l1, vectorizer__min_df=2, tfidf__use_idf=True, svc__degree=6, vectorizer__ngram_range=(1, 3), score=0.8630914826498423, total=  16.8s\n",
      "[CV] svc__C=1, svc__gamma=1, svc__kernel=rbf, tfidf__norm=l2, vectorizer__min_df=3, tfidf__use_idf=True, svc__degree=6, vectorizer__ngram_range=(1, 4) \n",
      "[CV]  svc__C=1, svc__gamma=1, svc__kernel=rbf, tfidf__norm=l1, vectorizer__min_df=3, tfidf__use_idf=True, svc__degree=6, vectorizer__ngram_range=(1, 2), score=0.8882575757575758, total=  14.6s\n",
      "[CV] svc__C=1, svc__gamma=1, svc__kernel=rbf, tfidf__norm=l2, vectorizer__min_df=3, tfidf__use_idf=True, svc__degree=6, vectorizer__ngram_range=(1, 4) \n",
      "[CV]  svc__C=1, svc__gamma=1, svc__kernel=rbf, tfidf__norm=l1, vectorizer__min_df=2, tfidf__use_idf=True, svc__degree=6, vectorizer__ngram_range=(1, 2), score=0.8818698673404928, total=  18.6s\n",
      "[CV] svc__C=1, svc__gamma=1, svc__kernel=rbf, tfidf__norm=l2, vectorizer__min_df=3, tfidf__use_idf=True, svc__degree=6, vectorizer__ngram_range=(1, 4) \n",
      "[CV]  svc__C=1, svc__gamma=1, svc__kernel=rbf, tfidf__norm=l1, vectorizer__min_df=3, tfidf__use_idf=True, svc__degree=6, vectorizer__ngram_range=(1, 4), score=0.8761061946902655, total=  13.8s\n",
      "[CV] svc__C=1, svc__gamma=1, svc__kernel=rbf, tfidf__norm=l2, vectorizer__min_df=3, tfidf__use_idf=True, svc__degree=6, vectorizer__ngram_range=(1, 4) \n",
      "[CV]  svc__C=1, svc__gamma=1, svc__kernel=rbf, tfidf__norm=l1, vectorizer__min_df=2, tfidf__use_idf=True, svc__degree=6, vectorizer__ngram_range=(1, 3), score=0.8761844598862919, total=  17.0s\n",
      "[CV]  svc__C=1, svc__gamma=1, svc__kernel=rbf, tfidf__norm=l1, vectorizer__min_df=2, tfidf__use_idf=True, svc__degree=6, vectorizer__ngram_range=(1, 3), score=0.8825757575757576, total=  18.3s\n",
      "[CV]  svc__C=1, svc__gamma=1, svc__kernel=rbf, tfidf__norm=l1, vectorizer__min_df=2, tfidf__use_idf=True, svc__degree=6, vectorizer__ngram_range=(1, 2), score=0.8729456384323641, total=  18.3s\n",
      "[CV]  svc__C=1, svc__gamma=1, svc__kernel=rbf, tfidf__norm=l1, vectorizer__min_df=2, tfidf__use_idf=True, svc__degree=6, vectorizer__ngram_range=(1, 3), score=0.881238155401137, total=  17.3s\n",
      "[CV]  svc__C=1, svc__gamma=1, svc__kernel=rbf, tfidf__norm=l1, vectorizer__min_df=2, tfidf__use_idf=True, svc__degree=6, vectorizer__ngram_range=(1, 3), score=0.8691529709228825, total=  17.4s\n",
      "[CV]  svc__C=1, svc__gamma=1, svc__kernel=rbf, tfidf__norm=l1, vectorizer__min_df=3, tfidf__use_idf=True, svc__degree=6, vectorizer__ngram_range=(1, 2), score=0.886923562855338, total=  13.6s\n",
      "[CV]  svc__C=1, svc__gamma=1, svc__kernel=rbf, tfidf__norm=l1, vectorizer__min_df=3, tfidf__use_idf=True, svc__degree=6, vectorizer__ngram_range=(1, 4), score=0.8863636363636364, total=  14.3s\n",
      "[CV]  svc__C=1, svc__gamma=1, svc__kernel=rbf, tfidf__norm=l1, vectorizer__min_df=3, tfidf__use_idf=True, svc__degree=6, vectorizer__ngram_range=(1, 3), score=0.8888888888888888, total=  15.7s\n",
      "[CV]  svc__C=1, svc__gamma=1, svc__kernel=rbf, tfidf__norm=l1, vectorizer__min_df=3, tfidf__use_idf=True, svc__degree=6, vectorizer__ngram_range=(1, 3), score=0.8719242902208202, total=  17.1s\n",
      "[CV]  svc__C=1, svc__gamma=1, svc__kernel=rbf, tfidf__norm=l1, vectorizer__min_df=3, tfidf__use_idf=True, svc__degree=6, vectorizer__ngram_range=(1, 2), score=0.8780795957043588, total=  16.4s\n",
      "[CV]  svc__C=1, svc__gamma=1, svc__kernel=rbf, tfidf__norm=l1, vectorizer__min_df=3, tfidf__use_idf=True, svc__degree=6, vectorizer__ngram_range=(1, 4), score=0.8787113076437144, total=  14.2s\n",
      "[CV]  svc__C=1, svc__gamma=1, svc__kernel=rbf, tfidf__norm=l1, vectorizer__min_df=2, tfidf__use_idf=True, svc__degree=6, vectorizer__ngram_range=(1, 4), score=0.8819444444444444, total=  17.3s\n",
      "[CV]  svc__C=1, svc__gamma=1, svc__kernel=rbf, tfidf__norm=l1, vectorizer__min_df=3, tfidf__use_idf=True, svc__degree=6, vectorizer__ngram_range=(1, 4), score=0.8719242902208202, total=  16.1s\n",
      "[CV]  svc__C=1, svc__gamma=1, svc__kernel=rbf, tfidf__norm=l1, vectorizer__min_df=2, tfidf__use_idf=True, svc__degree=6, vectorizer__ngram_range=(1, 4), score=0.8653603034134008, total=  19.2s\n",
      "[CV]  svc__C=1, svc__gamma=1, svc__kernel=rbf, tfidf__norm=l1, vectorizer__min_df=2, tfidf__use_idf=True, svc__degree=6, vectorizer__ngram_range=(1, 4), score=0.8806064434617814, total=  20.5s\n",
      "[CV]  svc__C=1, svc__gamma=1, svc__kernel=rbf, tfidf__norm=l1, vectorizer__min_df=3, tfidf__use_idf=True, svc__degree=6, vectorizer__ngram_range=(1, 4), score=0.8894504106127605, total=  15.0s\n",
      "[CV]  svc__C=1, svc__gamma=1, svc__kernel=rbf, tfidf__norm=l1, vectorizer__min_df=2, tfidf__use_idf=True, svc__degree=6, vectorizer__ngram_range=(1, 4), score=0.8618296529968454, total=  21.2s\n",
      "[CV]  svc__C=1, svc__gamma=1, svc__kernel=rbf, tfidf__norm=l1, vectorizer__min_df=2, tfidf__use_idf=True, svc__degree=6, vectorizer__ngram_range=(1, 4), score=0.8749210360075805, total=  20.4s\n",
      "[CV]  svc__C=1, svc__gamma=1, svc__kernel=rbf, tfidf__norm=l2, vectorizer__min_df=2, tfidf__use_idf=True, svc__degree=6, vectorizer__ngram_range=(1, 2), score=0.8938723941882502, total=  15.8s\n",
      "[CV]  svc__C=1, svc__gamma=1, svc__kernel=rbf, tfidf__norm=l2, vectorizer__min_df=2, tfidf__use_idf=True, svc__degree=6, vectorizer__ngram_range=(1, 2), score=0.8902208201892744, total=  15.8s\n",
      "[CV]  svc__C=1, svc__gamma=1, svc__kernel=rbf, tfidf__norm=l2, vectorizer__min_df=2, tfidf__use_idf=True, svc__degree=6, vectorizer__ngram_range=(1, 2), score=0.8983585858585859, total=  15.4s\n",
      "[CV]  svc__C=1, svc__gamma=1, svc__kernel=rbf, tfidf__norm=l2, vectorizer__min_df=2, tfidf__use_idf=True, svc__degree=6, vectorizer__ngram_range=(1, 2), score=0.901452937460518, total=  17.6s\n",
      "[CV]  svc__C=1, svc__gamma=1, svc__kernel=rbf, tfidf__norm=l2, vectorizer__min_df=2, tfidf__use_idf=True, svc__degree=6, vectorizer__ngram_range=(1, 2), score=0.8893805309734514, total=  18.5s\n"
     ]
    },
    {
     "name": "stdout",
     "output_type": "stream",
     "text": [
      "[CV]  svc__C=1, svc__gamma=1, svc__kernel=rbf, tfidf__norm=l2, vectorizer__min_df=2, tfidf__use_idf=True, svc__degree=6, vectorizer__ngram_range=(1, 3), score=0.8883280757097792, total=  19.2s\n",
      "[CV]  svc__C=1, svc__gamma=1, svc__kernel=rbf, tfidf__norm=l2, vectorizer__min_df=2, tfidf__use_idf=True, svc__degree=6, vectorizer__ngram_range=(1, 3), score=0.898989898989899, total=  18.7s\n",
      "[CV]  svc__C=1, svc__gamma=1, svc__kernel=rbf, tfidf__norm=l2, vectorizer__min_df=2, tfidf__use_idf=True, svc__degree=6, vectorizer__ngram_range=(1, 3), score=0.8926089703095389, total=  17.8s\n",
      "[CV]  svc__C=1, svc__gamma=1, svc__kernel=rbf, tfidf__norm=l2, vectorizer__min_df=2, tfidf__use_idf=True, svc__degree=6, vectorizer__ngram_range=(1, 3), score=0.8893805309734514, total=  17.5s\n"
     ]
    },
    {
     "name": "stderr",
     "output_type": "stream",
     "text": [
      "[Parallel(n_jobs=-1)]: Done 698 out of 720 | elapsed:  6.8min remaining:   12.8s\n"
     ]
    },
    {
     "name": "stdout",
     "output_type": "stream",
     "text": [
      "[CV]  svc__C=1, svc__gamma=1, svc__kernel=rbf, tfidf__norm=l2, vectorizer__min_df=2, tfidf__use_idf=True, svc__degree=6, vectorizer__ngram_range=(1, 3), score=0.903348073278585, total=  17.7s\n",
      "[CV]  svc__C=1, svc__gamma=1, svc__kernel=rbf, tfidf__norm=l2, vectorizer__min_df=3, tfidf__use_idf=True, svc__degree=6, vectorizer__ngram_range=(1, 2), score=0.8912768647281921, total=  10.0s\n",
      "[CV]  svc__C=1, svc__gamma=1, svc__kernel=rbf, tfidf__norm=l2, vectorizer__min_df=3, tfidf__use_idf=True, svc__degree=6, vectorizer__ngram_range=(1, 2), score=0.8858044164037855, total=  12.8s\n",
      "[CV]  svc__C=1, svc__gamma=1, svc__kernel=rbf, tfidf__norm=l2, vectorizer__min_df=2, tfidf__use_idf=True, svc__degree=6, vectorizer__ngram_range=(1, 4), score=0.8902208201892744, total=  14.6s\n",
      "[CV]  svc__C=1, svc__gamma=1, svc__kernel=rbf, tfidf__norm=l2, vectorizer__min_df=3, tfidf__use_idf=True, svc__degree=6, vectorizer__ngram_range=(1, 2), score=0.9015151515151515, total=  11.7s\n",
      "[CV]  svc__C=1, svc__gamma=1, svc__kernel=rbf, tfidf__norm=l2, vectorizer__min_df=3, tfidf__use_idf=True, svc__degree=6, vectorizer__ngram_range=(1, 2), score=0.9027163613392293, total=  11.6s\n",
      "[CV]  svc__C=1, svc__gamma=1, svc__kernel=rbf, tfidf__norm=l2, vectorizer__min_df=3, tfidf__use_idf=True, svc__degree=6, vectorizer__ngram_range=(1, 3), score=0.8858044164037855, total=  11.3s\n",
      "[CV]  svc__C=1, svc__gamma=1, svc__kernel=rbf, tfidf__norm=l2, vectorizer__min_df=3, tfidf__use_idf=True, svc__degree=6, vectorizer__ngram_range=(1, 2), score=0.8926089703095389, total=  12.8s\n",
      "[CV]  svc__C=1, svc__gamma=1, svc__kernel=rbf, tfidf__norm=l2, vectorizer__min_df=3, tfidf__use_idf=True, svc__degree=6, vectorizer__ngram_range=(1, 3), score=0.8906447534766119, total=   9.3s\n",
      "[CV]  svc__C=1, svc__gamma=1, svc__kernel=rbf, tfidf__norm=l2, vectorizer__min_df=3, tfidf__use_idf=True, svc__degree=6, vectorizer__ngram_range=(1, 4), score=0.8906447534766119, total=   8.0s\n",
      "[CV]  svc__C=1, svc__gamma=1, svc__kernel=rbf, tfidf__norm=l2, vectorizer__min_df=3, tfidf__use_idf=True, svc__degree=6, vectorizer__ngram_range=(1, 4), score=0.8913455464308275, total=   8.3s\n",
      "[CV]  svc__C=1, svc__gamma=1, svc__kernel=rbf, tfidf__norm=l2, vectorizer__min_df=3, tfidf__use_idf=True, svc__degree=6, vectorizer__ngram_range=(1, 4), score=0.901452937460518, total=   8.2s\n",
      "[CV]  svc__C=1, svc__gamma=1, svc__kernel=rbf, tfidf__norm=l2, vectorizer__min_df=2, tfidf__use_idf=True, svc__degree=6, vectorizer__ngram_range=(1, 4), score=0.8919772583701832, total=  15.7s\n",
      "[CV]  svc__C=1, svc__gamma=1, svc__kernel=rbf, tfidf__norm=l2, vectorizer__min_df=3, tfidf__use_idf=True, svc__degree=6, vectorizer__ngram_range=(1, 3), score=0.9008838383838383, total=  10.2s\n",
      "[CV]  svc__C=1, svc__gamma=1, svc__kernel=rbf, tfidf__norm=l2, vectorizer__min_df=3, tfidf__use_idf=True, svc__degree=6, vectorizer__ngram_range=(1, 3), score=0.9020846493998737, total=   9.7s\n",
      "[CV]  svc__C=1, svc__gamma=1, svc__kernel=rbf, tfidf__norm=l2, vectorizer__min_df=3, tfidf__use_idf=True, svc__degree=6, vectorizer__ngram_range=(1, 3), score=0.8913455464308275, total=   9.9s\n",
      "[CV]  svc__C=1, svc__gamma=1, svc__kernel=rbf, tfidf__norm=l2, vectorizer__min_df=2, tfidf__use_idf=True, svc__degree=6, vectorizer__ngram_range=(1, 4), score=0.9027163613392293, total=  16.1s\n",
      "[CV]  svc__C=1, svc__gamma=1, svc__kernel=rbf, tfidf__norm=l2, vectorizer__min_df=2, tfidf__use_idf=True, svc__degree=6, vectorizer__ngram_range=(1, 4), score=0.8996212121212122, total=  16.1s\n",
      "[CV]  svc__C=1, svc__gamma=1, svc__kernel=rbf, tfidf__norm=l2, vectorizer__min_df=3, tfidf__use_idf=True, svc__degree=6, vectorizer__ngram_range=(1, 4), score=0.886435331230284, total=   9.4s\n",
      "[CV]  svc__C=1, svc__gamma=1, svc__kernel=rbf, tfidf__norm=l2, vectorizer__min_df=2, tfidf__use_idf=True, svc__degree=6, vectorizer__ngram_range=(1, 4), score=0.888748419721871, total=  15.5s\n",
      "[CV]  svc__C=1, svc__gamma=1, svc__kernel=rbf, tfidf__norm=l2, vectorizer__min_df=3, tfidf__use_idf=True, svc__degree=6, vectorizer__ngram_range=(1, 4), score=0.9008838383838383, total=   9.5s\n"
     ]
    },
    {
     "name": "stderr",
     "output_type": "stream",
     "text": [
      "[Parallel(n_jobs=-1)]: Done 720 out of 720 | elapsed:  6.8min finished\n"
     ]
    },
    {
     "data": {
      "text/plain": [
       "GridSearchCV(cv=5, error_score='raise',\n",
       "       estimator=Pipeline(memory=None,\n",
       "     steps=[('vectorizer', CountVectorizer(analyzer='word', binary=False, decode_error='strict',\n",
       "        dtype=<class 'numpy.int64'>, encoding='utf-8', input='content',\n",
       "        lowercase=True, max_df=1.0, max_features=None, min_df=1,\n",
       "        ngram_range=(1, 1), preprocessor=None, stop_words=None,\n",
       "       ...,\n",
       "  max_iter=-1, probability=False, random_state=None, shrinking=True,\n",
       "  tol=0.001, verbose=False))]),\n",
       "       fit_params=None, iid=True, n_jobs=-1,\n",
       "       param_grid=[{'svc__C': [0.1, 1], 'tfidf__norm': ['l1', 'l2'], 'svc__degree': [2, 4, 6], 'svc__kernel': ['rbf'], 'vectorizer__ngram_range': [(1, 2), (1, 3), (1, 4)], 'svc__gamma': [0.5, 1], 'tfidf__use_idf': ['True'], 'vectorizer__min_df': [2, 3]}],\n",
       "       pre_dispatch='2*n_jobs', refit=True, return_train_score='warn',\n",
       "       scoring='accuracy', verbose=10)"
      ]
     },
     "execution_count": 26,
     "metadata": {},
     "output_type": "execute_result"
    }
   ],
   "source": [
    "grid_svc.fit(X_train, y_train)"
   ]
  },
  {
   "cell_type": "code",
   "execution_count": 27,
   "metadata": {},
   "outputs": [
    {
     "name": "stdout",
     "output_type": "stream",
     "text": [
      "best score:  0.8947833775419982\n",
      "best parameters:  {'svc__C': 1, 'svc__gamma': 1, 'svc__kernel': 'rbf', 'tfidf__norm': 'l2', 'vectorizer__ngram_range': (1, 2), 'vectorizer__min_df': 3, 'svc__degree': 2, 'tfidf__use_idf': 'True'}\n"
     ]
    }
   ],
   "source": [
    "print_results(grid_svc)"
   ]
  },
  {
   "cell_type": "code",
   "execution_count": null,
   "metadata": {},
   "outputs": [],
   "source": []
  },
  {
   "cell_type": "markdown",
   "metadata": {},
   "source": [
    "### Stochastic Gradient Descent"
   ]
  },
  {
   "cell_type": "code",
   "execution_count": 138,
   "metadata": {},
   "outputs": [],
   "source": [
    "estimators = [('vectorizer', CountVectorizer()), \n",
    "              ('tfidf',TfidfTransformer()),\n",
    "#                ('lda', LDA(learning_method='batch',random_state=rand_state)), \n",
    "               ('sgd', SGDClassifier())]\n",
    "\n",
    "pipe = Pipeline(memory=None,steps = estimators)"
   ]
  },
  {
   "cell_type": "code",
   "execution_count": 148,
   "metadata": {},
   "outputs": [],
   "source": [
    "param_grid = [\n",
    "    {\n",
    "        'vectorizer__ngram_range': [(1,1),(1,2),(1,3)],\n",
    "        'vectorizer__min_df': [3,4],\n",
    "        'tfidf__norm': ['l1','l2'],\n",
    "        'sgd__loss': ['hinge', 'log'],\n",
    "        'sgd__penalty': ['l1','l2','elasticnet'],\n",
    "        'sgd__alpha': [0.0001, 0.001, 0.01, 0.1]\n",
    "    \n",
    "    }\n",
    "]"
   ]
  },
  {
   "cell_type": "code",
   "execution_count": 150,
   "metadata": {},
   "outputs": [],
   "source": [
    "grid_sgd = GridSearchCV(pipe, cv=5, n_jobs=-1, param_grid=param_grid, scoring = \"accuracy\",verbose=10)"
   ]
  },
  {
   "cell_type": "code",
   "execution_count": null,
   "metadata": {},
   "outputs": [],
   "source": [
    "grid_sgd.fit(X_train, y_train)"
   ]
  },
  {
   "cell_type": "code",
   "execution_count": 152,
   "metadata": {},
   "outputs": [
    {
     "name": "stdout",
     "output_type": "stream",
     "text": [
      "best score:  0.8890994063407857\n",
      "best parameters:  {'tfidf__norm': 'l2', 'sgd__alpha': 0.0001, 'vectorizer__min_df': 3, 'vectorizer__ngram_range': (1, 3), 'sgd__loss': 'hinge', 'sgd__penalty': 'l2'}\n"
     ]
    }
   ],
   "source": [
    "print_results(grid_sgd)"
   ]
  },
  {
   "cell_type": "markdown",
   "metadata": {},
   "source": [
    "### KNN"
   ]
  },
  {
   "cell_type": "code",
   "execution_count": 223,
   "metadata": {},
   "outputs": [],
   "source": [
    "estimators = [('vectorizer', CountVectorizer()), \n",
    "              ('tfidf',TfidfTransformer()),\n",
    "#                ('lda', LDA(learning_method='batch',random_state=rand_state)), \n",
    "               ('knn', KNeighborsClassifier())]\n",
    "\n",
    "pipe = Pipeline(memory=None,steps = estimators)"
   ]
  },
  {
   "cell_type": "code",
   "execution_count": 224,
   "metadata": {},
   "outputs": [],
   "source": [
    "param_grid = [\n",
    "    {\n",
    "        'vectorizer__ngram_range': [(1,2),(1,3)],\n",
    "        'vectorizer__min_df': [2,3],\n",
    "        'tfidf__norm': ['l1','l2'],\n",
    "        'knn__n_neighbors': [10,25,40],\n",
    "        'knn__weights': ['uniform','distance'],\n",
    "        'knn__algorithm':['brute'],\n",
    "#         'knn__leaf_size':[10,30,50],\n",
    "        'knn__p':[1,2]\n",
    "    }\n",
    "]"
   ]
  },
  {
   "cell_type": "code",
   "execution_count": 225,
   "metadata": {},
   "outputs": [],
   "source": [
    "grid_knn = GridSearchCV(pipe, cv=5, n_jobs=-1, param_grid=param_grid, scoring = \"accuracy\",verbose=10)"
   ]
  },
  {
   "cell_type": "code",
   "execution_count": null,
   "metadata": {},
   "outputs": [],
   "source": [
    "grid_knn.fit(X_train, y_train)"
   ]
  },
  {
   "cell_type": "code",
   "execution_count": 186,
   "metadata": {},
   "outputs": [
    {
     "name": "stdout",
     "output_type": "stream",
     "text": [
      "best score:  0.8556271314892004\n",
      "best parameters:  {'tfidf__norm': 'l2', 'knn__weights': 'distance', 'knn__n_neighbors': 25, 'vectorizer__ngram_range': (1, 2), 'vectorizer__min_df': 3, 'knn__algorithm': 'ball_tree'}\n"
     ]
    }
   ],
   "source": [
    "print_results(grid_knn)"
   ]
  },
  {
   "cell_type": "markdown",
   "metadata": {},
   "source": [
    "### Naive Bayes"
   ]
  },
  {
   "cell_type": "code",
   "execution_count": 54,
   "metadata": {},
   "outputs": [],
   "source": [
    "estimators = [('vectorizer', CountVectorizer()), \n",
    "              ('tfidf',TfidfTransformer()),\n",
    "#                ('lda', LDA(learning_method='batch',random_state=rand_state)), \n",
    "               ('mnb', MultinomialNB())]\n",
    "\n",
    "pipe = Pipeline(memory=None,steps = estimators)"
   ]
  },
  {
   "cell_type": "code",
   "execution_count": 55,
   "metadata": {},
   "outputs": [],
   "source": [
    "param_grid = [\n",
    "    {\n",
    "        'vectorizer__ngram_range': [(1,2),(1,3),(1,4)],\n",
    "        'vectorizer__min_df': [1,2,3],\n",
    "        'tfidf__norm': ['l1','l2'],\n",
    "        'tfidf__use_idf': ['True','False'],\n",
    "#         'lda__n_components': [4,7,10],\n",
    "        'mnb__alpha': [0.1,0.5,1,10],\n",
    "        'mnb__fit_prior': [True, False]\n",
    "    \n",
    "    }\n",
    "]"
   ]
  },
  {
   "cell_type": "code",
   "execution_count": 56,
   "metadata": {},
   "outputs": [],
   "source": [
    "grid_mnb = GridSearchCV(pipe, cv=5, n_jobs=-1, param_grid=param_grid, scoring = \"accuracy\", verbose=10)"
   ]
  },
  {
   "cell_type": "code",
   "execution_count": null,
   "metadata": {},
   "outputs": [],
   "source": [
    "grid_mnb.fit(X_train, y_train)"
   ]
  },
  {
   "cell_type": "code",
   "execution_count": 222,
   "metadata": {},
   "outputs": [
    {
     "name": "stdout",
     "output_type": "stream",
     "text": [
      "best score:  0.8769736011115321\n",
      "best parameters:  {'vectorizer__ngram_range': (1, 4), 'tfidf__norm': 'l2', 'mnb__alpha': 0.5, 'mnb__fit_prior': False, 'vectorizer__min_df': 1, 'tfidf__use_idf': 'True'}\n"
     ]
    }
   ],
   "source": [
    "print_results(grid_mnb)"
   ]
  },
  {
   "cell_type": "markdown",
   "metadata": {},
   "source": [
    "### XGBoost"
   ]
  },
  {
   "cell_type": "code",
   "execution_count": 63,
   "metadata": {},
   "outputs": [],
   "source": [
    "from xgboost import XGBClassifier"
   ]
  },
  {
   "cell_type": "code",
   "execution_count": 72,
   "metadata": {},
   "outputs": [],
   "source": [
    "estimators = [('vectorizer', CountVectorizer()), \n",
    "              ('tfidf',TfidfTransformer()),\n",
    "#                ('lda', LDA(learning_method='batch',random_state=rand_state)), \n",
    "               ('xgb', XGBClassifier(n_jobs=22, objective='multi:softmax', eval_metric = 'merror'))]\n",
    "pipe = Pipeline(memory=None, steps = estimators)"
   ]
  },
  {
   "cell_type": "code",
   "execution_count": 73,
   "metadata": {},
   "outputs": [],
   "source": [
    "param_grid = [\n",
    "    {\n",
    "#         'vectorizer__ngram_range': [(1,2),(1,3)],\n",
    "#         'vectorizer__min_df': [2, 3, 4],\n",
    "#         'tfidf__norm': ['l1','l2'],\n",
    "#         'tfidf__use_idf': ['True','False'],\n",
    "        'xgb__max_depth': [8,9,10],\n",
    "        'xgb__learning_rate': [0.1],\n",
    "        'xgb__n_estimators':[300,350,400],\n",
    "        'xgb__gamma': [0.1],\n",
    "        'xgb__subsample': [0.5,0.6]\n",
    "    \n",
    "    }\n",
    "]"
   ]
  },
  {
   "cell_type": "code",
   "execution_count": 74,
   "metadata": {},
   "outputs": [],
   "source": [
    "grid_xgb= GridSearchCV(pipe, cv=5, n_jobs=-1, param_grid=param_grid, scoring = \"accuracy\", verbose=10)"
   ]
  },
  {
   "cell_type": "code",
   "execution_count": null,
   "metadata": {},
   "outputs": [],
   "source": [
    "grid_xgb.fit(X_train, y_train)"
   ]
  },
  {
   "cell_type": "code",
   "execution_count": 46,
   "metadata": {},
   "outputs": [
    {
     "name": "stdout",
     "output_type": "stream",
     "text": [
      "best score:  0.8676266262473159\n",
      "best parameters:  {'xgb__booster': 'gbtree', 'xgb__gamma': 0.1, 'xgb__n_estimators': 300, 'xgb__max_depth': 8, 'xgb__learning_rate': 0.1}\n"
     ]
    }
   ],
   "source": [
    "print_results(grid_xgb)"
   ]
  },
  {
   "cell_type": "markdown",
   "metadata": {},
   "source": [
    "# Prediction "
   ]
  },
  {
   "cell_type": "code",
   "execution_count": 31,
   "metadata": {},
   "outputs": [
    {
     "data": {
      "text/html": [
       "<div>\n",
       "<style scoped>\n",
       "    .dataframe tbody tr th:only-of-type {\n",
       "        vertical-align: middle;\n",
       "    }\n",
       "\n",
       "    .dataframe tbody tr th {\n",
       "        vertical-align: top;\n",
       "    }\n",
       "\n",
       "    .dataframe thead th {\n",
       "        text-align: right;\n",
       "    }\n",
       "</style>\n",
       "<table border=\"1\" class=\"dataframe\">\n",
       "  <thead>\n",
       "    <tr style=\"text-align: right;\">\n",
       "      <th></th>\n",
       "      <th>TITLE</th>\n",
       "      <th>TOPIC</th>\n",
       "    </tr>\n",
       "    <tr>\n",
       "      <th>ID</th>\n",
       "      <th></th>\n",
       "      <th></th>\n",
       "    </tr>\n",
       "  </thead>\n",
       "  <tbody>\n",
       "    <tr>\n",
       "      <th>0</th>\n",
       "      <td>INDONESIAN COFFEE PRODUCTION MAY FALL THIS YEAR</td>\n",
       "      <td>NaN</td>\n",
       "    </tr>\n",
       "    <tr>\n",
       "      <th>1</th>\n",
       "      <td>INTERNATIONAL BUSINESS MACHINES CORP &lt;IBM&gt; NET</td>\n",
       "      <td>NaN</td>\n",
       "    </tr>\n",
       "    <tr>\n",
       "      <th>2</th>\n",
       "      <td>WESTERN TELE-COMMUNICATIONS &lt;WTLCA&gt; 4TH QTR NET</td>\n",
       "      <td>NaN</td>\n",
       "    </tr>\n",
       "    <tr>\n",
       "      <th>3</th>\n",
       "      <td>NACCO INDUSTRIES &lt;NC&gt; TO REPORT 2ND QTR GAIN</td>\n",
       "      <td>NaN</td>\n",
       "    </tr>\n",
       "    <tr>\n",
       "      <th>4</th>\n",
       "      <td>WALKER TELECOMMUNICATIONS CORP &lt;WTEL&gt; 4TH QTR</td>\n",
       "      <td>NaN</td>\n",
       "    </tr>\n",
       "  </tbody>\n",
       "</table>\n",
       "</div>"
      ],
      "text/plain": [
       "                                              TITLE  TOPIC\n",
       "ID                                                        \n",
       "0   INDONESIAN COFFEE PRODUCTION MAY FALL THIS YEAR    NaN\n",
       "1    INTERNATIONAL BUSINESS MACHINES CORP <IBM> NET    NaN\n",
       "2   WESTERN TELE-COMMUNICATIONS <WTLCA> 4TH QTR NET    NaN\n",
       "3      NACCO INDUSTRIES <NC> TO REPORT 2ND QTR GAIN    NaN\n",
       "4     WALKER TELECOMMUNICATIONS CORP <WTEL> 4TH QTR    NaN"
      ]
     },
     "execution_count": 31,
     "metadata": {},
     "output_type": "execute_result"
    }
   ],
   "source": [
    "df2 = pd.read_csv(\"test1.csv\",index_col = 0)\n",
    "df2.head()"
   ]
  },
  {
   "cell_type": "code",
   "execution_count": 32,
   "metadata": {},
   "outputs": [],
   "source": [
    "X_pred = [clean(row) for row in df2[\"TITLE\"]]"
   ]
  },
  {
   "cell_type": "code",
   "execution_count": 28,
   "metadata": {},
   "outputs": [],
   "source": [
    "estimators = [('vectorizer', CountVectorizer(ngram_range=(1,2),min_df=3)), \n",
    "              ('tfidf',TfidfTransformer(use_idf=True, norm='l2')),\n",
    "               ('svc', svm.SVC(C=1, gamma=1, kernel ='rbf',degree=2))]\n",
    "\n",
    "pipe = Pipeline(memory=None,steps = estimators)"
   ]
  },
  {
   "cell_type": "code",
   "execution_count": 29,
   "metadata": {},
   "outputs": [
    {
     "data": {
      "text/plain": [
       "Pipeline(memory=None,\n",
       "     steps=[('vectorizer', CountVectorizer(analyzer='word', binary=False, decode_error='strict',\n",
       "        dtype=<class 'numpy.int64'>, encoding='utf-8', input='content',\n",
       "        lowercase=True, max_df=1.0, max_features=None, min_df=3,\n",
       "        ngram_range=(1, 2), preprocessor=None, stop_words=None,\n",
       "       ...,\n",
       "  max_iter=-1, probability=False, random_state=None, shrinking=True,\n",
       "  tol=0.001, verbose=False))])"
      ]
     },
     "execution_count": 29,
     "metadata": {},
     "output_type": "execute_result"
    }
   ],
   "source": [
    "pipe.fit(X_train, y_train)"
   ]
  },
  {
   "cell_type": "code",
   "execution_count": 30,
   "metadata": {},
   "outputs": [
    {
     "data": {
      "text/plain": [
       "0.9820639130983958"
      ]
     },
     "execution_count": 30,
     "metadata": {},
     "output_type": "execute_result"
    }
   ],
   "source": [
    "pipe.score(X_train, y_train)"
   ]
  },
  {
   "cell_type": "code",
   "execution_count": 34,
   "metadata": {},
   "outputs": [],
   "source": [
    "prediction = pipe.predict(X_pred)"
   ]
  },
  {
   "cell_type": "code",
   "execution_count": 37,
   "metadata": {},
   "outputs": [],
   "source": [
    "df2[\"TOPIC\"] = prediction"
   ]
  },
  {
   "cell_type": "code",
   "execution_count": 39,
   "metadata": {},
   "outputs": [
    {
     "data": {
      "text/html": [
       "<div>\n",
       "<style scoped>\n",
       "    .dataframe tbody tr th:only-of-type {\n",
       "        vertical-align: middle;\n",
       "    }\n",
       "\n",
       "    .dataframe tbody tr th {\n",
       "        vertical-align: top;\n",
       "    }\n",
       "\n",
       "    .dataframe thead th {\n",
       "        text-align: right;\n",
       "    }\n",
       "</style>\n",
       "<table border=\"1\" class=\"dataframe\">\n",
       "  <thead>\n",
       "    <tr style=\"text-align: right;\">\n",
       "      <th></th>\n",
       "      <th>TITLE</th>\n",
       "    </tr>\n",
       "    <tr>\n",
       "      <th>TOPIC</th>\n",
       "      <th></th>\n",
       "    </tr>\n",
       "  </thead>\n",
       "  <tbody>\n",
       "    <tr>\n",
       "      <th>0</th>\n",
       "      <td>1203</td>\n",
       "    </tr>\n",
       "    <tr>\n",
       "      <th>1</th>\n",
       "      <td>1095</td>\n",
       "    </tr>\n",
       "    <tr>\n",
       "      <th>2</th>\n",
       "      <td>1095</td>\n",
       "    </tr>\n",
       "  </tbody>\n",
       "</table>\n",
       "</div>"
      ],
      "text/plain": [
       "       TITLE\n",
       "TOPIC       \n",
       "0       1203\n",
       "1       1095\n",
       "2       1095"
      ]
     },
     "execution_count": 39,
     "metadata": {},
     "output_type": "execute_result"
    }
   ],
   "source": [
    "df2.groupby(\"TOPIC\").count()"
   ]
  },
  {
   "cell_type": "code",
   "execution_count": null,
   "metadata": {},
   "outputs": [],
   "source": [
    "df.to_csv()"
   ]
  }
 ],
 "metadata": {
  "kernelspec": {
   "display_name": "Python 3",
   "language": "python",
   "name": "python3"
  },
  "language_info": {
   "codemirror_mode": {
    "name": "ipython",
    "version": 3
   },
   "file_extension": ".py",
   "mimetype": "text/x-python",
   "name": "python",
   "nbconvert_exporter": "python",
   "pygments_lexer": "ipython3",
   "version": "3.5.2"
  }
 },
 "nbformat": 4,
 "nbformat_minor": 2
}
